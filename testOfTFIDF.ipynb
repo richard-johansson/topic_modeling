{
 "cells": [
  {
   "cell_type": "code",
   "execution_count": 3,
   "id": "nutritional-advice",
   "metadata": {},
   "outputs": [],
   "source": [
    "import warnings\n",
    "warnings.filterwarnings(\"ignore\", category=DeprecationWarning)"
   ]
  },
  {
   "cell_type": "markdown",
   "id": "false-harvard",
   "metadata": {},
   "source": [
    "## Imports and read file to corpus"
   ]
  },
  {
   "cell_type": "code",
   "execution_count": 4,
   "id": "extended-combining",
   "metadata": {},
   "outputs": [],
   "source": [
    "import nltk\n",
    "import gensim\n",
    "import re\n",
    "from gensim import corpora\n",
    "from gensim.parsing.preprocessing import *\n",
    "from gensim.models import CoherenceModel\n",
    "from nltk.stem import WordNetLemmatizer\n",
    "from nltk.corpus import wordnet\n",
    "#nltk.download('stopwords')      # If this code block complains, comment out this line\n",
    "#nltk.download('punkt')\n",
    "#nltk.download('averaged_perceptron_tagger')\n",
    "#nltk.download('wordnet')\n",
    "from nltk.corpus import stopwords\n",
    "import pyLDAvis.gensim\n",
    "import numpy as np\n",
    "import os\n",
    "from pprint import pprint\n",
    "# Figures\n",
    "import matplotlib.pyplot as plt\n",
    "from matplotlib.pyplot import figure\n",
    "\n",
    "os.environ['MALLET_HOME']='mallet-2.0.8'\n",
    "mallet_path = 'mallet-2.0.8/bin/mallet'"
   ]
  },
  {
   "cell_type": "code",
   "execution_count": 5,
   "id": "suspected-prototype",
   "metadata": {},
   "outputs": [
    {
     "name": "stderr",
     "output_type": "stream",
     "text": [
      "/Library/Frameworks/Python.framework/Versions/3.8/lib/python3.8/site-packages/ipykernel/ipkernel.py:283: DeprecationWarning: `should_run_async` will not call `transform_cell` automatically in the future. Please pass the result to `transformed_cell` argument and any exception that happen during thetransform in `preprocessing_exc_tuple` in IPython 7.17 and above.\n",
      "  and should_run_async(code)\n"
     ]
    }
   ],
   "source": [
    "def readFile(filename):\n",
    "    fileData = \"\"\n",
    "    file = open(\"abstracts/\" + filename, 'r', encoding='utf8')\n",
    "    fileData = file.read().splitlines()\n",
    "    file.close\n",
    "    return fileData"
   ]
  },
  {
   "cell_type": "code",
   "execution_count": 6,
   "id": "pacific-optimum",
   "metadata": {
    "tags": []
   },
   "outputs": [
    {
     "name": "stderr",
     "output_type": "stream",
     "text": [
      "/Library/Frameworks/Python.framework/Versions/3.8/lib/python3.8/site-packages/ipykernel/ipkernel.py:283: DeprecationWarning: `should_run_async` will not call `transform_cell` automatically in the future. Please pass the result to `transformed_cell` argument and any exception that happen during thetransform in `preprocessing_exc_tuple` in IPython 7.17 and above.\n",
      "  and should_run_async(code)\n"
     ]
    },
    {
     "data": {
      "text/plain": [
       "3694"
      ]
     },
     "execution_count": 6,
     "metadata": {},
     "output_type": "execute_result"
    }
   ],
   "source": [
    "corpus = []\n",
    "\n",
    "\n",
    "for i in range (2012,2020):\n",
    "    conference = readFile('usenix' + str(i) + 'Abstracts.txt')\n",
    "    for abstract in conference:\n",
    "        corpus.append(abstract)\n",
    "for i in range (2011,2020):\n",
    "    conference = readFile('css' + str(i) + 'Abstracts.txt')\n",
    "    for abstract in conference:\n",
    "        corpus.append(abstract)\n",
    "for i in range (2000,2020):\n",
    "    conference = readFile('ieee' + str(i) + 'Abstracts.txt')\n",
    "    for abstract in conference:\n",
    "        corpus.append(abstract)\n",
    "for i in range (2012,2020):\n",
    "    conference = readFile('ndss' + str(i) + 'Abstracts.txt')\n",
    "    for abstract in conference:\n",
    "        corpus.append(abstract)\n",
    "        \n",
    "#print(corpus)\n",
    "len(corpus)"
   ]
  },
  {
   "cell_type": "markdown",
   "id": "employed-titanium",
   "metadata": {},
   "source": [
    "## Preprocessing of the corpus\n",
    "Preprocess the raw corpues into a list of words for each document"
   ]
  },
  {
   "cell_type": "code",
   "execution_count": 7,
   "id": "spread-relative",
   "metadata": {
    "tags": []
   },
   "outputs": [
    {
     "name": "stderr",
     "output_type": "stream",
     "text": [
      "/Library/Frameworks/Python.framework/Versions/3.8/lib/python3.8/site-packages/ipykernel/ipkernel.py:283: DeprecationWarning: `should_run_async` will not call `transform_cell` automatically in the future. Please pass the result to `transformed_cell` argument and any exception that happen during thetransform in `preprocessing_exc_tuple` in IPython 7.17 and above.\n",
      "  and should_run_async(code)\n"
     ]
    }
   ],
   "source": [
    "lemmatizer = WordNetLemmatizer()\n",
    "\n",
    "# function to convert nltk tag to wordnet tag\n",
    "def nltk_tag_to_wordnet_tag(nltk_tag):\n",
    "    if nltk_tag.startswith('J'):\n",
    "        return wordnet.ADJ\n",
    "    elif nltk_tag.startswith('V'):\n",
    "        return wordnet.VERB\n",
    "    elif nltk_tag.startswith('N'):\n",
    "        return wordnet.NOUN\n",
    "    elif nltk_tag.startswith('R'):\n",
    "        return wordnet.ADV\n",
    "    else:          \n",
    "        return None\n",
    "\n",
    "def lemmatize_sentence(sentence):\n",
    "    #tokenize the sentence and find the POS tag for each token\n",
    "    nltk_tagged = nltk.pos_tag(nltk.word_tokenize(sentence))  \n",
    "    #tuple of (token, wordnet_tag)\n",
    "    wordnet_tagged = map(lambda x: (x[0], nltk_tag_to_wordnet_tag(x[1])), nltk_tagged)\n",
    "    lemmatized_sentence = []\n",
    "    for word, tag in wordnet_tagged:\n",
    "        if tag is None:\n",
    "            #if there is no available tag, append the token as is\n",
    "            # lemmatized_sentence.append(word)\n",
    "            pass# This part is modified so that we will just have ADJ VERB NOUN ADVERB remained \n",
    "        else:        \n",
    "            #else use the tag to lemmatize the token\n",
    "            lemmatized_sentence.append(lemmatizer.lemmatize(word, tag))\n",
    "    return \" \".join(lemmatized_sentence)"
   ]
  },
  {
   "cell_type": "code",
   "execution_count": 8,
   "id": "specified-treaty",
   "metadata": {},
   "outputs": [
    {
     "name": "stderr",
     "output_type": "stream",
     "text": [
      "/Library/Frameworks/Python.framework/Versions/3.8/lib/python3.8/site-packages/ipykernel/ipkernel.py:283: DeprecationWarning: `should_run_async` will not call `transform_cell` automatically in the future. Please pass the result to `transformed_cell` argument and any exception that happen during thetransform in `preprocessing_exc_tuple` in IPython 7.17 and above.\n",
      "  and should_run_async(code)\n"
     ]
    }
   ],
   "source": [
    "CUSTOM_FILTERS = [\n",
    "    strip_tags,                            # Remove HTML tags and such\n",
    "    strip_punctuation,                     # Remove punctuation\n",
    "    strip_multiple_whitespaces,            # Remove unecessary space and such\n",
    "    strip_numeric,                         # Remove numbers\n",
    "    lambda x: strip_short(x, 4),           # Remove words shorter than 2 chars\n",
    "    lambda y: y.replace('“', ''),          # Removes quation marks\n",
    "    lambda z: z.replace('”', ''),          # Removes quation marks\n",
    "    lambda a: a.lower(),                   # Makes the corpus lowercase\n",
    "    lambda z: remove_stopwords(z)          # Removes stopwords \n",
    "]\n",
    "\n",
    "def clean_doc(doc):\n",
    "    lematized_doc = lemmatize_sentence(doc)\n",
    "    cleanDoc = preprocess_string(lematized_doc, CUSTOM_FILTERS)\n",
    "    return cleanDoc\n",
    "\n",
    "corpus_clean = [clean_doc(doc) for doc in corpus]"
   ]
  },
  {
   "cell_type": "markdown",
   "id": "european-mineral",
   "metadata": {
    "tags": []
   },
   "source": [
    "### Contiune the preprocessing, now with the list of words. Creating bigrams"
   ]
  },
  {
   "cell_type": "code",
   "execution_count": 9,
   "id": "aggregate-peoples",
   "metadata": {
    "tags": []
   },
   "outputs": [
    {
     "name": "stderr",
     "output_type": "stream",
     "text": [
      "/Library/Frameworks/Python.framework/Versions/3.8/lib/python3.8/site-packages/ipykernel/ipkernel.py:283: DeprecationWarning: `should_run_async` will not call `transform_cell` automatically in the future. Please pass the result to `transformed_cell` argument and any exception that happen during thetransform in `preprocessing_exc_tuple` in IPython 7.17 and above.\n",
      "  and should_run_async(code)\n"
     ]
    }
   ],
   "source": [
    "bigram = gensim.models.Phrases(corpus_clean, min_count=5, threshold=100) # higher threshold fewer phrases.\n",
    "bigram_mod = gensim.models.phrases.Phraser(bigram)\n",
    "\n",
    "def make_bigrams(corpus):\n",
    "    return [bigram_mod[doc] for doc in corpus]\n",
    "\n",
    "corpus_clean_bigram = make_bigrams(corpus_clean)"
   ]
  },
  {
   "cell_type": "markdown",
   "id": "buried-incentive",
   "metadata": {},
   "source": [
    "### Splitting the corpus and making it into a dictionary"
   ]
  },
  {
   "cell_type": "code",
   "execution_count": 10,
   "id": "committed-heating",
   "metadata": {
    "tags": []
   },
   "outputs": [
    {
     "name": "stderr",
     "output_type": "stream",
     "text": [
      "/Library/Frameworks/Python.framework/Versions/3.8/lib/python3.8/site-packages/ipykernel/ipkernel.py:283: DeprecationWarning: `should_run_async` will not call `transform_cell` automatically in the future. Please pass the result to `transformed_cell` argument and any exception that happen during thetransform in `preprocessing_exc_tuple` in IPython 7.17 and above.\n",
      "  and should_run_async(code)\n"
     ]
    }
   ],
   "source": [
    "dictionary = corpora.Dictionary(corpus_clean_bigram)\n",
    "M1 = [dictionary.doc2bow(doc) for doc in corpus_clean_bigram]"
   ]
  },
  {
   "cell_type": "markdown",
   "id": "humanitarian-anxiety",
   "metadata": {},
   "source": [
    "### Making the tfidf model\n",
    "Not in use for LDA Mallet"
   ]
  },
  {
   "cell_type": "code",
   "execution_count": 11,
   "id": "automatic-wisconsin",
   "metadata": {
    "tags": []
   },
   "outputs": [
    {
     "name": "stderr",
     "output_type": "stream",
     "text": [
      "/Library/Frameworks/Python.framework/Versions/3.8/lib/python3.8/site-packages/ipykernel/ipkernel.py:283: DeprecationWarning: `should_run_async` will not call `transform_cell` automatically in the future. Please pass the result to `transformed_cell` argument and any exception that happen during thetransform in `preprocessing_exc_tuple` in IPython 7.17 and above.\n",
      "  and should_run_async(code)\n"
     ]
    }
   ],
   "source": [
    "tfidf_model = gensim.models.TfidfModel(M1)\n",
    "tfidf_M1 = tfidf_model[M1]\n",
    "#print(tfidf_model)\n",
    "#print(tfidf_M1)\n",
    "#print(M1)"
   ]
  },
  {
   "cell_type": "markdown",
   "id": "metropolitan-litigation",
   "metadata": {},
   "source": [
    "## Finding optimal number of topics\n",
    "Machinelearingplus.com approach to finding the optimal number of topics is to build many LDA models with different values of number of topics (k) and pick the one that gives the highest coherence value.\n",
    "\n",
    "Choosing a ‘k’ that marks the end of a rapid growth of topic coherence usually offers meaningful and interpretable topics. Picking an even higher value can sometimes provide more granular sub-topics.\n",
    "\n",
    "If you see the same keywords being repeated in multiple topics, it’s probably a sign that the ‘k’ is too large.\n",
    "\n",
    "The compute_coherence_values() (see below) trains multiple LDA models and provides the models and their corresponding coherence scores."
   ]
  },
  {
   "cell_type": "code",
   "execution_count": 12,
   "id": "obvious-outside",
   "metadata": {},
   "outputs": [
    {
     "name": "stderr",
     "output_type": "stream",
     "text": [
      "/Library/Frameworks/Python.framework/Versions/3.8/lib/python3.8/site-packages/ipykernel/ipkernel.py:283: DeprecationWarning: `should_run_async` will not call `transform_cell` automatically in the future. Please pass the result to `transformed_cell` argument and any exception that happen during thetransform in `preprocessing_exc_tuple` in IPython 7.17 and above.\n",
      "  and should_run_async(code)\n"
     ]
    }
   ],
   "source": [
    "def compute_coherence_values(dictionary, corpus, texts, limit, start, step):\n",
    "    \"\"\"\n",
    "    Compute c_v coherence for various number of topics\n",
    "\n",
    "    Parameters:\n",
    "    ----------\n",
    "    dictionary : Gensim dictionary\n",
    "    corpus : Gensim corpus\n",
    "    texts : List of input texts\n",
    "    limit : Max num of topics\n",
    "\n",
    "    Returns:\n",
    "    -------\n",
    "    model_list : List of LDA topic models\n",
    "    coherence_values : Coherence values corresponding to the LDA model with respective number of topics\n",
    "    \"\"\"\n",
    "    coherence_values = []\n",
    "    model_list = []\n",
    "    for num_topics in range(start, limit, step):\n",
    "        model = gensim.models.wrappers.LdaMallet(mallet_path, corpus=corpus, num_topics=num_topics, id2word=dictionary)\n",
    "        model_list.append(model)\n",
    "        coherencemodel = CoherenceModel(model=model, texts=texts, dictionary=dictionary, coherence='c_v')\n",
    "        coherence_values.append(coherencemodel.get_coherence())\n",
    "\n",
    "        print(num_topics)\n",
    "        \n",
    "    return model_list, coherence_values"
   ]
  },
  {
   "cell_type": "markdown",
   "id": "expired-regulation",
   "metadata": {},
   "source": [
    "### Coherence score over topics, Stepping every 4th\n",
    "Stepping from 2 to 104 with a step length of 4"
   ]
  },
  {
   "cell_type": "code",
   "execution_count": 79,
   "id": "injured-weight",
   "metadata": {
    "collapsed": true,
    "jupyter": {
     "outputs_hidden": true
    },
    "tags": []
   },
   "outputs": [
    {
     "name": "stdout",
     "output_type": "stream",
     "text": [
      "2\n",
      "3\n",
      "4\n",
      "5\n",
      "6\n",
      "7\n",
      "8\n",
      "9\n",
      "10\n",
      "11\n",
      "12\n",
      "13\n",
      "14\n",
      "15\n",
      "16\n",
      "17\n",
      "18\n",
      "19\n",
      "20\n",
      "21\n",
      "22\n",
      "23\n",
      "24\n",
      "25\n",
      "26\n",
      "27\n",
      "28\n",
      "29\n",
      "30\n",
      "31\n",
      "32\n",
      "33\n",
      "34\n",
      "35\n",
      "36\n",
      "37\n",
      "38\n",
      "39\n",
      "40\n",
      "41\n",
      "42\n",
      "43\n",
      "44\n",
      "45\n",
      "46\n",
      "47\n",
      "48\n",
      "49\n",
      "50\n",
      "51\n",
      "52\n",
      "53\n",
      "54\n",
      "55\n",
      "56\n",
      "57\n",
      "58\n",
      "59\n",
      "60\n",
      "61\n",
      "62\n",
      "63\n",
      "64\n",
      "65\n",
      "66\n",
      "67\n",
      "68\n",
      "69\n"
     ]
    }
   ],
   "source": [
    "# Can take a long time to run\n",
    "model_list, coherence_values = compute_coherence_values(dictionary=dictionary, corpus=M1, texts=corpus_clean_bigram, limit=104, start=2, step=4)"
   ]
  },
  {
   "cell_type": "raw",
   "id": "critical-clear",
   "metadata": {},
   "source": [
    "coherence_values = [0.3250157403264292, 0.4116900808150424, 0.4277707176143622, 0.4419215919328382, 0.43300547700202796, 0.43331531510788773, 0.4507613241261437, 0.4401537362798364, 0.4436828004648704, 0.4321437701507225, 0.4287353256235635, 0.4345214971377863, 0.4207751964079457, 0.42903262376408574, 0.41356412264891634, 0.4094172711686478, 0.41385811506381215, 0.3971588021061537, 0.4020413137080951, 0.3944484660319797, 0.40475857425077855, 0.4043484985706639, 0.40233617235048474, 0.39983668071530726, 0.39050519443737175]"
   ]
  },
  {
   "cell_type": "code",
   "execution_count": 97,
   "id": "accessory-distance",
   "metadata": {},
   "outputs": [
    {
     "data": {
      "image/png": "[encoded data removed]",
      "text/plain": [
       "<Figure size 960x480 with 1 Axes>"
      ]
     },
     "metadata": {
      "needs_background": "light"
     },
     "output_type": "display_data"
    }
   ],
   "source": [
    "coherence_values = [0.3250157403264292, 0.4116900808150424, 0.4277707176143622, 0.4419215919328382, 0.43300547700202796, 0.43331531510788773, 0.4507613241261437, 0.4401537362798364, 0.4436828004648704, 0.4321437701507225, 0.4287353256235635, 0.4345214971377863, 0.4207751964079457, 0.42903262376408574, 0.41356412264891634, 0.4094172711686478, 0.41385811506381215, 0.3971588021061537, 0.4020413137080951, 0.3944484660319797, 0.40475857425077855, 0.4043484985706639, 0.40233617235048474, 0.39983668071530726, 0.39050519443737175]\n",
    "figure(figsize=(12, 6), dpi=80)\n",
    "# Show graph\n",
    "limit=102; start=2; step=4;\n",
    "x = range(start, limit, step)\n",
    "xi = list(x)\n",
    "plt.plot(x, coherence_values)\n",
    "plt.xlabel(\"Num Topics\")\n",
    "plt.ylabel(\"Coherence score\")\n",
    "plt.xticks(xi, x)\n",
    "plt.legend((\"coherence_values\"), loc='best')\n",
    "plt.grid(True)\n",
    "plt.show()"
   ]
  },
  {
   "cell_type": "code",
   "execution_count": 98,
   "id": "fitting-eligibility",
   "metadata": {
    "collapsed": true,
    "jupyter": {
     "outputs_hidden": true
    },
    "tags": []
   },
   "outputs": [
    {
     "name": "stdout",
     "output_type": "stream",
     "text": [
      "Num Topics = 2  has Coherence Value of 0.325\n",
      "Num Topics = 6  has Coherence Value of 0.4117\n",
      "Num Topics = 10  has Coherence Value of 0.4278\n",
      "Num Topics = 14  has Coherence Value of 0.4419\n",
      "Num Topics = 18  has Coherence Value of 0.433\n",
      "Num Topics = 22  has Coherence Value of 0.4333\n",
      "Num Topics = 26  has Coherence Value of 0.4508\n",
      "Num Topics = 30  has Coherence Value of 0.4402\n",
      "Num Topics = 34  has Coherence Value of 0.4437\n",
      "Num Topics = 38  has Coherence Value of 0.4321\n",
      "Num Topics = 42  has Coherence Value of 0.4287\n",
      "Num Topics = 46  has Coherence Value of 0.4345\n",
      "Num Topics = 50  has Coherence Value of 0.4208\n",
      "Num Topics = 54  has Coherence Value of 0.429\n",
      "Num Topics = 58  has Coherence Value of 0.4136\n",
      "Num Topics = 62  has Coherence Value of 0.4094\n",
      "Num Topics = 66  has Coherence Value of 0.4139\n",
      "Num Topics = 70  has Coherence Value of 0.3972\n",
      "Num Topics = 74  has Coherence Value of 0.402\n",
      "Num Topics = 78  has Coherence Value of 0.3944\n",
      "Num Topics = 82  has Coherence Value of 0.4048\n",
      "Num Topics = 86  has Coherence Value of 0.4043\n",
      "Num Topics = 90  has Coherence Value of 0.4023\n",
      "Num Topics = 94  has Coherence Value of 0.3998\n",
      "Num Topics = 98  has Coherence Value of 0.3905\n"
     ]
    }
   ],
   "source": [
    "# Print the coherence scores\n",
    "for m, cv in zip(x, coherence_values):\n",
    "    print(\"Num Topics =\", m, \" has Coherence Value of\", round(cv, 4))"
   ]
  },
  {
   "cell_type": "markdown",
   "id": "catholic-channel",
   "metadata": {},
   "source": [
    "#### Result\n",
    "This gives us the top highest coherence score:\n",
    "- Num Topics = 26  has Coherence Value of 0.4508"
   ]
  },
  {
   "cell_type": "markdown",
   "id": "fuzzy-reviewer",
   "metadata": {},
   "source": [
    "### Coherence score over topics, Stepping every one\n",
    "Now we want to be more exact but since the coherence is dropping with higher number of topics we reduce the upper limit.\n",
    "\n",
    "Now we try to step from 2 to 70 on every value"
   ]
  },
  {
   "cell_type": "code",
   "execution_count": null,
   "id": "broke-insured",
   "metadata": {},
   "outputs": [],
   "source": [
    "# Can take a long time to run\n",
    "model_list, coherence_values = compute_coherence_values(dictionary=dictionary, corpus=M1, texts=corpus_clean_bigram, limit=70, start=2, step=1)"
   ]
  },
  {
   "cell_type": "raw",
   "id": "expensive-iceland",
   "metadata": {},
   "source": [
    "coherence_values = [0.32571064083112744, 0.3537344947550003, 0.38589689375318126, 0.39384185450287246, 0.3968198253781281, 0.4085182731090585, 0.42127183913002364, 0.41899078263050016, 0.42801836357265693, 0.4309421068656622, 0.4235910756450276, 0.4516905876830981, 0.44230979084842603, 0.4296217041847969, 0.4312776000207533, 0.42955783914286844, 0.4300818857106711, 0.43599484572542013, 0.4288093062032049, 0.431145903679033, 0.45102550720523704, 0.4408525746026434, 0.43442023864813467, 0.437182271259546, 0.44709664105064434, 0.44248557145575135, 0.42246041004330903, 0.43784503147185494, 0.43667989244832234, 0.4351125576380536, 0.43902968092362493, 0.4440178347094399, 0.4271598549200618, 0.43617684419539876, 0.43125821112489443, 0.4329721336785587, 0.43217676681552086, 0.43310381516722185, 0.45072485690785824, 0.4401630451262257, 0.43130301356185136, 0.4334126436221655, 0.421009575540349, 0.4272964973804624, 0.4350421319148597, 0.4233540568965465, 0.4350122511003696, 0.43232603003979947, 0.41460403500831033, 0.42528017344333635, 0.4267933944574832, 0.4276083290805306, 0.4232434154417294, 0.4289482978832848, 0.4148342197092429, 0.4184389211956406, 0.4167830014416288, 0.41978178212929607, 0.40395936537564947, 0.40763329977423757, 0.421859133976826, 0.4079528877973058, 0.408300929971383, 0.41109076687251356, 0.4171141990155899, 0.40615382099134045, 0.4129390628617565, 0.40967900018905035]"
   ]
  },
  {
   "cell_type": "code",
   "execution_count": 90,
   "id": "polish-disco",
   "metadata": {
    "collapsed": true,
    "jupyter": {
     "outputs_hidden": true
    },
    "tags": []
   },
   "outputs": [
    {
     "name": "stdout",
     "output_type": "stream",
     "text": [
      "Num Topics = 2  has Coherence Value of 0.3257\n",
      "Num Topics = 3  has Coherence Value of 0.3537\n",
      "Num Topics = 4  has Coherence Value of 0.3859\n",
      "Num Topics = 5  has Coherence Value of 0.3938\n",
      "Num Topics = 6  has Coherence Value of 0.3968\n",
      "Num Topics = 7  has Coherence Value of 0.4085\n",
      "Num Topics = 8  has Coherence Value of 0.4213\n",
      "Num Topics = 9  has Coherence Value of 0.419\n",
      "Num Topics = 10  has Coherence Value of 0.428\n",
      "Num Topics = 11  has Coherence Value of 0.4309\n",
      "Num Topics = 12  has Coherence Value of 0.4236\n",
      "Num Topics = 13  has Coherence Value of 0.4517\n",
      "Num Topics = 14  has Coherence Value of 0.4423\n",
      "Num Topics = 15  has Coherence Value of 0.4296\n",
      "Num Topics = 16  has Coherence Value of 0.4313\n",
      "Num Topics = 17  has Coherence Value of 0.4296\n",
      "Num Topics = 18  has Coherence Value of 0.4301\n",
      "Num Topics = 19  has Coherence Value of 0.436\n",
      "Num Topics = 20  has Coherence Value of 0.4288\n",
      "Num Topics = 21  has Coherence Value of 0.4311\n",
      "Num Topics = 22  has Coherence Value of 0.451\n",
      "Num Topics = 23  has Coherence Value of 0.4409\n",
      "Num Topics = 24  has Coherence Value of 0.4344\n",
      "Num Topics = 25  has Coherence Value of 0.4372\n",
      "Num Topics = 26  has Coherence Value of 0.4471\n",
      "Num Topics = 27  has Coherence Value of 0.4425\n",
      "Num Topics = 28  has Coherence Value of 0.4225\n",
      "Num Topics = 29  has Coherence Value of 0.4378\n",
      "Num Topics = 30  has Coherence Value of 0.4367\n",
      "Num Topics = 31  has Coherence Value of 0.4351\n",
      "Num Topics = 32  has Coherence Value of 0.439\n",
      "Num Topics = 33  has Coherence Value of 0.444\n",
      "Num Topics = 34  has Coherence Value of 0.4272\n",
      "Num Topics = 35  has Coherence Value of 0.4362\n",
      "Num Topics = 36  has Coherence Value of 0.4313\n",
      "Num Topics = 37  has Coherence Value of 0.433\n",
      "Num Topics = 38  has Coherence Value of 0.4322\n",
      "Num Topics = 39  has Coherence Value of 0.4331\n",
      "Num Topics = 40  has Coherence Value of 0.4507\n",
      "Num Topics = 41  has Coherence Value of 0.4402\n",
      "Num Topics = 42  has Coherence Value of 0.4313\n",
      "Num Topics = 43  has Coherence Value of 0.4334\n",
      "Num Topics = 44  has Coherence Value of 0.421\n",
      "Num Topics = 45  has Coherence Value of 0.4273\n",
      "Num Topics = 46  has Coherence Value of 0.435\n",
      "Num Topics = 47  has Coherence Value of 0.4234\n",
      "Num Topics = 48  has Coherence Value of 0.435\n",
      "Num Topics = 49  has Coherence Value of 0.4323\n",
      "Num Topics = 50  has Coherence Value of 0.4146\n",
      "Num Topics = 51  has Coherence Value of 0.4253\n",
      "Num Topics = 52  has Coherence Value of 0.4268\n",
      "Num Topics = 53  has Coherence Value of 0.4276\n",
      "Num Topics = 54  has Coherence Value of 0.4232\n",
      "Num Topics = 55  has Coherence Value of 0.4289\n",
      "Num Topics = 56  has Coherence Value of 0.4148\n",
      "Num Topics = 57  has Coherence Value of 0.4184\n",
      "Num Topics = 58  has Coherence Value of 0.4168\n",
      "Num Topics = 59  has Coherence Value of 0.4198\n",
      "Num Topics = 60  has Coherence Value of 0.404\n",
      "Num Topics = 61  has Coherence Value of 0.4076\n",
      "Num Topics = 62  has Coherence Value of 0.4219\n",
      "Num Topics = 63  has Coherence Value of 0.408\n",
      "Num Topics = 64  has Coherence Value of 0.4083\n",
      "Num Topics = 65  has Coherence Value of 0.4111\n",
      "Num Topics = 66  has Coherence Value of 0.4171\n",
      "Num Topics = 67  has Coherence Value of 0.4062\n",
      "Num Topics = 68  has Coherence Value of 0.4129\n",
      "Num Topics = 69  has Coherence Value of 0.4097\n"
     ]
    }
   ],
   "source": [
    "# Print the coherence scores\n",
    "for m, cv in zip(x, coherence_values):\n",
    "    print(\"Num Topics =\", m, \" has Coherence Value of\", round(cv, 4))"
   ]
  },
  {
   "cell_type": "code",
   "execution_count": 99,
   "id": "cultural-royal",
   "metadata": {},
   "outputs": [
    {
     "data": {
      "image/png": "[encoded data removed]",
      "text/plain": [
       "<Figure size 960x480 with 1 Axes>"
      ]
     },
     "metadata": {
      "needs_background": "light"
     },
     "output_type": "display_data"
    }
   ],
   "source": [
    "#coherence_values = [0.32571064083112744, 0.3537344947550003, 0.38589689375318126, 0.39384185450287246, 0.3968198253781281, 0.4085182731090585, 0.42127183913002364, 0.41899078263050016, 0.42801836357265693, 0.4309421068656622, 0.4235910756450276, 0.4516905876830981, 0.44230979084842603, 0.4296217041847969, 0.4312776000207533, 0.42955783914286844, 0.4300818857106711, 0.43599484572542013, 0.4288093062032049, 0.431145903679033, 0.45102550720523704, 0.4408525746026434, 0.43442023864813467, 0.437182271259546, 0.44709664105064434, 0.44248557145575135, 0.42246041004330903, 0.43784503147185494, 0.43667989244832234, 0.4351125576380536, 0.43902968092362493, 0.4440178347094399, 0.4271598549200618, 0.43617684419539876, 0.43125821112489443, 0.4329721336785587, 0.43217676681552086, 0.43310381516722185, 0.45072485690785824, 0.4401630451262257, 0.43130301356185136, 0.4334126436221655, 0.421009575540349, 0.4272964973804624, 0.4350421319148597, 0.4233540568965465, 0.4350122511003696, 0.43232603003979947, 0.41460403500831033, 0.42528017344333635, 0.4267933944574832, 0.4276083290805306, 0.4232434154417294, 0.4289482978832848, 0.4148342197092429, 0.4184389211956406, 0.4167830014416288, 0.41978178212929607, 0.40395936537564947, 0.40763329977423757, 0.421859133976826, 0.4079528877973058, 0.408300929971383, 0.41109076687251356, 0.4171141990155899, 0.40615382099134045, 0.4129390628617565, 0.40967900018905035]\n",
    "figure(figsize=(12, 6), dpi=80)\n",
    "# Show graph\n",
    "limit=70; start=2; step=1;\n",
    "x = range(start, limit, step)\n",
    "xi = list(x)\n",
    "plt.plot(x, coherence_values)\n",
    "plt.xlabel(\"Num Topics\")\n",
    "plt.ylabel(\"Coherence score\")\n",
    "plt.xticks(xi, x)\n",
    "plt.legend((\"coherence_values\"), loc='best')\n",
    "plt.grid(True)\n",
    "plt.show()"
   ]
  },
  {
   "cell_type": "markdown",
   "id": "descending-apparel",
   "metadata": {},
   "source": [
    "#### Result\n",
    "This gives us:\n",
    "- Num Topics = 13  has Coherence Value of 0.4517\n",
    "- Num Topics = 21  has Coherence Value of 0.4311\n",
    "- Num Topics = 40  has Coherence Value of 0.4507\n",
    "\n",
    "And one can see that we now have three good candidates in the number of topics"
   ]
  },
  {
   "cell_type": "markdown",
   "id": "engaging-reception",
   "metadata": {},
   "source": [
    "## LDA mallet\n",
    "Reads the LDA mallet model from the folder /mallet-2.0.8"
   ]
  },
  {
   "cell_type": "code",
   "execution_count": 13,
   "id": "wrapped-hayes",
   "metadata": {},
   "outputs": [
    {
     "name": "stderr",
     "output_type": "stream",
     "text": [
      "/Library/Frameworks/Python.framework/Versions/3.8/lib/python3.8/site-packages/ipykernel/ipkernel.py:283: DeprecationWarning: `should_run_async` will not call `transform_cell` automatically in the future. Please pass the result to `transformed_cell` argument and any exception that happen during thetransform in `preprocessing_exc_tuple` in IPython 7.17 and above.\n",
      "  and should_run_async(code)\n"
     ]
    }
   ],
   "source": [
    "ldamallet = gensim.models.wrappers.LdaMallet(mallet_path,\n",
    "                                             corpus=M1,\n",
    "                                             num_topics=13,\n",
    "                                             id2word=dictionary)"
   ]
  },
  {
   "cell_type": "code",
   "execution_count": 23,
   "id": "induced-client",
   "metadata": {
    "tags": []
   },
   "outputs": [
    {
     "name": "stdout",
     "output_type": "stream",
     "text": [
      "[(2,\n",
      "  [('model', 0.04749470178625492),\n",
      "   ('method', 0.027702089009990917),\n",
      "   ('technique', 0.024750227066303362),\n",
      "   ('approach', 0.024069028156221618),\n",
      "   ('algorithm', 0.023917650620647896),\n",
      "   ('propose', 0.023841961852861037),\n",
      "   ('feature', 0.016197396306388133),\n",
      "   ('base', 0.01608386315470784),\n",
      "   ('based', 0.015024220405691796),\n",
      "   ('learn', 0.014418710263396911)]),\n",
      " (6,\n",
      "  [('security', 0.1028263084411909),\n",
      "   ('research', 0.024112297649145315),\n",
      "   ('challenge', 0.015357911022225576),\n",
      "   ('design', 0.01494283234594921),\n",
      "   ('paper', 0.013433455341307875),\n",
      "   ('provide', 0.01215048488736274),\n",
      "   ('issue', 0.01079204558318554),\n",
      "   ('address', 0.008943058752499906),\n",
      "   ('effort', 0.008603448926455605),\n",
      "   ('practice', 0.008339307950643372)]),\n",
      " (10,\n",
      "  [('attack', 0.1804937114287946),\n",
      "   ('attacker', 0.035856573705179286),\n",
      "   ('exploit', 0.026638543863760644),\n",
      "   ('defense', 0.021599875009764864),\n",
      "   ('target', 0.017576751816264353),\n",
      "   ('propose', 0.017068978986016718),\n",
      "   ('demonstrate', 0.015116006561987345),\n",
      "   ('paper', 0.013709866416686197),\n",
      "   ('adversary', 0.011795953441137411),\n",
      "   ('victim', 0.011444418404812124)]),\n",
      " (3,\n",
      "  [('device', 0.05597237108491128),\n",
      "   ('android', 0.02512802191258783),\n",
      "   ('apps', 0.023500456512246436),\n",
      "   ('authentication', 0.021714104243579058),\n",
      "   ('mobile', 0.021555317375253066),\n",
      "   ('paper', 0.011750228256123218),\n",
      "   ('physical', 0.010956293914493272),\n",
      "   ('platform', 0.010916597197411775),\n",
      "   ('sensor', 0.00976539240204835),\n",
      "   ('permission', 0.008812671192092414)]),\n",
      " (5,\n",
      "  [('memory', 0.026619878066071176),\n",
      "   ('hardware', 0.01960158797674748),\n",
      "   ('software', 0.016553239756132144),\n",
      "   ('performance', 0.01630511838933787),\n",
      "   ('code', 0.015915213384375442),\n",
      "   ('channel', 0.01566709201758117),\n",
      "   ('overhead', 0.015348078831702822),\n",
      "   ('execution', 0.013717566992769034),\n",
      "   ('control', 0.0135048915355168),\n",
      "   ('kernel', 0.013469445625974763)]),\n",
      " (0,\n",
      "  [('network', 0.06896688479079913),\n",
      "   ('traffic', 0.022248661511005356),\n",
      "   ('communication', 0.015625619670830853),\n",
      "   ('internet', 0.01503073567321039),\n",
      "   ('message', 0.013920285544318858),\n",
      "   ('present', 0.013563355145746579),\n",
      "   ('provide', 0.01142177275431291),\n",
      "   ('block', 0.010985524489391236),\n",
      "   ('design', 0.010787229823517748),\n",
      "   ('transaction', 0.010192345825897283)]),\n",
      " (7,\n",
      "  [('data', 0.11378896882494005),\n",
      "   ('information', 0.04932054356514788),\n",
      "   ('application', 0.03589128697042366),\n",
      "   ('server', 0.02446043165467626),\n",
      "   ('access', 0.022981614708233414),\n",
      "   ('sensitive', 0.02182254196642686),\n",
      "   ('client', 0.016346922462030376),\n",
      "   ('cloud', 0.015907274180655476),\n",
      "   ('resource', 0.014908073541167067),\n",
      "   ('query', 0.013749000799360511)]),\n",
      " (1,\n",
      "  [('security', 0.04892157989503122),\n",
      "   ('policy', 0.030264720530207255),\n",
      "   ('control', 0.021913190054782976),\n",
      "   ('framework', 0.01992108186798452),\n",
      "   ('property', 0.018158832318124353),\n",
      "   ('provide', 0.017086158679079033),\n",
      "   ('flow', 0.015630387311803242),\n",
      "   ('propose', 0.014596023445580968),\n",
      "   ('model', 0.014596023445580968),\n",
      "   ('type', 0.014174615944527449)]),\n",
      " (9,\n",
      "  [('protocol', 0.05100170434447053),\n",
      "   ('secure', 0.034183361739074505),\n",
      "   ('scheme', 0.03128919188346143),\n",
      "   ('computation', 0.018458372190243433),\n",
      "   ('efficient', 0.017879538219120816),\n",
      "   ('party', 0.017172074476637617),\n",
      "   ('cryptographic', 0.01672187027687558),\n",
      "   ('implementation', 0.014824581149307008),\n",
      "   ('proof', 0.012991606907418723),\n",
      "   ('time', 0.012348458050615815)]),\n",
      " (11,\n",
      "  [('malicious', 0.032848120764017254),\n",
      "   ('malware', 0.030653111521873076),\n",
      "   ('analysis', 0.030036968576709795),\n",
      "   ('detect', 0.02984442390634627),\n",
      "   ('detection', 0.020448243992606283),\n",
      "   ('behavior', 0.019447011706715957),\n",
      "   ('approach', 0.017829636475662353),\n",
      "   ('time', 0.013555144793592114),\n",
      "   ('host', 0.01328558225508318),\n",
      "   ('threat', 0.012553912507701787)])]\n"
     ]
    },
    {
     "name": "stderr",
     "output_type": "stream",
     "text": [
      "/Library/Frameworks/Python.framework/Versions/3.8/lib/python3.8/site-packages/ipykernel/ipkernel.py:283: DeprecationWarning: `should_run_async` will not call `transform_cell` automatically in the future. Please pass the result to `transformed_cell` argument and any exception that happen during thetransform in `preprocessing_exc_tuple` in IPython 7.17 and above.\n",
      "  and should_run_async(code)\n"
     ]
    },
    {
     "name": "stdout",
     "output_type": "stream",
     "text": [
      "\n",
      "Coherence Score:  0.42389410698777163\n"
     ]
    }
   ],
   "source": [
    "# Show Topics\n",
    "pprint(ldamallet.show_topics(formatted=False))\n",
    "\n",
    "# Compute Coherence Score\n",
    "coherence_model_ldamallet = CoherenceModel(model=ldamallet, \n",
    "                                           texts=corpus_clean_bigram,\n",
    "                                           dictionary=dictionary, \n",
    "                                           coherence='c_v')\n",
    "coherence_ldamallet = coherence_model_ldamallet.get_coherence()\n",
    "print('\\nCoherence Score: ', coherence_ldamallet)"
   ]
  },
  {
   "cell_type": "markdown",
   "id": "normal-wrong",
   "metadata": {},
   "source": [
    "## Setting upp the lda model\n",
    "Used insted of LDA mallet"
   ]
  },
  {
   "cell_type": "code",
   "execution_count": 26,
   "id": "informative-oklahoma",
   "metadata": {
    "tags": []
   },
   "outputs": [
    {
     "name": "stderr",
     "output_type": "stream",
     "text": [
      "/Library/Frameworks/Python.framework/Versions/3.8/lib/python3.8/site-packages/ipykernel/ipkernel.py:283: DeprecationWarning: `should_run_async` will not call `transform_cell` automatically in the future. Please pass the result to `transformed_cell` argument and any exception that happen during thetransform in `preprocessing_exc_tuple` in IPython 7.17 and above.\n",
      "  and should_run_async(code)\n"
     ]
    }
   ],
   "source": [
    "Lda = gensim.models.ldamodel.LdaModel\n",
    "lda_model = Lda(tfidf_M1, \n",
    "                num_topics=2, \n",
    "                id2word = dictionary, \n",
    "                passes=18, \n",
    "                random_state =0)"
   ]
  },
  {
   "cell_type": "markdown",
   "id": "informed-throat",
   "metadata": {},
   "source": [
    "#### Multicore"
   ]
  },
  {
   "cell_type": "code",
   "execution_count": 27,
   "id": "confidential-policy",
   "metadata": {},
   "outputs": [
    {
     "name": "stderr",
     "output_type": "stream",
     "text": [
      "/Library/Frameworks/Python.framework/Versions/3.8/lib/python3.8/site-packages/ipykernel/ipkernel.py:283: DeprecationWarning: `should_run_async` will not call `transform_cell` automatically in the future. Please pass the result to `transformed_cell` argument and any exception that happen during thetransform in `preprocessing_exc_tuple` in IPython 7.17 and above.\n",
      "  and should_run_async(code)\n"
     ]
    }
   ],
   "source": [
    "Lda = gensim.models.ldamulticore.LdaMulticore\n",
    "lda_model = Lda(tfidf_M1 , \n",
    "                num_topics=8, \n",
    "                id2word = dictionary, \n",
    "                passes=15,\n",
    "                random_state =0,\n",
    "                workers=4)"
   ]
  },
  {
   "cell_type": "code",
   "execution_count": 28,
   "id": "saving-tradition",
   "metadata": {},
   "outputs": [
    {
     "name": "stderr",
     "output_type": "stream",
     "text": [
      "/Library/Frameworks/Python.framework/Versions/3.8/lib/python3.8/site-packages/ipykernel/ipkernel.py:283: DeprecationWarning: `should_run_async` will not call `transform_cell` automatically in the future. Please pass the result to `transformed_cell` argument and any exception that happen during thetransform in `preprocessing_exc_tuple` in IPython 7.17 and above.\n",
      "  and should_run_async(code)\n"
     ]
    },
    {
     "name": "stdout",
     "output_type": "stream",
     "text": [
      "Coherence Score:  0.6364102700593359\n"
     ]
    }
   ],
   "source": [
    "coherence_model_lda = CoherenceModel(model=lda_model, \n",
    "                                     texts=corpus_clean_bigram, \n",
    "                                     dictionary=dictionary)\n",
    "coherence_lda = coherence_model_lda.get_coherence()\n",
    "print('Coherence Score: ', coherence_lda)"
   ]
  },
  {
   "cell_type": "code",
   "execution_count": 25,
   "id": "fifth-salem",
   "metadata": {},
   "outputs": [
    {
     "name": "stdout",
     "output_type": "stream",
     "text": [
      "(0, '0.001*\"abstract\" + 0.001*\"available\" + 0.001*\"flash\" + 0.001*\"rpki\" + 0.001*\"skimmer\" + 0.001*\"walkie_talkie\"')\n",
      "(1, '0.001*\"helios\" + 0.001*\"prêt_voter\" + 0.001*\"volte\" + 0.001*\"coercion\" + 0.001*\"sanctum\" + 0.001*\"guis\"')\n",
      "(2, '0.002*\"captchas\" + 0.001*\"rust\" + 0.001*\"captcha\" + 0.001*\"pill\" + 0.001*\"spurious\" + 0.000*\"macs\"')\n",
      "(3, '0.002*\"workshop\" + 0.001*\"proverif\" + 0.001*\"quic\" + 0.001*\"meltdown\" + 0.001*\"protocol\" + 0.001*\"snarks\"')\n",
      "(4, '0.002*\"rowhammer\" + 0.001*\"deduplication\" + 0.001*\"printer\" + 0.001*\"uninitialized\" + 0.001*\"spamming\" + 0.001*\"spammer\"')\n",
      "(5, '0.004*\"attack\" + 0.003*\"user\" + 0.003*\"protocol\" + 0.003*\"data\" + 0.003*\"security\" + 0.002*\"network\"')\n",
      "(6, '0.001*\"recommender\" + 0.001*\"bliss\" + 0.001*\"sdns\" + 0.001*\"journalist\" + 0.000*\"fake_visitations\" + 0.000*\"court\"')\n",
      "(7, '0.001*\"vault\" + 0.001*\"crowdturfing\" + 0.001*\"fitness\" + 0.001*\"compartmentalization\" + 0.001*\"kerberos\" + 0.001*\"ethos\"')\n"
     ]
    },
    {
     "name": "stderr",
     "output_type": "stream",
     "text": [
      "/Library/Frameworks/Python.framework/Versions/3.8/lib/python3.8/site-packages/ipykernel/ipkernel.py:283: DeprecationWarning: `should_run_async` will not call `transform_cell` automatically in the future. Please pass the result to `transformed_cell` argument and any exception that happen during thetransform in `preprocessing_exc_tuple` in IPython 7.17 and above.\n",
      "  and should_run_async(code)\n"
     ]
    }
   ],
   "source": [
    "topics = lda_model.print_topics(num_topics=100, num_words=6)\n",
    "\n",
    "for topic in topics:\n",
    "    print(topic)"
   ]
  },
  {
   "cell_type": "markdown",
   "id": "alternate-guarantee",
   "metadata": {},
   "source": [
    "## Visualisation of topics\n",
    "First creating a lda mallet model and then visualising"
   ]
  },
  {
   "cell_type": "code",
   "execution_count": 15,
   "id": "progressive-animation",
   "metadata": {},
   "outputs": [
    {
     "name": "stderr",
     "output_type": "stream",
     "text": [
      "/Library/Frameworks/Python.framework/Versions/3.8/lib/python3.8/site-packages/ipykernel/ipkernel.py:283: DeprecationWarning: `should_run_async` will not call `transform_cell` automatically in the future. Please pass the result to `transformed_cell` argument and any exception that happen during thetransform in `preprocessing_exc_tuple` in IPython 7.17 and above.\n",
      "  and should_run_async(code)\n"
     ]
    }
   ],
   "source": [
    "def mallet_to_lda(mallet_model):\n",
    "    model_gensim = gensim.models.ldamodel.LdaModel(\n",
    "        id2word=mallet_model.id2word, num_topics=mallet_model.num_topics,\n",
    "        alpha=mallet_model.alpha, eta=0, iterations=1000,\n",
    "        gamma_threshold=0.001,\n",
    "        dtype=np.float32\n",
    "    )\n",
    "    model_gensim.sync_state()\n",
    "    model_gensim.state.sstats = mallet_model.wordtopics\n",
    "    return model_gensim"
   ]
  },
  {
   "cell_type": "code",
   "execution_count": 16,
   "id": "instructional-equipment",
   "metadata": {},
   "outputs": [
    {
     "name": "stderr",
     "output_type": "stream",
     "text": [
      "/Library/Frameworks/Python.framework/Versions/3.8/lib/python3.8/site-packages/ipykernel/ipkernel.py:283: DeprecationWarning: `should_run_async` will not call `transform_cell` automatically in the future. Please pass the result to `transformed_cell` argument and any exception that happen during thetransform in `preprocessing_exc_tuple` in IPython 7.17 and above.\n",
      "  and should_run_async(code)\n"
     ]
    },
    {
     "data": {
      "text/html": [
       "\n",
       "<link rel=\"stylesheet\" type=\"text/css\" href=\"https://cdn.jsdelivr.net/gh/bmabey/pyLDAvis@3.2.2/pyLDAvis/js/ldavis.v1.0.0.css\">\n",
       "\n",
       "\n",
       "<div id=\"ldavis_el447181404952234339201197144101\"></div>\n",
       "<script type=\"text/javascript\">\n",
       "\n",
       "var ldavis_el447181404952234339201197144101_data = {\"mdsDat\": {\"x\": [-0.13090838540821442, 0.05680676959198991, 0.13932039022093237, 0.01315966061011469, -0.16621836032736587, 0.09444290253227748, -0.01948110448601021, -0.18106128567761304, -0.12699843658800708, -0.17487697892624307, 0.2804256037870583, 8.265033465432623e-05, 0.21530657433642608], \"y\": [-0.13363157342481463, 0.009023502559869353, -0.16849242822279628, -0.19094109131137785, 0.19746294878404005, -0.04031273272264226, -0.2224348920265112, -0.010631791816489948, 0.1686826046685811, 0.1071851345730646, 0.17384300673779426, -0.028024929957721347, 0.13827224215900386], \"topics\": [1, 2, 3, 4, 5, 6, 7, 8, 9, 10, 11, 12, 13], \"cluster\": [1, 1, 1, 1, 1, 1, 1, 1, 1, 1, 1, 1, 1], \"Freq\": [7.914716402148191, 7.872660615142212, 7.808385500569452, 7.763431511853419, 7.760496625282204, 7.722150796711085, 7.669233126059291, 7.667235520187495, 7.621005958783031, 7.598164447079454, 7.5929880372462994, 7.525301505387167, 7.4842299535507015]}, \"tinfo\": {\"Term\": [\"attack\", \"security\", \"data\", \"user\", \"network\", \"privacy\", \"device\", \"protocol\", \"model\", \"information\", \"code\", \"analysis\", \"application\", \"vulnerability\", \"service\", \"attacker\", \"program\", \"malicious\", \"secure\", \"propose\", \"scheme\", \"malware\", \"policy\", \"detect\", \"technique\", \"approach\", \"study\", \"method\", \"tool\", \"memory\", \"observational\", \"rigid\", \"satisfy\", \"h\\u00e5stad\", \"mediate\", \"specification\", \"abstraction\", \"defined\", \"policy\", \"pepper\", \"theorem\", \"inconveniently\", \"abstractly\", \"chimera\", \"declarative\", \"express\", \"translate\", \"assertion\", \"markup\", \"relying\", \"saml\", \"shibboleth\", \"statement\", \"administrative\", \"cheaply\", \"finan\", \"enforcement\", \"safebutton\", \"deserve\", \"violate\", \"language\", \"formal\", \"define\", \"definition\", \"correct\", \"layer\", \"rule\", \"authorization\", \"rigorous\", \"formally\", \"basis\", \"abstract\", \"desired\", \"verifiability\", \"invariant\", \"expressive\", \"programming_language\", \"treatment\", \"handling\", \"termination\", \"burden\", \"enforce\", \"property\", \"secrecy\", \"verify\", \"error\", \"flexible\", \"framework\", \"violation\", \"literature\", \"logic\", \"verification\", \"flow\", \"type\", \"control\", \"trust\", \"standard\", \"security\", \"safety\", \"simple\", \"provide\", \"access\", \"propose\", \"model\", \"implementation\", \"introduce\", \"design\", \"exist\", \"based\", \"base\", \"present\", \"implement\", \"level\", \"problem\", \"smartphones\", \"responsive\", \"emerging\", \"video\", \"lenient\", \"stringently\", \"derandomizing\", \"gallery\", \"permission\", \"forcibly\", \"assistant\", \"card\", \"device\", \"entertainment\", \"inexpensive\", \"keyboard\", \"living\", \"phone\", \"signal\", \"smart\", \"lock\", \"capacitor\", \"chip\", \"contactless\", \"deliberately\", \"embed\", \"passports\", \"smartcards\", \"tardis\", \"built\", \"android\", \"apps\", \"mobile\", \"authentication\", \"sensor\", \"vehicle\", \"firmware\", \"wireless\", \"smartphone\", \"frequency\", \"driver\", \"home\", \"audio\", \"screen\", \"display\", \"camera\", \"spoof\", \"radio\", \"bluetooth\", \"voice\", \"physical\", \"power\", \"platform\", \"interface\", \"interaction\", \"human\", \"channel\", \"paper\", \"demonstrate\", \"perform\", \"component\", \"user\", \"control\", \"design\", \"evaluate\", \"based\", \"enable\", \"work\", \"implement\", \"encounter\", \"enterprise\", \"ground_truth\", \"prescription\", \"detect\", \"existent\", \"subsequent\", \"causal\", \"composed\", \"progressively\", \"valuable\", \"malicious\", \"hinders\", \"host\", \"stalemate\", \"event\", \"intrusion_detection\", \"concentrate\", \"swirl\", \"damage\", \"exhibit\", \"live\", \"america\", \"botmasters\", \"botnet\", \"cluster\", \"dgas\", \"nxdomain\", \"virus\", \"synchronized\", \"malware\", \"activity\", \"false_positive\", \"benign\", \"monitoring\", \"scan\", \"accurately\", \"botnets\", \"incident\", \"analyst\", \"insider\", \"alert\", \"suspicious\", \"provenance\", \"ransomware\", \"infection\", \"anomaly\", \"insider_threat\", \"unknown\", \"detection\", \"backdoor\", \"rate\", \"behavior\", \"forensic\", \"family\", \"analysis\", \"threat\", \"employ\", \"real\", \"determine\", \"effective\", \"analyze\", \"approach\", \"identify\", \"time\", \"observe\", \"process\", \"technique\", \"sample\", \"monitor\", \"significant\", \"result\", \"large\", \"paper\", \"based\", \"present\", \"perform\", \"domain\", \"base\", \"develop\", \"evolutionary\", \"convert\", \"openssl\", \"structured\", \"seed\", \"vulnerability\", \"vulnerabilities\", \"impede\", \"utilizing\", \"broaden\", \"discovery\", \"applica\", \"cial\", \"crash\", \"defect\", \"fuzz\", \"fuzzed\", \"grammar\", \"interpreter\", \"langfuzz\", \"testing\", \"compile\", \"hyperv\", \"renew\", \"executables\", \"reverse_engineering\", \"static\", \"fuzzing\", \"inferred\", \"language\\u2014for\", \"binary\", \"library\", \"patch\", \"taint\", \"symbolic_execution\", \"hybrid\", \"payload\", \"apis\", \"previously_unknown\", \"java\", \"coverage\", \"parser\", \"suite\", \"package\", \"assembly\", \"fuzzer\", \"corpus\", \"template\", \"fuzzers\", \"tool\", \"engine\", \"program\", \"open_source\", \"test\", \"source\", \"code\", \"automatic\", \"analysis\", \"generate\", \"automatically\", \"application\", \"input\", \"automated\", \"flaw\", \"dynamic\", \"developer\", \"technique\", \"software\", \"generation\", \"function\", \"discover\", \"case\", \"check\", \"approach\", \"trace\", \"evaluate\", \"identify\", \"state\", \"real_world\", \"implementation\", \"node\", \"decentralize\", \"destination\", \"regime\", \"resilience\", \"equal\", \"reachability\", \"censor\", \"game_theoretic\", \"interconnect\", \"tunnel\", \"proactively\", \"resolvers\", \"contract\", \"autonomous\", \"rpki\", \"mixing\", \"peer_peer\", \"socket\", \"rout\", \"upstream\", \"marking\", \"certificate\", \"asset\", \"recursive\", \"downstream\", \"floodlight\", \"identifiable\", \"cryptocurrency\", \"wider\", \"network\", \"traffic\", \"packet\", \"exchange\", \"anonymity\", \"connection\", \"block\", \"distributed\", \"anonymous\", \"chain\", \"blockchain\", \"payment\", \"transaction\", \"proxy\", \"bitcoin\", \"smart_contract\", \"coin\", \"global\", \"router\", \"token\", \"mining\", \"handshake\", \"delay\", \"firewall\", \"topology\", \"revocation\", \"distribute\", \"censorship\", \"latency\", \"relay\", \"message\", \"throughput\", \"internet\", \"communication\", \"group\", \"infrastructure\", \"path\", \"deployment\", \"present\", \"client\", \"scale\", \"provide\", \"design\", \"enable\", \"protocol\", \"solution\", \"introduce\", \"address\", \"increase\", \"enticement\", \"rare\", \"explain\", \"moving\", \"nucaptcha\", \"guideline\", \"game\", \"hands\", \"unexplored\", \"upcoming\", \"obstacle\", \"seal\", \"promise\", \"established\", \"configure\", \"continuity\", \"decade\", \"dation\", \"vital\", \"perspective\", \"development\", \"standardized\", \"tions\", \"foster\", \"begin\", \"exercise\", \"research\", \"situation\", \"tradition\", \"science\", \"experience\", \"future\", \"benefit\", \"technical\", \"question\", \"aspect\", \"student\", \"highlight\", \"cybersecurity\", \"assessment\", \"attention\", \"discussion\", \"broad\", \"interview\", \"competition\", \"researcher\", \"rapid\", \"workshop\", \"national\", \"deal\", \"organization\", \"community\", \"administrator\", \"academic\", \"security\", \"technology\", \"effort\", \"configuration\", \"issue\", \"challenge\", \"bring\", \"adoption\", \"cyber\", \"area\", \"practice\", \"discuss\", \"year\", \"focus\", \"design\", \"address\", \"develop\", \"paper\", \"provide\", \"goal\", \"problem\", \"work\", \"include\", \"current\", \"case\", \"framework\", \"study\", \"robust\", \"learn\", \"mislead\", \"method\", \"regression\", \"captcha\", \"captchas\", \"image\", \"robustness\", \"algorithm\", \"deem\", \"score\", \"sparse\", \"truncate\", \"truncation\", \"learned\", \"learning\", \"trained\", \"relaxation\", \"training\", \"swiping\", \"maximum\", \"stick\", \"unchanged\", \"adversarial\", \"agnostic\", \"repeatedly\", \"classification\", \"responses\", \"similarity\", \"accuracy\", \"graph\", \"datasets\", \"dataset\", \"classifier\", \"machine_learning\", \"solve\", \"train\", \"deep_learning\", \"neural_network\", \"author\", \"prediction\", \"probabilistic\", \"adversarial_example\", \"obfuscation\", \"classify\", \"deep\", \"obfuscate\", \"heuristic\", \"text\", \"representation\", \"machine\", \"model\", \"probability\", \"feature\", \"optimization\", \"propose\", \"technique\", \"approach\", \"high\", \"structure\", \"base\", \"problem\", \"achieve\", \"based\", \"evaluate\", \"apply\", \"work\", \"state\", \"result\", \"exist\", \"input\", \"evaluation\", \"demonstrate\", \"kernel\", \"fault\", \"eliminate\", \"randomization\", \"ahead\", \"sandboxing\", \"pointer\", \"confine\", \"contemporary\", \"randomization_aslr\", \"prime_probe\", \"jump\", \"boot\", \"hypervisor\", \"toolchain\", \"rowhammer\", \"switching\", \"oriented_programming\", \"slowdown\", \"randomized\", \"commercially_available\", \"mersenne\", \"isolation\", \"coerce\", \"memory\", \"residency\", \"tenant\", \"virtual_machine\", \"virtualized\", \"virtualized_environment\", \"cache\", \"processor\", \"runtime\", \"operating\", \"intel\", \"fine_grained\", \"stack\", \"commodity\", \"privilege\", \"object\", \"module\", \"enclave\", \"windows\", \"separate\", \"attestation\", \"linux\", \"legacy\", \"dynamically\", \"virtualization\", \"executable\", \"partition\", \"virtual\", \"hardware\", \"overhead\", \"trusted\", \"architecture\", \"core\", \"execution\", \"space\", \"integrity\", \"instruction\", \"channel\", \"performance\", \"software\", \"protection\", \"protect\", \"prototype\", \"level\", \"control\", \"code\", \"environment\", \"address\", \"time\", \"process\", \"based\", \"demonstrate\", \"flow\", \"present\", \"design\", \"exist\", \"data\", \"organizations\\u2014the\", \"mediawiki\", \"hose\", \"accidental\", \"eucalyptus\", \"excalibur\", \"mismanagement\", \"associative\", \"reluctant\", \"stealthmem\", \"remanence\", \"dnefs\", \"flash\", \"levelling\", \"ubifsec\", \"likewise\", \"tiered\", \"downtime\", \"unsuspicious\", \"tabulate\", \"plausibly\", \"searchable\", \"filternet\", \"tier\", \"accountability\", \"forever\", \"aggressively\", \"abstract\\u2013and\", \"meeting\", \"cloud\", \"resource\", \"query\", \"search\", \"storage\", \"store\", \"database\", \"leakage\", \"encrypt\", \"document\", \"plaintext\", \"hide\", \"metadata\", \"hidden\", \"exposure\", \"encrypted\", \"reconstruction\", \"deletion\", \"guard\", \"index\", \"retain\", \"port\", \"baseline\", \"friendly\", \"keywords\", \"delete\", \"healthcare\", \"file\", \"medical\", \"record\", \"sensitive\", \"information\", \"server\", \"private\", \"leak\", \"client\", \"application\", \"access\", \"order\", \"update\", \"protect\", \"encryption\", \"solution\", \"public\", \"multiple\", \"enable\", \"present\", \"provide\", \"reduce\", \"result\", \"linear\", \"suit\", \"targets\\u2014signaling\", \"gaussian\", \"joomla\", \"optimized\", \"predictability\", \"prng\", \"randomness\", \"shamir\", \"imply\", \"informa\", \"blowfish\", \"elapsed\", \"size\", \"computation\", \"computational\", \"ginger\", \"parallel\", \"unconditional\", \"faster\", \"circuit\", \"gate\", \"parallelize\", \"random_oracle\", \"reference_string\", \"semi_honest\", \"decryption\", \"independence\", \"tolerate\", \"scheme\", \"proof\", \"construction\", \"constant\", \"oram\", \"round\", \"crypto\", \"hash\", \"length\", \"verifiable\", \"cryptographic_primitive\", \"zero_knowledge\", \"outsource\", \"threshold\", \"verifier\", \"protocols\", \"ideal\", \"symmetric\", \"lattice\", \"instantiation\", \"cryptographic\", \"efficient\", \"secure\", \"bound\", \"protocol\", \"efficiency\", \"signature\", \"party\", \"assumption\", \"independent\", \"primitive\", \"cost\", \"random\", \"complexity\", \"prove\", \"encryption\", \"function\", \"implementation\", \"achieve\", \"multi\", \"practical\", \"time\", \"work\", \"setting\", \"number\", \"require\", \"implement\", \"performance\", \"abuse\", \"advertiser\", \"advertising\", \"affiliate\", \"drug\", \"glavmed\", \"pharmaceutical\", \"product\", \"promotion\", \"purchase\", \"sale\", \"search_engine\", \"site\", \"spam\", \"spamit\", \"underground\", \"content\", \"delivery\", \"filter\", \"list\", \"mail\", \"origin\", \"recipient\", \"smtp\", \"seek\", \"unsolicited\", \"voluntary\", \"yahoo\", \"algorithmically\", \"twister\", \"service\", \"browser\", \"website\", \"provider\", \"track\", \"phishing\", \"million\", \"facebook\", \"tracking\", \"https\", \"http\", \"post\", \"amazon\", \"customer\", \"email\", \"fingerprinting\", \"prevalence\", \"visit\", \"click\", \"criminal\", \"script\", \"extension\", \"online\", \"popular\", \"domain\", \"large_scale\", \"google\", \"measurement\", \"user\", \"account\", \"study\", \"page\", \"identify\", \"feature\", \"party\", \"paper\", \"reveal\", \"internet\", \"finding\", \"dialect\", \"poison\", \"attack\", \"defeat\", \"resist\", \"symbol\", \"attacker\", \"break\", \"defense\", \"succeed\", \"quark\", \"carefully_craft\", \"coercion\", \"redesign\", \"ware\", \"brute_force\", \"error_correcting\", \"equipped\", \"fall_short\", \"insert\", \"manipulate\", \"mark\", \"rainbow\", \"circumvent\", \"clickjacking\", \"trick\", \"exceptional\", \"exploitation\", \"ineffective\", \"outside\\u2014that\", \"victim\", \"countermeasure\", \"bypass\", \"launch\", \"gadget\", \"weakness\", \"vote\", \"inject\", \"election\", \"ballot\", \"voter\", \"manipulation\", \"counter\", \"ddos\", \"stealthy\", \"prominent\", \"craft\", \"tamper\", \"resolution\", \"reuse\", \"attacks\", \"mitigation\", \"hijack\", \"exploit\", \"voting\", \"defend\", \"target\", \"remain\", \"mitigate\", \"successfully\", \"vulnerable\", \"vector\", \"adversary\", \"mode\", \"deploy\", \"demonstrate\", \"propose\", \"class\", \"widely\", \"prevent\", \"paper\", \"effectively\", \"modern\", \"work\", \"finally\", \"discuss\", \"mechanism\", \"present\", \"introduce\", \"include\", \"shape\", \"estimate\", \"estimation\", \"maker\", \"usability\", \"appearance\", \"cracking\", \"digit\", \"participant\", \"participants\", \"password\", \"entropy\", \"guess\", \"person\", \"chosen\", \"collector\", \"frequent\", \"choice\", \"correction\", \"personalization\", \"personalized\", \"recommendation\", \"keylogger\", \"individual\", \"odds\", \"personal\", \"aggregate\", \"password_manager\", \"hurt\", \"resiliency\", \"location\", \"privacy\", \"differential\", \"suggest\", \"release\", \"influence\", \"correlation\", \"decision\", \"users\", \"transparency\", \"statistic\", \"genomic\", \"inform\", \"population\", \"background\", \"bias\", \"daily\", \"generalization\", \"utility\", \"select\", \"usable\", \"measure\", \"user\", \"risk\", \"people\", \"factor\", \"study\", \"metric\", \"concern\", \"mechanism\", \"effect\", \"social\", \"conduct\", \"result\", \"compare\", \"information\", \"significant\", \"number\", \"improve\", \"share\"], \"Freq\": [4840.0, 4215.0, 3090.0, 3342.0, 1907.0, 1816.0, 1570.0, 1624.0, 1709.0, 1653.0, 1690.0, 1770.0, 1946.0, 1211.0, 1014.0, 961.0, 1071.0, 914.0, 1024.0, 1543.0, 848.0, 854.0, 853.0, 830.0, 1631.0, 1589.0, 1253.0, 757.0, 845.0, 727.0, 8.645297215881646, 1.0806621519852058, 94.01760722271291, 1.0806621519852058, 21.613243039704116, 205.3258088771891, 87.53363431080167, 19.451918735733706, 853.7231000683125, 1.0806621519852058, 25.93589164764494, 1.0806621519852058, 4.322648607940823, 3.2419864559556175, 7.564635063896441, 82.13032355087564, 39.98449962345261, 15.129270127792882, 7.564635063896441, 7.564635063896441, 8.645297215881646, 1.0806621519852058, 47.54913468734906, 16.209932279778087, 3.2419864559556175, 1.0806621519852058, 127.51813393425428, 1.0806621519852058, 4.322648607940823, 67.00105342308275, 360.9411587630587, 197.76117381329266, 161.01866064579568, 153.45402558189923, 149.13137697395842, 231.26170052483405, 142.64740406204717, 100.50158013462413, 61.59774266315673, 59.43641835918632, 59.43641835918632, 58.35575620720112, 56.19443190323071, 54.03310759926029, 49.71045899131947, 47.54913468734906, 46.46847253536385, 44.307148231393434, 41.06516177543782, 41.06516177543782, 38.90383747146741, 215.05176824505594, 512.2338600409876, 68.08171557506796, 300.42407825188724, 250.71361926056775, 67.00105342308275, 561.944319032307, 64.83972911911235, 148.0507148219732, 158.85733634182526, 228.01971406887844, 440.910158009964, 399.84499623452615, 618.1387509355377, 252.87494356453814, 232.34236267681925, 1380.0055680851078, 143.7280662140324, 180.47057938152935, 481.9753197854018, 378.23175319482203, 411.73227990636343, 411.73227990636343, 331.7632806594582, 262.600902932405, 340.4085778753398, 282.0528216681387, 318.79533483563574, 252.87494356453814, 260.4395786284346, 224.77772761292283, 212.89044394108555, 217.21309254902636, 90.22069069120278, 8.910685500365707, 13.366028250548561, 120.29425425493704, 2.2276713750914268, 1.1138356875457134, 1.1138356875457134, 1.1138356875457134, 247.2715226351484, 2.2276713750914268, 21.162878063368552, 102.47288325420563, 1570.5083194394558, 4.4553427501828535, 22.27671375091427, 54.577948689739955, 7.7968498128199935, 212.74261632123125, 235.0193300721455, 118.06658287984563, 83.5376765659285, 4.4553427501828535, 72.39931969047137, 26.732056501097123, 14.479863938094274, 147.02631075603415, 1.1138356875457134, 5.569178437728567, 7.7968498128199935, 52.35027731464853, 705.0579902164366, 659.3907270270623, 604.8127783373224, 609.2681210875053, 274.0035791362455, 124.7495970051199, 123.6357613175742, 119.18041856739134, 115.8389115047542, 100.24521187911421, 100.24521187911421, 98.01754050402278, 91.3345263787485, 83.5376765659285, 80.19616950329136, 80.19616950329136, 75.74082675310851, 74.6269910655628, 70.17164831537994, 126.97726838021133, 307.4186497626169, 187.12439550767985, 306.3048140750712, 164.84768175676558, 143.68480369339704, 186.01055982013412, 222.76713750914269, 329.69536351353116, 241.7023441974198, 199.3765880706827, 138.11562525566845, 224.9948088842341, 174.872202944677, 178.21371000731415, 147.02631075603415, 151.48165350621701, 139.22946094321415, 137.00178956812275, 124.7495970051199, 47.154204996943115, 126.45900430998381, 24.64878897567481, 1.0716864772032526, 830.5570198325207, 7.501805340422768, 38.580713179317094, 19.290356589658547, 1.0716864772032526, 1.0716864772032526, 43.93914556533336, 914.1485650543746, 5.358432386016263, 369.73183463512214, 1.0716864772032526, 294.7137812308945, 103.95358828871551, 16.07529715804879, 1.0716864772032526, 50.369264428552874, 58.942756246178895, 83.5915452218537, 7.501805340422768, 8.57349181762602, 77.16142635863419, 50.369264428552874, 12.860237726439031, 2.143372954406505, 11.788551249235779, 5.358432386016263, 853.0624358537891, 291.49872179928474, 142.53430146803262, 125.38731783278055, 125.38731783278055, 90.02166408507323, 88.94997760786997, 81.44817226744719, 80.37648579024395, 72.87468044982118, 70.73130749541468, 64.30118863219516, 62.15781567778865, 57.87106976897564, 56.79938329177239, 55.727696814569136, 53.58432386016263, 48.22589147414637, 82.51985874465045, 569.0655193949272, 64.30118863219516, 317.21919725216276, 541.2016709876425, 64.30118863219516, 98.59515590269925, 835.915452218537, 349.3697915682604, 150.03610680845537, 245.41620327954485, 161.82465805769112, 235.77102498471558, 300.07221361691074, 496.19083894510595, 332.2228079330083, 377.2336399755449, 151.10779328565863, 250.7746356655611, 342.93967270504083, 148.96442033125211, 135.03249612760982, 161.82465805769112, 246.48788975674813, 193.97525237378875, 263.63487339200015, 234.6993385075123, 234.6993385075123, 189.68850646497572, 162.89634453489438, 166.11140396650416, 159.68128510328464, 22.771486088635136, 22.771486088635136, 66.3343290408067, 22.771486088635136, 61.38400597805993, 1211.839085760409, 11.880775350592245, 13.860904575690952, 8.910581512944185, 6.930452287845476, 110.88723660552762, 0.9900646125493537, 0.9900646125493537, 84.15549206669507, 12.870839963141599, 34.65226143922738, 5.940387675296122, 42.57277833962221, 19.801292250987075, 1.9801292250987075, 92.07600896708989, 62.37407059060929, 0.9900646125493537, 4.950323062746769, 40.5926491145235, 69.30452287845476, 287.1187376393126, 199.99305173496947, 13.860904575690952, 0.9900646125493537, 363.3537128056128, 259.3969284879307, 166.33085490829146, 87.12568590434313, 84.15549206669507, 83.16542745414573, 82.17536284159637, 79.2051690039483, 69.30452287845476, 68.31445826590542, 137.61898114436016, 62.37407059060929, 58.41381214041187, 46.533036789819626, 46.533036789819626, 41.582713727072864, 39.60258450197415, 39.60258450197415, 76.23497516630025, 756.4093639877063, 109.89717199297826, 940.561381921886, 139.59911036945888, 483.1515309240846, 359.39345435541543, 1253.4217994874818, 117.8176888933731, 934.6209942465899, 311.87035295304645, 256.42673465028264, 821.7536284159637, 365.33384203071154, 129.69846424396536, 155.44014417024854, 210.88376247301235, 191.08247022202528, 456.4197863852521, 317.81074062834256, 149.4997564949524, 199.0029871224201, 169.30104874593948, 218.80427937340718, 165.3407902957421, 283.1584791891152, 149.4997564949524, 210.88376247301235, 206.92350402281494, 192.07253483457464, 177.22156564633434, 179.20169487143303, 212.80277094290372, 51.55531048616739, 38.392252489699125, 12.066136496762581, 54.84607498528447, 12.066136496762581, 12.066136496762581, 93.23832747498359, 12.066136496762581, 16.45382249558534, 32.90764499117068, 16.45382249558534, 12.066136496762581, 76.78450497939825, 48.264545987050326, 16.45382249558534, 16.45382249558534, 38.392252489699125, 24.132272993525163, 65.81528998234135, 12.066136496762581, 12.066136496762581, 264.3580814290711, 16.45382249558534, 12.066136496762581, 12.066136496762581, 12.066136496762581, 16.45382249558534, 44.97378148793326, 12.066136496762581, 1907.5464879881936, 615.3729613348918, 242.41965143495736, 235.83812243672318, 228.1596719387834, 225.96582893937202, 303.8472554184759, 143.6967164614453, 139.30903046262253, 138.21210896291686, 125.04905096644858, 191.96126244849563, 281.90882542436213, 105.30446397174617, 180.99204745143874, 92.1414059752779, 92.1414059752779, 91.04448447557222, 91.04448447557222, 86.65679847674944, 81.17219097822101, 78.97834797880964, 77.88142647910394, 75.68758347969256, 71.2998974808698, 70.20297598116412, 152.4720884590908, 151.37516695938513, 167.82898945497047, 95.43217047439498, 385.01944639669694, 86.65679847674944, 415.7332483884562, 432.18707088404153, 175.5074399529103, 165.6351464555591, 185.3797334502615, 172.21667545379321, 375.1471528993457, 232.54735793760614, 144.793637961151, 315.91339191523855, 298.3626479199475, 198.54279144672978, 243.51657293466303, 176.604361452616, 171.11975395408754, 165.6351464555591, 152.4720884590908, 1.0385347262834854, 13.500951441685311, 63.350618303292606, 11.423881989118339, 1.0385347262834854, 29.07897233593759, 164.0884867527907, 16.616555620535767, 12.462416715401824, 7.269743083984397, 22.847763978236678, 14.539486167968795, 55.042340493024724, 20.770694525669708, 29.07897233593759, 9.346812536551369, 61.27354885072564, 1.0385347262834854, 15.57802089425228, 87.23691700781278, 221.2078966983824, 9.346812536551369, 2.077069452566971, 7.269743083984397, 45.695527956473356, 74.77450029241095, 663.6236900951471, 69.58182666099351, 4.154138905133942, 51.92673631417427, 203.55280635156313, 195.24452854129524, 186.93625073102734, 163.04995202650719, 153.70313948995584, 133.9709796905696, 128.7783060591522, 126.70123660658521, 111.12321571233292, 77.8901044712614, 76.85156974497792, 62.31208357700912, 59.19647939815866, 57.11940994559169, 52.96527104045775, 173.43529928934205, 51.92673631417427, 51.92673631417427, 50.888201587890784, 48.81113213532381, 140.20218804827053, 227.43910505608326, 65.42768775585957, 63.350618303292606, 2830.0071291224976, 207.70694525669708, 236.78591759263463, 117.35442407003384, 297.0209317170768, 422.6836335973785, 79.96717392382837, 100.73786844949808, 135.0095144168531, 129.8168407854357, 229.51617450865027, 194.20599381501174, 135.0095144168531, 190.05185490987782, 411.2597516082602, 246.13273012918606, 224.32350087723285, 369.7183625569208, 334.40818186328227, 153.70313948995584, 206.66841053041358, 222.24643142466584, 195.24452854129524, 166.16555620535766, 163.04995202650719, 163.04995202650719, 155.7802089425228, 164.47333929133515, 394.11536018867093, 17.585199798444638, 757.1980148506749, 20.688470351111334, 23.791740903778038, 42.41136421977824, 281.3631967751142, 75.51291678155638, 653.7556630951183, 10.344235175555667, 52.75559939533391, 17.585199798444638, 1.0344235175555667, 5.172117587777834, 13.44750572822237, 121.02755155400133, 23.791740903778038, 6.206541105333401, 187.2306566775576, 1.0344235175555667, 26.89501145644474, 8.275388140444534, 12.413082210666802, 221.3666327568913, 36.204823114444835, 25.86058793888917, 163.43891577377957, 4.137694070222267, 73.44406974644525, 305.1549376788922, 296.8795495384477, 172.74872743177966, 169.64545687911297, 167.57660984400184, 162.404492256224, 146.8881394928905, 124.13082210666803, 109.64889286089009, 101.37350472044555, 82.75388140444534, 81.71945788688978, 80.6850343693342, 79.65061085177865, 148.9569865280016, 73.44406974644525, 72.40964622888967, 69.30637567622297, 65.16868160600072, 152.06025708066832, 101.37350472044555, 320.6712904422257, 1298.2015145322364, 81.71945788688978, 442.7332655137826, 123.09639858911245, 651.6868160600071, 676.5129804813407, 657.8933571653406, 376.5301603902263, 171.71430391422408, 439.62999496111587, 356.8761135566706, 278.2599262224475, 410.66613646956006, 312.3959023017812, 229.6420208973358, 345.4974548635593, 269.9845380820029, 269.9845380820029, 233.7797149675581, 205.8502799935578, 177.9208450195575, 174.8175744668908, 368.0726367314121, 92.01815918285303, 100.73566900017595, 79.42620055783102, 12.591958625021993, 12.591958625021993, 133.66848386561807, 12.591958625021993, 12.591958625021993, 12.591958625021993, 12.591958625021993, 12.591958625021993, 12.591958625021993, 50.36783450008797, 12.591958625021993, 39.71310027891551, 12.591958625021993, 12.591958625021993, 12.591958625021993, 24.21530504811922, 9.686122019247687, 0.9686122019247687, 154.977952307963, 10.654734221172456, 727.4277636455013, 10.654734221172456, 51.336446702012736, 110.42179101942362, 13.560570826946762, 10.654734221172456, 306.0814558082269, 164.66407432721067, 242.15305048119217, 152.07211570218868, 124.95097404829515, 119.13930083674656, 118.17068863482177, 112.35901542327316, 111.39040322134841, 189.84799157725465, 108.4845666155741, 104.61011780787503, 78.45758835590627, 72.64591514435766, 71.67730294243287, 137.54293267331715, 64.89701752895951, 60.05395651933566, 59.085344317410886, 58.11673211548612, 51.336446702012736, 104.61011780787503, 535.6425476643971, 419.4090834334249, 176.28742075030792, 267.33696773123614, 161.75823772143636, 374.8529221448855, 223.74941864462158, 219.87496983692247, 166.6012987310602, 428.1265932507477, 445.56161288539363, 452.341898298867, 274.11725314470954, 299.3011703947535, 197.5968891926528, 308.9872924140012, 369.0412489333369, 434.9068786642211, 206.31439900997574, 277.02308975048385, 316.7361900293993, 232.4669284619445, 251.83917250043984, 208.25162341382526, 185.9735427695556, 194.6910525868785, 191.7852159811042, 185.00493056763082, 3090.7043959227767, 1.0856004200641998, 1.0856004200641998, 1.0856004200641998, 8.684803360513598, 2.1712008401283995, 4.342401680256799, 4.342401680256799, 4.342401680256799, 4.342401680256799, 4.342401680256799, 1.0856004200641998, 4.342401680256799, 44.50961722263219, 1.0856004200641998, 4.342401680256799, 4.342401680256799, 8.684803360513598, 1.0856004200641998, 1.0856004200641998, 1.0856004200641998, 8.684803360513598, 2.1712008401283995, 1.0856004200641998, 17.369606721027196, 34.73921344205439, 1.0856004200641998, 4.342401680256799, 1.0856004200641998, 4.342401680256799, 432.0689671855515, 404.9289566839465, 373.4465445020847, 336.5361302199019, 306.13931845810436, 255.11609871508693, 238.83209241412393, 237.74649199405974, 226.89048779341775, 146.55605670866697, 83.59123234494338, 141.128054608346, 66.22162562391618, 137.87125334815337, 51.02321974301739, 122.67284746725457, 46.680818062760586, 46.680818062760586, 43.42401680256799, 43.42401680256799, 41.25281596243959, 40.167215542375395, 36.91041428218279, 33.65361302199019, 33.65361302199019, 32.56801260192599, 32.56801260192599, 364.7617411415711, 95.53283696564958, 257.2872995552153, 592.7378293550531, 1339.6309183592225, 664.3874570792902, 294.19771383739817, 235.57529115393135, 444.0105718062577, 974.8691772176513, 624.2202415369148, 230.14728905361036, 144.38485586853858, 248.60249619470173, 218.20568443290415, 275.74250669630675, 185.63767183097815, 194.32247519149178, 235.57529115393135, 314.8241218186179, 305.05371803804013, 181.29527015072136, 225.80488737335355, 93.17920047332564, 17.41667298566834, 0.8708336492834171, 11.320837440684423, 0.8708336492834171, 36.57501326990352, 4.354168246417085, 18.28750663495176, 33.96251232205327, 3.4833345971336684, 29.608344075636182, 0.8708336492834171, 4.354168246417085, 1.7416672985668342, 253.4125919414744, 499.85851468868145, 145.42921943033068, 2.6125009478502514, 50.508351658438194, 4.354168246417085, 75.7625274876573, 204.645907581603, 53.991686255571864, 10.450003791401006, 31.350011374203017, 7.837502843550754, 44.412516113454274, 48.76668435987136, 8.70833649283417, 20.029173933518596, 847.3211407527649, 351.81679431050054, 252.54175829219096, 107.98337251114373, 101.01670331687639, 74.02086018909046, 73.15002653980704, 71.4083592412402, 68.79585829338995, 64.44169004697287, 62.700022748406035, 59.216688151272365, 59.216688151272365, 57.47502085270553, 53.120852606288445, 47.025017061304524, 45.28334976273769, 45.28334976273769, 42.67084881488744, 41.80001516560402, 452.83349762737686, 484.1835090015799, 925.6961691882723, 112.3375407575608, 1381.1421677634996, 200.29173933518595, 269.95843127785935, 465.02516871734474, 217.70841232085428, 130.62504739251258, 117.56254265326132, 244.70425544864023, 118.43337630254473, 151.5250549753146, 184.61673364808442, 231.641750709389, 217.70841232085428, 401.45431231965534, 256.02509288932464, 155.87922322173165, 227.28758246297187, 334.4001213248322, 314.3709473913136, 162.845892415999, 233.3834180079558, 192.45423649163519, 184.61673364808442, 161.10422511743218, 136.7135531385199, 43.45159440836678, 84.78359884559373, 5.298974927849608, 7.418564898989452, 1.0597949855699216, 5.298974927849608, 112.33826847041169, 9.538154870129295, 23.315489682538278, 13.777334812408979, 59.348519191915614, 284.025056132739, 147.3115029942191, 1.0597949855699216, 28.614464610387888, 402.7220945165702, 41.33200443722694, 116.57744841269137, 103.85990858585231, 36.03302950937733, 105.97949855699216, 37.09282449494726, 15.896924783548824, 66.76708409090507, 4.239179942279686, 7.418564898989452, 14.837129797978903, 3.1793849567097645, 1.0597949855699216, 1014.223801190415, 722.7801801586866, 395.30352961758075, 310.519930771987, 225.7363319263933, 166.38781273447768, 126.11560328282069, 121.876423340541, 120.81662835497106, 111.27847348484178, 104.91970357142223, 102.8001136002824, 87.9629838023035, 84.78359884559373, 162.148632792198, 74.18564898989452, 71.00626403318475, 68.8866740620449, 66.76708409090507, 66.76708409090507, 143.0723230519394, 300.9817759018577, 325.35706056996594, 405.90147947327995, 382.5859897907417, 202.42084224385502, 151.5506829364988, 193.94248235929567, 1192.2693587661618, 209.83940714284446, 397.4231195887206, 163.20842777776795, 284.025056132739, 202.42084224385502, 176.9857625901769, 226.7961269119632, 135.65375815294996, 134.59396316738005, 128.23519325396052, 1.0475988632012598, 29.332768169635276, 4840.954346853022, 69.14152497128315, 24.09477385362898, 24.09477385362898, 961.6957564187567, 170.75861470180536, 579.3221713502968, 38.76115793844662, 1.0475988632012598, 9.428389768811341, 15.713982948018899, 10.4759886320126, 4.190395452805039, 24.09477385362898, 7.333192042408819, 4.190395452805039, 15.713982948018899, 37.713559075245364, 89.0459033721071, 26.1899715800315, 1.0475988632012598, 59.71313520247182, 29.332768169635276, 29.332768169635276, 1.0475988632012598, 111.04547949933355, 47.1419488440567, 1.0475988632012598, 306.9464669179692, 231.51934876747842, 145.61624198497515, 124.66426472094994, 109.99788063613231, 101.61708973052221, 97.42669427771717, 96.37909541451592, 80.66511246649702, 80.66511246649702, 76.47471701369199, 75.42711815049073, 73.3319204240882, 61.808332928874336, 58.66553633927055, 53.42754202326426, 48.18954770725796, 47.1419488440567, 45.04675111765418, 157.139829480189, 41.9039545280504, 189.61539423942804, 86.95070564570457, 714.4624247032593, 96.37909541451592, 101.61708973052221, 471.41948844056697, 221.04336013546586, 192.75819082903183, 162.3778237961953, 268.1853089795225, 141.42584653217008, 316.3748566867805, 102.66468859372347, 206.3769760506482, 405.4207600588876, 457.8007032189506, 188.5677953762268, 166.56821924900032, 170.75861470180536, 367.7072009836423, 135.14025335296253, 162.3778237961953, 278.66129761153513, 164.4730215225978, 145.61624198497515, 175.99660901781166, 206.3769760506482, 164.4730215225978, 165.52062038579908, 20.762206359659682, 102.77292148031543, 32.181419857472505, 7.266772225880888, 164.0214302413115, 11.419213497812825, 21.800316677642666, 14.533544451761776, 291.70899935321853, 11.419213497812825, 676.8479273249056, 103.8110317982984, 98.62048020838348, 39.44819208335339, 21.800316677642666, 17.647875405710728, 36.33386112940444, 134.95434133778792, 14.533544451761776, 28.02897858554057, 28.02897858554057, 101.73481116233243, 7.266772225880888, 260.565689813729, 13.495434133778794, 133.91623101980494, 53.981736535115175, 42.56252303730235, 5.190551589914921, 7.266772225880888, 337.3858533444698, 1776.2067540688859, 137.0305619737539, 214.8888358224777, 119.38268656804317, 82.01071512065575, 82.01071512065575, 142.2211135636688, 74.74394289477486, 68.51528098687695, 59.17228812503009, 55.01984685309815, 52.943626217132184, 51.9055158991492, 51.9055158991492, 43.60063335528533, 42.56252303730235, 41.524412719319365, 174.40253342114133, 97.58236989040051, 60.21039844301308, 281.3278961733887, 1924.6565295404525, 298.97577157909944, 96.54425957241752, 166.09765087727746, 700.7244646385143, 127.68756911190705, 180.63119532903923, 316.62364698481014, 131.84001038383897, 154.67843737946464, 200.35529137071595, 358.1480597041295, 169.2119818312264, 295.86144062515046, 166.09765087727746, 214.8888358224777, 155.71654769744762, 126.64945879392405], \"Total\": [4840.0, 4215.0, 3090.0, 3342.0, 1907.0, 1816.0, 1570.0, 1624.0, 1709.0, 1653.0, 1690.0, 1770.0, 1946.0, 1211.0, 1014.0, 961.0, 1071.0, 914.0, 1024.0, 1543.0, 848.0, 854.0, 853.0, 830.0, 1631.0, 1589.0, 1253.0, 757.0, 845.0, 727.0, 8.645297215881646, 1.0806621519852058, 94.01760722271291, 1.0806621519852058, 21.613243039704116, 205.3258088771891, 87.53363431080167, 19.451918735733706, 853.7231000683125, 1.0806621519852058, 25.93589164764494, 1.0806621519852058, 4.322648607940823, 3.2419864559556175, 7.564635063896441, 82.13032355087564, 39.98449962345261, 15.129270127792882, 7.564635063896441, 7.564635063896441, 8.645297215881646, 1.0806621519852058, 47.54913468734906, 16.209932279778087, 3.2419864559556175, 1.0806621519852058, 127.51813393425428, 1.0806621519852058, 4.322648607940823, 67.00105342308275, 361.9792690810417, 197.76117381329266, 161.01866064579568, 153.45402558189923, 149.13137697395842, 232.32149551040396, 142.64740406204717, 100.50158013462413, 61.59774266315673, 59.43641835918632, 59.43641835918632, 58.35575620720112, 56.19443190323071, 54.03310759926029, 49.71045899131947, 47.54913468734906, 46.46847253536385, 44.307148231393434, 41.06516177543782, 41.06516177543782, 38.90383747146741, 220.86344145660456, 545.1415050321582, 69.05032777699273, 332.6449232753737, 279.7770213636639, 69.19489642249412, 737.5564051080718, 67.01092995924074, 168.8214093476429, 183.6089516555591, 280.26973302588345, 629.027073733926, 586.0358723416128, 1162.0522028135515, 400.63734281714204, 361.4280917782965, 4215.824370419154, 194.9645078411352, 281.62228957694384, 1687.0355047079192, 1142.9007640108284, 1543.0576759222176, 1709.9337944385998, 1110.4022976534218, 731.3460113229453, 1508.8551983704829, 993.364446208645, 1485.8413302706708, 1180.090100961405, 1760.711209456967, 892.2231261021869, 749.6357194662207, 906.9872095402834, 90.22069069120278, 8.910685500365707, 13.366028250548561, 120.29425425493704, 2.2276713750914268, 1.1138356875457134, 1.1138356875457134, 1.1138356875457134, 247.2715226351484, 2.2276713750914268, 21.162878063368552, 102.47288325420563, 1570.5083194394558, 4.4553427501828535, 22.27671375091427, 54.577948689739955, 7.7968498128199935, 212.74261632123125, 235.0193300721455, 118.06658287984563, 83.5376765659285, 4.4553427501828535, 72.39931969047137, 26.732056501097123, 14.479863938094274, 147.02631075603415, 1.1138356875457134, 5.569178437728567, 7.7968498128199935, 52.35027731464853, 705.0579902164366, 659.3907270270623, 604.8127783373224, 610.3487832394904, 274.0035791362455, 124.7495970051199, 123.6357613175742, 119.18041856739134, 115.8389115047542, 100.24521187911421, 100.24521187911421, 98.01754050402278, 91.3345263787485, 83.5376765659285, 80.19616950329136, 80.19616950329136, 75.74082675310851, 74.6269910655628, 70.17164831537994, 128.0116918977669, 344.2259134357581, 239.5418071749626, 470.14988234391535, 211.31615429212943, 194.57300528128783, 291.06475832618344, 707.9336487445862, 2060.075138992014, 1126.6709240661194, 751.0804599676887, 331.9016261199472, 3342.9592319171315, 1162.0522028135515, 1508.8551983704829, 881.5303051295482, 1485.8413302706708, 713.5732357442176, 1400.1501191319962, 892.2231261021869, 47.154204996943115, 126.45900430998381, 24.64878897567481, 1.0716864772032526, 830.5570198325207, 7.501805340422768, 38.580713179317094, 19.290356589658547, 1.0716864772032526, 1.0716864772032526, 43.93914556533336, 914.1485650543746, 5.358432386016263, 369.73183463512214, 1.0716864772032526, 294.7137812308945, 103.95358828871551, 16.07529715804879, 1.0716864772032526, 50.369264428552874, 58.942756246178895, 83.5915452218537, 7.501805340422768, 8.57349181762602, 77.16142635863419, 50.369264428552874, 12.860237726439031, 2.143372954406505, 11.788551249235779, 5.358432386016263, 854.1009705800726, 291.49872179928474, 142.53430146803262, 125.38731783278055, 125.38731783278055, 90.02166408507323, 88.94997760786997, 81.44817226744719, 80.37648579024395, 72.87468044982118, 70.73130749541468, 64.30118863219516, 62.15781567778865, 57.87106976897564, 56.79938329177239, 55.727696814569136, 53.58432386016263, 48.22589147414637, 83.56745760785171, 629.06208341315, 65.29125324474452, 356.66738933551613, 645.0127027859409, 65.34878749539642, 109.2219249080181, 1770.536446465127, 610.1908750753602, 216.7687090817907, 451.7928482362663, 253.35920250214224, 441.73836019311113, 684.3169061740209, 1589.6160387294758, 854.3274098770668, 1205.5867774787569, 253.02930458809817, 749.4376688671856, 1631.8190040815214, 282.40505409592026, 228.01926751238761, 378.945528677986, 1489.856261118257, 717.9567842287572, 2060.075138992014, 1485.8413302706708, 1760.711209456967, 751.0804599676887, 545.4823343256361, 1180.090100961405, 664.1061251342032, 22.771486088635136, 22.771486088635136, 66.3343290408067, 22.771486088635136, 61.38400597805993, 1211.839085760409, 11.880775350592245, 13.860904575690952, 8.910581512944185, 6.930452287845476, 110.88723660552762, 0.9900646125493537, 0.9900646125493537, 84.15549206669507, 12.870839963141599, 34.65226143922738, 5.940387675296122, 42.57277833962221, 19.801292250987075, 1.9801292250987075, 92.07600896708989, 62.37407059060929, 0.9900646125493537, 4.950323062746769, 40.5926491145235, 69.30452287845476, 287.1187376393126, 199.99305173496947, 13.860904575690952, 0.9900646125493537, 363.3537128056128, 259.3969284879307, 166.33085490829146, 87.12568590434313, 84.15549206669507, 83.16542745414573, 82.17536284159637, 79.2051690039483, 69.30452287845476, 68.31445826590542, 138.65751587064364, 62.37407059060929, 58.41381214041187, 46.533036789819626, 46.533036789819626, 41.582713727072864, 39.60258450197415, 39.60258450197415, 77.31563731828545, 845.7233504480861, 114.3193412076006, 1071.3240291817297, 148.3166201867818, 554.6852860537977, 427.9813888964236, 1690.438474946889, 131.74961309701538, 1770.536446465127, 472.82008423368154, 375.3839336198437, 1946.7576969319543, 666.1049897961618, 162.11832880352154, 212.24576423507992, 382.6408204185553, 339.5929360805637, 1631.8190040815214, 907.2817433152026, 242.21624485679115, 416.7113994432744, 316.7010978353321, 539.287586359464, 314.47216726970055, 1589.6160387294758, 256.45869540642, 881.5303051295482, 854.3274098770668, 744.2359667488394, 497.9180301472428, 1110.4022976534218, 212.80277094290372, 51.55531048616739, 38.392252489699125, 12.066136496762581, 54.84607498528447, 12.066136496762581, 12.066136496762581, 93.23832747498359, 12.066136496762581, 16.45382249558534, 32.90764499117068, 16.45382249558534, 12.066136496762581, 76.78450497939825, 48.264545987050326, 16.45382249558534, 16.45382249558534, 38.392252489699125, 24.132272993525163, 65.81528998234135, 12.066136496762581, 12.066136496762581, 264.3580814290711, 16.45382249558534, 12.066136496762581, 12.066136496762581, 12.066136496762581, 16.45382249558534, 44.97378148793326, 12.066136496762581, 1907.5464879881936, 615.3729613348918, 242.41965143495736, 235.83812243672318, 228.1596719387834, 225.96582893937202, 304.92791757046115, 143.6967164614453, 139.30903046262253, 138.21210896291686, 125.04905096644858, 192.951327061045, 284.5213263722124, 105.30446397174617, 182.07764787150293, 92.1414059752779, 92.1414059752779, 91.04448447557222, 91.04448447557222, 86.65679847674944, 81.17219097822101, 78.97834797880964, 77.88142647910394, 75.68758347969256, 71.2998974808698, 70.20297598116412, 154.59167843023064, 153.60283833447656, 171.08579071516306, 96.47028079237796, 439.01113265226877, 87.71659346231937, 552.4705845102428, 608.8840794809914, 259.10747028411834, 257.7115586900502, 320.02852075697365, 284.3739772643367, 1760.711209456967, 676.5579297438638, 243.2055922043927, 1687.0355047079192, 1508.8551983704829, 713.5732357442176, 1624.6587406981625, 694.5992279061982, 731.3460113229453, 811.1019581100122, 453.00478588082956, 1.0385347262834854, 13.500951441685311, 63.350618303292606, 11.423881989118339, 1.0385347262834854, 29.07897233593759, 164.0884867527907, 16.616555620535767, 12.462416715401824, 7.269743083984397, 22.847763978236678, 14.539486167968795, 55.042340493024724, 20.770694525669708, 29.07897233593759, 9.346812536551369, 61.27354885072564, 1.0385347262834854, 15.57802089425228, 87.23691700781278, 221.2078966983824, 9.346812536551369, 2.077069452566971, 7.269743083984397, 45.695527956473356, 74.77450029241095, 663.6236900951471, 69.58182666099351, 4.154138905133942, 51.92673631417427, 203.55280635156313, 195.24452854129524, 186.93625073102734, 163.04995202650719, 153.70313948995584, 133.9709796905696, 128.7783060591522, 126.70123660658521, 111.12321571233292, 77.8901044712614, 76.85156974497792, 62.31208357700912, 59.19647939815866, 57.11940994559169, 52.96527104045775, 175.53049701574457, 51.92673631417427, 51.92673631417427, 50.888201587890784, 48.81113213532381, 146.8852021735448, 245.4927463249077, 66.51328817592376, 64.42230478049586, 4215.824370419154, 248.91886569588848, 291.3203399209738, 132.0208081548515, 408.81635604992516, 683.1469052131054, 86.24052379318256, 117.22572829284374, 182.16371941379623, 173.26056321508582, 436.18992228645675, 339.82223579998686, 195.02395714023527, 367.9335703354726, 1508.8551983704829, 811.1019581100122, 664.1061251342032, 2060.075138992014, 1687.0355047079192, 292.7850087259593, 906.9872095402834, 1400.1501191319962, 852.6681480078041, 466.68810185187493, 539.287586359464, 737.5564051080718, 1253.9277931697577, 164.47333929133515, 394.11536018867093, 17.585199798444638, 757.1980148506749, 20.688470351111334, 23.791740903778038, 42.41136421977824, 281.3631967751142, 75.51291678155638, 653.7556630951183, 10.344235175555667, 52.75559939533391, 17.585199798444638, 1.0344235175555667, 5.172117587777834, 13.44750572822237, 121.02755155400133, 23.791740903778038, 6.206541105333401, 187.2306566775576, 1.0344235175555667, 26.89501145644474, 8.275388140444534, 12.413082210666802, 221.3666327568913, 36.204823114444835, 25.86058793888917, 163.43891577377957, 4.137694070222267, 73.44406974644525, 305.1549376788922, 296.8795495384477, 172.74872743177966, 169.64545687911297, 167.57660984400184, 162.404492256224, 146.8881394928905, 124.13082210666803, 109.64889286089009, 101.37350472044555, 82.75388140444534, 81.71945788688978, 80.6850343693342, 79.65061085177865, 149.99552125428508, 73.44406974644525, 72.40964622888967, 69.30637567622297, 65.16868160600072, 156.27259779258887, 103.11517201901239, 363.5387495303558, 1709.9337944385998, 82.70952249943915, 707.1452886808229, 146.60890711976472, 1543.0576759222176, 1631.8190040815214, 1589.6160387294758, 777.8796434138594, 250.96313457891065, 1180.090100961405, 906.9872095402834, 594.615701595585, 1485.8413302706708, 881.5303051295482, 462.46939391956505, 1400.1501191319962, 744.2359667488394, 1489.856261118257, 993.364446208645, 666.1049897961618, 586.0759932227984, 1126.6709240661194, 368.0726367314121, 92.01815918285303, 100.73566900017595, 79.42620055783102, 12.591958625021993, 12.591958625021993, 133.66848386561807, 12.591958625021993, 12.591958625021993, 12.591958625021993, 12.591958625021993, 12.591958625021993, 12.591958625021993, 50.36783450008797, 12.591958625021993, 39.71310027891551, 12.591958625021993, 12.591958625021993, 12.591958625021993, 24.21530504811922, 9.686122019247687, 0.9686122019247687, 154.977952307963, 10.654734221172456, 727.4277636455013, 10.654734221172456, 51.336446702012736, 110.42179101942362, 13.560570826946762, 10.654734221172456, 307.12905467142815, 164.66407432721067, 243.14311509374153, 152.07211570218868, 124.95097404829515, 119.13930083674656, 118.17068863482177, 112.35901542327316, 111.39040322134841, 190.89559044045592, 108.4845666155741, 104.61011780787503, 78.45758835590627, 72.64591514435766, 71.67730294243287, 138.58146739960063, 64.89701752895951, 60.05395651933566, 59.085344317410886, 58.11673211548612, 51.336446702012736, 105.72395349542074, 587.9928249790456, 478.2493943406577, 194.57492738525968, 315.95487305634776, 182.82594638123842, 510.49177406414697, 279.81299620265673, 282.5632511882224, 206.20388323303436, 707.9336487445862, 805.8183943403744, 907.2817433152026, 450.8126553213568, 547.9036665894553, 308.9537263016174, 749.6357194662207, 1162.0522028135515, 1690.438474946889, 380.04004981450726, 811.1019581100122, 1205.5867774787569, 749.4376688671856, 1485.8413302706708, 1126.6709240661194, 629.027073733926, 1760.711209456967, 1508.8551983704829, 993.364446208645, 3090.7043959227767, 1.0856004200641998, 1.0856004200641998, 1.0856004200641998, 8.684803360513598, 2.1712008401283995, 4.342401680256799, 4.342401680256799, 4.342401680256799, 4.342401680256799, 4.342401680256799, 1.0856004200641998, 4.342401680256799, 44.50961722263219, 1.0856004200641998, 4.342401680256799, 4.342401680256799, 8.684803360513598, 1.0856004200641998, 1.0856004200641998, 1.0856004200641998, 8.684803360513598, 2.1712008401283995, 1.0856004200641998, 17.369606721027196, 34.73921344205439, 1.0856004200641998, 4.342401680256799, 1.0856004200641998, 4.342401680256799, 432.0689671855515, 404.9289566839465, 373.4465445020847, 336.5361302199019, 306.13931845810436, 255.11609871508693, 238.83209241412393, 237.74649199405974, 226.89048779341775, 146.55605670866697, 83.59123234494338, 142.11811922089535, 66.22162562391618, 138.98508903569908, 51.02321974301739, 123.76976896696026, 46.680818062760586, 46.680818062760586, 43.42401680256799, 43.42401680256799, 41.25281596243959, 40.167215542375395, 36.91041428218279, 33.65361302199019, 33.65361302199019, 32.56801260192599, 32.56801260192599, 381.59283955491014, 97.65242693678942, 275.10867055594673, 667.3209689032603, 1653.7110290968283, 804.7934090416185, 354.285235637954, 315.9701039136871, 676.5579297438638, 1946.7576969319543, 1142.9007640108284, 408.45068203799417, 217.91242472449983, 547.9036665894553, 449.84743514229314, 694.5992279061982, 392.27053508786815, 441.8167851063325, 713.5732357442176, 1760.711209456967, 1687.0355047079192, 389.97814656817883, 1489.856261118257, 93.17920047332564, 17.41667298566834, 0.8708336492834171, 11.320837440684423, 0.8708336492834171, 36.57501326990352, 4.354168246417085, 18.28750663495176, 33.96251232205327, 3.4833345971336684, 29.608344075636182, 0.8708336492834171, 4.354168246417085, 1.7416672985668342, 253.4125919414744, 499.85851468868145, 145.42921943033068, 2.6125009478502514, 50.508351658438194, 4.354168246417085, 75.7625274876573, 204.645907581603, 53.991686255571864, 10.450003791401006, 31.350011374203017, 7.837502843550754, 44.412516113454274, 48.76668435987136, 8.70833649283417, 20.029173933518596, 848.3112053653142, 351.81679431050054, 252.54175829219096, 107.98337251114373, 101.01670331687639, 74.02086018909046, 73.15002653980704, 71.4083592412402, 68.79585829338995, 64.44169004697287, 62.700022748406035, 59.216688151272365, 59.216688151272365, 57.47502085270553, 53.120852606288445, 47.025017061304524, 45.28334976273769, 45.28334976273769, 42.67084881488744, 41.80001516560402, 464.6087313491537, 498.7126920304515, 1024.21356457916, 116.47523482778307, 1624.6587406981625, 214.72930967595767, 336.402992864461, 642.0109313075217, 275.84587387224843, 158.95243362094652, 143.8062548888752, 408.1420143117882, 151.65290647800023, 213.8991255659239, 311.0640819665115, 449.84743514229314, 416.7113994432744, 1110.4022976534218, 594.615701595585, 260.0968635478948, 512.0555729669253, 1205.5867774787569, 1400.1501191319962, 325.674366721376, 850.2472520388822, 832.0636423867749, 892.2231261021869, 805.8183943403744, 136.7135531385199, 43.45159440836678, 84.78359884559373, 5.298974927849608, 7.418564898989452, 1.0597949855699216, 5.298974927849608, 112.33826847041169, 9.538154870129295, 23.315489682538278, 13.777334812408979, 59.348519191915614, 284.025056132739, 147.3115029942191, 1.0597949855699216, 28.614464610387888, 402.7220945165702, 41.33200443722694, 116.57744841269137, 103.85990858585231, 36.03302950937733, 105.97949855699216, 37.09282449494726, 15.896924783548824, 66.76708409090507, 4.239179942279686, 7.418564898989452, 14.837129797978903, 3.1793849567097645, 1.0597949855699216, 1014.223801190415, 722.7801801586866, 395.30352961758075, 310.519930771987, 225.7363319263933, 166.38781273447768, 126.11560328282069, 121.876423340541, 120.81662835497106, 111.27847348484178, 104.91970357142223, 102.8001136002824, 87.9629838023035, 84.78359884559373, 163.22031926940124, 74.18564898989452, 71.00626403318475, 68.8866740620449, 66.76708409090507, 66.76708409090507, 144.1861587394851, 333.20262092534415, 396.81939584209226, 529.5360969292174, 545.4823343256361, 265.41461761734837, 187.19342493796162, 263.9592868623563, 3342.9592319171315, 311.5742183051769, 1253.9277931697577, 255.22658696062098, 854.3274098770668, 707.1452886808229, 642.0109313075217, 2060.075138992014, 317.2692703324546, 552.4705845102428, 264.254382632663, 1.0475988632012598, 29.332768169635276, 4840.954346853022, 69.14152497128315, 24.09477385362898, 24.09477385362898, 961.6957564187567, 170.75861470180536, 579.3221713502968, 38.76115793844662, 1.0475988632012598, 9.428389768811341, 15.713982948018899, 10.4759886320126, 4.190395452805039, 24.09477385362898, 7.333192042408819, 4.190395452805039, 15.713982948018899, 37.713559075245364, 89.0459033721071, 26.1899715800315, 1.0475988632012598, 59.71313520247182, 29.332768169635276, 29.332768169635276, 1.0475988632012598, 111.04547949933355, 47.1419488440567, 1.0475988632012598, 308.0062619035391, 232.5574590854614, 145.61624198497515, 124.66426472094994, 109.99788063613231, 101.61708973052221, 97.42669427771717, 96.37909541451592, 80.66511246649702, 80.66511246649702, 76.47471701369199, 75.42711815049073, 73.3319204240882, 61.808332928874336, 58.66553633927055, 53.42754202326426, 48.18954770725796, 47.1419488440567, 45.04675111765418, 159.21605011615497, 41.9039545280504, 192.71866479209476, 88.03136779768978, 815.4490151832935, 99.49058838463846, 106.85189078764135, 599.1378234594335, 274.63051236541327, 245.16917308344892, 203.96053752326816, 426.28752793375656, 179.69951668172607, 569.528470938691, 119.39368696940379, 352.25621443186344, 1126.6709240661194, 1543.0576759222176, 356.0704289339337, 298.37393584651625, 316.05044499052065, 2060.075138992014, 214.44505266600322, 338.60562516124173, 1400.1501191319962, 382.1172048926217, 339.82223579998686, 787.5303504464769, 1760.711209456967, 731.3460113229453, 852.6681480078041, 20.762206359659682, 102.77292148031543, 32.181419857472505, 7.266772225880888, 164.0214302413115, 11.419213497812825, 21.800316677642666, 14.533544451761776, 291.70899935321853, 11.419213497812825, 676.8479273249056, 103.8110317982984, 98.62048020838348, 39.44819208335339, 21.800316677642666, 17.647875405710728, 36.33386112940444, 134.95434133778792, 14.533544451761776, 28.02897858554057, 28.02897858554057, 101.73481116233243, 7.266772225880888, 260.565689813729, 13.495434133778794, 133.91623101980494, 53.981736535115175, 42.56252303730235, 5.190551589914921, 7.266772225880888, 337.3858533444698, 1816.3739696112611, 137.0305619737539, 215.96949797446288, 119.38268656804317, 82.01071512065575, 82.01071512065575, 143.09194721295222, 74.74394289477486, 68.51528098687695, 59.17228812503009, 55.01984685309815, 52.943626217132184, 51.9055158991492, 51.9055158991492, 43.60063335528533, 42.56252303730235, 41.524412719319365, 177.50580397380804, 104.09597241078572, 62.37172274698349, 358.67056935150777, 3342.9592319171315, 401.280549251591, 108.20200441368665, 210.51016699073173, 1253.9277931697577, 155.61700408590735, 246.0588830848988, 787.5303504464769, 193.83292841613599, 260.6579359364568, 434.2287154887797, 1489.856261118257, 383.15792723546133, 1653.7110290968283, 378.945528677986, 850.2472520388822, 415.7720652152615, 402.4517661501716], \"Category\": [\"Default\", \"Default\", \"Default\", \"Default\", \"Default\", \"Default\", \"Default\", \"Default\", \"Default\", \"Default\", \"Default\", \"Default\", \"Default\", \"Default\", \"Default\", \"Default\", \"Default\", \"Default\", \"Default\", \"Default\", \"Default\", \"Default\", \"Default\", \"Default\", \"Default\", \"Default\", \"Default\", \"Default\", \"Default\", \"Default\", \"Topic1\", \"Topic1\", \"Topic1\", \"Topic1\", \"Topic1\", \"Topic1\", \"Topic1\", \"Topic1\", \"Topic1\", \"Topic1\", \"Topic1\", \"Topic1\", \"Topic1\", \"Topic1\", \"Topic1\", \"Topic1\", \"Topic1\", \"Topic1\", \"Topic1\", \"Topic1\", \"Topic1\", \"Topic1\", \"Topic1\", \"Topic1\", \"Topic1\", \"Topic1\", \"Topic1\", \"Topic1\", \"Topic1\", \"Topic1\", \"Topic1\", \"Topic1\", \"Topic1\", \"Topic1\", \"Topic1\", \"Topic1\", \"Topic1\", \"Topic1\", \"Topic1\", \"Topic1\", \"Topic1\", \"Topic1\", \"Topic1\", \"Topic1\", \"Topic1\", \"Topic1\", \"Topic1\", \"Topic1\", \"Topic1\", \"Topic1\", \"Topic1\", \"Topic1\", \"Topic1\", \"Topic1\", \"Topic1\", \"Topic1\", \"Topic1\", \"Topic1\", \"Topic1\", \"Topic1\", \"Topic1\", \"Topic1\", \"Topic1\", \"Topic1\", \"Topic1\", \"Topic1\", \"Topic1\", \"Topic1\", \"Topic1\", \"Topic1\", \"Topic1\", \"Topic1\", \"Topic1\", \"Topic1\", \"Topic1\", \"Topic1\", \"Topic1\", \"Topic1\", \"Topic1\", \"Topic1\", \"Topic1\", \"Topic1\", \"Topic1\", \"Topic1\", \"Topic2\", \"Topic2\", \"Topic2\", \"Topic2\", \"Topic2\", \"Topic2\", \"Topic2\", \"Topic2\", \"Topic2\", \"Topic2\", \"Topic2\", \"Topic2\", \"Topic2\", \"Topic2\", \"Topic2\", \"Topic2\", \"Topic2\", \"Topic2\", \"Topic2\", \"Topic2\", \"Topic2\", \"Topic2\", \"Topic2\", \"Topic2\", \"Topic2\", \"Topic2\", \"Topic2\", \"Topic2\", \"Topic2\", \"Topic2\", \"Topic2\", \"Topic2\", \"Topic2\", \"Topic2\", \"Topic2\", \"Topic2\", \"Topic2\", \"Topic2\", \"Topic2\", \"Topic2\", \"Topic2\", \"Topic2\", \"Topic2\", \"Topic2\", \"Topic2\", \"Topic2\", \"Topic2\", \"Topic2\", \"Topic2\", \"Topic2\", \"Topic2\", \"Topic2\", \"Topic2\", \"Topic2\", \"Topic2\", \"Topic2\", \"Topic2\", \"Topic2\", \"Topic2\", \"Topic2\", \"Topic2\", \"Topic2\", \"Topic2\", \"Topic2\", \"Topic2\", \"Topic2\", \"Topic2\", \"Topic2\", \"Topic2\", \"Topic3\", \"Topic3\", \"Topic3\", \"Topic3\", \"Topic3\", \"Topic3\", \"Topic3\", \"Topic3\", \"Topic3\", \"Topic3\", \"Topic3\", \"Topic3\", \"Topic3\", \"Topic3\", \"Topic3\", \"Topic3\", \"Topic3\", \"Topic3\", \"Topic3\", \"Topic3\", \"Topic3\", \"Topic3\", \"Topic3\", \"Topic3\", \"Topic3\", \"Topic3\", \"Topic3\", \"Topic3\", \"Topic3\", \"Topic3\", \"Topic3\", \"Topic3\", \"Topic3\", \"Topic3\", \"Topic3\", \"Topic3\", \"Topic3\", \"Topic3\", \"Topic3\", \"Topic3\", \"Topic3\", \"Topic3\", \"Topic3\", \"Topic3\", \"Topic3\", \"Topic3\", \"Topic3\", \"Topic3\", \"Topic3\", \"Topic3\", \"Topic3\", \"Topic3\", \"Topic3\", \"Topic3\", \"Topic3\", \"Topic3\", \"Topic3\", \"Topic3\", \"Topic3\", \"Topic3\", \"Topic3\", \"Topic3\", \"Topic3\", \"Topic3\", \"Topic3\", \"Topic3\", \"Topic3\", \"Topic3\", \"Topic3\", \"Topic3\", \"Topic3\", \"Topic3\", \"Topic3\", \"Topic3\", \"Topic3\", \"Topic3\", \"Topic3\", \"Topic3\", \"Topic3\", \"Topic3\", \"Topic4\", \"Topic4\", \"Topic4\", \"Topic4\", \"Topic4\", \"Topic4\", \"Topic4\", \"Topic4\", \"Topic4\", \"Topic4\", \"Topic4\", \"Topic4\", \"Topic4\", \"Topic4\", \"Topic4\", \"Topic4\", \"Topic4\", \"Topic4\", \"Topic4\", \"Topic4\", \"Topic4\", \"Topic4\", \"Topic4\", \"Topic4\", \"Topic4\", \"Topic4\", \"Topic4\", \"Topic4\", \"Topic4\", \"Topic4\", \"Topic4\", \"Topic4\", \"Topic4\", \"Topic4\", \"Topic4\", \"Topic4\", \"Topic4\", \"Topic4\", \"Topic4\", \"Topic4\", \"Topic4\", \"Topic4\", \"Topic4\", \"Topic4\", \"Topic4\", \"Topic4\", \"Topic4\", \"Topic4\", \"Topic4\", \"Topic4\", \"Topic4\", \"Topic4\", \"Topic4\", \"Topic4\", \"Topic4\", \"Topic4\", \"Topic4\", \"Topic4\", \"Topic4\", \"Topic4\", \"Topic4\", \"Topic4\", \"Topic4\", \"Topic4\", \"Topic4\", \"Topic4\", \"Topic4\", \"Topic4\", \"Topic4\", \"Topic4\", \"Topic4\", \"Topic4\", \"Topic4\", \"Topic4\", \"Topic4\", \"Topic4\", \"Topic4\", \"Topic4\", \"Topic4\", \"Topic4\", \"Topic5\", \"Topic5\", \"Topic5\", \"Topic5\", \"Topic5\", \"Topic5\", \"Topic5\", \"Topic5\", \"Topic5\", \"Topic5\", \"Topic5\", \"Topic5\", \"Topic5\", \"Topic5\", \"Topic5\", \"Topic5\", \"Topic5\", \"Topic5\", \"Topic5\", \"Topic5\", \"Topic5\", \"Topic5\", \"Topic5\", \"Topic5\", \"Topic5\", \"Topic5\", \"Topic5\", \"Topic5\", \"Topic5\", \"Topic5\", \"Topic5\", \"Topic5\", \"Topic5\", \"Topic5\", \"Topic5\", \"Topic5\", \"Topic5\", \"Topic5\", \"Topic5\", \"Topic5\", \"Topic5\", \"Topic5\", \"Topic5\", \"Topic5\", \"Topic5\", \"Topic5\", \"Topic5\", \"Topic5\", \"Topic5\", \"Topic5\", \"Topic5\", \"Topic5\", \"Topic5\", \"Topic5\", \"Topic5\", \"Topic5\", \"Topic5\", \"Topic5\", \"Topic5\", \"Topic5\", \"Topic5\", \"Topic5\", \"Topic5\", \"Topic5\", \"Topic5\", \"Topic5\", \"Topic5\", \"Topic5\", \"Topic5\", \"Topic5\", \"Topic5\", \"Topic5\", \"Topic5\", \"Topic5\", \"Topic5\", \"Topic5\", \"Topic5\", \"Topic5\", \"Topic5\", \"Topic6\", \"Topic6\", \"Topic6\", \"Topic6\", \"Topic6\", \"Topic6\", \"Topic6\", \"Topic6\", \"Topic6\", \"Topic6\", \"Topic6\", \"Topic6\", \"Topic6\", \"Topic6\", \"Topic6\", \"Topic6\", \"Topic6\", \"Topic6\", \"Topic6\", \"Topic6\", \"Topic6\", \"Topic6\", \"Topic6\", \"Topic6\", \"Topic6\", \"Topic6\", \"Topic6\", \"Topic6\", \"Topic6\", \"Topic6\", \"Topic6\", \"Topic6\", \"Topic6\", \"Topic6\", \"Topic6\", \"Topic6\", \"Topic6\", \"Topic6\", \"Topic6\", \"Topic6\", \"Topic6\", \"Topic6\", \"Topic6\", \"Topic6\", \"Topic6\", \"Topic6\", \"Topic6\", \"Topic6\", \"Topic6\", \"Topic6\", \"Topic6\", \"Topic6\", \"Topic6\", \"Topic6\", \"Topic6\", \"Topic6\", \"Topic6\", \"Topic6\", \"Topic6\", \"Topic6\", \"Topic6\", \"Topic6\", \"Topic6\", \"Topic6\", \"Topic6\", \"Topic6\", \"Topic6\", \"Topic6\", \"Topic6\", \"Topic6\", \"Topic6\", \"Topic6\", \"Topic6\", \"Topic6\", \"Topic6\", \"Topic6\", \"Topic6\", \"Topic6\", \"Topic6\", \"Topic6\", \"Topic6\", \"Topic7\", \"Topic7\", \"Topic7\", \"Topic7\", \"Topic7\", \"Topic7\", \"Topic7\", \"Topic7\", \"Topic7\", \"Topic7\", \"Topic7\", \"Topic7\", \"Topic7\", \"Topic7\", \"Topic7\", \"Topic7\", \"Topic7\", \"Topic7\", \"Topic7\", \"Topic7\", \"Topic7\", \"Topic7\", \"Topic7\", \"Topic7\", \"Topic7\", \"Topic7\", \"Topic7\", \"Topic7\", \"Topic7\", \"Topic7\", \"Topic7\", \"Topic7\", \"Topic7\", \"Topic7\", \"Topic7\", \"Topic7\", \"Topic7\", \"Topic7\", \"Topic7\", \"Topic7\", \"Topic7\", \"Topic7\", \"Topic7\", \"Topic7\", \"Topic7\", \"Topic7\", \"Topic7\", \"Topic7\", \"Topic7\", \"Topic7\", \"Topic7\", \"Topic7\", \"Topic7\", \"Topic7\", \"Topic7\", \"Topic7\", \"Topic7\", \"Topic7\", \"Topic7\", \"Topic7\", \"Topic7\", \"Topic7\", \"Topic7\", \"Topic7\", \"Topic7\", \"Topic7\", \"Topic7\", \"Topic7\", \"Topic7\", \"Topic7\", \"Topic7\", \"Topic7\", \"Topic7\", \"Topic7\", \"Topic8\", \"Topic8\", \"Topic8\", \"Topic8\", \"Topic8\", \"Topic8\", \"Topic8\", \"Topic8\", \"Topic8\", \"Topic8\", \"Topic8\", \"Topic8\", \"Topic8\", \"Topic8\", \"Topic8\", \"Topic8\", \"Topic8\", \"Topic8\", \"Topic8\", \"Topic8\", \"Topic8\", \"Topic8\", \"Topic8\", \"Topic8\", \"Topic8\", \"Topic8\", \"Topic8\", \"Topic8\", \"Topic8\", \"Topic8\", \"Topic8\", \"Topic8\", \"Topic8\", \"Topic8\", \"Topic8\", \"Topic8\", \"Topic8\", \"Topic8\", \"Topic8\", \"Topic8\", \"Topic8\", \"Topic8\", \"Topic8\", \"Topic8\", \"Topic8\", \"Topic8\", \"Topic8\", \"Topic8\", \"Topic8\", \"Topic8\", \"Topic8\", \"Topic8\", \"Topic8\", \"Topic8\", \"Topic8\", \"Topic8\", \"Topic8\", \"Topic8\", \"Topic8\", \"Topic8\", \"Topic8\", \"Topic8\", \"Topic8\", \"Topic8\", \"Topic8\", \"Topic8\", \"Topic8\", \"Topic8\", \"Topic8\", \"Topic8\", \"Topic8\", \"Topic8\", \"Topic8\", \"Topic8\", \"Topic8\", \"Topic8\", \"Topic8\", \"Topic8\", \"Topic8\", \"Topic8\", \"Topic9\", \"Topic9\", \"Topic9\", \"Topic9\", \"Topic9\", \"Topic9\", \"Topic9\", \"Topic9\", \"Topic9\", \"Topic9\", \"Topic9\", \"Topic9\", \"Topic9\", \"Topic9\", \"Topic9\", \"Topic9\", \"Topic9\", \"Topic9\", \"Topic9\", \"Topic9\", \"Topic9\", \"Topic9\", \"Topic9\", \"Topic9\", \"Topic9\", \"Topic9\", \"Topic9\", \"Topic9\", \"Topic9\", \"Topic9\", \"Topic9\", \"Topic9\", \"Topic9\", \"Topic9\", \"Topic9\", \"Topic9\", \"Topic9\", \"Topic9\", \"Topic9\", \"Topic9\", \"Topic9\", \"Topic9\", \"Topic9\", \"Topic9\", \"Topic9\", \"Topic9\", \"Topic9\", \"Topic9\", \"Topic9\", \"Topic9\", \"Topic9\", \"Topic9\", \"Topic9\", \"Topic9\", \"Topic9\", \"Topic9\", \"Topic9\", \"Topic9\", \"Topic9\", \"Topic9\", \"Topic9\", \"Topic9\", \"Topic9\", \"Topic9\", \"Topic9\", \"Topic9\", \"Topic9\", \"Topic9\", \"Topic9\", \"Topic9\", \"Topic9\", \"Topic9\", \"Topic9\", \"Topic9\", \"Topic9\", \"Topic9\", \"Topic9\", \"Topic9\", \"Topic9\", \"Topic9\", \"Topic10\", \"Topic10\", \"Topic10\", \"Topic10\", \"Topic10\", \"Topic10\", \"Topic10\", \"Topic10\", \"Topic10\", \"Topic10\", \"Topic10\", \"Topic10\", \"Topic10\", \"Topic10\", \"Topic10\", \"Topic10\", \"Topic10\", \"Topic10\", \"Topic10\", \"Topic10\", \"Topic10\", \"Topic10\", \"Topic10\", \"Topic10\", \"Topic10\", \"Topic10\", \"Topic10\", \"Topic10\", \"Topic10\", \"Topic10\", \"Topic10\", \"Topic10\", \"Topic10\", \"Topic10\", \"Topic10\", \"Topic10\", \"Topic10\", \"Topic10\", \"Topic10\", \"Topic10\", \"Topic10\", \"Topic10\", \"Topic10\", \"Topic10\", \"Topic10\", \"Topic10\", \"Topic10\", \"Topic10\", \"Topic10\", \"Topic10\", \"Topic10\", \"Topic10\", \"Topic10\", \"Topic10\", \"Topic10\", \"Topic10\", \"Topic10\", \"Topic10\", \"Topic10\", \"Topic10\", \"Topic10\", \"Topic10\", \"Topic10\", \"Topic10\", \"Topic10\", \"Topic10\", \"Topic10\", \"Topic10\", \"Topic10\", \"Topic10\", \"Topic10\", \"Topic10\", \"Topic10\", \"Topic10\", \"Topic10\", \"Topic10\", \"Topic10\", \"Topic10\", \"Topic11\", \"Topic11\", \"Topic11\", \"Topic11\", \"Topic11\", \"Topic11\", \"Topic11\", \"Topic11\", \"Topic11\", \"Topic11\", \"Topic11\", \"Topic11\", \"Topic11\", \"Topic11\", \"Topic11\", \"Topic11\", \"Topic11\", \"Topic11\", \"Topic11\", \"Topic11\", \"Topic11\", \"Topic11\", \"Topic11\", \"Topic11\", \"Topic11\", \"Topic11\", \"Topic11\", \"Topic11\", \"Topic11\", \"Topic11\", \"Topic11\", \"Topic11\", \"Topic11\", \"Topic11\", \"Topic11\", \"Topic11\", \"Topic11\", \"Topic11\", \"Topic11\", \"Topic11\", \"Topic11\", \"Topic11\", \"Topic11\", \"Topic11\", \"Topic11\", \"Topic11\", \"Topic11\", \"Topic11\", \"Topic11\", \"Topic11\", \"Topic11\", \"Topic11\", \"Topic11\", \"Topic11\", \"Topic11\", \"Topic11\", \"Topic11\", \"Topic11\", \"Topic11\", \"Topic11\", \"Topic11\", \"Topic11\", \"Topic11\", \"Topic11\", \"Topic11\", \"Topic11\", \"Topic11\", \"Topic11\", \"Topic11\", \"Topic12\", \"Topic12\", \"Topic12\", \"Topic12\", \"Topic12\", \"Topic12\", \"Topic12\", \"Topic12\", \"Topic12\", \"Topic12\", \"Topic12\", \"Topic12\", \"Topic12\", \"Topic12\", \"Topic12\", \"Topic12\", \"Topic12\", \"Topic12\", \"Topic12\", \"Topic12\", \"Topic12\", \"Topic12\", \"Topic12\", \"Topic12\", \"Topic12\", \"Topic12\", \"Topic12\", \"Topic12\", \"Topic12\", \"Topic12\", \"Topic12\", \"Topic12\", \"Topic12\", \"Topic12\", \"Topic12\", \"Topic12\", \"Topic12\", \"Topic12\", \"Topic12\", \"Topic12\", \"Topic12\", \"Topic12\", \"Topic12\", \"Topic12\", \"Topic12\", \"Topic12\", \"Topic12\", \"Topic12\", \"Topic12\", \"Topic12\", \"Topic12\", \"Topic12\", \"Topic12\", \"Topic12\", \"Topic12\", \"Topic12\", \"Topic12\", \"Topic12\", \"Topic12\", \"Topic12\", \"Topic12\", \"Topic12\", \"Topic12\", \"Topic12\", \"Topic12\", \"Topic12\", \"Topic12\", \"Topic12\", \"Topic12\", \"Topic12\", \"Topic12\", \"Topic12\", \"Topic12\", \"Topic12\", \"Topic12\", \"Topic12\", \"Topic12\", \"Topic12\", \"Topic12\", \"Topic12\", \"Topic13\", \"Topic13\", \"Topic13\", \"Topic13\", \"Topic13\", \"Topic13\", \"Topic13\", \"Topic13\", \"Topic13\", \"Topic13\", \"Topic13\", \"Topic13\", \"Topic13\", \"Topic13\", \"Topic13\", \"Topic13\", \"Topic13\", \"Topic13\", \"Topic13\", \"Topic13\", \"Topic13\", \"Topic13\", \"Topic13\", \"Topic13\", \"Topic13\", \"Topic13\", \"Topic13\", \"Topic13\", \"Topic13\", \"Topic13\", \"Topic13\", \"Topic13\", \"Topic13\", \"Topic13\", \"Topic13\", \"Topic13\", \"Topic13\", \"Topic13\", \"Topic13\", \"Topic13\", \"Topic13\", \"Topic13\", \"Topic13\", \"Topic13\", \"Topic13\", \"Topic13\", \"Topic13\", \"Topic13\", \"Topic13\", \"Topic13\", \"Topic13\", \"Topic13\", \"Topic13\", \"Topic13\", \"Topic13\", \"Topic13\", \"Topic13\", \"Topic13\", \"Topic13\", \"Topic13\", \"Topic13\", \"Topic13\", \"Topic13\", \"Topic13\", \"Topic13\", \"Topic13\", \"Topic13\", \"Topic13\", \"Topic13\", \"Topic13\"], \"logprob\": [30.0, 29.0, 28.0, 27.0, 26.0, 25.0, 24.0, 23.0, 22.0, 21.0, 20.0, 19.0, 18.0, 17.0, 16.0, 15.0, 14.0, 13.0, 12.0, 11.0, 10.0, 9.0, 8.0, 7.0, 6.0, 5.0, 4.0, 3.0, 2.0, 1.0, -8.0904, -10.1698, -5.7039, -10.1698, -7.1741, -4.9228, -5.7754, -7.2794, -3.4978, -10.1698, -6.9918, -10.1698, -8.7835, -9.0712, -8.2239, -5.8391, -6.5589, -7.5307, -8.2239, -8.2239, -8.0904, -10.1698, -6.3856, -7.4618, -9.0712, -10.1698, -5.3991, -10.1698, -8.7835, -6.0427, -4.3587, -4.9603, -5.1659, -5.214, -5.2426, -4.8038, -5.287, -5.6372, -6.1268, -6.1625, -6.1625, -6.1808, -6.2186, -6.2578, -6.3412, -6.3856, -6.4086, -6.4562, -6.5322, -6.5322, -6.5863, -4.8765, -4.0086, -6.0267, -4.5422, -4.7231, -6.0427, -3.916, -6.0755, -5.2498, -5.1794, -4.8179, -4.1585, -4.2563, -3.8207, -4.7145, -4.7992, -3.0175, -5.2795, -5.0518, -4.0695, -4.3119, -4.227, -4.227, -4.443, -4.6767, -4.4172, -4.6053, -4.4828, -4.7145, -4.685, -4.8323, -4.8866, -4.8665, -5.7398, -8.0548, -7.6493, -5.4521, -9.4411, -10.1342, -10.1342, -10.1342, -4.7316, -9.4411, -7.1898, -5.6125, -2.8829, -8.7479, -7.1385, -6.2424, -8.1883, -4.882, -4.7824, -5.4708, -5.8168, -8.7479, -5.9599, -6.9562, -7.5693, -5.2514, -10.1342, -8.5248, -8.1883, -6.2841, -3.6838, -3.7507, -3.8371, -3.8298, -4.6289, -5.4157, -5.4247, -5.4614, -5.4899, -5.6344, -5.6344, -5.6569, -5.7275, -5.8168, -5.8576, -5.8576, -5.9147, -5.9295, -5.9911, -5.398, -4.5138, -5.0103, -4.5175, -5.137, -5.2744, -5.0162, -4.8359, -4.4439, -4.7543, -4.9469, -5.314, -4.826, -5.078, -5.0591, -5.2514, -5.2216, -5.3059, -5.3221, -5.4157, -6.3804, -5.3939, -7.0291, -10.1646, -3.5118, -8.2187, -6.5811, -7.2742, -10.1646, -10.1646, -6.451, -3.4159, -8.5552, -4.3211, -10.1646, -4.5478, -5.5899, -7.4566, -10.1646, -6.3145, -6.1573, -5.8079, -8.2187, -8.0852, -5.888, -6.3145, -7.6797, -9.4715, -7.7667, -8.5552, -3.485, -4.5588, -5.2743, -5.4024, -5.4024, -5.7338, -5.7458, -5.8339, -5.8471, -5.9451, -5.975, -6.0703, -6.1042, -6.1756, -6.1943, -6.2134, -6.2526, -6.358, -5.8208, -3.8899, -6.0703, -4.4743, -3.9401, -6.0703, -5.6428, -3.5053, -4.3777, -5.223, -4.7309, -5.1473, -4.771, -4.5298, -4.0269, -4.428, -4.301, -5.2159, -4.7093, -4.3963, -5.2301, -5.3283, -5.1473, -4.7265, -4.9661, -4.6593, -4.7755, -4.7755, -4.9885, -5.1407, -5.1212, -5.1607, -7.1026, -7.1026, -6.0334, -7.1026, -6.1109, -3.1282, -7.7532, -7.599, -8.0408, -8.2922, -5.5196, -10.2381, -10.2381, -5.7954, -7.6731, -6.6827, -8.4463, -6.4769, -7.2423, -9.5449, -5.7055, -6.0949, -10.2381, -8.6286, -6.5245, -5.9896, -4.5682, -4.9298, -7.599, -10.2381, -4.3327, -4.6697, -5.1141, -5.7607, -5.7954, -5.8072, -5.8192, -5.856, -5.9896, -6.004, -5.3036, -6.0949, -6.1605, -6.3879, -6.3879, -6.5004, -6.5492, -6.5492, -5.8943, -3.5995, -5.5285, -3.3816, -5.2893, -4.0477, -4.3437, -3.0944, -5.4589, -3.3879, -4.4855, -4.6812, -3.5166, -4.3273, -5.3629, -5.1818, -4.8768, -4.9754, -4.1047, -4.4666, -5.2208, -4.9348, -5.0964, -4.8399, -5.1201, -4.5821, -5.2208, -4.8768, -4.8957, -4.9702, -5.0507, -5.0396, -4.8673, -6.285, -6.5798, -7.7373, -6.2232, -7.7373, -7.7373, -5.6925, -7.7373, -7.4271, -6.734, -7.4271, -7.7373, -5.8867, -6.351, -7.4271, -7.4271, -6.5798, -7.0442, -6.0408, -7.7373, -7.7373, -4.6504, -7.4271, -7.7373, -7.7373, -7.7373, -7.4271, -6.4216, -7.7373, -2.6741, -3.8055, -4.737, -4.7646, -4.7977, -4.8073, -4.5112, -5.26, -5.291, -5.2989, -5.399, -4.9704, -4.5861, -5.5708, -5.0292, -5.7044, -5.7044, -5.7164, -5.7164, -5.7657, -5.8311, -5.8585, -5.8725, -5.9011, -5.9608, -5.9763, -5.2007, -5.2079, -5.1048, -5.6693, -4.2744, -5.7657, -4.1977, -4.1588, -5.06, -5.1179, -5.0053, -5.0789, -4.3004, -4.7786, -5.2524, -4.4722, -4.5294, -4.9367, -4.7325, -5.0538, -5.0853, -5.1179, -5.2007, -10.1849, -7.62, -6.0741, -7.787, -10.1849, -6.8527, -5.1223, -7.4123, -7.7, -8.239, -7.0939, -7.5459, -6.2146, -7.1892, -6.8527, -7.9877, -6.1074, -10.1849, -7.4769, -5.7541, -4.8236, -7.9877, -9.4918, -8.239, -6.4007, -5.9083, -3.725, -5.9802, -8.7986, -6.2729, -4.9068, -4.9485, -4.992, -5.1287, -5.1877, -5.3251, -5.3647, -5.3809, -5.5121, -5.8674, -5.8809, -6.0906, -6.1419, -6.1776, -6.2531, -5.0669, -6.2729, -6.2729, -6.2931, -6.3348, -5.2797, -4.7959, -6.0418, -6.0741, -2.2747, -4.8866, -4.7556, -5.4575, -4.5289, -4.1761, -5.8411, -5.6102, -5.3174, -5.3566, -4.7868, -4.9538, -5.3174, -4.9755, -4.2035, -4.7169, -4.8097, -4.31, -4.4104, -5.1877, -4.8916, -4.819, -4.9485, -5.1098, -5.1287, -5.1287, -5.1743, -5.1131, -4.2392, -7.3488, -3.5862, -7.1863, -7.0465, -6.4685, -4.5762, -5.8916, -3.7331, -7.8794, -6.2502, -7.3488, -10.182, -8.5726, -7.6171, -5.4199, -7.0465, -8.3903, -4.9835, -10.182, -6.9239, -8.1026, -7.6971, -4.8161, -6.6267, -6.9632, -5.1194, -8.7957, -5.9193, -4.4951, -4.5225, -5.064, -5.0822, -5.0944, -5.1258, -5.2262, -5.3945, -5.5186, -5.5971, -5.8, -5.8126, -5.8253, -5.8382, -5.2122, -5.9193, -5.9335, -5.9773, -6.0389, -5.1916, -5.5971, -4.4455, -3.0471, -5.8126, -4.1229, -5.4029, -3.7363, -3.6989, -3.7268, -4.2849, -5.07, -4.1299, -4.3385, -4.5873, -4.1981, -4.4716, -4.7794, -4.3709, -4.6175, -4.6175, -4.7615, -4.8887, -5.0345, -5.0521, -4.3073, -5.6936, -5.6031, -5.8408, -7.6826, -7.6826, -5.3202, -7.6826, -7.6826, -7.6826, -7.6826, -7.6826, -7.6826, -6.2963, -7.6826, -6.5339, -7.6826, -7.6826, -7.6826, -7.0286, -7.9449, -10.2475, -5.1723, -7.8496, -3.6261, -7.8496, -6.2772, -5.5113, -7.6084, -7.8496, -4.4918, -5.1117, -4.726, -5.1913, -5.3877, -5.4353, -5.4435, -5.4939, -5.5026, -4.9694, -5.529, -5.5654, -5.8531, -5.93, -5.9434, -5.2917, -6.0428, -6.1204, -6.1366, -6.1532, -6.2772, -5.5654, -3.9321, -4.1768, -5.0435, -4.6271, -5.1295, -4.2891, -4.8051, -4.8226, -5.1, -4.1562, -4.1163, -4.1012, -4.6021, -4.5142, -4.9294, -4.4823, -4.3047, -4.1405, -4.8862, -4.5915, -4.4575, -4.7669, -4.6868, -4.8769, -4.99, -4.9442, -4.9592, -4.9952, -2.1734, -10.1274, -10.1274, -10.1274, -8.048, -9.4343, -8.7411, -8.7411, -8.7411, -8.7411, -8.7411, -10.1274, -8.7411, -6.4139, -10.1274, -8.7411, -8.7411, -8.048, -10.1274, -10.1274, -10.1274, -8.048, -9.4343, -10.1274, -7.3548, -6.6617, -10.1274, -8.7411, -10.1274, -8.7411, -4.141, -4.2059, -4.2868, -4.3909, -4.4855, -4.6678, -4.7338, -4.7384, -4.7851, -5.2222, -5.7836, -5.2599, -6.0166, -5.2832, -6.2773, -5.4, -6.3662, -6.3662, -6.4386, -6.4386, -6.4898, -6.5165, -6.6011, -6.6934, -6.6934, -6.7262, -6.7262, -4.3103, -5.6501, -4.6594, -3.8248, -3.0094, -3.7107, -4.5253, -4.7475, -4.1137, -3.3273, -3.7731, -4.7708, -5.2371, -4.6937, -4.8241, -4.5901, -4.9858, -4.94, -4.7475, -4.4575, -4.4891, -5.0094, -4.7899, -5.672, -7.3491, -10.3449, -7.7799, -10.3449, -6.6072, -8.7354, -7.3003, -6.6813, -8.9586, -6.8185, -10.3449, -8.7354, -9.6517, -4.6715, -3.9922, -5.2269, -9.2463, -6.2844, -8.7354, -5.879, -4.8853, -6.2177, -7.86, -6.7613, -8.1476, -6.413, -6.3195, -8.0423, -7.2094, -3.4645, -4.3435, -4.675, -5.5246, -5.5913, -5.9022, -5.914, -5.9381, -5.9754, -6.0408, -6.0682, -6.1254, -6.1254, -6.1552, -6.234, -6.3559, -6.3936, -6.3936, -6.453, -6.4737, -4.091, -4.0241, -3.376, -5.4851, -2.9759, -4.9068, -4.6083, -4.0645, -4.8234, -5.3342, -5.4396, -4.7065, -5.4322, -5.1858, -4.9883, -4.7614, -4.8234, -4.2115, -4.6613, -5.1575, -4.7803, -4.3942, -4.456, -5.1138, -4.7539, -4.9467, -4.9883, -5.1245, -5.288, -6.4342, -5.7658, -8.5384, -8.2019, -10.1478, -8.5384, -5.4844, -7.9506, -7.0568, -7.5829, -6.1225, -4.5568, -5.2133, -10.1478, -6.852, -4.2076, -6.4842, -5.4473, -5.5628, -6.6214, -5.5426, -6.5925, -7.4398, -6.0047, -8.7615, -8.2019, -7.5087, -9.0492, -10.1478, -3.284, -3.6228, -4.2262, -4.4676, -4.7865, -5.0916, -5.3687, -5.4029, -5.4116, -5.4938, -5.5527, -5.5731, -5.729, -5.7658, -5.1174, -5.8993, -5.9431, -5.9734, -6.0047, -6.0047, -5.2425, -4.4988, -4.421, -4.1998, -4.2589, -4.8955, -5.185, -4.9383, -3.1223, -4.8595, -4.2209, -5.1109, -4.5568, -4.8955, -5.0298, -4.7818, -5.2958, -5.3036, -5.352, -10.1504, -6.8182, -1.7121, -5.9608, -7.0149, -7.0149, -3.3282, -5.0567, -3.8351, -6.5395, -10.1504, -7.9532, -7.4424, -7.8478, -8.7641, -7.0149, -8.2045, -8.7641, -7.4424, -6.5669, -5.7078, -6.9315, -10.1504, -6.1074, -6.8182, -6.8182, -10.1504, -5.487, -6.3438, -10.1504, -4.4703, -4.7523, -5.216, -5.3713, -5.4965, -5.5757, -5.6178, -5.6286, -5.8066, -5.8066, -5.86, -5.8738, -5.9019, -6.0729, -6.1251, -6.2186, -6.3218, -6.3438, -6.3892, -5.1398, -6.4615, -4.9519, -5.7316, -3.6254, -5.6286, -5.5757, -4.0412, -4.7986, -4.9355, -5.107, -4.6052, -5.2452, -4.44, -5.5655, -4.8672, -4.192, -4.0705, -4.9575, -5.0815, -5.0567, -4.2896, -5.2906, -5.107, -4.5669, -5.0942, -5.216, -5.0265, -4.8672, -5.0942, -5.0878, -7.1583, -5.5589, -6.7201, -8.2081, -5.0915, -7.7562, -7.1095, -7.515, -4.5157, -7.7562, -3.674, -5.5489, -5.6002, -6.5165, -7.1095, -7.3208, -6.5987, -5.2865, -7.515, -6.8582, -6.8582, -5.5691, -8.2081, -4.6286, -7.5891, -5.2942, -6.2028, -6.4405, -8.5446, -8.2081, -4.3702, -2.7092, -5.2712, -4.8213, -5.4091, -5.7846, -5.7846, -5.2341, -5.8774, -5.9644, -6.111, -6.1838, -6.2222, -6.242, -6.242, -6.4164, -6.4405, -6.4652, -5.0301, -5.6108, -6.0936, -4.5519, -2.629, -4.4911, -5.6215, -5.0789, -3.6393, -5.3419, -4.995, -4.4337, -5.3099, -5.1501, -4.8914, -4.3105, -5.0603, -4.5016, -5.0789, -4.8213, -5.1434, -5.35], \"loglift\": [30.0, 29.0, 28.0, 27.0, 26.0, 25.0, 24.0, 23.0, 22.0, 21.0, 20.0, 19.0, 18.0, 17.0, 16.0, 15.0, 14.0, 13.0, 12.0, 11.0, 10.0, 9.0, 8.0, 7.0, 6.0, 5.0, 4.0, 3.0, 2.0, 1.0, 2.5364, 2.5364, 2.5364, 2.5364, 2.5364, 2.5364, 2.5364, 2.5364, 2.5364, 2.5364, 2.5364, 2.5364, 2.5364, 2.5364, 2.5364, 2.5364, 2.5364, 2.5364, 2.5364, 2.5364, 2.5364, 2.5364, 2.5364, 2.5364, 2.5364, 2.5364, 2.5364, 2.5364, 2.5364, 2.5364, 2.5336, 2.5364, 2.5364, 2.5364, 2.5364, 2.5319, 2.5364, 2.5364, 2.5364, 2.5364, 2.5364, 2.5364, 2.5364, 2.5364, 2.5364, 2.5364, 2.5364, 2.5364, 2.5364, 2.5364, 2.5364, 2.5098, 2.4742, 2.5223, 2.4346, 2.4268, 2.5042, 2.2645, 2.5035, 2.4052, 2.3916, 2.3301, 2.1811, 2.1541, 1.9052, 2.0763, 2.0946, 1.4197, 2.2316, 2.0914, 1.2836, 1.4306, 1.2153, 1.1126, 1.3284, 1.5122, 1.0475, 1.2774, 0.9973, 0.996, 0.6253, 1.1578, 1.2776, 1.1072, 2.5418, 2.5418, 2.5418, 2.5418, 2.5418, 2.5418, 2.5418, 2.5418, 2.5418, 2.5418, 2.5418, 2.5418, 2.5418, 2.5418, 2.5418, 2.5418, 2.5418, 2.5418, 2.5418, 2.5418, 2.5418, 2.5418, 2.5418, 2.5418, 2.5418, 2.5418, 2.5418, 2.5418, 2.5418, 2.5418, 2.5418, 2.5418, 2.5418, 2.54, 2.5418, 2.5418, 2.5418, 2.5418, 2.5418, 2.5418, 2.5418, 2.5418, 2.5418, 2.5418, 2.5418, 2.5418, 2.5418, 2.5418, 2.5418, 2.5337, 2.4287, 2.2948, 2.1133, 2.2934, 2.2386, 2.094, 1.3856, 0.7094, 1.0025, 1.2155, 1.665, -0.1568, 0.6479, 0.4057, 0.7507, 0.2585, 0.9076, 0.2174, 0.5744, 2.55, 2.55, 2.55, 2.55, 2.55, 2.55, 2.55, 2.55, 2.55, 2.55, 2.55, 2.55, 2.55, 2.55, 2.55, 2.55, 2.55, 2.55, 2.55, 2.55, 2.55, 2.55, 2.55, 2.55, 2.55, 2.55, 2.55, 2.55, 2.55, 2.55, 2.5488, 2.55, 2.55, 2.55, 2.55, 2.55, 2.55, 2.55, 2.55, 2.55, 2.55, 2.55, 2.55, 2.55, 2.55, 2.55, 2.55, 2.55, 2.5374, 2.4497, 2.5347, 2.4328, 2.3745, 2.5338, 2.4476, 1.7995, 1.9923, 2.182, 1.9397, 2.1017, 1.9221, 1.7256, 1.3857, 1.6055, 1.3881, 2.0345, 1.4552, 0.9901, 1.9103, 2.0261, 1.6991, 0.7508, 1.2413, 0.494, 0.7045, 0.5348, 1.1738, 1.3414, 0.5893, 1.1247, 2.5557, 2.5557, 2.5557, 2.5557, 2.5557, 2.5557, 2.5557, 2.5557, 2.5557, 2.5557, 2.5557, 2.5557, 2.5557, 2.5557, 2.5557, 2.5557, 2.5557, 2.5557, 2.5557, 2.5557, 2.5557, 2.5557, 2.5557, 2.5557, 2.5557, 2.5557, 2.5557, 2.5557, 2.5557, 2.5557, 2.5557, 2.5557, 2.5557, 2.5557, 2.5557, 2.5557, 2.5557, 2.5557, 2.5557, 2.5557, 2.5482, 2.5557, 2.5557, 2.5557, 2.5557, 2.5557, 2.5557, 2.5557, 2.5417, 2.4441, 2.5163, 2.4256, 2.4952, 2.4177, 2.3811, 2.2566, 2.444, 1.9168, 2.1396, 2.1746, 1.6933, 1.9551, 2.3326, 2.2443, 1.96, 1.9807, 1.2817, 1.5067, 2.0732, 1.8167, 1.9295, 1.6537, 1.9129, 0.8305, 2.0161, 1.1254, 1.1378, 1.2013, 1.5227, 0.7318, 2.5561, 2.5561, 2.5561, 2.5561, 2.5561, 2.5561, 2.5561, 2.5561, 2.5561, 2.5561, 2.5561, 2.5561, 2.5561, 2.5561, 2.5561, 2.5561, 2.5561, 2.5561, 2.5561, 2.5561, 2.5561, 2.5561, 2.5561, 2.5561, 2.5561, 2.5561, 2.5561, 2.5561, 2.5561, 2.5561, 2.5561, 2.5561, 2.5561, 2.5561, 2.5561, 2.5561, 2.5526, 2.5561, 2.5561, 2.5561, 2.5561, 2.551, 2.5469, 2.5561, 2.5501, 2.5561, 2.5561, 2.5561, 2.5561, 2.5561, 2.5561, 2.5561, 2.5561, 2.5561, 2.5561, 2.5561, 2.5423, 2.5415, 2.5369, 2.5453, 2.4249, 2.544, 2.2718, 2.2134, 2.1666, 2.1141, 2.0101, 2.0546, 1.01, 1.4882, 2.0375, 0.8809, 0.9353, 1.2768, 0.6583, 1.1867, 1.1036, 0.9675, 1.4672, 2.5611, 2.5611, 2.5611, 2.5611, 2.5611, 2.5611, 2.5611, 2.5611, 2.5611, 2.5611, 2.5611, 2.5611, 2.5611, 2.5611, 2.5611, 2.5611, 2.5611, 2.5611, 2.5611, 2.5611, 2.5611, 2.5611, 2.5611, 2.5611, 2.5611, 2.5611, 2.5611, 2.5611, 2.5611, 2.5611, 2.5611, 2.5611, 2.5611, 2.5611, 2.5611, 2.5611, 2.5611, 2.5611, 2.5611, 2.5611, 2.5611, 2.5611, 2.5611, 2.5611, 2.5611, 2.5491, 2.5611, 2.5611, 2.5611, 2.5611, 2.5145, 2.4847, 2.5446, 2.5443, 2.1625, 2.3801, 2.3538, 2.4433, 2.2416, 2.081, 2.4856, 2.4095, 2.2615, 2.2724, 1.919, 2.0016, 2.1933, 1.9005, 1.2612, 1.3686, 1.4757, 0.8433, 0.9427, 1.9167, 1.0821, 0.7205, 1.087, 1.5284, 1.3649, 1.0518, 0.4755, 2.568, 2.568, 2.568, 2.568, 2.568, 2.568, 2.568, 2.568, 2.568, 2.568, 2.568, 2.568, 2.568, 2.568, 2.568, 2.568, 2.568, 2.568, 2.568, 2.568, 2.568, 2.568, 2.568, 2.568, 2.568, 2.568, 2.568, 2.568, 2.568, 2.568, 2.568, 2.568, 2.568, 2.568, 2.568, 2.568, 2.568, 2.568, 2.568, 2.568, 2.568, 2.568, 2.568, 2.568, 2.561, 2.568, 2.568, 2.568, 2.568, 2.5406, 2.5509, 2.4425, 2.2925, 2.5559, 2.0997, 2.3932, 1.706, 1.6875, 1.6857, 1.8424, 2.1885, 1.5805, 1.6352, 1.8086, 1.282, 1.5306, 1.8679, 1.1686, 1.554, 0.8599, 1.1212, 1.3937, 1.3758, 0.7047, 2.5682, 2.5682, 2.5682, 2.5682, 2.5682, 2.5682, 2.5682, 2.5682, 2.5682, 2.5682, 2.5682, 2.5682, 2.5682, 2.5682, 2.5682, 2.5682, 2.5682, 2.5682, 2.5682, 2.5682, 2.5682, 2.5682, 2.5682, 2.5682, 2.5682, 2.5682, 2.5682, 2.5682, 2.5682, 2.5682, 2.5648, 2.5682, 2.5641, 2.5682, 2.5682, 2.5682, 2.5682, 2.5682, 2.5682, 2.5627, 2.5682, 2.5682, 2.5682, 2.5682, 2.5682, 2.5607, 2.5682, 2.5682, 2.5682, 2.5682, 2.5682, 2.5576, 2.475, 2.4369, 2.4695, 2.4011, 2.4458, 2.2594, 2.3446, 2.3174, 2.355, 2.0653, 1.9757, 1.8722, 2.0707, 1.9636, 2.1213, 1.6819, 1.4212, 1.2106, 1.9573, 1.4939, 1.2316, 1.3976, 0.7933, 0.8799, 1.3496, 0.3662, 0.5055, 0.8875, 2.5743, 2.5743, 2.5743, 2.5743, 2.5743, 2.5743, 2.5743, 2.5743, 2.5743, 2.5743, 2.5743, 2.5743, 2.5743, 2.5743, 2.5743, 2.5743, 2.5743, 2.5743, 2.5743, 2.5743, 2.5743, 2.5743, 2.5743, 2.5743, 2.5743, 2.5743, 2.5743, 2.5743, 2.5743, 2.5743, 2.5743, 2.5743, 2.5743, 2.5743, 2.5743, 2.5743, 2.5743, 2.5743, 2.5743, 2.5743, 2.5743, 2.5673, 2.5743, 2.5662, 2.5743, 2.5654, 2.5743, 2.5743, 2.5743, 2.5743, 2.5743, 2.5743, 2.5743, 2.5743, 2.5743, 2.5743, 2.5743, 2.5292, 2.5523, 2.5073, 2.4557, 2.3636, 2.3825, 2.3884, 2.2806, 2.1531, 1.8826, 1.9694, 2.0006, 2.1627, 1.784, 1.8508, 1.6504, 1.8261, 1.7529, 1.466, 0.8528, 0.864, 1.8083, 0.6875, 2.5773, 2.5773, 2.5773, 2.5773, 2.5773, 2.5773, 2.5773, 2.5773, 2.5773, 2.5773, 2.5773, 2.5773, 2.5773, 2.5773, 2.5773, 2.5773, 2.5773, 2.5773, 2.5773, 2.5773, 2.5773, 2.5773, 2.5773, 2.5773, 2.5773, 2.5773, 2.5773, 2.5773, 2.5773, 2.5773, 2.5761, 2.5773, 2.5773, 2.5773, 2.5773, 2.5773, 2.5773, 2.5773, 2.5773, 2.5773, 2.5773, 2.5773, 2.5773, 2.5773, 2.5773, 2.5773, 2.5773, 2.5773, 2.5773, 2.5773, 2.5516, 2.5477, 2.4761, 2.5411, 2.4149, 2.5077, 2.3572, 2.2547, 2.3406, 2.381, 2.3758, 2.0657, 2.33, 2.2325, 2.0555, 1.9135, 1.928, 1.5599, 1.7346, 2.0653, 1.765, 1.2949, 1.0835, 1.8842, 1.2844, 1.1132, 1.0018, 0.9675, 2.5779, 2.5779, 2.5779, 2.5779, 2.5779, 2.5779, 2.5779, 2.5779, 2.5779, 2.5779, 2.5779, 2.5779, 2.5779, 2.5779, 2.5779, 2.5779, 2.5779, 2.5779, 2.5779, 2.5779, 2.5779, 2.5779, 2.5779, 2.5779, 2.5779, 2.5779, 2.5779, 2.5779, 2.5779, 2.5779, 2.5779, 2.5779, 2.5779, 2.5779, 2.5779, 2.5779, 2.5779, 2.5779, 2.5779, 2.5779, 2.5779, 2.5779, 2.5779, 2.5779, 2.5714, 2.5779, 2.5779, 2.5779, 2.5779, 2.5779, 2.5702, 2.4762, 2.3794, 2.3121, 2.2232, 2.307, 2.3667, 2.2697, 1.5469, 2.1826, 1.4289, 2.1308, 1.4767, 1.3271, 1.2894, 0.3715, 1.7283, 1.1658, 1.8549, 2.5869, 2.5869, 2.5869, 2.5869, 2.5869, 2.5869, 2.5869, 2.5869, 2.5869, 2.5869, 2.5869, 2.5869, 2.5869, 2.5869, 2.5869, 2.5869, 2.5869, 2.5869, 2.5869, 2.5869, 2.5869, 2.5869, 2.5869, 2.5869, 2.5869, 2.5869, 2.5869, 2.5869, 2.5869, 2.5869, 2.5835, 2.5824, 2.5869, 2.5869, 2.5869, 2.5869, 2.5869, 2.5869, 2.5869, 2.5869, 2.5869, 2.5869, 2.5869, 2.5869, 2.5869, 2.5869, 2.5869, 2.5869, 2.5869, 2.5738, 2.5869, 2.5707, 2.5745, 2.4547, 2.5551, 2.5367, 2.3472, 2.3698, 2.3464, 2.3589, 2.1235, 2.3474, 1.999, 2.4359, 2.0522, 1.5648, 1.3718, 1.9512, 2.004, 1.9712, 0.8637, 2.1252, 1.852, 0.9726, 1.7439, 1.7395, 1.0885, 0.4431, 1.0948, 0.9476, 2.5924, 2.5924, 2.5924, 2.5924, 2.5924, 2.5924, 2.5924, 2.5924, 2.5924, 2.5924, 2.5924, 2.5924, 2.5924, 2.5924, 2.5924, 2.5924, 2.5924, 2.5924, 2.5924, 2.5924, 2.5924, 2.5924, 2.5924, 2.5924, 2.5924, 2.5924, 2.5924, 2.5924, 2.5924, 2.5924, 2.5924, 2.57, 2.5924, 2.5874, 2.5924, 2.5924, 2.5924, 2.5863, 2.5924, 2.5924, 2.5924, 2.5924, 2.5924, 2.5924, 2.5924, 2.5924, 2.5924, 2.5924, 2.5747, 2.5278, 2.5571, 2.3495, 2.0403, 2.2981, 2.4784, 2.3554, 2.0105, 2.3946, 2.2833, 1.6812, 2.207, 2.0705, 1.8189, 1.1669, 1.7751, 0.8715, 1.7676, 1.217, 1.6103, 1.4362]}, \"token.table\": {\"Topic\": [1, 1, 1, 9, 11, 3, 6, 1, 8, 9, 9, 11, 13, 9, 7, 3, 5, 7, 10, 3, 2, 3, 5, 6, 8, 11, 1, 6, 9, 4, 6, 8, 7, 7, 5, 10, 12, 11, 11, 11, 13, 9, 7, 8, 3, 7, 11, 11, 3, 3, 4, 3, 1, 2, 3, 4, 5, 11, 2, 3, 5, 5, 4, 13, 4, 4, 8, 9, 1, 4, 7, 1, 3, 4, 7, 2, 7, 8, 2, 6, 7, 6, 4, 1, 6, 5, 2, 9, 1, 10, 12, 13, 12, 12, 12, 6, 8, 2, 1, 2, 7, 1, 1, 4, 3, 4, 3, 4, 5, 3, 4, 13, 12, 1, 2, 3, 7, 9, 10, 1, 2, 3, 7, 8, 12, 13, 9, 1, 6, 3, 13, 6, 3, 13, 4, 5, 9, 1, 5, 5, 10, 2, 8, 3, 3, 3, 7, 10, 12, 2, 4, 6, 11, 6, 4, 11, 12, 2, 1, 12, 8, 12, 2, 2, 7, 7, 2, 12, 2, 4, 6, 9, 10, 13, 3, 5, 2, 5, 5, 5, 2, 3, 4, 6, 7, 11, 2, 5, 8, 1, 1, 4, 1, 2, 13, 13, 4, 10, 12, 1, 12, 7, 7, 7, 11, 12, 5, 9, 9, 3, 3, 4, 8, 13, 8, 12, 5, 13, 8, 8, 2, 5, 10, 5, 6, 11, 3, 7, 9, 10, 13, 6, 4, 4, 10, 2, 3, 8, 3, 10, 10, 3, 6, 13, 1, 2, 3, 11, 13, 6, 12, 6, 8, 5, 10, 10, 2, 8, 11, 6, 5, 1, 2, 8, 4, 6, 8, 10, 4, 1, 13, 13, 5, 8, 10, 13, 12, 12, 13, 4, 6, 13, 12, 4, 11, 10, 5, 1, 8, 10, 10, 2, 5, 6, 8, 9, 12, 11, 3, 6, 6, 13, 3, 9, 9, 7, 7, 6, 12, 6, 6, 5, 10, 13, 1, 10, 7, 7, 7, 12, 4, 1, 6, 12, 12, 1, 1, 1, 5, 9, 9, 2, 11, 2, 3, 5, 7, 8, 12, 5, 9, 12, 1, 5, 8, 2, 1, 1, 2, 5, 6, 7, 8, 9, 10, 12, 1, 5, 3, 3, 7, 2, 3, 7, 9, 1, 2, 3, 6, 7, 11, 4, 6, 6, 2, 3, 12, 13, 13, 2, 3, 4, 11, 4, 6, 12, 6, 2, 5, 11, 5, 9, 9, 3, 11, 5, 9, 2, 11, 1, 3, 4, 8, 4, 12, 13, 3, 4, 7, 3, 12, 4, 7, 10, 8, 10, 3, 6, 8, 11, 10, 12, 8, 3, 11, 2, 2, 3, 4, 12, 13, 2, 5, 8, 9, 10, 8, 3, 9, 5, 9, 9, 10, 1, 8, 1, 1, 2, 4, 3, 2, 6, 13, 2, 3, 6, 8, 9, 5, 12, 1, 7, 13, 12, 6, 13, 13, 9, 2, 3, 4, 7, 12, 13, 2, 3, 4, 6, 7, 8, 10, 12, 3, 4, 9, 12, 5, 8, 4, 4, 8, 6, 3, 1, 4, 5, 7, 8, 3, 6, 6, 4, 12, 12, 9, 1, 1, 10, 11, 11, 10, 13, 12, 3, 3, 10, 12, 10, 8, 7, 8, 11, 4, 9, 11, 9, 1, 3, 5, 9, 11, 12, 1, 6, 11, 13, 8, 11, 5, 2, 9, 2, 4, 1, 5, 5, 1, 3, 8, 6, 7, 11, 2, 3, 12, 9, 1, 1, 6, 1, 3, 6, 7, 2, 13, 9, 4, 10, 6, 4, 4, 4, 1, 4, 4, 12, 2, 6, 5, 10, 10, 13, 3, 4, 7, 2, 4, 5, 13, 10, 11, 5, 1, 6, 13, 2, 11, 4, 7, 3, 5, 10, 9, 13, 6, 1, 6, 5, 2, 8, 10, 9, 7, 2, 9, 4, 9, 3, 4, 5, 7, 8, 10, 11, 6, 1, 12, 3, 2, 9, 3, 11, 11, 2, 3, 6, 13, 13, 4, 4, 8, 1, 10, 5, 3, 4, 6, 11, 7, 4, 1, 2, 4, 5, 8, 10, 1, 4, 5, 8, 10, 12, 10, 6, 7, 10, 13, 3, 1, 3, 4, 6, 9, 10, 11, 12, 1, 2, 3, 4, 5, 13, 10, 1, 5, 7, 10, 9, 13, 12, 2, 3, 4, 13, 13, 10, 3, 9, 13, 3, 5, 6, 12, 4, 7, 10, 12, 3, 3, 10, 4, 8, 1, 8, 9, 8, 2, 6, 5, 1, 2, 3, 5, 11, 4, 6, 1, 5, 7, 9, 10, 12, 3, 1, 8, 5, 6, 9, 4, 10, 8, 8, 2, 13, 9, 4, 1, 13, 4, 3, 5, 7, 9, 10, 11, 3, 5, 7, 11, 13, 5, 9, 10, 12, 1, 11, 8, 9, 9, 7, 7, 7, 8, 10, 2, 1, 3, 7, 8, 9, 4, 9, 10, 6, 8, 11, 1, 6, 3, 2, 13, 2, 1, 4, 3, 7, 7, 11, 13, 3, 3, 6, 12, 12, 12, 5, 1, 7, 2, 5, 13, 5, 8, 11, 5, 8, 11, 12, 13, 1, 9, 9, 11, 9, 8, 8, 5, 10, 9, 7, 7, 13, 11, 5, 7, 9, 5, 8, 11, 12, 7, 12, 5, 2, 2, 6, 8, 10, 12, 1, 7, 6, 8, 12, 8, 3, 8, 3, 6, 9, 10, 3, 4, 5, 9, 11, 6, 5, 7, 5, 6, 3, 5, 9, 10, 12, 13, 3, 7, 6, 7, 8, 12, 1, 3, 4, 11, 12, 6, 13, 10, 11, 13, 4, 8, 4, 8, 7, 10, 10, 10, 1, 2, 5, 7, 9, 10, 2, 6, 9, 8, 11, 12, 10, 7, 8, 10, 13, 4, 5, 8, 11, 1, 2, 3, 4, 5, 6, 7, 9, 11, 12, 10, 10, 4, 13, 13, 8, 10, 11, 2, 13, 13, 4, 4, 5, 4, 4, 5, 5, 11, 13, 1, 2, 3, 4, 9, 11, 12, 5, 7, 8, 10, 2, 13, 13, 13, 13, 6, 11, 11, 2, 2, 8, 9, 2, 8, 11, 9, 8, 12, 1, 2, 4, 11, 13, 9, 11, 2, 5, 6, 13, 8, 9, 10, 12, 6, 10, 11, 13, 10, 7, 3, 1, 2, 3, 4, 5, 8, 9, 11, 12, 11, 8, 12, 4, 8, 8, 10, 11, 9, 13, 9, 10, 8, 10, 5, 7, 4, 7, 1, 4, 6, 7, 9, 10, 2, 3, 4, 6, 8, 9, 8, 11, 4, 8, 1, 3, 12, 6, 11, 10, 1, 5, 1, 5, 7, 10, 12, 8, 9, 8, 9, 13, 5, 10, 10, 2, 4, 8, 12, 1, 9, 10, 3, 1, 5, 6, 8, 9, 11, 13, 11, 5, 5, 9, 10, 11, 11, 12, 9, 6, 2, 12, 10, 13, 10, 8, 8, 8, 10, 3, 6, 6, 3, 13, 5, 3, 5, 7, 13, 3, 4, 7, 12, 13, 11, 13, 9, 2, 9, 5, 12, 1, 5, 9, 10, 10, 5, 7, 7, 5, 13, 13, 9, 1, 3, 10, 12, 9, 4, 7, 7, 10, 2, 4, 5, 8, 9, 10, 12, 6, 6, 12, 8, 5, 13, 12, 12, 5, 9, 7, 2, 1, 2, 3, 4, 7, 9, 10, 13, 9, 12, 13, 9, 10, 11, 13, 4, 5, 1, 1, 6, 11, 12, 13, 7, 7, 10, 5, 5, 8, 5, 1, 4, 8, 1, 1, 2, 11, 1, 3, 7, 8, 1, 3, 4, 5, 10, 3, 4, 10, 6, 7, 2, 2, 11, 6, 9, 11, 9, 1, 8, 5, 6, 8, 9, 10, 1, 6, 8, 4, 11, 9, 13, 10, 8, 9, 2, 8, 5, 9, 11, 7, 10, 13, 10, 13, 2, 6, 8, 9, 13, 1, 2, 3, 10, 3, 9, 13, 7, 1, 4, 7, 11, 6, 10, 8, 2, 5, 2, 2, 2, 11, 11, 13, 5, 4, 6, 8, 11, 2, 4, 5, 7, 8, 9, 7, 3, 4, 7, 8, 9, 11, 11, 7, 1, 2, 8, 3, 1, 2, 10, 6, 1, 2, 4, 5, 7, 8, 12, 1, 4, 13, 9, 12, 7, 9, 9, 2, 7, 9, 4, 6, 6, 11, 13, 3, 12, 4, 12, 1, 13, 10, 4, 3, 7, 3, 8, 12, 4, 10, 3, 9, 4, 12, 2, 4, 12, 10, 6, 3, 4, 7, 8, 2, 6, 4, 8, 1, 4, 7, 13, 4, 2, 7, 10, 1, 3, 6, 12, 10, 5, 11, 9, 9, 2, 3, 8, 10, 13, 6, 5, 10, 4, 6, 8, 5, 3, 4, 13, 11, 11, 6, 5, 7, 7, 7, 5, 10, 1, 13, 1, 12, 7, 7, 1, 5, 8, 8, 10, 5, 11, 1, 2, 3, 9, 7, 10, 11, 6, 3, 12, 11, 9, 6, 2, 5, 9, 5, 13, 1, 13, 2, 6, 11, 13, 13, 7, 13, 4, 3, 7, 12, 2, 1, 10, 1, 10, 10, 1, 10, 11, 12, 2, 1, 1, 9, 2, 8, 8, 8, 8, 8, 3, 11, 6, 2, 7, 11, 12, 12, 6, 7, 12, 4, 4, 1, 2, 4, 9, 12, 12, 12, 11, 2, 4, 10, 12, 5, 8, 2, 2, 6, 7, 9, 10, 12, 13, 6, 11, 3, 6, 10], \"Freq\": [0.9939036655452129, 1.005327845608951, 0.9253585851627845, 0.9211492382628799, 1.0020952338294498, 0.01552257410546346, 0.977922168644198, 0.330737376247321, 0.12249532453604482, 0.5459791607892284, 1.0362928930457398, 0.6739967162312248, 0.32736983359802346, 1.0075069793500249, 0.9994922655354335, 1.0005623654268982, 0.10090550895140622, 0.4675288581415155, 0.43053017152599987, 0.9982891115398161, 0.0012328906249100275, 0.04191828124694094, 0.20465984373506457, 0.3032910937278668, 0.34151070310007764, 0.10726148436717241, 0.9870491575069701, 0.9772483331162157, 0.015034589740249474, 0.008530550541787906, 0.8615856047205784, 0.12795825812681857, 0.9983437758783911, 1.004386521892111, 0.19138639341479682, 0.2545965783958306, 0.5548449570557412, 0.9896069542552891, 1.002552394063861, 0.9435787238248105, 1.0003383267389507, 0.9211492382628799, 0.9943426566731901, 1.0324049170688323, 0.9953159710014386, 1.0003737434620832, 0.9435787238248106, 1.0004208156214858, 1.066409968930113, 0.47217327927311104, 0.5280885360291373, 1.001719658314867, 0.0029226225188296057, 0.14320850342265068, 0.4383933778244409, 0.08913998682430298, 0.14320850342265068, 0.18266390742685035, 0.9999177511392804, 1.0077574206389568, 0.9993001745776254, 0.9977816910964329, 0.9974096513330074, 0.9632887590819527, 1.010035089957476, 0.4222405291092226, 0.0770511914432888, 0.5008327443813771, 0.28542429344623416, 0.21839283059143674, 0.4973302082775292, 0.09562057521858439, 0.3120250349238017, 0.1780304130714433, 0.41393643745939823, 0.999407442338742, 0.15508543839189745, 0.8450573887885025, 0.08080315416394201, 0.75031500295089, 0.16737796219673703, 1.0002166163858577, 1.010035089957476, 0.9914556269601261, 1.0014109048830349, 0.9724184154954205, 0.9923035958114561, 0.9211492382628799, 0.06162861804441256, 0.7902963960989375, 0.1450085130456766, 0.003625212826141915, 1.000009430608865, 1.0003163615719552, 1.0022920383775549, 1.0019313887213315, 1.0045020814723777, 0.996337350265974, 0.0016384074605545942, 0.9977901434777479, 1.0029741033457005, 1.0049593236714112, 0.19738668808251925, 0.8018834203352344, 0.10626217163682246, 0.8956383037960749, 0.31700877246524056, 0.6819684516899294, 0.9945188340294073, 0.9802231818111339, 0.015315987215798967, 1.0018203094452307, 1.0041515783374388, 0.21439040950676902, 0.050843575377099375, 0.14066722520997493, 0.37285288609872874, 0.11185586582961862, 0.10931368706076365, 0.21469317988475178, 0.10162592527460036, 0.15815955257967607, 0.27661096217126324, 0.1696008819152271, 0.07807024723081883, 0.0013460387453589453, 1.0024271122272517, 0.9926573913564415, 1.0066630599785753, 0.838743171511679, 0.16123713463440778, 1.0003410214376471, 0.9969110286472744, 1.0091596523715693, 0.9990265331187023, 0.9940813829478758, 0.005492162336728596, 0.0032794635793520783, 0.9969569281230318, 0.9996077461918385, 0.9186599537791127, 0.9975538793871781, 1.0324049170688323, 1.04974731316558, 0.9979079396759217, 0.9944974545779179, 0.03434206426726063, 0.9615777994832977, 1.0014136053903704, 0.011595476882748843, 0.023190953765497686, 0.9276381506199075, 0.03478643064824653, 0.9966808938613202, 1.010035089957476, 1.0003041309755687, 0.9960666219901165, 0.9933089692621262, 1.0024718005930164, 1.0026354066675094, 0.9963238428463369, 0.0032559602707396633, 0.9975538793871781, 0.8977984914484602, 1.0087534198133812, 0.9903006133533803, 0.9953852839972059, 0.9545638460738616, 0.003708596397520067, 0.40609130552844735, 0.3022506063978855, 0.07417192795040134, 0.09271490993800167, 0.12052938291940218, 0.9849480963035071, 0.9974438894236114, 0.01302059272918458, 0.9830547510534358, 0.9986454681955045, 0.9984653373390477, 0.0922202816396385, 0.14784521342227758, 0.06879925773115887, 0.6191933195804299, 0.07026307172543886, 0.002927627988559952, 0.3150012722173285, 0.08051602025285974, 0.6045764327758592, 0.9253585851627845, 0.4738098169184341, 0.5246887234331653, 0.9253585851627845, 0.9944844828352175, 1.000338326738951, 1.0091596523715693, 1.010035089957476, 1.0017302687485006, 1.0048040484988017, 0.4718167709208202, 0.5307938672859227, 0.9973144965401809, 1.00252654685157, 0.9939536337245698, 1.0034884840676555, 0.9886554120050711, 0.34439031715763174, 0.6562630936394356, 0.9998403792200102, 0.992668854057286, 0.0005915624938857467, 0.7412278048388405, 0.2573296848402998, 0.0005915624938857467, 1.0324049170688323, 1.0182014358121192, 0.9984653373390477, 1.0199528037338323, 1.0324049170688323, 0.9968047475147348, 0.10346797054326132, 0.7094946551537918, 0.18558540748235758, 0.004073440111654085, 0.9246709053454774, 0.06924848189811944, 0.07046702699017302, 0.30535711695741635, 0.054807687659023455, 0.1304944944262463, 0.44107139116071253, 1.0006556930392316, 0.9940027869422777, 0.28985625741088666, 0.7106153407492705, 0.41578585080546626, 0.18378939781980755, 0.40072114606613773, 0.9331087228138488, 1.000283050717675, 0.9970486025297255, 0.9953159710014386, 0.26416441131927254, 0.7355962838275127, 0.006908801497899829, 0.20956697876962815, 0.09672322097059761, 0.22568751559806108, 0.4605867665266553, 0.8862239342056359, 0.11361845310328667, 0.9972842115936817, 1.0324049170688323, 1.0001512222480202, 1.0001539819369372, 1.0018145185608427, 1.0100233028795178, 1.0324049170688323, 1.0006900676352595, 0.9628951008490719, 1.0028064909796524, 0.5318177604273744, 0.15059564413396523, 0.31754167248818954, 1.010035089957476, 0.005469683159275143, 0.8860886718025731, 0.10939366318550285, 1.010035089957476, 0.9991190520960498, 1.032095099016378, 0.9998693448698749, 0.31116620084836955, 0.004900255131470386, 0.6002812536051223, 0.08330433723499657, 0.9954737251913129, 0.9976029189188185, 0.004300012581546632, 0.9952579860780353, 0.0072120143918698205, 1.0091596523715693, 0.9960666219901165, 0.9981523241932702, 1.0034884840676555, 0.997949056932667, 1.0005829732612939, 0.02367583572538049, 0.0021523487023073174, 0.9750139621452147, 1.0047843244459045, 0.083567590099776, 0.20999035460969356, 0.3556979476041748, 0.13285104067143877, 0.019284828484563695, 0.19927656100715818, 1.002552394063861, 0.25800966378621515, 0.7410915874710435, 0.998891179385486, 1.010278454646926, 0.992668854057286, 1.000095642947159, 1.000703036112856, 1.002089906369492, 1.0014545552488632, 0.9628951008490719, 1.003100990789482, 1.003869360459671, 0.9955356127422608, 1.008625484157484, 0.006988513466182555, 0.9923689121979229, 1.057552668757468, 1.0047843244459045, 0.9667220273211571, 0.9943426566731901, 1.0032021038238421, 0.9979531118044919, 1.010035089957476, 0.009358748756139573, 0.03743499502455829, 0.9545923731262365, 0.9994438822364663, 0.9998841088000556, 0.9767673954496058, 0.9970412924641269, 1.0015224877901778, 1.0132641620891678, 1.0068375394966362, 0.9668599138675725, 0.9919673763286468, 0.21479208776119804, 0.001775141221166926, 0.08343163739484552, 0.155324856852106, 0.1846146870013603, 0.3594660972863025, 0.41163219855145294, 0.00283884274863071, 0.5848016062179263, 0.2883526853927911, 0.6048373400921959, 0.1054948848998016, 0.8977984914484602, 0.9253585851627845, 0.22533640097949062, 0.11797023345396862, 0.19750072791731826, 0.2723919435369725, 0.005302032964223309, 0.12724879114135942, 0.009941311807918704, 0.03313770602639568, 0.010604065928446618, 0.9965400147906909, 0.9897830300578386, 1.0005333531074947, 0.9045212150011226, 0.0953800929702414, 0.18945433805426565, 0.6394083909331465, 0.07104537677034961, 0.10262109977939389, 0.13702629226858978, 0.08884122245985492, 0.24092534904367435, 0.3372954886611441, 0.13401472540554388, 0.061737120692441555, 0.5624380830898318, 0.43876059885018287, 0.9990601750593657, 1.0003130709684618, 1.0108677830483364, 0.9545638460738618, 0.9997769696532388, 1.032095099016378, 0.13261715948278077, 0.044205719827593595, 0.5336261893473798, 0.2873371788793584, 1.001016919511427, 0.5708867153536852, 0.42963639402906206, 0.9949916042107078, 0.9975538793871781, 0.9832353302807285, 0.012937306977378007, 1.0021105808540591, 0.9211492382628799, 1.0030291705529135, 0.29881810966713, 0.7021308957209251, 0.9945188340294073, 0.9211492382628799, 0.997553879387178, 0.9435787238248103, 0.0914695927154738, 0.3580381200577117, 0.5514309732275706, 0.9991015326472572, 0.07738623216689378, 0.24247686078960048, 0.6809988430686652, 0.5342529000579207, 0.09960647289215471, 0.3667329229211151, 0.3683927375234997, 0.6295318932363603, 0.004657026101881823, 0.060541339324463705, 0.9314052203763646, 0.03007743785089812, 0.9704986613223128, 0.13387324760976008, 0.8135374277823881, 0.03775912112070156, 0.01716323687304616, 1.1483249422238908, 1.0041515783374388, 1.0026240059995393, 0.0061266881750761835, 0.9925234843623418, 0.9998210472948763, 0.9726150324024986, 0.6919817931074284, 0.004613211954049522, 0.17530205425388184, 0.1291699347133866, 0.1947943014637182, 0.27887817259913616, 0.15695655945278014, 0.3307298931326439, 0.039239139863195036, 1.0037270027058092, 0.9967297720966113, 1.0004826654816925, 0.008079517384143661, 0.9937806382496703, 0.4846087428086447, 0.5157304051908512, 0.9734521864825845, 0.027166107529746544, 1.0037788042443765, 0.008747426196097727, 0.026242278588293186, 0.9622168815707501, 0.9963703311402115, 0.8977984914484602, 0.9628951008490719, 1.0018203094452307, 0.1447215892820896, 0.23681714609796484, 0.07367644545270018, 0.5420481344020084, 0.0026313016233107203, 0.9945188340294073, 0.9545638460738618, 0.8971430133060909, 0.0035742749534107207, 0.10007969869550018, 0.9545638460738618, 1.0110398558915255, 1.0022095170246577, 0.9943625900200802, 0.9211492382628799, 0.16675546960169127, 0.05445076558422572, 0.2393564903806589, 0.3539299762974672, 0.1315893501618788, 0.05331637463455435, 0.11090711913069279, 0.24570192545876557, 0.11773217261565849, 0.0017062633712414275, 0.3037148800809741, 0.12455722610062421, 0.09384448541827851, 0.003412526742482855, 1.0009711753821287, 1.010035089957476, 0.9211492382628799, 0.9545638460738618, 1.0006863926900549, 0.9979914198332047, 1.010035089957476, 0.2664097776096792, 0.7345857838502184, 1.0030157300511167, 1.0009711753821287, 0.28388372573258885, 0.14697526225871624, 0.1479819421372006, 0.2355630915653397, 0.18623577751960618, 1.066409968930113, 1.0021969417000545, 0.9944654320244514, 0.12385814210260296, 0.8755912223886981, 0.9995904425867798, 0.9995449181150398, 0.9984132103072147, 1.0094820929048558, 0.09603765994136575, 0.9033542388234715, 1.0010139504924074, 0.20901603294978724, 0.7885604879469246, 1.0182014358121192, 1.0032672734013561, 0.9064114195329688, 0.09155670904373421, 0.009155670904373421, 1.0031344322875368, 0.9998026565298167, 0.6264624923492242, 0.08767646619785983, 0.2856555834188336, 0.044550102197485675, 0.9565169001224865, 1.0036246426136621, 0.9211492382628799, 0.1491688918221243, 0.002616998102142532, 0.2616998102142532, 0.013084990510712659, 0.1413178975156967, 0.4291876887513752, 0.9253585851627845, 0.24597510683618728, 0.48438174884664575, 0.2686805013133738, 0.9988307734243175, 0.9974975080433709, 1.0041277116528797, 1.0029460625190005, 1.01101745662999, 0.2685565961960387, 0.730285480883965, 0.968279504183482, 0.02890386579652185, 0.9945188340294073, 0.7010827012297086, 0.003179513384261717, 0.2956947447363397, 0.5163975655354383, 0.25276301891997766, 0.23101996352901186, 0.8977984914484602, 0.9793601756499087, 0.015302502744529824, 0.9211492382628799, 1.0012076495203899, 0.9926573913564415, 0.962895100849072, 0.7619756212647247, 0.005423314030353913, 0.22100004673692195, 0.010846628060707826, 0.997553879387178, 0.9908112950557229, 1.0102927129334813, 0.47754873100631184, 0.5231438359767637, 0.998747578008346, 1.010035089957476, 1.010035089957476, 1.0100350899574757, 0.012933994139934433, 0.9829835546350169, 1.0000347425321543, 1.000019267315474, 0.8977984914484602, 0.999460737590176, 0.9945188340294073, 1.0001539819369372, 0.9716595664971384, 1.0114531970360503, 0.1628526421943285, 0.6598704462939025, 0.17765742784835836, 0.1568846054172265, 0.6151527949254408, 0.22706982363019626, 0.9996392782925925, 1.1483249422238908, 0.9435787238248105, 0.9995113984572657, 0.3586249188676112, 0.5259832143391632, 0.1161261642047503, 0.1923144470054484, 0.8119943318007821, 1.010035089957476, 1.0004057216529045, 1.0142486117541836, 0.6792548273772703, 0.3241898039755154, 0.9902354311325958, 1.00384828578014, 0.9972842115936817, 0.9984132103072147, 1.023076044652139, 1.0002741513559663, 0.08843645328810455, 0.9115757492773853, 0.9942813524133689, 1.0132641620891678, 0.9974116154900825, 0.007195016436210251, 0.9929122681970146, 0.007036400463797947, 0.9921324653955106, 0.1028436734105885, 0.0012855459176323563, 0.16969206112747104, 0.4846508109473983, 0.20697289273880937, 0.03085310202317655, 0.003856637752897069, 1.0023580148182962, 0.011359587213255173, 0.9882840875532, 0.9331087228138488, 0.9998210472948762, 0.9211492382628799, 1.0007252969307945, 1.0007653131475263, 0.9974975080433709, 0.639033049104344, 0.13742646217297722, 0.00687132310864886, 0.2164466779224391, 0.9632887590819526, 0.9980108626960772, 1.010035089957476, 0.9926970356431081, 0.9253585851627845, 0.9937427384629824, 0.9724184154954205, 0.3886097954504036, 0.24229586644046247, 0.03628585439446539, 0.33242524671058615, 0.9987091532251657, 1.010035089957476, 0.2521790720477588, 0.14009948447097711, 0.15803221848326218, 0.08854287418565754, 0.15579062673172656, 0.20734723701704613, 0.29899073579152813, 0.16120283646591427, 0.07384710944248586, 0.04142642724822378, 0.3611303766638638, 0.06304021537773183, 1.0132278901975507, 0.26697320307589917, 0.15874082345053464, 0.1996286113090057, 0.3752055827012637, 0.9953159710014388, 0.2064109001974695, 0.022282994907681365, 0.07740408757405105, 0.22869389510515087, 0.062157827900374336, 0.09147755804206034, 0.11610613136107659, 0.1946830081407951, 0.9253585851627845, 0.15452375379189628, 0.14127886060973374, 0.09712921666919194, 0.33553729394811765, 0.26931282803730494, 1.0334924480015018, 0.056620712215468674, 0.11953261467710052, 0.006291190246163186, 0.8241459222473774, 0.9902354311325958, 1.001666797292389, 0.9969889058993666, 0.9875783405933063, 1.0048863168764526, 1.010035089957476, 0.9998693448698749, 1.0010647888498725, 1.1483249422238908, 0.010884610239208885, 0.810298762252217, 0.17899136837810167, 0.21729719956934965, 0.644130984437715, 0.1396910568660105, 0.9960666219901165, 0.5479616660906497, 0.309260556752531, 0.14262015966742936, 1.0075951708557427, 1.0037987775724737, 0.9953159710014386, 1.0047843244459045, 0.19398276779683798, 0.8098780555517986, 0.2158808682427227, 0.7785867379245737, 0.0070780612538597605, 1.0003923615008068, 0.7400821084704114, 0.2621124134166041, 0.9724184154954205, 0.21768331036541722, 0.7808205697889965, 0.0036201022390594264, 0.7529812657243606, 0.24435690113651126, 1.010035089957476, 0.9979094681526747, 0.3596109036326792, 0.23381545445318686, 0.006836709194537628, 0.12579544917949234, 0.04922430620067092, 0.22424406158083418, 1.0004464656973224, 1.005824549089983, 1.0001422634104313, 0.2519468667917521, 0.7264875673509745, 0.02201477476821135, 0.9953969002479471, 1.1483249422238908, 1.0324049170688323, 0.9998026565298167, 1.0077330006054146, 0.9632887590819528, 1.0102927129334813, 1.010035089957476, 0.9972946818652687, 0.0027625891464411875, 1.010035089957476, 0.27021124984339895, 0.09332038010055531, 0.14206983239189017, 0.1936049676713013, 0.15321256434419528, 0.14764119836804274, 0.08665686994361174, 0.07535379995096673, 0.018838449987741684, 0.7610733795047641, 0.06028303996077339, 0.9819634891812814, 0.017535062306808596, 1.0077137248087205, 1.0026931156238041, 0.9943117811483579, 0.0043043800049712465, 0.253188510587234, 0.7469061062323403, 1.001066295463769, 0.9997072933452386, 0.966722027321157, 0.9997723530415383, 1.001586859842897, 1.0029673546006135, 0.8977984914484602, 0.2841380079269261, 0.16541367597623868, 0.13740006956090794, 0.41220020868272383, 0.9211492382628799, 0.9984698026678863, 0.9211492382628799, 0.9980768189422602, 0.007215972083168184, 0.9958041474772095, 1.0013488497732683, 0.8766660613242083, 0.12439180599870524, 1.0048863168764526, 1.0260554187982402, 0.998856344032671, 1.0055343104222754, 0.86597085036614, 0.13615893873681445, 0.11828175141040766, 0.8829870279707177, 0.9975093530320219, 0.9990833546380348, 0.9632887590819528, 0.9998374825930337, 0.9987109596897836, 0.001170821758135737, 0.999484497653808, 0.9943373396602725, 0.9927463999168161, 0.9945188340294073, 1.057552668757468, 1.003903643756586, 0.10315872882154127, 0.11431102382927545, 0.7834487242933269, 0.22730778186746461, 0.0378846303112441, 0.7349618280381356, 0.08380629389404792, 0.2260230350475838, 0.06475940891812794, 0.2234834503841278, 0.40252416915777567, 1.017894443679063, 0.9211492382628799, 0.9830784857210048, 0.020480801785854263, 0.9211492382628799, 0.9994119503449284, 1.0324049170688323, 0.8769709270788588, 0.12300371444742435, 0.9966532741860668, 0.9997384900028905, 0.17992892334916552, 0.8225322210247566, 0.9990833546380344, 0.9978786949551822, 1.0235880289282837, 0.9211492382628799, 0.004078816220747407, 0.1182856704016748, 0.08973395685644295, 0.7872115306042495, 0.015566733005525985, 0.9858930903499791, 0.9724184154954205, 1.0003095530871426, 0.016751304451403083, 0.008375652225701542, 0.10888347893412004, 0.008375652225701542, 0.8626921792472588, 0.24094500111056438, 0.7590937170910499, 0.041346034914019204, 0.4813859779275093, 0.4784326897193651, 0.9955333128878027, 0.5920552305636446, 0.40786026994384406, 0.9969110286472744, 0.9628951008490719, 0.3998510346544383, 0.5997765519816575, 0.1901240578258783, 0.12901275352470312, 0.1041155554760762, 0.4390960383121475, 0.13580289844705593, 1.0021969417000545, 1.0002377462434924, 0.9963155587697639, 1.0009268162074318, 0.9628951008490719, 0.14466380185886818, 0.15995347197403312, 0.11408446162853832, 0.27403793360257145, 0.0541019096382759, 0.25286762113542, 0.9331087228138488, 0.9955794012710424, 0.0066668657279754075, 0.9933629934683357, 0.9953084802095769, 0.005238465685313562, 1.0410284083081325, 0.5967688218793873, 0.09880278507936877, 0.23712668419048502, 0.06718589385397077, 1.0066630599785753, 0.9632887590819526, 0.0025200381092206833, 0.8190123854967221, 0.1789227057546685, 0.9439265796624255, 0.06068099440687021, 0.9949599393610957, 0.999525779582564, 0.8389667614091235, 0.16370083149446313, 1.011619591959142, 0.9998346479708015, 0.041620691916040564, 0.00244827599506121, 0.18606897562465194, 0.10282759179257081, 0.5631034788640783, 0.10282759179257081, 0.047656264187385625, 0.9531252837477124, 0.9211492382628799, 1.0324049170688323, 1.000193447254299, 0.9545638460738618, 0.9963407586942582, 0.004181918521313165, 0.876111930215108, 0.11709371859676862, 0.0020909592606565826, 1.010035089957476, 0.9982689050476176, 0.360464013939875, 0.6386481986108655, 0.09174422642296284, 0.16018833184961767, 0.12815066547969411, 0.07232745892603949, 0.00048541918742308384, 0.179605099346541, 0.021358444246615687, 0.05727946411592389, 0.11019015554504002, 0.17863426097169485, 1.0097340009210074, 0.9569374518532423, 0.9940027869422777, 1.0009975717150539, 0.9632887590819527, 0.9934462409530275, 0.7242867330202297, 0.27569624031092616, 0.8977984914484602, 1.0002246777584078, 1.010278454646926, 0.9980108626960772, 0.4218374027436061, 0.5780734778338306, 0.9978659924881086, 0.005182654171036745, 0.995069600839055, 0.9897830300578386, 0.11090367562989527, 0.89647137800832, 0.9253585851627845, 0.2649516404787856, 0.2529689029696948, 0.10784463758181727, 0.08387916256363565, 0.11716454453333233, 0.17308398624242277, 0.14643497943056047, 0.1005189265582661, 0.5534745832714405, 0.19979687871457827, 0.9989019251701337, 0.98863846326832, 1.0006255326897804, 0.9989661205294323, 0.9989661205294323, 0.9972842115936816, 0.9435787238248105, 0.9976692239166787, 1.0012098360132045, 0.8918561561382697, 0.10748754976259277, 1.00489007810496, 0.6508562726304385, 0.1765394464977987, 0.17228548393158669, 1.0362928930457398, 1.0024801368639389, 0.9886554120050711, 1.0003243439607823, 0.04909958008674789, 0.1850676480192805, 0.7667088275084478, 1.0018203094452307, 0.9958370143382484, 1.0019444180820152, 0.7806570477420428, 0.20038255770918748, 0.004174636618941406, 0.012523909856824217, 0.07616360812954005, 0.224584998330695, 0.44331125757450235, 0.25583160679409606, 0.5272932460116612, 0.11921412518524513, 0.204039560413208, 0.1490176564815564, 0.9186599537791127, 1.0034329903839856, 0.9331087228138488, 0.1476676007987638, 0.01476676007987638, 0.1334687930296519, 0.02953352015975276, 0.21298211653667856, 0.11075070059907285, 0.17890497789081, 0.054523421833389714, 0.11699817601748208, 0.9999117819636051, 0.45878752046797155, 0.5410528689656767, 0.9956060172437976, 1.0324049170688323, 0.1738450112571146, 0.8205484531335809, 0.0069538004502845835, 0.022021896739998298, 0.9777722152559244, 0.8298398308092076, 0.1693550675120832, 0.99649518082296, 0.9842785219061921, 0.9724184154954205, 1.0039036437565863, 0.012090506265548577, 0.9914215137749833, 0.2392536495746052, 0.09922962424753212, 0.22822813576932388, 0.3936108428485441, 0.0022051027610562692, 0.037486746937956575, 0.1427737148063776, 0.3349177795925306, 0.10407803509249955, 0.1067467026589739, 0.3095654377110243, 0.0013343337832371737, 1.002040066566808, 0.9969888402677242, 0.8783523699349204, 0.12227859772739061, 0.9899184864532112, 0.9331087228138488, 0.9919977223904837, 0.9992307650320558, 1.0484208042497893, 1.0005207417396276, 0.9392056837972681, 0.0605347413384958, 0.26700233337277285, 0.005832575243579989, 0.42253767320157254, 0.008424830907393318, 0.2968132735066261, 0.5457163699253741, 0.4544594518776527, 0.6077912781855739, 0.22182163437429706, 0.17080265846820872, 0.15018538594458686, 0.8500246638912887, 0.9994680052689421, 0.17802018657741003, 0.16183653325219094, 0.6408726716786761, 0.019420383990262913, 0.39863168777342023, 0.006429543351184197, 0.5947327599845382, 1.0022278874667265, 0.2857082726800405, 0.18731081777363653, 0.19798042131770444, 0.07290895755113068, 0.18079050449670614, 0.0005927557524482168, 0.07468722480847532, 1.0015460174386215, 0.9971087268263589, 0.18099753524463946, 0.47416255711975974, 0.15295566358701926, 0.19119457948377408, 0.9864686658168471, 0.9545638460738618, 0.9988042612559715, 1.0019313887213315, 1.004998311322903, 0.9545638460738618, 0.7780925716522147, 0.21760215986883968, 0.9888353669150171, 0.9946340054687534, 1.0324049170688323, 0.991108720386079, 1.0011037957849305, 1.0035320226488562, 1.0014109048830349, 1.036963954760539, 0.8887832458991615, 0.10934557283932901, 0.9945188340294073, 0.5422839271503399, 0.12616401570436478, 0.09296295894005827, 0.23683420491871987, 0.1747275550039283, 0.3554801981114403, 0.21891153443020903, 0.1566522906931771, 0.09640140965733976, 0.9974975080433709, 1.00260666761591, 1.0068375394966362, 0.06542869028309843, 0.9341763001531276, 0.9945188340294073, 0.9545638460738617, 0.23847490126922039, 0.19488271501570698, 0.4641285712874074, 0.10256985000826684, 1.0207332819767918, 0.9945188340294073, 1.015058128687215, 0.966722027321157, 0.9847592358983356, 0.01036588669366669, 0.9967944550500205, 0.9211492382628799, 1.057552668757468, 0.09467265591161027, 0.10195516790481106, 0.8047175752486873, 0.9211492382628799, 1.010035089957476, 1.0053909084140031, 0.979487286132613, 0.019395787844210158, 0.11898128334993519, 0.06970620640703273, 0.16825636029283764, 0.12739410136457707, 0.15623804884334924, 0.23075157983017733, 0.12739410136457707, 1.0005670531514614, 0.9855837187339725, 0.011394031430450549, 1.0324049170688323, 1.0028064909796524, 0.9632887590819528, 0.9960666219901165, 0.9989621644959017, 0.9945188340294073, 1.0001754463712234, 0.9667220273211571, 1.0100233028795178, 0.09665361938467569, 0.04698439831199513, 0.1651165997821543, 0.08054468282056307, 0.1812255363462669, 0.15169248597872712, 0.0375875186495961, 0.2402916370813465, 0.9938715465467914, 0.9860814904368104, 0.012561547648876566, 0.3939871008276887, 0.17650622117080453, 0.4286579657005253, 0.003151896806621509, 0.9956060172437976, 0.9971087268263589, 0.9253585851627845, 1.0065303908788181, 0.1869016580541441, 0.062300552684714704, 0.004984044214777176, 0.7451146101091879, 0.9971220910733944, 1.0064503298138072, 0.9997181849949167, 1.0028064909796524, 0.9995113984572657, 1.0072243093354465, 0.9724184154954205, 1.0024718005930164, 0.004112804097350071, 0.9952985915587171, 0.9253585851627845, 0.7385959711053506, 0.2615860730998117, 1.0161617025805652, 1.0410284083081325, 0.5276109539788598, 0.47095474415562655, 1.0324049170688323, 0.9998127241988705, 0.11512893164260996, 0.09045844629062211, 0.596203396006373, 0.20147563037456742, 0.9997593458719809, 0.0011788126735510502, 0.9984543344977395, 1.0014109048830349, 1.0046326950592415, 1.0055343104222754, 0.0069354784727069085, 0.9917734215970879, 1.0316733223382915, 1.001378365466421, 0.9941275840297109, 0.9211492382628799, 0.9847889530606588, 0.01448219048618616, 0.02050353629970592, 0.0009763588714145677, 0.07420327422750714, 0.0009763588714145677, 0.9041083149298896, 0.32733811438705523, 0.6712803360256278, 0.0014232091929871967, 0.9937442014097746, 1.0034884840676555, 0.06724563725075215, 0.9414389215105301, 0.9907117148598273, 0.1123896947570256, 0.8886278532122157, 0.9999869376295858, 1.00487411928033, 0.17395768706246964, 0.8250564586391418, 0.9997793374695484, 0.13203372569013935, 0.5004999369184352, 0.36539565946806, 0.8612437066679182, 1.0114531970360503, 0.004969539627399017, 0.09442125292058132, 0.27580944932064544, 0.30811145689873903, 0.3155657663398376, 0.9253585851627845, 0.9999177511392805, 0.196193260464219, 0.8026087928081687, 0.42750207547022323, 0.1345839867221073, 0.4380576822719571, 0.9939536337245698, 0.6391539542924604, 0.0177542765081239, 0.34088210895597887, 0.9999117819636051, 1.0060098068572394, 0.9983718569850322, 1.0324049170688323, 0.9994360565180972, 0.9984653373390477, 1.0773581897381523, 1.0013906250771287, 0.9975538793871781, 1.0064839720797978, 0.4066632370857133, 0.5946490730970336, 0.9945188340294073, 0.35049751892728465, 0.14879611652573405, 0.4981914419972725, 0.002204386911492356, 0.04606973160114342, 0.004319037337607196, 0.25482320291882454, 0.10221721699003697, 0.19579635930485956, 0.39735143505986203, 1.000761535325423, 0.16122196382866263, 0.8388215219491287, 0.1858384017386333, 0.8005346536433435, 0.014295261672202563, 0.9978854129658068, 0.9435787238248105, 1.0235880289282837, 0.9984132103072149, 1.0034218433835733, 0.9985555755255922, 0.9331087228138488, 0.6418980850617196, 0.02490121881704947, 0.33201625089399295, 0.9628951008490719, 0.1921433609621004, 0.01074927893494268, 0.2579826944386243, 0.04568443547350639, 0.36278816405431547, 0.11555474855063382, 0.01612391840241402, 1.0094820929048558, 0.9995864510958468, 0.9970883646637755, 0.9211492382628799, 1.0057011949706758, 0.9667220273211571, 0.9995449181150398, 0.9995449181150399, 0.8977984914484602, 0.6853596257816816, 0.3147872699811212, 1.010035089957476, 1.0017215162058895, 0.12440907750011136, 0.31660515235605263, 0.5590433546639619, 1.0108677830483364, 1.0061618918075839, 0.20592218725256384, 0.7942712936884605, 0.004630283486227504, 0.9955109495389135, 0.9760762008903072, 0.9929158511446373, 0.9974610485251488, 0.9667220273211571, 0.9331087228138488, 1.0324049170688323, 0.9960666219901165, 0.9981523241932702, 0.9937427384629824, 0.9331087228138488, 0.9211492382628799, 0.9985574184806864, 0.9969889058993666, 1.0260554187982402, 0.21364032612884543, 0.7861296375522359, 1.1483249422238908, 0.9996936397350239, 0.21019488015649107, 0.2794427561264138, 0.41487444275785557, 0.09559883762219419, 0.16471230449077695, 0.8356136422946734, 1.010035089957476, 0.9934462409530275, 0.9984132103072147, 0.8707640388953006, 0.04867625062147643, 0.08112708436912738, 0.9991744975923418, 0.01919722358478815, 0.972659328295933, 0.006399074528262718, 1.0024718005930164, 0.5719521780080661, 0.20321510049570254, 0.2245199094186391, 0.9917351773751784, 0.9918305826294178, 0.011400351524476066, 0.9787210656543098, 1.0362928930457398, 0.08460610377074022, 0.31271079530950063, 0.2629424989737711, 0.27704351626889445, 0.062210370419661924, 0.9628951008490719, 1.0039604685296866, 0.9985434280207746, 0.893909337609576, 0.10523535852811147, 1.0324049170688323, 0.9957938581755988, 0.003899263382024389, 0.580990243921634, 0.41332191849458527, 1.0011680356075454, 1.0015177682701935, 0.9628951008490719, 0.9993939263530807, 0.9989460948985288, 1.0087534198133812, 0.998768061376002, 0.9911383571686504, 0.010544025076262238, 1.0003876596354426, 1.007074611767496, 0.9930677499307932, 0.9886554120050711, 0.9667220273211571, 0.9667220273211571, 0.6314938048984456, 0.15724944548854577, 0.21216195026232365, 0.9045358637164942, 0.09250934969827782, 1.0028064909796524, 0.9435787238248105, 0.682552073820545, 0.18087629956244441, 0.136510414764109, 0.9211492382628799, 0.966722027321157, 0.9186599537791127, 1.0134734441081295, 0.962895100849072, 0.9932095863139148, 0.011966380557998972, 0.9435787238248105, 0.9211492382628799, 0.962895100849072, 0.009177998925616748, 0.3258189618593946, 0.6608159226444059, 0.9945188340294073, 0.9998693448698749, 0.03206581303058086, 0.961974390917426, 0.06730563682972773, 0.0002991361636876788, 0.35657030711571314, 0.5758371150987817, 1.0034257907103672, 0.01690085581901686, 0.980249637502978, 1.0100350899574757, 1.001384970824618, 0.2114641191122596, 0.784643178811279, 1.0020072449201565, 0.9993872719758072, 0.9931458959774191, 0.8135020415456127, 0.18553555333496427, 0.9977249498010855, 0.901862553758714, 0.0961986724009295, 0.003246687238823665, 0.9967329823188652, 0.9975538793871781, 0.999984277514622, 0.9699910154886093, 0.029845877399649518, 0.009458594452233697, 0.9931524174845382, 0.9961801831365927, 0.9985555755255922, 1.0324049170688323, 1.0324049170688323, 1.0179367885241988, 1.001645106829414, 1.0270881075723435, 0.992096878943098, 0.00781178644837085, 0.9435787238248103, 0.9956203555824149, 0.9937924972823764, 0.020102403980845326, 0.010051201990422663, 0.9649153910805757, 1.010035089957476, 1.0001327851539712, 0.0023458345235833314, 0.1571709130800832, 0.20877927259891652, 0.0023458345235833314, 0.6286836523203329, 0.9545638460738618, 1.0037681680364319, 0.9992321606187671, 0.10389647444254789, 0.25471393734302067, 0.08043598021358546, 0.5597003623195322, 0.9945188340294073, 0.9941676979181349, 0.9984861727323996, 0.0978466509612064, 0.1585544271050206, 0.24640215023077525, 0.061421985274917885, 0.22426166716656065, 0.1992643475779313, 0.012141555228762839, 1.0014109048830349, 1.0109772040980112, 0.3076545101423411, 0.6922226478202674, 0.9963407586942582], \"Term\": [\"abstract\", \"abstraction\", \"abstractly\", \"abstract\\u2013and\", \"abuse\", \"academic\", \"academic\", \"access\", \"access\", \"access\", \"accidental\", \"account\", \"account\", \"accountability\", \"accuracy\", \"accurately\", \"achieve\", \"achieve\", \"achieve\", \"activity\", \"address\", \"address\", \"address\", \"address\", \"address\", \"address\", \"administrative\", \"administrator\", \"administrator\", \"adoption\", \"adoption\", \"adoption\", \"adversarial\", \"adversarial_example\", \"adversary\", \"adversary\", \"adversary\", \"advertiser\", \"advertising\", \"affiliate\", \"aggregate\", \"aggressively\", \"agnostic\", \"ahead\", \"alert\", \"algorithm\", \"algorithmically\", \"amazon\", \"america\", \"analysis\", \"analysis\", \"analyst\", \"analyze\", \"analyze\", \"analyze\", \"analyze\", \"analyze\", \"analyze\", \"android\", \"anomaly\", \"anonymity\", \"anonymous\", \"apis\", \"appearance\", \"applica\", \"application\", \"application\", \"application\", \"apply\", \"apply\", \"apply\", \"approach\", \"approach\", \"approach\", \"approach\", \"apps\", \"architecture\", \"architecture\", \"area\", \"area\", \"area\", \"aspect\", \"assembly\", \"assertion\", \"assessment\", \"asset\", \"assistant\", \"associative\", \"assumption\", \"assumption\", \"assumption\", \"assumption\", \"attack\", \"attacker\", \"attacks\", \"attention\", \"attestation\", \"audio\", \"authentication\", \"authentication\", \"author\", \"authorization\", \"automated\", \"automated\", \"automatic\", \"automatic\", \"automatically\", \"automatically\", \"autonomous\", \"backdoor\", \"backdoor\", \"background\", \"ballot\", \"base\", \"base\", \"base\", \"base\", \"base\", \"base\", \"based\", \"based\", \"based\", \"based\", \"based\", \"based\", \"based\", \"baseline\", \"basis\", \"begin\", \"behavior\", \"behavior\", \"benefit\", \"benign\", \"bias\", \"binary\", \"bitcoin\", \"bitcoin\", \"block\", \"block\", \"blockchain\", \"blowfish\", \"bluetooth\", \"boot\", \"botmasters\", \"botnet\", \"botnets\", \"bound\", \"bound\", \"break\", \"bring\", \"bring\", \"bring\", \"bring\", \"broad\", \"broaden\", \"browser\", \"brute_force\", \"built\", \"burden\", \"bypass\", \"cache\", \"cache\", \"camera\", \"capacitor\", \"captcha\", \"captchas\", \"card\", \"carefully_craft\", \"case\", \"case\", \"case\", \"case\", \"case\", \"case\", \"causal\", \"censor\", \"censorship\", \"censorship\", \"certificate\", \"chain\", \"challenge\", \"challenge\", \"challenge\", \"challenge\", \"challenge\", \"challenge\", \"channel\", \"channel\", \"channel\", \"cheaply\", \"check\", \"check\", \"chimera\", \"chip\", \"choice\", \"chosen\", \"cial\", \"circuit\", \"circumvent\", \"class\", \"class\", \"classification\", \"classifier\", \"classify\", \"click\", \"clickjacking\", \"client\", \"client\", \"cloud\", \"cluster\", \"code\", \"code\", \"code\", \"code\", \"coerce\", \"coercion\", \"coin\", \"collector\", \"commercially_available\", \"commodity\", \"communication\", \"communication\", \"communication\", \"community\", \"community\", \"community\", \"compare\", \"compare\", \"compare\", \"compare\", \"compare\", \"competition\", \"compile\", \"complexity\", \"complexity\", \"component\", \"component\", \"component\", \"composed\", \"computation\", \"computational\", \"concentrate\", \"concern\", \"concern\", \"conduct\", \"conduct\", \"conduct\", \"conduct\", \"conduct\", \"configuration\", \"configuration\", \"configure\", \"confine\", \"connection\", \"constant\", \"construction\", \"contactless\", \"contemporary\", \"content\", \"continuity\", \"contract\", \"control\", \"control\", \"control\", \"convert\", \"core\", \"core\", \"core\", \"corpus\", \"correct\", \"correction\", \"correlation\", \"cost\", \"cost\", \"cost\", \"cost\", \"counter\", \"countermeasure\", \"countermeasure\", \"coverage\", \"coverage\", \"cracking\", \"craft\", \"crash\", \"criminal\", \"crypto\", \"cryptocurrency\", \"cryptographic\", \"cryptographic\", \"cryptographic\", \"cryptographic_primitive\", \"current\", \"current\", \"current\", \"current\", \"current\", \"current\", \"customer\", \"cyber\", \"cyber\", \"cybersecurity\", \"daily\", \"damage\", \"data\", \"database\", \"dataset\", \"datasets\", \"dation\", \"ddos\", \"deal\", \"decade\", \"decentralize\", \"decision\", \"decision\", \"declarative\", \"decryption\", \"deem\", \"deep\", \"deep_learning\", \"defeat\", \"defect\", \"defend\", \"defend\", \"defend\", \"defense\", \"define\", \"defined\", \"definition\", \"delay\", \"delete\", \"deletion\", \"deliberately\", \"delivery\", \"demonstrate\", \"demonstrate\", \"demonstrate\", \"demonstrate\", \"demonstrate\", \"demonstrate\", \"deploy\", \"deploy\", \"deploy\", \"deployment\", \"deployment\", \"deployment\", \"derandomizing\", \"deserve\", \"design\", \"design\", \"design\", \"design\", \"design\", \"design\", \"design\", \"design\", \"design\", \"desired\", \"destination\", \"detect\", \"detection\", \"detection\", \"determine\", \"determine\", \"determine\", \"determine\", \"develop\", \"develop\", \"develop\", \"develop\", \"develop\", \"develop\", \"developer\", \"developer\", \"development\", \"device\", \"dgas\", \"dialect\", \"differential\", \"digit\", \"discover\", \"discover\", \"discover\", \"discover\", \"discovery\", \"discuss\", \"discuss\", \"discussion\", \"display\", \"distribute\", \"distribute\", \"distributed\", \"dnefs\", \"document\", \"domain\", \"domain\", \"downstream\", \"downtime\", \"driver\", \"drug\", \"dynamic\", \"dynamic\", \"dynamic\", \"dynamically\", \"effect\", \"effect\", \"effect\", \"effective\", \"effective\", \"effective\", \"effectively\", \"effectively\", \"efficiency\", \"efficiency\", \"efficiency\", \"efficient\", \"efficient\", \"effort\", \"effort\", \"effort\", \"effort\", \"elapsed\", \"election\", \"eliminate\", \"email\", \"email\", \"embed\", \"emerging\", \"employ\", \"employ\", \"employ\", \"employ\", \"enable\", \"enable\", \"enable\", \"enable\", \"enable\", \"enclave\", \"encounter\", \"encrypt\", \"encrypted\", \"encrypted\", \"encryption\", \"encryption\", \"enforce\", \"enforce\", \"enforcement\", \"engine\", \"engine\", \"engine\", \"enterprise\", \"entertainment\", \"enticement\", \"entropy\", \"environment\", \"environment\", \"environment\", \"environment\", \"environment\", \"equal\", \"equipped\", \"error\", \"error\", \"error\", \"error_correcting\", \"established\", \"estimate\", \"estimation\", \"eucalyptus\", \"evaluate\", \"evaluate\", \"evaluate\", \"evaluate\", \"evaluate\", \"evaluate\", \"evaluation\", \"evaluation\", \"evaluation\", \"evaluation\", \"evaluation\", \"evaluation\", \"evaluation\", \"evaluation\", \"event\", \"evolutionary\", \"excalibur\", \"exceptional\", \"exchange\", \"executable\", \"executables\", \"execution\", \"execution\", \"exercise\", \"exhibit\", \"exist\", \"exist\", \"exist\", \"exist\", \"exist\", \"existent\", \"experience\", \"explain\", \"exploit\", \"exploit\", \"exploitation\", \"exposure\", \"express\", \"expressive\", \"extension\", \"extension\", \"facebook\", \"factor\", \"factor\", \"fall_short\", \"false_positive\", \"family\", \"family\", \"family\", \"faster\", \"fault\", \"feature\", \"feature\", \"feature\", \"file\", \"file\", \"filter\", \"filternet\", \"finally\", \"finally\", \"finally\", \"finally\", \"finally\", \"finally\", \"finan\", \"finding\", \"finding\", \"finding\", \"fine_grained\", \"fingerprinting\", \"firewall\", \"firmware\", \"flash\", \"flaw\", \"flaw\", \"flexible\", \"flexible\", \"floodlight\", \"flow\", \"flow\", \"flow\", \"focus\", \"focus\", \"focus\", \"forcibly\", \"forensic\", \"forensic\", \"forever\", \"formal\", \"formally\", \"foster\", \"framework\", \"framework\", \"framework\", \"framework\", \"frequency\", \"frequent\", \"friendly\", \"function\", \"function\", \"future\", \"fuzz\", \"fuzzed\", \"fuzzer\", \"fuzzers\", \"fuzzers\", \"fuzzing\", \"gadget\", \"gallery\", \"game\", \"game_theoretic\", \"gate\", \"gaussian\", \"generalization\", \"generate\", \"generate\", \"generate\", \"generation\", \"generation\", \"generation\", \"genomic\", \"ginger\", \"glavmed\", \"global\", \"goal\", \"goal\", \"goal\", \"google\", \"google\", \"grammar\", \"graph\", \"ground_truth\", \"group\", \"group\", \"guard\", \"guess\", \"guideline\", \"handling\", \"hands\", \"handshake\", \"hardware\", \"hardware\", \"hash\", \"healthcare\", \"heuristic\", \"hidden\", \"hidden\", \"hide\", \"hide\", \"high\", \"high\", \"high\", \"high\", \"high\", \"high\", \"high\", \"highlight\", \"hijack\", \"hijack\", \"hinders\", \"home\", \"hose\", \"host\", \"http\", \"https\", \"human\", \"human\", \"human\", \"human\", \"hurt\", \"hybrid\", \"hyperv\", \"hypervisor\", \"h\\u00e5stad\", \"ideal\", \"identifiable\", \"identify\", \"identify\", \"identify\", \"identify\", \"image\", \"impede\", \"implement\", \"implement\", \"implement\", \"implement\", \"implement\", \"implement\", \"implementation\", \"implementation\", \"implementation\", \"implementation\", \"implementation\", \"implementation\", \"imply\", \"improve\", \"improve\", \"improve\", \"improve\", \"incident\", \"include\", \"include\", \"include\", \"include\", \"include\", \"include\", \"include\", \"include\", \"inconveniently\", \"increase\", \"increase\", \"increase\", \"increase\", \"increase\", \"independence\", \"independent\", \"independent\", \"independent\", \"independent\", \"index\", \"individual\", \"ineffective\", \"inexpensive\", \"infection\", \"inferred\", \"influence\", \"inform\", \"informa\", \"information\", \"information\", \"information\", \"infrastructure\", \"infrastructure\", \"infrastructure\", \"inject\", \"input\", \"input\", \"input\", \"insert\", \"insider\", \"insider_threat\", \"instantiation\", \"instruction\", \"instruction\", \"integrity\", \"integrity\", \"integrity\", \"intel\", \"interaction\", \"interaction\", \"interconnect\", \"interface\", \"interface\", \"internet\", \"internet\", \"internet\", \"interpreter\", \"interview\", \"introduce\", \"introduce\", \"introduce\", \"introduce\", \"introduce\", \"introduce\", \"intrusion_detection\", \"invariant\", \"isolation\", \"issue\", \"issue\", \"issue\", \"java\", \"joomla\", \"jump\", \"kernel\", \"keyboard\", \"keylogger\", \"keywords\", \"langfuzz\", \"language\", \"language\", \"language\\u2014for\", \"large\", \"large\", \"large\", \"large\", \"large\", \"large\", \"large_scale\", \"large_scale\", \"large_scale\", \"large_scale\", \"large_scale\", \"latency\", \"latency\", \"lattice\", \"launch\", \"layer\", \"layer\", \"leak\", \"leak\", \"leakage\", \"learn\", \"learned\", \"learning\", \"legacy\", \"length\", \"lenient\", \"level\", \"level\", \"level\", \"level\", \"levelling\", \"library\", \"likewise\", \"linear\", \"linux\", \"linux\", \"list\", \"literature\", \"literature\", \"live\", \"living\", \"location\", \"lock\", \"logic\", \"logic\", \"machine\", \"machine\", \"machine_learning\", \"mail\", \"maker\", \"malicious\", \"malware\", \"malware\", \"manipulate\", \"manipulation\", \"mark\", \"marking\", \"markup\", \"maximum\", \"measure\", \"measure\", \"measure\", \"measurement\", \"measurement\", \"measurement\", \"mechanism\", \"mechanism\", \"mechanism\", \"mechanism\", \"mechanism\", \"mediate\", \"mediawiki\", \"medical\", \"medical\", \"meeting\", \"memory\", \"mersenne\", \"message\", \"message\", \"metadata\", \"method\", \"metric\", \"metric\", \"million\", \"mining\", \"mislead\", \"mismanagement\", \"mitigate\", \"mitigate\", \"mitigate\", \"mitigate\", \"mitigation\", \"mitigation\", \"mixing\", \"mobile\", \"mode\", \"mode\", \"mode\", \"mode\", \"mode\", \"model\", \"model\", \"modern\", \"modern\", \"modern\", \"module\", \"monitor\", \"monitor\", \"monitoring\", \"moving\", \"multi\", \"multi\", \"multiple\", \"multiple\", \"multiple\", \"multiple\", \"multiple\", \"national\", \"network\", \"neural_network\", \"node\", \"nucaptcha\", \"number\", \"number\", \"number\", \"number\", \"number\", \"number\", \"nxdomain\", \"obfuscate\", \"obfuscation\", \"obfuscation\", \"object\", \"object\", \"observational\", \"observe\", \"observe\", \"observe\", \"observe\", \"obstacle\", \"odds\", \"online\", \"online\", \"online\", \"open_source\", \"open_source\", \"openssl\", \"operating\", \"optimization\", \"optimization\", \"optimized\", \"oram\", \"order\", \"order\", \"order\", \"order\", \"order\", \"order\", \"organization\", \"organization\", \"organizations\\u2014the\", \"oriented_programming\", \"origin\", \"outside\\u2014that\", \"outsource\", \"overhead\", \"overhead\", \"overhead\", \"overhead\", \"package\", \"packet\", \"page\", \"page\", \"paper\", \"paper\", \"paper\", \"paper\", \"paper\", \"paper\", \"paper\", \"paper\", \"paper\", \"paper\", \"parallel\", \"parallelize\", \"parser\", \"participant\", \"participants\", \"partition\", \"party\", \"party\", \"passports\", \"password\", \"password_manager\", \"patch\", \"path\", \"path\", \"payload\", \"payment\", \"payment\", \"peer_peer\", \"people\", \"people\", \"pepper\", \"perform\", \"perform\", \"perform\", \"perform\", \"perform\", \"perform\", \"performance\", \"performance\", \"performance\", \"performance\", \"permission\", \"person\", \"personal\", \"personalization\", \"personalized\", \"perspective\", \"pharmaceutical\", \"phishing\", \"phone\", \"physical\", \"physical\", \"plaintext\", \"platform\", \"platform\", \"platform\", \"plausibly\", \"pointer\", \"poison\", \"policy\", \"popular\", \"popular\", \"popular\", \"population\", \"port\", \"post\", \"power\", \"power\", \"power\", \"power\", \"practical\", \"practical\", \"practical\", \"practical\", \"practice\", \"practice\", \"practice\", \"practice\", \"predictability\", \"prediction\", \"prescription\", \"present\", \"present\", \"present\", \"present\", \"present\", \"present\", \"present\", \"present\", \"present\", \"prevalence\", \"prevent\", \"prevent\", \"previously_unknown\", \"prime_probe\", \"primitive\", \"primitive\", \"primitive\", \"privacy\", \"privacy\", \"private\", \"private\", \"privilege\", \"prng\", \"proactively\", \"probabilistic\", \"probability\", \"probability\", \"problem\", \"problem\", \"problem\", \"problem\", \"problem\", \"problem\", \"process\", \"process\", \"process\", \"process\", \"process\", \"process\", \"processor\", \"product\", \"program\", \"program\", \"programming_language\", \"progressively\", \"prominent\", \"promise\", \"promotion\", \"proof\", \"property\", \"property\", \"propose\", \"propose\", \"propose\", \"propose\", \"propose\", \"protect\", \"protect\", \"protection\", \"protection\", \"protection\", \"protocol\", \"protocol\", \"protocols\", \"prototype\", \"prototype\", \"prototype\", \"prototype\", \"prove\", \"prove\", \"prove\", \"provenance\", \"provide\", \"provide\", \"provide\", \"provide\", \"provide\", \"provide\", \"provide\", \"provider\", \"proxy\", \"public\", \"public\", \"public\", \"public\", \"purchase\", \"quark\", \"query\", \"question\", \"radio\", \"rainbow\", \"random\", \"random\", \"random_oracle\", \"randomization\", \"randomization_aslr\", \"randomized\", \"randomness\", \"ransomware\", \"rapid\", \"rare\", \"rate\", \"rate\", \"reachability\", \"real\", \"real\", \"real\", \"real\", \"real_world\", \"real_world\", \"real_world\", \"real_world\", \"real_world\", \"recipient\", \"recommendation\", \"reconstruction\", \"record\", \"record\", \"recursive\", \"redesign\", \"reduce\", \"reduce\", \"reduce\", \"reduce\", \"reference_string\", \"regime\", \"regression\", \"relaxation\", \"relay\", \"relay\", \"release\", \"reluctant\", \"relying\", \"remain\", \"remain\", \"remain\", \"remanence\", \"renew\", \"repeatedly\", \"representation\", \"representation\", \"require\", \"require\", \"require\", \"require\", \"require\", \"require\", \"require\", \"research\", \"researcher\", \"researcher\", \"residency\", \"resilience\", \"resiliency\", \"resist\", \"resolution\", \"resolvers\", \"resource\", \"responses\", \"responsive\", \"result\", \"result\", \"result\", \"result\", \"result\", \"result\", \"result\", \"result\", \"retain\", \"reuse\", \"reuse\", \"reveal\", \"reveal\", \"reveal\", \"reveal\", \"reverse_engineering\", \"revocation\", \"rigid\", \"rigorous\", \"risk\", \"risk\", \"risk\", \"risk\", \"robust\", \"robustness\", \"round\", \"rout\", \"router\", \"rowhammer\", \"rpki\", \"rule\", \"runtime\", \"runtime\", \"safebutton\", \"safety\", \"safety\", \"sale\", \"saml\", \"sample\", \"sample\", \"sandboxing\", \"satisfy\", \"scale\", \"scale\", \"scale\", \"scale\", \"scan\", \"scheme\", \"scheme\", \"science\", \"score\", \"screen\", \"script\", \"script\", \"seal\", \"search\", \"search_engine\", \"searchable\", \"secrecy\", \"secrecy\", \"secure\", \"secure\", \"secure\", \"secure\", \"secure\", \"security\", \"security\", \"security\", \"seed\", \"seek\", \"select\", \"select\", \"semi_honest\", \"sensitive\", \"sensitive\", \"sensor\", \"separate\", \"server\", \"server\", \"service\", \"setting\", \"setting\", \"setting\", \"shamir\", \"shape\", \"share\", \"share\", \"share\", \"share\", \"share\", \"shibboleth\", \"signal\", \"signature\", \"signature\", \"significant\", \"significant\", \"significant\", \"similarity\", \"simple\", \"simple\", \"simple\", \"site\", \"situation\", \"size\", \"slowdown\", \"smart\", \"smart_contract\", \"smartcards\", \"smartphone\", \"smartphones\", \"smtp\", \"social\", \"social\", \"socket\", \"software\", \"software\", \"software\", \"software\", \"solution\", \"solution\", \"solution\", \"solution\", \"solution\", \"solution\", \"solve\", \"source\", \"source\", \"space\", \"space\", \"space\", \"spam\", \"spamit\", \"sparse\", \"specification\", \"spoof\", \"stack\", \"stalemate\", \"standard\", \"standard\", \"standard\", \"standardized\", \"state\", \"state\", \"state\", \"state\", \"state\", \"state\", \"state\", \"statement\", \"static\", \"statistic\", \"stealthmem\", \"stealthy\", \"stick\", \"storage\", \"store\", \"stringently\", \"structure\", \"structure\", \"structured\", \"student\", \"study\", \"study\", \"study\", \"subsequent\", \"succeed\", \"successfully\", \"successfully\", \"suggest\", \"suggest\", \"suit\", \"suite\", \"suspicious\", \"swiping\", \"swirl\", \"switching\", \"symbol\", \"symbolic_execution\", \"symmetric\", \"synchronized\", \"tabulate\", \"taint\", \"tamper\", \"tardis\", \"target\", \"target\", \"targets\\u2014signaling\", \"technical\", \"technique\", \"technique\", \"technique\", \"technique\", \"technology\", \"technology\", \"template\", \"tenant\", \"termination\", \"test\", \"test\", \"test\", \"testing\", \"text\", \"text\", \"text\", \"theorem\", \"threat\", \"threat\", \"threat\", \"threshold\", \"throughput\", \"throughput\", \"tier\", \"tiered\", \"time\", \"time\", \"time\", \"time\", \"time\", \"tions\", \"token\", \"tolerate\", \"tool\", \"tool\", \"toolchain\", \"topology\", \"trace\", \"trace\", \"trace\", \"track\", \"tracking\", \"tradition\", \"traffic\", \"train\", \"trained\", \"training\", \"transaction\", \"transaction\", \"translate\", \"transparency\", \"treatment\", \"trick\", \"truncate\", \"truncation\", \"trust\", \"trust\", \"trust\", \"trusted\", \"trusted\", \"tunnel\", \"twister\", \"type\", \"type\", \"type\", \"ubifsec\", \"unchanged\", \"unconditional\", \"underground\", \"unexplored\", \"unknown\", \"unknown\", \"unsolicited\", \"unsuspicious\", \"upcoming\", \"update\", \"update\", \"update\", \"upstream\", \"usability\", \"usable\", \"usable\", \"user\", \"user\", \"user\", \"user\", \"users\", \"utility\", \"utility\", \"utilizing\", \"valuable\", \"vector\", \"vector\", \"vehicle\", \"verifiability\", \"verifiable\", \"verification\", \"verification\", \"verifier\", \"verify\", \"verify\", \"victim\", \"victim\", \"video\", \"violate\", \"violation\", \"violation\", \"virtual\", \"virtual\", \"virtual_machine\", \"virtualization\", \"virtualized\", \"virtualized_environment\", \"virus\", \"visit\", \"vital\", \"voice\", \"voice\", \"voluntary\", \"vote\", \"voter\", \"voting\", \"voting\", \"voting\", \"vulnerabilities\", \"vulnerability\", \"vulnerable\", \"vulnerable\", \"vulnerable\", \"vulnerable\", \"vulnerable\", \"ware\", \"weakness\", \"website\", \"widely\", \"widely\", \"widely\", \"widely\", \"wider\", \"windows\", \"wireless\", \"work\", \"work\", \"work\", \"work\", \"work\", \"work\", \"work\", \"workshop\", \"yahoo\", \"year\", \"year\", \"zero_knowledge\"]}, \"R\": 30, \"lambda.step\": 0.01, \"plot.opts\": {\"xlab\": \"PC1\", \"ylab\": \"PC2\"}, \"topic.order\": [2, 4, 12, 5, 1, 7, 3, 6, 8, 10, 9, 11, 13]};\n",
       "\n",
       "function LDAvis_load_lib(url, callback){\n",
       "  var s = document.createElement('script');\n",
       "  s.src = url;\n",
       "  s.async = true;\n",
       "  s.onreadystatechange = s.onload = callback;\n",
       "  s.onerror = function(){console.warn(\"failed to load library \" + url);};\n",
       "  document.getElementsByTagName(\"head\")[0].appendChild(s);\n",
       "}\n",
       "\n",
       "if(typeof(LDAvis) !== \"undefined\"){\n",
       "   // already loaded: just create the visualization\n",
       "   !function(LDAvis){\n",
       "       new LDAvis(\"#\" + \"ldavis_el447181404952234339201197144101\", ldavis_el447181404952234339201197144101_data);\n",
       "   }(LDAvis);\n",
       "}else if(typeof define === \"function\" && define.amd){\n",
       "   // require.js is available: use it to load d3/LDAvis\n",
       "   require.config({paths: {d3: \"https://d3js.org/d3.v5\"}});\n",
       "   require([\"d3\"], function(d3){\n",
       "      window.d3 = d3;\n",
       "      LDAvis_load_lib(\"https://cdn.jsdelivr.net/gh/bmabey/pyLDAvis@3.2.2/pyLDAvis/js/ldavis.v3.0.0.js\", function(){\n",
       "        new LDAvis(\"#\" + \"ldavis_el447181404952234339201197144101\", ldavis_el447181404952234339201197144101_data);\n",
       "      });\n",
       "    });\n",
       "}else{\n",
       "    // require.js not available: dynamically load d3 & LDAvis\n",
       "    LDAvis_load_lib(\"https://d3js.org/d3.v5.js\", function(){\n",
       "         LDAvis_load_lib(\"https://cdn.jsdelivr.net/gh/bmabey/pyLDAvis@3.2.2/pyLDAvis/js/ldavis.v3.0.0.js\", function(){\n",
       "                 new LDAvis(\"#\" + \"ldavis_el447181404952234339201197144101\", ldavis_el447181404952234339201197144101_data);\n",
       "            })\n",
       "         });\n",
       "}\n",
       "</script>"
      ],
      "text/plain": [
       "PreparedData(topic_coordinates=              x         y  topics  cluster      Freq\n",
       "topic                                               \n",
       "1     -0.130908 -0.133632       1        1  7.914716\n",
       "3      0.056807  0.009024       2        1  7.872661\n",
       "11     0.139320 -0.168492       3        1  7.808386\n",
       "4      0.013160 -0.190941       4        1  7.763432\n",
       "0     -0.166218  0.197463       5        1  7.760497\n",
       "6      0.094443 -0.040313       6        1  7.722151\n",
       "2     -0.019481 -0.222435       7        1  7.669233\n",
       "5     -0.181061 -0.010632       8        1  7.667236\n",
       "7     -0.126998  0.168683       9        1  7.621006\n",
       "9     -0.174877  0.107185      10        1  7.598164\n",
       "8      0.280426  0.173843      11        1  7.592988\n",
       "10     0.000083 -0.028025      12        1  7.525302\n",
       "12     0.215307  0.138272      13        1  7.484230, topic_info=            Term         Freq        Total Category  logprob  loglift\n",
       "200       attack  4840.000000  4840.000000  Default  30.0000  30.0000\n",
       "297     security  4215.000000  4215.000000  Default  29.0000  29.0000\n",
       "14          data  3090.000000  3090.000000  Default  28.0000  28.0000\n",
       "196         user  3342.000000  3342.000000  Default  27.0000  27.0000\n",
       "379      network  1907.000000  1907.000000  Default  26.0000  26.0000\n",
       "..           ...          ...          ...      ...      ...      ...\n",
       "97   information   295.861441  1653.711029  Topic13  -4.5016   0.8715\n",
       "299  significant   166.097651   378.945529  Topic13  -5.0789   1.7676\n",
       "329       number   214.888836   850.247252  Topic13  -4.8213   1.2170\n",
       "566      improve   155.716548   415.772065  Topic13  -5.1434   1.6103\n",
       "534        share   126.649459   402.451766  Topic13  -5.3500   1.4362\n",
       "\n",
       "[1034 rows x 6 columns], token_table=      Topic      Freq            Term\n",
       "term                                 \n",
       "2365      1  0.993904        abstract\n",
       "545       1  1.005328     abstraction\n",
       "821       1  0.925359      abstractly\n",
       "2469      9  0.921149    abstract–and\n",
       "0        11  1.002095           abuse\n",
       "...     ...       ...             ...\n",
       "6550      6  1.001411        workshop\n",
       "198      11  1.010977           yahoo\n",
       "69        3  0.307655            year\n",
       "69        6  0.692223            year\n",
       "2657     10  0.996341  zero_knowledge\n",
       "\n",
       "[1504 rows x 3 columns], R=30, lambda_step=0.01, plot_opts={'xlab': 'PC1', 'ylab': 'PC2'}, topic_order=[2, 4, 12, 5, 1, 7, 3, 6, 8, 10, 9, 11, 13])"
      ]
     },
     "execution_count": 16,
     "metadata": {},
     "output_type": "execute_result"
    }
   ],
   "source": [
    "lda_mallet_model = mallet_to_lda(ldamallet)\n",
    "\n",
    "pyLDAvis.enable_notebook()\n",
    "vis = pyLDAvis.gensim.prepare(lda_mallet_model, M1, dictionary)\n",
    "vis"
   ]
  },
  {
   "cell_type": "markdown",
   "id": "falling-liberia",
   "metadata": {},
   "source": [
    "# Panda"
   ]
  },
  {
   "cell_type": "code",
   "execution_count": 34,
   "id": "fifth-starter",
   "metadata": {},
   "outputs": [
    {
     "name": "stderr",
     "output_type": "stream",
     "text": [
      "/Library/Frameworks/Python.framework/Versions/3.8/lib/python3.8/site-packages/ipykernel/ipkernel.py:283: DeprecationWarning: `should_run_async` will not call `transform_cell` automatically in the future. Please pass the result to `transformed_cell` argument and any exception that happen during thetransform in `preprocessing_exc_tuple` in IPython 7.17 and above.\n",
      "  and should_run_async(code)\n"
     ]
    }
   ],
   "source": [
    "import pandas as pd\n",
    "\n",
    "def format_topics_sentences(ldamodel, corpus, texts):\n",
    "    # Init output\n",
    "    sent_topics_df = pd.DataFrame()\n",
    "\n",
    "    # Get main topic in each document\n",
    "    for i, row in enumerate(ldamodel[corpus]):\n",
    "        row = sorted(row, key=lambda x: (x[1]), reverse=True)\n",
    "        # Get the Dominant topic, Perc Contribution and Keywords for each document\n",
    "        for j, (topic_num, prop_topic) in enumerate(row):\n",
    "            if j == 0:  # => dominant topic\n",
    "                wp = ldamodel.show_topic(topic_num)\n",
    "                topic_keywords = \", \".join([word for word, prop in wp])\n",
    "                sent_topics_df = sent_topics_df.append(pd.Series([int(topic_num), round(prop_topic,4), topic_keywords]), ignore_index=True)\n",
    "            else:\n",
    "                break\n",
    "    sent_topics_df.columns = ['Dominant_Topic', 'Perc_Contribution', 'Topic_Keywords']\n",
    "\n",
    "    # Add original text to the end of the output\n",
    "    contents = pd.Series(texts)\n",
    "    sent_topics_df = pd.concat([sent_topics_df, contents], axis=1)\n",
    "    return(sent_topics_df)\n",
    "\n",
    "\n",
    "df_topic_sents_keywords = format_topics_sentences(ldamodel=lda_mallet_model, corpus=M1, texts=corpus_clean_bigram)\n"
   ]
  },
  {
   "cell_type": "markdown",
   "id": "educational-restoration",
   "metadata": {},
   "source": [
    "## Topics per document\n",
    "One of the practical application of topic modeling is to determine what topic a given document is about.\n",
    "\n",
    "To find that, we find the topic number that has the highest percentage contribution in that document.\n",
    "\n",
    "The format_topics_sentences() function below nicely aggregates this information in a presentable table.\n",
    "\n"
   ]
  },
  {
   "cell_type": "code",
   "execution_count": 17,
   "id": "australian-client",
   "metadata": {
    "tags": []
   },
   "outputs": [
    {
     "name": "stderr",
     "output_type": "stream",
     "text": [
      "/Library/Frameworks/Python.framework/Versions/3.8/lib/python3.8/site-packages/ipykernel/ipkernel.py:283: DeprecationWarning: `should_run_async` will not call `transform_cell` automatically in the future. Please pass the result to `transformed_cell` argument and any exception that happen during thetransform in `preprocessing_exc_tuple` in IPython 7.17 and above.\n",
      "  and should_run_async(code)\n"
     ]
    },
    {
     "data": {
      "text/plain": [
       "[(0, 0.08077049),\n",
       " (1, 0.07732314),\n",
       " (2, 0.080983795),\n",
       " (3, 0.08466224),\n",
       " (4, 0.08270285),\n",
       " (5, 0.07905549),\n",
       " (6, 0.07192725),\n",
       " (7, 0.08297962),\n",
       " (8, 0.07244621),\n",
       " (9, 0.06936444),\n",
       " (10, 0.06988384),\n",
       " (11, 0.07437664),\n",
       " (12, 0.07352395)]"
      ]
     },
     "execution_count": 17,
     "metadata": {},
     "output_type": "execute_result"
    }
   ],
   "source": [
    "lda_mallet_model.get_document_topics(M1[1],minimum_probability=0)"
   ]
  },
  {
   "cell_type": "code",
   "execution_count": 35,
   "id": "hourly-combine",
   "metadata": {},
   "outputs": [
    {
     "name": "stderr",
     "output_type": "stream",
     "text": [
      "/Library/Frameworks/Python.framework/Versions/3.8/lib/python3.8/site-packages/ipykernel/ipkernel.py:283: DeprecationWarning: `should_run_async` will not call `transform_cell` automatically in the future. Please pass the result to `transformed_cell` argument and any exception that happen during thetransform in `preprocessing_exc_tuple` in IPython 7.17 and above.\n",
      "  and should_run_async(code)\n"
     ]
    },
    {
     "data": {
      "text/html": [
       "<div>\n",
       "<style scoped>\n",
       "    .dataframe tbody tr th:only-of-type {\n",
       "        vertical-align: middle;\n",
       "    }\n",
       "\n",
       "    .dataframe tbody tr th {\n",
       "        vertical-align: top;\n",
       "    }\n",
       "\n",
       "    .dataframe thead th {\n",
       "        text-align: right;\n",
       "    }\n",
       "</style>\n",
       "<table border=\"1\" class=\"dataframe\">\n",
       "  <thead>\n",
       "    <tr style=\"text-align: right;\">\n",
       "      <th></th>\n",
       "      <th>Document_No</th>\n",
       "      <th>Dominant_Topic</th>\n",
       "      <th>Topic_Perc_Contrib</th>\n",
       "      <th>Keywords</th>\n",
       "      <th>Text</th>\n",
       "    </tr>\n",
       "  </thead>\n",
       "  <tbody>\n",
       "    <tr>\n",
       "      <th>0</th>\n",
       "      <td>0</td>\n",
       "      <td>4.0</td>\n",
       "      <td>0.0817</td>\n",
       "      <td>code, vulnerability, program, analysis, applic...</td>\n",
       "      <td>[online, sale, counterfeit, unauthorized, prod...</td>\n",
       "    </tr>\n",
       "    <tr>\n",
       "      <th>1</th>\n",
       "      <td>1</td>\n",
       "      <td>3.0</td>\n",
       "      <td>0.0847</td>\n",
       "      <td>device, android, apps, authentication, mobile,...</td>\n",
       "      <td>[traditional, spam, detection, rely, content, ...</td>\n",
       "    </tr>\n",
       "    <tr>\n",
       "      <th>2</th>\n",
       "      <td>2</td>\n",
       "      <td>3.0</td>\n",
       "      <td>0.0867</td>\n",
       "      <td>device, android, apps, authentication, mobile,...</td>\n",
       "      <td>[paper, quantify, effect, unsolicited, email, ...</td>\n",
       "    </tr>\n",
       "    <tr>\n",
       "      <th>3</th>\n",
       "      <td>3</td>\n",
       "      <td>10.0</td>\n",
       "      <td>0.0806</td>\n",
       "      <td>attack, attacker, exploit, defense, target, pr...</td>\n",
       "      <td>[explore, robustness, usability, moving, image...</td>\n",
       "    </tr>\n",
       "    <tr>\n",
       "      <th>4</th>\n",
       "      <td>4</td>\n",
       "      <td>3.0</td>\n",
       "      <td>0.0893</td>\n",
       "      <td>device, android, apps, authentication, mobile,...</td>\n",
       "      <td>[help, user, create, strong, text, based, pass...</td>\n",
       "    </tr>\n",
       "    <tr>\n",
       "      <th>5</th>\n",
       "      <td>5</td>\n",
       "      <td>3.0</td>\n",
       "      <td>0.0823</td>\n",
       "      <td>device, android, apps, authentication, mobile,...</td>\n",
       "      <td>[provide, number, practical, technique, algori...</td>\n",
       "    </tr>\n",
       "    <tr>\n",
       "      <th>6</th>\n",
       "      <td>6</td>\n",
       "      <td>1.0</td>\n",
       "      <td>0.0894</td>\n",
       "      <td>security, policy, control, framework, property...</td>\n",
       "      <td>[vulnerabilities, browser, extension, user, ri...</td>\n",
       "    </tr>\n",
       "    <tr>\n",
       "      <th>7</th>\n",
       "      <td>7</td>\n",
       "      <td>0.0</td>\n",
       "      <td>0.0799</td>\n",
       "      <td>network, traffic, communication, internet, mes...</td>\n",
       "      <td>[browser, mediate, access, valuable, private, ...</td>\n",
       "    </tr>\n",
       "    <tr>\n",
       "      <th>8</th>\n",
       "      <td>8</td>\n",
       "      <td>5.0</td>\n",
       "      <td>0.0810</td>\n",
       "      <td>memory, hardware, software, performance, code,...</td>\n",
       "      <td>[cryptographic, rely, secrecy, cryptographic, ...</td>\n",
       "    </tr>\n",
       "    <tr>\n",
       "      <th>9</th>\n",
       "      <td>9</td>\n",
       "      <td>11.0</td>\n",
       "      <td>0.0835</td>\n",
       "      <td>malicious, malware, analysis, detect, detectio...</td>\n",
       "      <td>[brain, interface, increasingly, popular, gami...</td>\n",
       "    </tr>\n",
       "  </tbody>\n",
       "</table>\n",
       "</div>"
      ],
      "text/plain": [
       "   Document_No  Dominant_Topic  Topic_Perc_Contrib  \\\n",
       "0            0             4.0              0.0817   \n",
       "1            1             3.0              0.0847   \n",
       "2            2             3.0              0.0867   \n",
       "3            3            10.0              0.0806   \n",
       "4            4             3.0              0.0893   \n",
       "5            5             3.0              0.0823   \n",
       "6            6             1.0              0.0894   \n",
       "7            7             0.0              0.0799   \n",
       "8            8             5.0              0.0810   \n",
       "9            9            11.0              0.0835   \n",
       "\n",
       "                                            Keywords  \\\n",
       "0  code, vulnerability, program, analysis, applic...   \n",
       "1  device, android, apps, authentication, mobile,...   \n",
       "2  device, android, apps, authentication, mobile,...   \n",
       "3  attack, attacker, exploit, defense, target, pr...   \n",
       "4  device, android, apps, authentication, mobile,...   \n",
       "5  device, android, apps, authentication, mobile,...   \n",
       "6  security, policy, control, framework, property...   \n",
       "7  network, traffic, communication, internet, mes...   \n",
       "8  memory, hardware, software, performance, code,...   \n",
       "9  malicious, malware, analysis, detect, detectio...   \n",
       "\n",
       "                                                Text  \n",
       "0  [online, sale, counterfeit, unauthorized, prod...  \n",
       "1  [traditional, spam, detection, rely, content, ...  \n",
       "2  [paper, quantify, effect, unsolicited, email, ...  \n",
       "3  [explore, robustness, usability, moving, image...  \n",
       "4  [help, user, create, strong, text, based, pass...  \n",
       "5  [provide, number, practical, technique, algori...  \n",
       "6  [vulnerabilities, browser, extension, user, ri...  \n",
       "7  [browser, mediate, access, valuable, private, ...  \n",
       "8  [cryptographic, rely, secrecy, cryptographic, ...  \n",
       "9  [brain, interface, increasingly, popular, gami...  "
      ]
     },
     "execution_count": 35,
     "metadata": {},
     "output_type": "execute_result"
    }
   ],
   "source": [
    "# Format\n",
    "df_dominant_topic = df_topic_sents_keywords.reset_index()\n",
    "df_dominant_topic.columns = ['Document_No', 'Dominant_Topic', 'Topic_Perc_Contrib', 'Keywords', 'Text']\n",
    "\n",
    "# Show\n",
    "df_dominant_topic.head(10)"
   ]
  },
  {
   "cell_type": "code",
   "execution_count": 52,
   "id": "official-somerset",
   "metadata": {},
   "outputs": [
    {
     "data": {
      "text/plain": [
       "'Vulnerabilities in browser extensions put users at risk by providing a way for website and network attackers to gain access to users’ private data and credentials. Extensions can also introduce vulnerabilities into the websites that they modify. In 2009, Google Chrome introduced a new extension platform with several features intended to prevent and mitigate extension vulnerabilities: strong isolation between websites and extensions, privilege separation within an extension, and an extension permission system. We performed a security review of 100 Chrome extensions and found 70 vulnerabilities across 40 extensions. Given these vulnerabilities, we evaluate how well each of the security mechanisms defends against extension vulnerabilities. We find that the mechanisms mostly succeed at preventing web attacks, but new security mechanisms are needed to protect users from network attacks on extensions, website metadata attacks on extensions, and vulnerabilities that extensions add to websites. We propose and evaluate additional defenses, and we conclude that banning HTTP scripts and inline scripts would prevent 47 of the 50 most severe vulnerabilities with only modest impact on developers.'"
      ]
     },
     "execution_count": 52,
     "metadata": {},
     "output_type": "execute_result"
    }
   ],
   "source": [
    "corpus[6]"
   ]
  },
  {
   "cell_type": "markdown",
   "id": "tropical-withdrawal",
   "metadata": {},
   "source": [
    "## Most representative document per topic\n",
    "Sometimes just the topic keywords may not be enough to make sense of what a topic is about. So, to help with understanding the topic, you can find the documents a given topic has contributed to the most and infer the topic by reading that document."
   ]
  },
  {
   "cell_type": "code",
   "execution_count": 27,
   "id": "deluxe-recipe",
   "metadata": {},
   "outputs": [
    {
     "name": "stderr",
     "output_type": "stream",
     "text": [
      "/Library/Frameworks/Python.framework/Versions/3.8/lib/python3.8/site-packages/ipykernel/ipkernel.py:283: DeprecationWarning: `should_run_async` will not call `transform_cell` automatically in the future. Please pass the result to `transformed_cell` argument and any exception that happen during thetransform in `preprocessing_exc_tuple` in IPython 7.17 and above.\n",
      "  and should_run_async(code)\n"
     ]
    },
    {
     "data": {
      "text/html": [
       "<div>\n",
       "<style scoped>\n",
       "    .dataframe tbody tr th:only-of-type {\n",
       "        vertical-align: middle;\n",
       "    }\n",
       "\n",
       "    .dataframe tbody tr th {\n",
       "        vertical-align: top;\n",
       "    }\n",
       "\n",
       "    .dataframe thead th {\n",
       "        text-align: right;\n",
       "    }\n",
       "</style>\n",
       "<table border=\"1\" class=\"dataframe\">\n",
       "  <thead>\n",
       "    <tr style=\"text-align: right;\">\n",
       "      <th></th>\n",
       "      <th>Topic_Num</th>\n",
       "      <th>Topic_Perc_Contrib</th>\n",
       "      <th>Keywords</th>\n",
       "      <th>Text</th>\n",
       "    </tr>\n",
       "  </thead>\n",
       "  <tbody>\n",
       "    <tr>\n",
       "      <th>0</th>\n",
       "      <td>0.0</td>\n",
       "      <td>0.1105</td>\n",
       "      <td>network, traffic, communication, internet, mes...</td>\n",
       "      <td>[blocking, microarchitectural, digital, channe...</td>\n",
       "    </tr>\n",
       "    <tr>\n",
       "      <th>1</th>\n",
       "      <td>1.0</td>\n",
       "      <td>0.0999</td>\n",
       "      <td>security, policy, control, framework, property...</td>\n",
       "      <td>[voice, interface, accept, widely, input, meth...</td>\n",
       "    </tr>\n",
       "    <tr>\n",
       "      <th>2</th>\n",
       "      <td>2.0</td>\n",
       "      <td>0.1001</td>\n",
       "      <td>model, method, technique, approach, algorithm,...</td>\n",
       "      <td>[develop, economic, model, offline, password, ...</td>\n",
       "    </tr>\n",
       "    <tr>\n",
       "      <th>3</th>\n",
       "      <td>3.0</td>\n",
       "      <td>0.1151</td>\n",
       "      <td>device, android, apps, authentication, mobile,...</td>\n",
       "      <td>[trustzone, widely, deploy, security, architec...</td>\n",
       "    </tr>\n",
       "    <tr>\n",
       "      <th>4</th>\n",
       "      <td>4.0</td>\n",
       "      <td>0.1073</td>\n",
       "      <td>code, vulnerability, program, analysis, applic...</td>\n",
       "      <td>[kernel, attractive, target, remote, attacker,...</td>\n",
       "    </tr>\n",
       "    <tr>\n",
       "      <th>5</th>\n",
       "      <td>5.0</td>\n",
       "      <td>0.0952</td>\n",
       "      <td>memory, hardware, software, performance, code,...</td>\n",
       "      <td>[decentralized_cryptocurrencies, rely, partici...</td>\n",
       "    </tr>\n",
       "    <tr>\n",
       "      <th>6</th>\n",
       "      <td>6.0</td>\n",
       "      <td>0.1062</td>\n",
       "      <td>security, research, challenge, design, paper, ...</td>\n",
       "      <td>[mobile, application, developer, rely, heavily...</td>\n",
       "    </tr>\n",
       "    <tr>\n",
       "      <th>7</th>\n",
       "      <td>7.0</td>\n",
       "      <td>0.0946</td>\n",
       "      <td>data, information, application, server, access...</td>\n",
       "      <td>[dynamic, binary, taint, analysis, wide, appli...</td>\n",
       "    </tr>\n",
       "    <tr>\n",
       "      <th>8</th>\n",
       "      <td>8.0</td>\n",
       "      <td>0.1000</td>\n",
       "      <td>user, service, browser, popular, content, stud...</td>\n",
       "      <td>[nowadays, internet, rout, attack, remain, pra...</td>\n",
       "    </tr>\n",
       "    <tr>\n",
       "      <th>9</th>\n",
       "      <td>9.0</td>\n",
       "      <td>0.0902</td>\n",
       "      <td>protocol, secure, scheme, computation, efficie...</td>\n",
       "      <td>[large, enterprise, increasingly, rely, threat...</td>\n",
       "    </tr>\n",
       "    <tr>\n",
       "      <th>10</th>\n",
       "      <td>10.0</td>\n",
       "      <td>0.1351</td>\n",
       "      <td>attack, attacker, exploit, defense, target, pr...</td>\n",
       "      <td>[generation, scam, emerge, voice, impersonatio...</td>\n",
       "    </tr>\n",
       "    <tr>\n",
       "      <th>11</th>\n",
       "      <td>11.0</td>\n",
       "      <td>0.1261</td>\n",
       "      <td>malicious, malware, analysis, detect, detectio...</td>\n",
       "      <td>[program, obfuscation, popular, cryptographic,...</td>\n",
       "    </tr>\n",
       "    <tr>\n",
       "      <th>12</th>\n",
       "      <td>12.0</td>\n",
       "      <td>0.0891</td>\n",
       "      <td>user, privacy, study, password, result, locati...</td>\n",
       "      <td>[phishing, particularly, spear, phishing, majo...</td>\n",
       "    </tr>\n",
       "  </tbody>\n",
       "</table>\n",
       "</div>"
      ],
      "text/plain": [
       "    Topic_Num  Topic_Perc_Contrib  \\\n",
       "0         0.0              0.1105   \n",
       "1         1.0              0.0999   \n",
       "2         2.0              0.1001   \n",
       "3         3.0              0.1151   \n",
       "4         4.0              0.1073   \n",
       "5         5.0              0.0952   \n",
       "6         6.0              0.1062   \n",
       "7         7.0              0.0946   \n",
       "8         8.0              0.1000   \n",
       "9         9.0              0.0902   \n",
       "10       10.0              0.1351   \n",
       "11       11.0              0.1261   \n",
       "12       12.0              0.0891   \n",
       "\n",
       "                                             Keywords  \\\n",
       "0   network, traffic, communication, internet, mes...   \n",
       "1   security, policy, control, framework, property...   \n",
       "2   model, method, technique, approach, algorithm,...   \n",
       "3   device, android, apps, authentication, mobile,...   \n",
       "4   code, vulnerability, program, analysis, applic...   \n",
       "5   memory, hardware, software, performance, code,...   \n",
       "6   security, research, challenge, design, paper, ...   \n",
       "7   data, information, application, server, access...   \n",
       "8   user, service, browser, popular, content, stud...   \n",
       "9   protocol, secure, scheme, computation, efficie...   \n",
       "10  attack, attacker, exploit, defense, target, pr...   \n",
       "11  malicious, malware, analysis, detect, detectio...   \n",
       "12  user, privacy, study, password, result, locati...   \n",
       "\n",
       "                                                 Text  \n",
       "0   [blocking, microarchitectural, digital, channe...  \n",
       "1   [voice, interface, accept, widely, input, meth...  \n",
       "2   [develop, economic, model, offline, password, ...  \n",
       "3   [trustzone, widely, deploy, security, architec...  \n",
       "4   [kernel, attractive, target, remote, attacker,...  \n",
       "5   [decentralized_cryptocurrencies, rely, partici...  \n",
       "6   [mobile, application, developer, rely, heavily...  \n",
       "7   [dynamic, binary, taint, analysis, wide, appli...  \n",
       "8   [nowadays, internet, rout, attack, remain, pra...  \n",
       "9   [large, enterprise, increasingly, rely, threat...  \n",
       "10  [generation, scam, emerge, voice, impersonatio...  \n",
       "11  [program, obfuscation, popular, cryptographic,...  \n",
       "12  [phishing, particularly, spear, phishing, majo...  "
      ]
     },
     "execution_count": 27,
     "metadata": {},
     "output_type": "execute_result"
    }
   ],
   "source": [
    "# Group top 5 corpuses under each topic\n",
    "sent_topics_sorteddf_mallet = pd.DataFrame()\n",
    "\n",
    "sent_topics_outdf_grpd = df_topic_sents_keywords.groupby('Dominant_Topic')\n",
    "\n",
    "for i, grp in sent_topics_outdf_grpd:\n",
    "    sent_topics_sorteddf_mallet = pd.concat([sent_topics_sorteddf_mallet, \n",
    "                                             grp.sort_values(['Perc_Contribution'], ascending=[0]).head(1)], \n",
    "                                            axis=0)\n",
    "\n",
    "# Reset Index    \n",
    "sent_topics_sorteddf_mallet.reset_index(drop=True, inplace=True)\n",
    "\n",
    "# Format\n",
    "sent_topics_sorteddf_mallet.columns = ['Topic_Num', \"Topic_Perc_Contrib\", \"Keywords\", \"Text\"]\n",
    "\n",
    "# Show\n",
    "sent_topics_sorteddf_mallet"
   ]
  },
  {
   "cell_type": "markdown",
   "id": "transsexual-jackson",
   "metadata": {},
   "source": [
    "## Topic distribution across documents\n",
    "Finally, we want to understand the volume and distribution of topics in order to judge how widely it was discussed. The below table exposes that information."
   ]
  },
  {
   "cell_type": "code",
   "execution_count": 131,
   "id": "casual-particle",
   "metadata": {},
   "outputs": [
    {
     "name": "stderr",
     "output_type": "stream",
     "text": [
      "/Library/Frameworks/Python.framework/Versions/3.8/lib/python3.8/site-packages/ipykernel/ipkernel.py:283: DeprecationWarning: `should_run_async` will not call `transform_cell` automatically in the future. Please pass the result to `transformed_cell` argument and any exception that happen during thetransform in `preprocessing_exc_tuple` in IPython 7.17 and above.\n",
      "  and should_run_async(code)\n"
     ]
    },
    {
     "data": {
      "text/html": [
       "<div>\n",
       "<style scoped>\n",
       "    .dataframe tbody tr th:only-of-type {\n",
       "        vertical-align: middle;\n",
       "    }\n",
       "\n",
       "    .dataframe tbody tr th {\n",
       "        vertical-align: top;\n",
       "    }\n",
       "\n",
       "    .dataframe thead th {\n",
       "        text-align: right;\n",
       "    }\n",
       "</style>\n",
       "<table border=\"1\" class=\"dataframe\">\n",
       "  <thead>\n",
       "    <tr style=\"text-align: right;\">\n",
       "      <th></th>\n",
       "      <th>Dominant_Topic</th>\n",
       "      <th>Topic_Keywords</th>\n",
       "      <th>Num_Documents</th>\n",
       "      <th>Perc_Documents</th>\n",
       "    </tr>\n",
       "  </thead>\n",
       "  <tbody>\n",
       "    <tr>\n",
       "      <th>0</th>\n",
       "      <td>4</td>\n",
       "      <td>code, vulnerability, program, analysis, applic...</td>\n",
       "      <td>309</td>\n",
       "      <td>0.0836</td>\n",
       "    </tr>\n",
       "    <tr>\n",
       "      <th>1</th>\n",
       "      <td>3</td>\n",
       "      <td>device, android, apps, authentication, mobile,...</td>\n",
       "      <td>543</td>\n",
       "      <td>0.1470</td>\n",
       "    </tr>\n",
       "    <tr>\n",
       "      <th>2</th>\n",
       "      <td>3</td>\n",
       "      <td>device, android, apps, authentication, mobile,...</td>\n",
       "      <td>543</td>\n",
       "      <td>0.1470</td>\n",
       "    </tr>\n",
       "    <tr>\n",
       "      <th>3</th>\n",
       "      <td>10</td>\n",
       "      <td>attack, attacker, exploit, defense, target, pr...</td>\n",
       "      <td>134</td>\n",
       "      <td>0.0363</td>\n",
       "    </tr>\n",
       "    <tr>\n",
       "      <th>4</th>\n",
       "      <td>3</td>\n",
       "      <td>device, android, apps, authentication, mobile,...</td>\n",
       "      <td>543</td>\n",
       "      <td>0.1470</td>\n",
       "    </tr>\n",
       "    <tr>\n",
       "      <th>...</th>\n",
       "      <td>...</td>\n",
       "      <td>...</td>\n",
       "      <td>...</td>\n",
       "      <td>...</td>\n",
       "    </tr>\n",
       "    <tr>\n",
       "      <th>3689</th>\n",
       "      <td>11</td>\n",
       "      <td>malicious, malware, analysis, detect, detectio...</td>\n",
       "      <td>437</td>\n",
       "      <td>0.1183</td>\n",
       "    </tr>\n",
       "    <tr>\n",
       "      <th>3690</th>\n",
       "      <td>3</td>\n",
       "      <td>device, android, apps, authentication, mobile,...</td>\n",
       "      <td>543</td>\n",
       "      <td>0.1470</td>\n",
       "    </tr>\n",
       "    <tr>\n",
       "      <th>3691</th>\n",
       "      <td>4</td>\n",
       "      <td>code, vulnerability, program, analysis, applic...</td>\n",
       "      <td>309</td>\n",
       "      <td>0.0836</td>\n",
       "    </tr>\n",
       "    <tr>\n",
       "      <th>3692</th>\n",
       "      <td>4</td>\n",
       "      <td>code, vulnerability, program, analysis, applic...</td>\n",
       "      <td>309</td>\n",
       "      <td>0.0836</td>\n",
       "    </tr>\n",
       "    <tr>\n",
       "      <th>3693</th>\n",
       "      <td>8</td>\n",
       "      <td>user, service, browser, popular, content, stud...</td>\n",
       "      <td>169</td>\n",
       "      <td>0.0457</td>\n",
       "    </tr>\n",
       "  </tbody>\n",
       "</table>\n",
       "<p>3694 rows × 4 columns</p>\n",
       "</div>"
      ],
      "text/plain": [
       "      Dominant_Topic                                     Topic_Keywords  \\\n",
       "0                  4  code, vulnerability, program, analysis, applic...   \n",
       "1                  3  device, android, apps, authentication, mobile,...   \n",
       "2                  3  device, android, apps, authentication, mobile,...   \n",
       "3                 10  attack, attacker, exploit, defense, target, pr...   \n",
       "4                  3  device, android, apps, authentication, mobile,...   \n",
       "...              ...                                                ...   \n",
       "3689              11  malicious, malware, analysis, detect, detectio...   \n",
       "3690               3  device, android, apps, authentication, mobile,...   \n",
       "3691               4  code, vulnerability, program, analysis, applic...   \n",
       "3692               4  code, vulnerability, program, analysis, applic...   \n",
       "3693               8  user, service, browser, popular, content, stud...   \n",
       "\n",
       "      Num_Documents  Perc_Documents  \n",
       "0               309          0.0836  \n",
       "1               543          0.1470  \n",
       "2               543          0.1470  \n",
       "3               134          0.0363  \n",
       "4               543          0.1470  \n",
       "...             ...             ...  \n",
       "3689            437          0.1183  \n",
       "3690            543          0.1470  \n",
       "3691            309          0.0836  \n",
       "3692            309          0.0836  \n",
       "3693            169          0.0457  \n",
       "\n",
       "[3694 rows x 4 columns]"
      ]
     },
     "execution_count": 131,
     "metadata": {},
     "output_type": "execute_result"
    }
   ],
   "source": [
    "# Number of Documents for Each Topic\n",
    "topic_counts = df_topic_sents_keywords['Dominant_Topic'].value_counts()\n",
    "dominant_topic_list = topic_counts.rename_axis('Dominant_Topic').reset_index(name='Num_Topics')\n",
    "\n",
    "# Percentage of Documents for Each Topic\n",
    "topic_contribution = round(topic_counts/topic_counts.sum(), 4)\n",
    "dominant_topic_contribution = topic_contribution.rename_axis('Dominant_Topic').reset_index(name='Topics_Contribution')\n",
    "\n",
    "# Topic Number and Keywords\n",
    "topic_num_keywords = df_topic_sents_keywords[['Dominant_Topic', 'Topic_Keywords']]\n",
    "topic_num_keywords.reset_index(level=0, inplace=True)\n",
    "topic_num_keywords.columns = ['Document_ID', 'Dominant_Topic', 'Topic_Keywords']\n",
    "\n",
    "# Concatenate Column wise\n",
    "df_dominant_topics_contribution = pd.merge(dominant_topic_list, dominant_topic_contribution, how=\"inner\", on=['Dominant_Topic', 'Dominant_Topic'])\n",
    "df_dominant_topics = pd.merge(topic_num_keywords, df_dominant_topics_contribution, how=\"inner\", on=['Dominant_Topic', 'Dominant_Topic'])\n",
    "\n",
    "# Sort by Document ID\n",
    "df_dominant_topics = df_dominant_topics.sort_values(by=['Document_ID']).reset_index(drop=True).drop('Document_ID', axis=1)\n",
    "\n",
    "# Change Column names\n",
    "df_dominant_topics.columns = ['Dominant_Topic', 'Topic_Keywords', 'Num_Documents', 'Perc_Documents']\n",
    "\n",
    "# Change to integer\n",
    "df_dominant_topics['Dominant_Topic'] = df_dominant_topics['Dominant_Topic'].astype(np.int64)\n",
    "\n",
    "# Show\n",
    "df_dominant_topics"
   ]
  },
  {
   "cell_type": "code",
   "execution_count": null,
   "id": "assigned-firewall",
   "metadata": {},
   "outputs": [],
   "source": []
  }
 ],
 "metadata": {
  "kernelspec": {
   "display_name": "Python 3",
   "language": "python",
   "name": "python3"
  },
  "language_info": {
   "codemirror_mode": {
    "name": "ipython",
    "version": 3
   },
   "file_extension": ".py",
   "mimetype": "text/x-python",
   "name": "python",
   "nbconvert_exporter": "python",
   "pygments_lexer": "ipython3",
   "version": "3.8.8"
  }
 },
 "nbformat": 4,
 "nbformat_minor": 5
}
