{
 "cells": [
  {
   "cell_type": "markdown",
   "id": "going-exemption",
   "metadata": {},
   "source": [
    "# Topic Modeling on Security Conferences\n",
    "### Files needed\n",
    "1. Reads files from the folders /abstracts and /authors\n",
    "2. Reads LDA Mallet model from the folder /mallet-2.0.8\n",
    "### "
   ]
  },
  {
   "cell_type": "code",
   "execution_count": 70,
   "id": "incomplete-anxiety",
   "metadata": {},
   "outputs": [],
   "source": [
    "import warnings\n",
    "warnings.filterwarnings(\"ignore\", category=DeprecationWarning)"
   ]
  },
  {
   "cell_type": "markdown",
   "id": "accompanied-contamination",
   "metadata": {},
   "source": [
    "## Imports and read file to corpus"
   ]
  },
  {
   "cell_type": "code",
   "execution_count": 92,
   "id": "august-thailand",
   "metadata": {},
   "outputs": [],
   "source": [
    "import nltk\n",
    "import gensim\n",
    "import re\n",
    "from gensim import corpora\n",
    "from gensim.parsing.preprocessing import *\n",
    "from gensim.models import CoherenceModel\n",
    "from nltk.stem import WordNetLemmatizer\n",
    "from nltk.corpus import wordnet\n",
    "#nltk.download('stopwords')      # If this code block complains, comment out this line\n",
    "#nltk.download('punkt')\n",
    "#nltk.download('averaged_perceptron_tagger')\n",
    "#nltk.download('wordnet')\n",
    "from nltk.corpus import stopwords\n",
    "import pyLDAvis.gensim\n",
    "import numpy as np\n",
    "import os\n",
    "from pprint import pprint\n",
    "# Figures\n",
    "import matplotlib.pyplot as plt\n",
    "from matplotlib.pyplot import figure\n",
    "\n",
    "os.environ['MALLET_HOME']='mallet-2.0.8'\n",
    "mallet_path = 'mallet-2.0.8/bin/mallet'"
   ]
  },
  {
   "cell_type": "code",
   "execution_count": 68,
   "id": "conservative-baptist",
   "metadata": {},
   "outputs": [],
   "source": [
    "def readFile(filename):\n",
    "    fileData = \"\"\n",
    "    file = open(\"abstracts/\" + filename, 'r', encoding='utf8')\n",
    "    fileData = file.read().splitlines()\n",
    "    file.close\n",
    "    return fileData"
   ]
  },
  {
   "cell_type": "code",
   "execution_count": 69,
   "id": "resistant-puppy",
   "metadata": {
    "tags": []
   },
   "outputs": [
    {
     "data": {
      "text/plain": [
       "3694"
      ]
     },
     "execution_count": 69,
     "metadata": {},
     "output_type": "execute_result"
    }
   ],
   "source": [
    "corpus = []\n",
    "\n",
    "\n",
    "for i in range (2012,2020):\n",
    "    conference = readFile('usenix' + str(i) + 'Abstracts.txt')\n",
    "    for abstract in conference:\n",
    "        corpus.append(abstract)\n",
    "for i in range (2011,2020):\n",
    "    conference = readFile('css' + str(i) + 'Abstracts.txt')\n",
    "    for abstract in conference:\n",
    "        corpus.append(abstract)\n",
    "for i in range (2000,2020):\n",
    "    conference = readFile('ieee' + str(i) + 'Abstracts.txt')\n",
    "    for abstract in conference:\n",
    "        corpus.append(abstract)\n",
    "for i in range (2012,2020):\n",
    "    conference = readFile('ndss' + str(i) + 'Abstracts.txt')\n",
    "    for abstract in conference:\n",
    "        corpus.append(abstract)\n",
    "        \n",
    "#print(corpus)\n",
    "len(corpus)"
   ]
  },
  {
   "cell_type": "markdown",
   "id": "funky-communication",
   "metadata": {},
   "source": [
    "## Preprocessing of the corpus\n",
    "Preprocess the raw corpues into a list of words for each document"
   ]
  },
  {
   "cell_type": "code",
   "execution_count": 71,
   "id": "intellectual-council",
   "metadata": {
    "tags": []
   },
   "outputs": [],
   "source": [
    "lemmatizer = WordNetLemmatizer()\n",
    "\n",
    "# function to convert nltk tag to wordnet tag\n",
    "def nltk_tag_to_wordnet_tag(nltk_tag):\n",
    "    if nltk_tag.startswith('J'):\n",
    "        return wordnet.ADJ\n",
    "    elif nltk_tag.startswith('V'):\n",
    "        return wordnet.VERB\n",
    "    elif nltk_tag.startswith('N'):\n",
    "        return wordnet.NOUN\n",
    "    elif nltk_tag.startswith('R'):\n",
    "        return wordnet.ADV\n",
    "    else:          \n",
    "        return None\n",
    "\n",
    "def lemmatize_sentence(sentence):\n",
    "    #tokenize the sentence and find the POS tag for each token\n",
    "    nltk_tagged = nltk.pos_tag(nltk.word_tokenize(sentence))  \n",
    "    #tuple of (token, wordnet_tag)\n",
    "    wordnet_tagged = map(lambda x: (x[0], nltk_tag_to_wordnet_tag(x[1])), nltk_tagged)\n",
    "    lemmatized_sentence = []\n",
    "    for word, tag in wordnet_tagged:\n",
    "        if tag is None:\n",
    "            #if there is no available tag, append the token as is\n",
    "            # lemmatized_sentence.append(word)\n",
    "            pass# This part is modified so that we will just have ADJ VERB NOUN ADVERB remained \n",
    "        else:        \n",
    "            #else use the tag to lemmatize the token\n",
    "            lemmatized_sentence.append(lemmatizer.lemmatize(word, tag))\n",
    "    return \" \".join(lemmatized_sentence)"
   ]
  },
  {
   "cell_type": "code",
   "execution_count": 72,
   "id": "soviet-house",
   "metadata": {},
   "outputs": [],
   "source": [
    "CUSTOM_FILTERS = [\n",
    "    strip_tags,                            # Remove HTML tags and such\n",
    "    strip_punctuation,                     # Remove punctuation\n",
    "    strip_multiple_whitespaces,            # Remove unecessary space and such\n",
    "    strip_numeric,                         # Remove numbers\n",
    "    lambda x: strip_short(x, 4),           # Remove words shorter than 2 chars\n",
    "    lambda y: y.replace('“', ''),          # Removes quation marks\n",
    "    lambda z: z.replace('”', ''),          # Removes quation marks\n",
    "    lambda a: a.lower(),                   # Makes the corpus lowercase\n",
    "    lambda z: remove_stopwords(z)          # Removes stopwords \n",
    "]\n",
    "\n",
    "def clean_doc(doc):\n",
    "    lematized_doc = lemmatize_sentence(doc)\n",
    "    cleanDoc = preprocess_string(lematized_doc, CUSTOM_FILTERS)\n",
    "    return cleanDoc\n",
    "\n",
    "corpus_clean = [clean_doc(doc) for doc in corpus]"
   ]
  },
  {
   "cell_type": "markdown",
   "id": "latin-porter",
   "metadata": {
    "tags": []
   },
   "source": [
    "### Contiune the preprocessing, now with the list of words. Creating bigrams"
   ]
  },
  {
   "cell_type": "code",
   "execution_count": 73,
   "id": "romance-majority",
   "metadata": {
    "tags": []
   },
   "outputs": [],
   "source": [
    "bigram = gensim.models.Phrases(corpus_clean, min_count=5, threshold=100) # higher threshold fewer phrases.\n",
    "bigram_mod = gensim.models.phrases.Phraser(bigram)\n",
    "\n",
    "def make_bigrams(corpus):\n",
    "    return [bigram_mod[doc] for doc in corpus]\n",
    "\n",
    "corpus_clean_bigram = make_bigrams(corpus_clean)"
   ]
  },
  {
   "cell_type": "markdown",
   "id": "prepared-heart",
   "metadata": {},
   "source": [
    "### Splitting the corpus and making it into a dictionary"
   ]
  },
  {
   "cell_type": "code",
   "execution_count": 74,
   "id": "indonesian-speed",
   "metadata": {
    "tags": []
   },
   "outputs": [],
   "source": [
    "dictionary = corpora.Dictionary(corpus_clean_bigram)\n",
    "M1 = [dictionary.doc2bow(doc) for doc in corpus_clean_bigram]"
   ]
  },
  {
   "cell_type": "markdown",
   "id": "retained-wholesale",
   "metadata": {},
   "source": [
    "### Making the tfidf model\n",
    "Not in use for LDA Mallet"
   ]
  },
  {
   "cell_type": "code",
   "execution_count": 76,
   "id": "earlier-friendly",
   "metadata": {
    "tags": []
   },
   "outputs": [],
   "source": [
    "tfidf_model = gensim.models.TfidfModel(M1)\n",
    "tfidf_M1 = tfidf_model[M1]\n",
    "#print(tfidf_model)\n",
    "#print(tfidf_M1)\n",
    "#print(M1)"
   ]
  },
  {
   "cell_type": "markdown",
   "id": "hidden-occasions",
   "metadata": {},
   "source": [
    "## Finding optimal number of topics\n",
    "Machinelearingplus.com approach to finding the optimal number of topics is to build many LDA models with different values of number of topics (k) and pick the one that gives the highest coherence value.\n",
    "\n",
    "Choosing a ‘k’ that marks the end of a rapid growth of topic coherence usually offers meaningful and interpretable topics. Picking an even higher value can sometimes provide more granular sub-topics.\n",
    "\n",
    "If you see the same keywords being repeated in multiple topics, it’s probably a sign that the ‘k’ is too large.\n",
    "\n",
    "The compute_coherence_values() (see below) trains multiple LDA models and provides the models and their corresponding coherence scores."
   ]
  },
  {
   "cell_type": "code",
   "execution_count": 78,
   "id": "eleven-forest",
   "metadata": {},
   "outputs": [],
   "source": [
    "def compute_coherence_values(dictionary, corpus, texts, limit, start, step):\n",
    "    \"\"\"\n",
    "    Compute c_v coherence for various number of topics\n",
    "\n",
    "    Parameters:\n",
    "    ----------\n",
    "    dictionary : Gensim dictionary\n",
    "    corpus : Gensim corpus\n",
    "    texts : List of input texts\n",
    "    limit : Max num of topics\n",
    "\n",
    "    Returns:\n",
    "    -------\n",
    "    model_list : List of LDA topic models\n",
    "    coherence_values : Coherence values corresponding to the LDA model with respective number of topics\n",
    "    \"\"\"\n",
    "    coherence_values = []\n",
    "    model_list = []\n",
    "    for num_topics in range(start, limit, step):\n",
    "        model = gensim.models.wrappers.LdaMallet(mallet_path, corpus=corpus, num_topics=num_topics, id2word=dictionary)\n",
    "        model_list.append(model)\n",
    "        coherencemodel = CoherenceModel(model=model, texts=texts, dictionary=dictionary, coherence='c_v')\n",
    "        coherence_values.append(coherencemodel.get_coherence())\n",
    "\n",
    "        print(num_topics)\n",
    "        \n",
    "    return model_list, coherence_values"
   ]
  },
  {
   "cell_type": "markdown",
   "id": "representative-retrieval",
   "metadata": {},
   "source": [
    "### Coherence score over topics, Stepping every 4th\n",
    "Stepping from 2 to 104 with a step length of 4"
   ]
  },
  {
   "cell_type": "code",
   "execution_count": 79,
   "id": "formed-festival",
   "metadata": {
    "collapsed": true,
    "jupyter": {
     "outputs_hidden": true
    },
    "tags": []
   },
   "outputs": [
    {
     "name": "stdout",
     "output_type": "stream",
     "text": [
      "2\n",
      "3\n",
      "4\n",
      "5\n",
      "6\n",
      "7\n",
      "8\n",
      "9\n",
      "10\n",
      "11\n",
      "12\n",
      "13\n",
      "14\n",
      "15\n",
      "16\n",
      "17\n",
      "18\n",
      "19\n",
      "20\n",
      "21\n",
      "22\n",
      "23\n",
      "24\n",
      "25\n",
      "26\n",
      "27\n",
      "28\n",
      "29\n",
      "30\n",
      "31\n",
      "32\n",
      "33\n",
      "34\n",
      "35\n",
      "36\n",
      "37\n",
      "38\n",
      "39\n",
      "40\n",
      "41\n",
      "42\n",
      "43\n",
      "44\n",
      "45\n",
      "46\n",
      "47\n",
      "48\n",
      "49\n",
      "50\n",
      "51\n",
      "52\n",
      "53\n",
      "54\n",
      "55\n",
      "56\n",
      "57\n",
      "58\n",
      "59\n",
      "60\n",
      "61\n",
      "62\n",
      "63\n",
      "64\n",
      "65\n",
      "66\n",
      "67\n",
      "68\n",
      "69\n"
     ]
    }
   ],
   "source": [
    "# Can take a long time to run\n",
    "model_list, coherence_values = compute_coherence_values(dictionary=dictionary, corpus=M1, texts=corpus_clean_bigram, limit=104, start=2, step=4)"
   ]
  },
  {
   "cell_type": "raw",
   "id": "helpful-implementation",
   "metadata": {},
   "source": [
    "coherence_values = [0.3250157403264292, 0.4116900808150424, 0.4277707176143622, 0.4419215919328382, 0.43300547700202796, 0.43331531510788773, 0.4507613241261437, 0.4401537362798364, 0.4436828004648704, 0.4321437701507225, 0.4287353256235635, 0.4345214971377863, 0.4207751964079457, 0.42903262376408574, 0.41356412264891634, 0.4094172711686478, 0.41385811506381215, 0.3971588021061537, 0.4020413137080951, 0.3944484660319797, 0.40475857425077855, 0.4043484985706639, 0.40233617235048474, 0.39983668071530726, 0.39050519443737175]"
   ]
  },
  {
   "cell_type": "code",
   "execution_count": 97,
   "id": "cleared-illinois",
   "metadata": {},
   "outputs": [
    {
     "data": {
      "image/png": "[encoded data removed]",
      "text/plain": [
       "<Figure size 960x480 with 1 Axes>"
      ]
     },
     "metadata": {
      "needs_background": "light"
     },
     "output_type": "display_data"
    }
   ],
   "source": [
    "coherence_values = [0.3250157403264292, 0.4116900808150424, 0.4277707176143622, 0.4419215919328382, 0.43300547700202796, 0.43331531510788773, 0.4507613241261437, 0.4401537362798364, 0.4436828004648704, 0.4321437701507225, 0.4287353256235635, 0.4345214971377863, 0.4207751964079457, 0.42903262376408574, 0.41356412264891634, 0.4094172711686478, 0.41385811506381215, 0.3971588021061537, 0.4020413137080951, 0.3944484660319797, 0.40475857425077855, 0.4043484985706639, 0.40233617235048474, 0.39983668071530726, 0.39050519443737175]\n",
    "figure(figsize=(12, 6), dpi=80)\n",
    "# Show graph\n",
    "limit=102; start=2; step=4;\n",
    "x = range(start, limit, step)\n",
    "xi = list(x)\n",
    "plt.plot(x, coherence_values)\n",
    "plt.xlabel(\"Num Topics\")\n",
    "plt.ylabel(\"Coherence score\")\n",
    "plt.xticks(xi, x)\n",
    "plt.legend((\"coherence_values\"), loc='best')\n",
    "plt.grid(True)\n",
    "plt.show()"
   ]
  },
  {
   "cell_type": "code",
   "execution_count": 98,
   "id": "blond-impression",
   "metadata": {
    "collapsed": true,
    "jupyter": {
     "outputs_hidden": true
    },
    "tags": []
   },
   "outputs": [
    {
     "name": "stdout",
     "output_type": "stream",
     "text": [
      "Num Topics = 2  has Coherence Value of 0.325\n",
      "Num Topics = 6  has Coherence Value of 0.4117\n",
      "Num Topics = 10  has Coherence Value of 0.4278\n",
      "Num Topics = 14  has Coherence Value of 0.4419\n",
      "Num Topics = 18  has Coherence Value of 0.433\n",
      "Num Topics = 22  has Coherence Value of 0.4333\n",
      "Num Topics = 26  has Coherence Value of 0.4508\n",
      "Num Topics = 30  has Coherence Value of 0.4402\n",
      "Num Topics = 34  has Coherence Value of 0.4437\n",
      "Num Topics = 38  has Coherence Value of 0.4321\n",
      "Num Topics = 42  has Coherence Value of 0.4287\n",
      "Num Topics = 46  has Coherence Value of 0.4345\n",
      "Num Topics = 50  has Coherence Value of 0.4208\n",
      "Num Topics = 54  has Coherence Value of 0.429\n",
      "Num Topics = 58  has Coherence Value of 0.4136\n",
      "Num Topics = 62  has Coherence Value of 0.4094\n",
      "Num Topics = 66  has Coherence Value of 0.4139\n",
      "Num Topics = 70  has Coherence Value of 0.3972\n",
      "Num Topics = 74  has Coherence Value of 0.402\n",
      "Num Topics = 78  has Coherence Value of 0.3944\n",
      "Num Topics = 82  has Coherence Value of 0.4048\n",
      "Num Topics = 86  has Coherence Value of 0.4043\n",
      "Num Topics = 90  has Coherence Value of 0.4023\n",
      "Num Topics = 94  has Coherence Value of 0.3998\n",
      "Num Topics = 98  has Coherence Value of 0.3905\n"
     ]
    }
   ],
   "source": [
    "# Print the coherence scores\n",
    "for m, cv in zip(x, coherence_values):\n",
    "    print(\"Num Topics =\", m, \" has Coherence Value of\", round(cv, 4))"
   ]
  },
  {
   "cell_type": "markdown",
   "id": "french-handy",
   "metadata": {},
   "source": [
    "#### Result\n",
    "This gives us the top highest coherence score:\n",
    "- Num Topics = 26  has Coherence Value of 0.4508"
   ]
  },
  {
   "cell_type": "markdown",
   "id": "standard-france",
   "metadata": {},
   "source": [
    "### Coherence score over topics, Stepping every one\n",
    "Now we want to be more exact but since the coherence is dropping with higher number of topics we reduce the upper limit.\n",
    "\n",
    "Now we try to step from 2 to 70 on every value"
   ]
  },
  {
   "cell_type": "code",
   "execution_count": null,
   "id": "working-intervention",
   "metadata": {},
   "outputs": [],
   "source": [
    "# Can take a long time to run\n",
    "model_list, coherence_values = compute_coherence_values(dictionary=dictionary, corpus=M1, texts=corpus_clean_bigram, limit=70, start=2, step=1)"
   ]
  },
  {
   "cell_type": "raw",
   "id": "turned-chester",
   "metadata": {},
   "source": [
    "coherence_values = [0.32571064083112744, 0.3537344947550003, 0.38589689375318126, 0.39384185450287246, 0.3968198253781281, 0.4085182731090585, 0.42127183913002364, 0.41899078263050016, 0.42801836357265693, 0.4309421068656622, 0.4235910756450276, 0.4516905876830981, 0.44230979084842603, 0.4296217041847969, 0.4312776000207533, 0.42955783914286844, 0.4300818857106711, 0.43599484572542013, 0.4288093062032049, 0.431145903679033, 0.45102550720523704, 0.4408525746026434, 0.43442023864813467, 0.437182271259546, 0.44709664105064434, 0.44248557145575135, 0.42246041004330903, 0.43784503147185494, 0.43667989244832234, 0.4351125576380536, 0.43902968092362493, 0.4440178347094399, 0.4271598549200618, 0.43617684419539876, 0.43125821112489443, 0.4329721336785587, 0.43217676681552086, 0.43310381516722185, 0.45072485690785824, 0.4401630451262257, 0.43130301356185136, 0.4334126436221655, 0.421009575540349, 0.4272964973804624, 0.4350421319148597, 0.4233540568965465, 0.4350122511003696, 0.43232603003979947, 0.41460403500831033, 0.42528017344333635, 0.4267933944574832, 0.4276083290805306, 0.4232434154417294, 0.4289482978832848, 0.4148342197092429, 0.4184389211956406, 0.4167830014416288, 0.41978178212929607, 0.40395936537564947, 0.40763329977423757, 0.421859133976826, 0.4079528877973058, 0.408300929971383, 0.41109076687251356, 0.4171141990155899, 0.40615382099134045, 0.4129390628617565, 0.40967900018905035]"
   ]
  },
  {
   "cell_type": "code",
   "execution_count": 90,
   "id": "personal-count",
   "metadata": {
    "collapsed": true,
    "jupyter": {
     "outputs_hidden": true
    },
    "tags": []
   },
   "outputs": [
    {
     "name": "stdout",
     "output_type": "stream",
     "text": [
      "Num Topics = 2  has Coherence Value of 0.3257\n",
      "Num Topics = 3  has Coherence Value of 0.3537\n",
      "Num Topics = 4  has Coherence Value of 0.3859\n",
      "Num Topics = 5  has Coherence Value of 0.3938\n",
      "Num Topics = 6  has Coherence Value of 0.3968\n",
      "Num Topics = 7  has Coherence Value of 0.4085\n",
      "Num Topics = 8  has Coherence Value of 0.4213\n",
      "Num Topics = 9  has Coherence Value of 0.419\n",
      "Num Topics = 10  has Coherence Value of 0.428\n",
      "Num Topics = 11  has Coherence Value of 0.4309\n",
      "Num Topics = 12  has Coherence Value of 0.4236\n",
      "Num Topics = 13  has Coherence Value of 0.4517\n",
      "Num Topics = 14  has Coherence Value of 0.4423\n",
      "Num Topics = 15  has Coherence Value of 0.4296\n",
      "Num Topics = 16  has Coherence Value of 0.4313\n",
      "Num Topics = 17  has Coherence Value of 0.4296\n",
      "Num Topics = 18  has Coherence Value of 0.4301\n",
      "Num Topics = 19  has Coherence Value of 0.436\n",
      "Num Topics = 20  has Coherence Value of 0.4288\n",
      "Num Topics = 21  has Coherence Value of 0.4311\n",
      "Num Topics = 22  has Coherence Value of 0.451\n",
      "Num Topics = 23  has Coherence Value of 0.4409\n",
      "Num Topics = 24  has Coherence Value of 0.4344\n",
      "Num Topics = 25  has Coherence Value of 0.4372\n",
      "Num Topics = 26  has Coherence Value of 0.4471\n",
      "Num Topics = 27  has Coherence Value of 0.4425\n",
      "Num Topics = 28  has Coherence Value of 0.4225\n",
      "Num Topics = 29  has Coherence Value of 0.4378\n",
      "Num Topics = 30  has Coherence Value of 0.4367\n",
      "Num Topics = 31  has Coherence Value of 0.4351\n",
      "Num Topics = 32  has Coherence Value of 0.439\n",
      "Num Topics = 33  has Coherence Value of 0.444\n",
      "Num Topics = 34  has Coherence Value of 0.4272\n",
      "Num Topics = 35  has Coherence Value of 0.4362\n",
      "Num Topics = 36  has Coherence Value of 0.4313\n",
      "Num Topics = 37  has Coherence Value of 0.433\n",
      "Num Topics = 38  has Coherence Value of 0.4322\n",
      "Num Topics = 39  has Coherence Value of 0.4331\n",
      "Num Topics = 40  has Coherence Value of 0.4507\n",
      "Num Topics = 41  has Coherence Value of 0.4402\n",
      "Num Topics = 42  has Coherence Value of 0.4313\n",
      "Num Topics = 43  has Coherence Value of 0.4334\n",
      "Num Topics = 44  has Coherence Value of 0.421\n",
      "Num Topics = 45  has Coherence Value of 0.4273\n",
      "Num Topics = 46  has Coherence Value of 0.435\n",
      "Num Topics = 47  has Coherence Value of 0.4234\n",
      "Num Topics = 48  has Coherence Value of 0.435\n",
      "Num Topics = 49  has Coherence Value of 0.4323\n",
      "Num Topics = 50  has Coherence Value of 0.4146\n",
      "Num Topics = 51  has Coherence Value of 0.4253\n",
      "Num Topics = 52  has Coherence Value of 0.4268\n",
      "Num Topics = 53  has Coherence Value of 0.4276\n",
      "Num Topics = 54  has Coherence Value of 0.4232\n",
      "Num Topics = 55  has Coherence Value of 0.4289\n",
      "Num Topics = 56  has Coherence Value of 0.4148\n",
      "Num Topics = 57  has Coherence Value of 0.4184\n",
      "Num Topics = 58  has Coherence Value of 0.4168\n",
      "Num Topics = 59  has Coherence Value of 0.4198\n",
      "Num Topics = 60  has Coherence Value of 0.404\n",
      "Num Topics = 61  has Coherence Value of 0.4076\n",
      "Num Topics = 62  has Coherence Value of 0.4219\n",
      "Num Topics = 63  has Coherence Value of 0.408\n",
      "Num Topics = 64  has Coherence Value of 0.4083\n",
      "Num Topics = 65  has Coherence Value of 0.4111\n",
      "Num Topics = 66  has Coherence Value of 0.4171\n",
      "Num Topics = 67  has Coherence Value of 0.4062\n",
      "Num Topics = 68  has Coherence Value of 0.4129\n",
      "Num Topics = 69  has Coherence Value of 0.4097\n"
     ]
    }
   ],
   "source": [
    "# Print the coherence scores\n",
    "for m, cv in zip(x, coherence_values):\n",
    "    print(\"Num Topics =\", m, \" has Coherence Value of\", round(cv, 4))"
   ]
  },
  {
   "cell_type": "code",
   "execution_count": 99,
   "id": "detailed-jackson",
   "metadata": {},
   "outputs": [
    {
     "data": {
      "image/png": "[encoded data removed]",
      "text/plain": [
       "<Figure size 960x480 with 1 Axes>"
      ]
     },
     "metadata": {
      "needs_background": "light"
     },
     "output_type": "display_data"
    }
   ],
   "source": [
    "#coherence_values = [0.32571064083112744, 0.3537344947550003, 0.38589689375318126, 0.39384185450287246, 0.3968198253781281, 0.4085182731090585, 0.42127183913002364, 0.41899078263050016, 0.42801836357265693, 0.4309421068656622, 0.4235910756450276, 0.4516905876830981, 0.44230979084842603, 0.4296217041847969, 0.4312776000207533, 0.42955783914286844, 0.4300818857106711, 0.43599484572542013, 0.4288093062032049, 0.431145903679033, 0.45102550720523704, 0.4408525746026434, 0.43442023864813467, 0.437182271259546, 0.44709664105064434, 0.44248557145575135, 0.42246041004330903, 0.43784503147185494, 0.43667989244832234, 0.4351125576380536, 0.43902968092362493, 0.4440178347094399, 0.4271598549200618, 0.43617684419539876, 0.43125821112489443, 0.4329721336785587, 0.43217676681552086, 0.43310381516722185, 0.45072485690785824, 0.4401630451262257, 0.43130301356185136, 0.4334126436221655, 0.421009575540349, 0.4272964973804624, 0.4350421319148597, 0.4233540568965465, 0.4350122511003696, 0.43232603003979947, 0.41460403500831033, 0.42528017344333635, 0.4267933944574832, 0.4276083290805306, 0.4232434154417294, 0.4289482978832848, 0.4148342197092429, 0.4184389211956406, 0.4167830014416288, 0.41978178212929607, 0.40395936537564947, 0.40763329977423757, 0.421859133976826, 0.4079528877973058, 0.408300929971383, 0.41109076687251356, 0.4171141990155899, 0.40615382099134045, 0.4129390628617565, 0.40967900018905035]\n",
    "figure(figsize=(12, 6), dpi=80)\n",
    "# Show graph\n",
    "limit=70; start=2; step=1;\n",
    "x = range(start, limit, step)\n",
    "xi = list(x)\n",
    "plt.plot(x, coherence_values)\n",
    "plt.xlabel(\"Num Topics\")\n",
    "plt.ylabel(\"Coherence score\")\n",
    "plt.xticks(xi, x)\n",
    "plt.legend((\"coherence_values\"), loc='best')\n",
    "plt.grid(True)\n",
    "plt.show()"
   ]
  },
  {
   "cell_type": "markdown",
   "id": "disabled-elite",
   "metadata": {},
   "source": [
    "#### Result\n",
    "This gives us:\n",
    "- Num Topics = 13  has Coherence Value of 0.4517\n",
    "- Num Topics = 21  has Coherence Value of 0.4311\n",
    "- Num Topics = 40  has Coherence Value of 0.4507\n",
    "\n",
    "And one can see that we now have three good candidates in the number of topics"
   ]
  },
  {
   "cell_type": "markdown",
   "id": "derived-accounting",
   "metadata": {},
   "source": [
    "## LDA mallet\n",
    "Reads the LDA mallet model from the folder /mallet-2.0.8"
   ]
  },
  {
   "cell_type": "code",
   "execution_count": 100,
   "id": "funded-mambo",
   "metadata": {},
   "outputs": [],
   "source": [
    "ldamallet = gensim.models.wrappers.LdaMallet(mallet_path,\n",
    "                                             corpus=M1,\n",
    "                                             num_topics=13,\n",
    "                                             id2word=dictionary)"
   ]
  },
  {
   "cell_type": "code",
   "execution_count": 101,
   "id": "rough-bradley",
   "metadata": {
    "tags": []
   },
   "outputs": [
    {
     "name": "stdout",
     "output_type": "stream",
     "text": [
      "\n",
      "Coherence Score:  0.4337925135908136\n"
     ]
    }
   ],
   "source": [
    "# Show Topics\n",
    "#pprint(ldamallet.show_topics(formatted=False))\n",
    "\n",
    "# Compute Coherence Score\n",
    "coherence_model_ldamallet = CoherenceModel(model=ldamallet, \n",
    "                                           texts=corpus_clean_bigram,\n",
    "                                           dictionary=dictionary, \n",
    "                                           coherence='c_v')\n",
    "coherence_ldamallet = coherence_model_ldamallet.get_coherence()\n",
    "print('\\nCoherence Score: ', coherence_ldamallet)"
   ]
  },
  {
   "cell_type": "markdown",
   "id": "incomplete-military",
   "metadata": {},
   "source": [
    "## Setting upp the lda model\n",
    "Used insted of LDA mallet"
   ]
  },
  {
   "cell_type": "code",
   "execution_count": 26,
   "id": "offshore-ethernet",
   "metadata": {
    "tags": []
   },
   "outputs": [
    {
     "name": "stderr",
     "output_type": "stream",
     "text": [
      "/Library/Frameworks/Python.framework/Versions/3.8/lib/python3.8/site-packages/ipykernel/ipkernel.py:283: DeprecationWarning: `should_run_async` will not call `transform_cell` automatically in the future. Please pass the result to `transformed_cell` argument and any exception that happen during thetransform in `preprocessing_exc_tuple` in IPython 7.17 and above.\n",
      "  and should_run_async(code)\n"
     ]
    }
   ],
   "source": [
    "Lda = gensim.models.ldamodel.LdaModel\n",
    "lda_model = Lda(tfidf_M1, \n",
    "                num_topics=2, \n",
    "                id2word = dictionary, \n",
    "                passes=18, \n",
    "                random_state =0)"
   ]
  },
  {
   "cell_type": "markdown",
   "id": "assigned-preliminary",
   "metadata": {},
   "source": [
    "#### Multicore"
   ]
  },
  {
   "cell_type": "code",
   "execution_count": 27,
   "id": "numerical-harvey",
   "metadata": {},
   "outputs": [
    {
     "name": "stderr",
     "output_type": "stream",
     "text": [
      "/Library/Frameworks/Python.framework/Versions/3.8/lib/python3.8/site-packages/ipykernel/ipkernel.py:283: DeprecationWarning: `should_run_async` will not call `transform_cell` automatically in the future. Please pass the result to `transformed_cell` argument and any exception that happen during thetransform in `preprocessing_exc_tuple` in IPython 7.17 and above.\n",
      "  and should_run_async(code)\n"
     ]
    }
   ],
   "source": [
    "Lda = gensim.models.ldamulticore.LdaMulticore\n",
    "lda_model = Lda(tfidf_M1 , \n",
    "                num_topics=8, \n",
    "                id2word = dictionary, \n",
    "                passes=15,\n",
    "                random_state =0,\n",
    "                workers=4)"
   ]
  },
  {
   "cell_type": "code",
   "execution_count": 28,
   "id": "excellent-pantyhose",
   "metadata": {},
   "outputs": [
    {
     "name": "stderr",
     "output_type": "stream",
     "text": [
      "/Library/Frameworks/Python.framework/Versions/3.8/lib/python3.8/site-packages/ipykernel/ipkernel.py:283: DeprecationWarning: `should_run_async` will not call `transform_cell` automatically in the future. Please pass the result to `transformed_cell` argument and any exception that happen during thetransform in `preprocessing_exc_tuple` in IPython 7.17 and above.\n",
      "  and should_run_async(code)\n"
     ]
    },
    {
     "name": "stdout",
     "output_type": "stream",
     "text": [
      "Coherence Score:  0.6364102700593359\n"
     ]
    }
   ],
   "source": [
    "coherence_model_lda = CoherenceModel(model=lda_model, \n",
    "                                     texts=corpus_clean_bigram, \n",
    "                                     dictionary=dictionary)\n",
    "coherence_lda = coherence_model_lda.get_coherence()\n",
    "print('Coherence Score: ', coherence_lda)"
   ]
  },
  {
   "cell_type": "code",
   "execution_count": 25,
   "id": "looking-attitude",
   "metadata": {},
   "outputs": [
    {
     "name": "stdout",
     "output_type": "stream",
     "text": [
      "(0, '0.001*\"abstract\" + 0.001*\"available\" + 0.001*\"flash\" + 0.001*\"rpki\" + 0.001*\"skimmer\" + 0.001*\"walkie_talkie\"')\n",
      "(1, '0.001*\"helios\" + 0.001*\"prêt_voter\" + 0.001*\"volte\" + 0.001*\"coercion\" + 0.001*\"sanctum\" + 0.001*\"guis\"')\n",
      "(2, '0.002*\"captchas\" + 0.001*\"rust\" + 0.001*\"captcha\" + 0.001*\"pill\" + 0.001*\"spurious\" + 0.000*\"macs\"')\n",
      "(3, '0.002*\"workshop\" + 0.001*\"proverif\" + 0.001*\"quic\" + 0.001*\"meltdown\" + 0.001*\"protocol\" + 0.001*\"snarks\"')\n",
      "(4, '0.002*\"rowhammer\" + 0.001*\"deduplication\" + 0.001*\"printer\" + 0.001*\"uninitialized\" + 0.001*\"spamming\" + 0.001*\"spammer\"')\n",
      "(5, '0.004*\"attack\" + 0.003*\"user\" + 0.003*\"protocol\" + 0.003*\"data\" + 0.003*\"security\" + 0.002*\"network\"')\n",
      "(6, '0.001*\"recommender\" + 0.001*\"bliss\" + 0.001*\"sdns\" + 0.001*\"journalist\" + 0.000*\"fake_visitations\" + 0.000*\"court\"')\n",
      "(7, '0.001*\"vault\" + 0.001*\"crowdturfing\" + 0.001*\"fitness\" + 0.001*\"compartmentalization\" + 0.001*\"kerberos\" + 0.001*\"ethos\"')\n"
     ]
    },
    {
     "name": "stderr",
     "output_type": "stream",
     "text": [
      "/Library/Frameworks/Python.framework/Versions/3.8/lib/python3.8/site-packages/ipykernel/ipkernel.py:283: DeprecationWarning: `should_run_async` will not call `transform_cell` automatically in the future. Please pass the result to `transformed_cell` argument and any exception that happen during thetransform in `preprocessing_exc_tuple` in IPython 7.17 and above.\n",
      "  and should_run_async(code)\n"
     ]
    }
   ],
   "source": [
    "topics = lda_model.print_topics(num_topics=100, num_words=6)\n",
    "\n",
    "for topic in topics:\n",
    "    print(topic)"
   ]
  },
  {
   "cell_type": "markdown",
   "id": "valid-demonstration",
   "metadata": {},
   "source": [
    "## Visualisation of topics\n",
    "First creating a lda mallet model and then visualising"
   ]
  },
  {
   "cell_type": "code",
   "execution_count": 102,
   "id": "automotive-static",
   "metadata": {},
   "outputs": [],
   "source": [
    "def mallet_to_lda(mallet_model):\n",
    "    model_gensim = gensim.models.ldamodel.LdaModel(\n",
    "        id2word=mallet_model.id2word, num_topics=mallet_model.num_topics,\n",
    "        alpha=mallet_model.alpha, eta=0, iterations=1000,\n",
    "        gamma_threshold=0.001,\n",
    "        dtype=np.float32\n",
    "    )\n",
    "    model_gensim.sync_state()\n",
    "    model_gensim.state.sstats = mallet_model.wordtopics\n",
    "    return model_gensim"
   ]
  },
  {
   "cell_type": "code",
   "execution_count": 103,
   "id": "postal-vatican",
   "metadata": {},
   "outputs": [
    {
     "data": {
      "text/html": [
       "\n",
       "<link rel=\"stylesheet\" type=\"text/css\" href=\"https://cdn.jsdelivr.net/gh/bmabey/pyLDAvis@3.2.2/pyLDAvis/js/ldavis.v1.0.0.css\">\n",
       "\n",
       "\n",
       "<div id=\"ldavis_el369961402343408710722452772004\"></div>\n",
       "<script type=\"text/javascript\">\n",
       "\n",
       "var ldavis_el369961402343408710722452772004_data = {\"mdsDat\": {\"x\": [0.020756685244265636, 0.29847217612422305, 0.04782182395434592, -0.025047041165252176, -0.039876209067566476, -0.2048325575488812, 0.2606532717651428, -0.16234951166356848, -0.18015695371051843, 0.029227365410464223, -0.04572922795536197, 0.054366606434761724, -0.05330642782205485], \"y\": [0.07565817746966577, 0.028286348247000947, -0.02691504151049405, -0.20958185178667404, -0.07591584188483114, -0.051946962339645505, -0.02785053054560287, -0.06317406392298885, 0.23161966793400404, -0.05220480920945972, 0.227177288104484, 0.1863268470920148, -0.24147922764747362], \"topics\": [1, 2, 3, 4, 5, 6, 7, 8, 9, 10, 11, 12, 13], \"cluster\": [1, 1, 1, 1, 1, 1, 1, 1, 1, 1, 1, 1, 1], \"Freq\": [7.939920251978972, 7.880070391754922, 7.845906101605141, 7.758937008382978, 7.745698499671978, 7.667154383642112, 7.651709233427523, 7.64724462322283, 7.639369350823437, 7.6038267409977, 7.565857635391687, 7.551149918597854, 7.503155860502865]}, \"tinfo\": {\"Term\": [\"attack\", \"user\", \"data\", \"security\", \"network\", \"privacy\", \"analysis\", \"protocol\", \"information\", \"device\", \"application\", \"model\", \"code\", \"vulnerability\", \"secure\", \"attacker\", \"access\", \"study\", \"scheme\", \"approach\", \"policy\", \"tool\", \"program\", \"malware\", \"service\", \"channel\", \"memory\", \"browser\", \"software\", \"password\", \"principle\", \"property\", \"abstraction\", \"policy\", \"correct\", \"analyse\", \"election\", \"ballot\", \"definition\", \"formally\", \"formal\", \"broad_class\", \"targets\\u2014signaling\", \"satisfy\", \"algorithmically\", \"gallery\", \"joomla\", \"truncate\", \"specification\", \"coercion\", \"secrecy\", \"pepper\", \"refinement\", \"theorem\", \"established\", \"pkis\", \"abstractly\", \"chimera\", \"declarative\", \"express\", \"define\", \"voting\", \"vote\", \"respect\", \"voter\", \"certificate\", \"abstract\", \"verifiability\", \"absence\", \"inherently\", \"expressive\", \"treatment\", \"establishment\", \"confidentiality_integrity\", \"equivalence\", \"language\", \"trust\", \"theory\", \"cryptographic\", \"verification\", \"verify\", \"standard\", \"literature\", \"security\", \"enforce\", \"implementation\", \"provide\", \"guarantee\", \"model\", \"strong\", \"requirement\", \"simple\", \"prove\", \"design\", \"type\", \"include\", \"goal\", \"framework\", \"propose\", \"implement\", \"base\", \"exist\", \"present\", \"result\", \"business\", \"canadian\", \"consumer\", \"drug\", \"pharmacy\", \"administrator\", \"guideline\", \"mersenne\", \"domain\", \"valuable\", \"poorly\", \"profound\", \"deter\", \"expiration\", \"barrier\", \"perspective\", \"incontext\", \"advocate\", \"cial\", \"hope\", \"botmasters\", \"botnet\", \"north\", \"infected\", \"cybercrime\", \"community\", \"premature\", \"beneficial\", \"trend\", \"growth\", \"technical\", \"survey\", \"question\", \"understanding\", \"organization\", \"highlight\", \"company\", \"regard\", \"risk\", \"influence\", \"assessment\", \"expert\", \"transparency\", \"wild\", \"academic\", \"discussion\", \"direction\", \"year\", \"assess\", \"interview\", \"government\", \"infection\", \"researcher\", \"future\", \"industry\", \"botnets\", \"research\", \"finding\", \"practice\", \"understand\", \"impact\", \"study\", \"decision\", \"threat\", \"security\", \"adoption\", \"issue\", \"related\", \"focus\", \"report\", \"conduct\", \"effort\", \"discuss\", \"development\", \"potential\", \"paper\", \"explore\", \"participant\", \"work\", \"important\", \"unauthorized\", \"responsive\", \"rigid\", \"averse\", \"derandomizing\", \"developer\", \"permission\", \"platform\", \"mediate\", \"quark\", \"device\", \"electroencephalography\", \"entertainment\", \"informa\", \"interface\", \"phone\", \"broaden\", \"built\", \"mobile\", \"android\", \"nexus\", \"playback\", \"smartphone\", \"dation\", \"oses\", \"aurasium\", \"adsplit\", \"apps\", \"widget\", \"apis\", \"vendor\", \"firmware\", \"driver\", \"home\", \"root\", \"camera\", \"bluetooth\", \"interaction\", \"smart_home\", \"google_play\", \"internet_things\", \"package\", \"ubiquitous\", \"manufacturer\", \"peripheral\", \"theft\", \"grant\", \"smartphones\", \"access\", \"accessible\", \"misuse\", \"application\", \"expose\", \"desktop\", \"resource\", \"library\", \"capability\", \"version\", \"functionality\", \"sensitive\", \"control\", \"change\", \"remote\", \"framework\", \"design\", \"context\", \"include\", \"security\", \"solution\", \"present\", \"based\", \"implement\", \"paper\", \"learn\", \"captcha\", \"captchas\", \"image\", \"recognition\", \"learning\", \"trained\", \"audio\", \"wear\", \"intrusion_detection\", \"elementary\", \"classification\", \"nxdomain\", \"responses\", \"similarity\", \"virus\", \"accuracy\", \"attribution\", \"language\\u2014for\", \"benign\", \"author\", \"dump\", \"inevitably\", \"surreptitious\", \"boost\", \"flagged\", \"likes\", \"parasitic\", \"internals\", \"wargame\", \"malware\", \"detection\", \"machine\", \"sample\", \"adversarial\", \"dataset\", \"classifier\", \"machine_learning\", \"obfuscation\", \"false_positive\", \"train\", \"deep_learning\", \"training\", \"evade\", \"neural_network\", \"predict\", \"detector\", \"label\", \"evasion\", \"prediction\", \"adversarial_example\", \"identification\", \"detect\", \"method\", \"malicious\", \"model\", \"behavior\", \"rate\", \"approach\", \"feature\", \"effective\", \"technique\", \"result\", \"based\", \"propose\", \"identify\", \"base\", \"evaluate\", \"algorithm\", \"paper\", \"work\", \"perform\", \"counterfeit\", \"enticement\", \"glavmed\", \"poison\", \"defeat\", \"attacker\", \"recover\", \"recovery\", \"defense\", \"succeed\", \"carefully_craft\", \"cryptanalysis\", \"planted\", \"cache\", \"channel\", \"covert_channel\", \"insufficiency\", \"residency\", \"tenant\", \"timing\", \"victim\", \"eucalyptus\", \"evict\", \"stealthmem\", \"batteryless\", \"capacitor\", \"chip\", \"contactless\", \"deliberately\", \"elapse\", \"attack\", \"countermeasure\", \"bypass\", \"counter\", \"success_rate\", \"stealthy\", \"mount\", \"launch\", \"induce\", \"susceptible\", \"craft\", \"resolution\", \"rowhammer\", \"attacks\", \"defensive\", \"amplification\", \"defend\", \"mitigation\", \"weakness\", \"card\", \"exploit\", \"break\", \"secret\", \"target\", \"demonstrate\", \"vulnerable\", \"mitigate\", \"powerful\", \"vector\", \"modern\", \"adversary\", \"class\", \"prevent\", \"finally\", \"threat\", \"work\", \"paper\", \"based\", \"propose\", \"implementation\", \"practical\", \"technique\", \"discuss\", \"inside\", \"virtually\", \"dialect\", \"randomized\", \"commercially_available\", \"modified\", \"isolation\", \"privilege_separation\", \"kernel\", \"memory\", \"virtual_machine\", \"virtualized\", \"virtualized_environment\", \"fault\", \"commodity\", \"isolate\", \"spec_benchmark\", \"double\", \"elapsed\", \"floating_point\", \"bind\", \"finan\", \"retrofit\", \"compile\", \"execution\", \"kguard\", \"privileged\", \"separation\", \"randomization\", \"renew\", \"flow\", \"hardware\", \"instruction\", \"processor\", \"runtime\", \"reuse\", \"pointer\", \"intel\", \"stack\", \"module\", \"enclave\", \"gadget\", \"read\", \"safe\", \"windows\", \"operating\", \"separate\", \"linux\", \"memory_corruption\", \"virtualization\", \"layout\", \"architecture\", \"programming\", \"overhead\", \"software\", \"code\", \"compiler\", \"integrity\", \"prototype\", \"object\", \"level\", \"control\", \"execute\", \"space\", \"performance\", \"trusted\", \"protect\", \"program\", \"address\", \"process\", \"protection\", \"time\", \"exist\", \"present\", \"environment\", \"implement\", \"demonstrate\", \"advertising\", \"affiliate\", \"pharmaceutical\", \"sale\", \"password\", \"gravity\", \"reset\", \"browser\", \"tion\", \"discourage\", \"browse\", \"phishing\", \"synchronized\", \"click\", \"controversy\", \"keystroke\", \"odds\", \"intervention\", \"fraudulent\", \"notification\", \"raise_awareness\", \"portal\", \"uniquely\", \"dropbox\", \"scam\", \"annually\", \"unwanted\", \"chinese\", \"crack\", \"movement\", \"user\", \"website\", \"online\", \"account\", \"site\", \"fingerprint\", \"social\", \"email\", \"spam\", \"facebook\", \"voice\", \"https\", \"list\", \"period\", \"fraud\", \"screen\", \"users\", \"fingerprinting\", \"fake\", \"visual\", \"visit\", \"login\", \"word\", \"biometric\", \"warning\", \"tracking\", \"guess\", \"post\", \"extension\", \"authentication\", \"usability\", \"track\", \"content\", \"collect\", \"abuse\", \"million\", \"study\", \"popular\", \"service\", \"large_scale\", \"identify\", \"identity\", \"page\", \"participant\", \"feature\", \"result\", \"analyze\", \"number\", \"optimization\", \"estimation\", \"matching\", \"metric\", \"objectively\", \"regression\", \"significantly\", \"nucaptcha\", \"entropy\", \"gaussian\", \"predictability\", \"prng\", \"randomness\", \"readily\", \"sparse\", \"twister\", \"unexplored\", \"unseal\", \"associative\", \"decay\", \"passports\", \"remanence\", \"smartcards\", \"swiping\", \"tardis\", \"comparison\", \"dramatically\", \"parallel\", \"slash\", \"improvement\", \"function\", \"graph\", \"solve\", \"bound\", \"quality\", \"optimal\", \"speed\", \"random\", \"hard\", \"distribution\", \"probability\", \"length\", \"correlation\", \"expensive\", \"transform\", \"item\", \"regular\", \"applicability\", \"synthetic\", \"approximate\", \"assign\", \"minimize\", \"slow\", \"reduction\", \"match\", \"subset\", \"number\", \"state\", \"outperform\", \"algorithm\", \"high\", \"improve\", \"reduce\", \"performance\", \"problem\", \"small\", \"large\", \"compare\", \"time\", \"term\", \"base\", \"complexity\", \"achieve\", \"evaluation\", \"technique\", \"important\", \"require\", \"result\", \"work\", \"demonstrate\", \"evaluate\", \"introduce\", \"cost\", \"propose\", \"based\", \"present\", \"transaction\", \"protocol\", \"suit\", \"mediawiki\", \"shamir\", \"truncation\", \"imply\", \"scheme\", \"adaptation\", \"computation\", \"outsourced\", \"unconditional\", \"byzantine\", \"circuit\", \"gate\", \"random_oracle\", \"reference_string\", \"semi_honest\", \"possession\", \"authenticated\", \"decryption\", \"implemented\", \"rational\", \"wrapping\", \"bounty\", \"classic\", \"prime\", \"equivocate\", \"equivocation\", \"main_contribution\", \"proof\", \"construction\", \"payment\", \"bitcoin\", \"chain\", \"blockchain\", \"round\", \"crypto\", \"smart_contract\", \"coin\", \"cryptographic_primitive\", \"contract\", \"zero_knowledge\", \"threshold\", \"honest\", \"verifier\", \"ethereum\", \"miner\", \"signing\", \"protocols\", \"symmetric\", \"blockchains\", \"oram\", \"efficient\", \"secure\", \"party\", \"computational\", \"token\", \"signature\", \"exchange\", \"securely\", \"encryption\", \"group\", \"size\", \"efficiency\", \"primitive\", \"practical\", \"assumption\", \"multi\", \"setting\", \"implementation\", \"communication\", \"work\", \"prove\", \"achieve\", \"message\", \"require\", \"cost\", \"organizations\\u2014the\", \"investment\", \"series\", \"moving\", \"video\", \"annoy\", \"lenient\", \"meter\", \"stringent\", \"stringently\", \"symbol\", \"interference\", \"cognitive\", \"game\", \"rubber\", \"consumer_grade\", \"hands\", \"living\", \"signal\", \"upcoming\", \"transmission\", \"intentional\", \"possibility\", \"scaling\", \"compensate\", \"rfid\", \"continuously\", \"unthrottled\", \"event\", \"penetration\", \"sensor\", \"cyber\", \"condition\", \"student\", \"vehicle\", \"wireless\", \"cybersecurity\", \"frequency\", \"electronic\", \"exercise\", \"distance\", \"radio\", \"forensic\", \"clear\", \"industrial\", \"transmit\", \"testbed\", \"team\", \"agent\", \"competition\", \"rapid\", \"physical\", \"engineering\", \"area\", \"spoof\", \"field\", \"human\", \"challenge\", \"traditional\", \"scenario\", \"concept\", \"process\", \"experiment\", \"task\", \"develop\", \"paper\", \"design\", \"environment\", \"real\", \"technology\", \"create\", \"time\", \"critical\", \"increase\", \"control\", \"present\", \"build\", \"reconstruction\", \"privacy\", \"locked\", \"locally\", \"database\", \"retrieval\", \"deletion\", \"flash\", \"member\", \"aggregate\", \"collection\", \"hurt\", \"advent\", \"location\", \"index\", \"lineage\", \"mismatch\", \"conventionally\", \"balance\", \"permanent_storage\", \"akin\", \"anonymized\", \"genomic\", \"genomics\", \"differential\", \"sink\", \"remarkably\", \"enormous\", \"linkability\", \"sanitized\", \"data\", \"information\", \"query\", \"search\", \"encrypt\", \"preserving\", \"inference\", \"preserve\", \"document\", \"utility\", \"statistic\", \"provenance\", \"encrypted\", \"patient\", \"anonymization\", \"differentially_private\", \"collaborative\", \"storage\", \"leakage\", \"sharing\", \"medical\", \"noise\", \"private\", \"file\", \"record\", \"update\", \"store\", \"leak\", \"cloud\", \"attribute\", \"personal\", \"sensitive\", \"individual\", \"share\", \"mechanism\", \"propose\", \"provide\", \"encryption\", \"protect\", \"reveal\", \"offer\", \"server\", \"order\", \"solution\", \"present\", \"client\", \"existent\", \"codewords\", \"inline\", \"network\", \"redesign\", \"excalibur\", \"hinders\", \"host\", \"infrastructure\", \"load_balancing\", \"provider\", \"tenancy\", \"throttle\", \"block\", \"internet\", \"anonymity\", \"bulk\", \"congestion\", \"degra\", \"drain\", \"relay\", \"responsiveness\", \"throttling\", \"traffic\", \"concentrate\", \"delay\", \"invisible\", \"packet\", \"passive\", \"measurement\", \"connection\", \"censorship\", \"anonymous\", \"proxy\", \"censor\", \"scan\", \"global\", \"router\", \"firewall\", \"topology\", \"broadcast\", \"revocation\", \"rout\", \"ddos\", \"plane\", \"sybil\", \"request\", \"latency\", \"wide\", \"server\", \"service\", \"active\", \"deployment\", \"communication\", \"node\", \"message\", \"deploy\", \"address\", \"bandwidth\", \"enable\", \"path\", \"provide\", \"compromise\", \"present\", \"perform\", \"cloud\", \"analyze\", \"automatically\", \"causal\", \"rife\", \"seed\", \"vulnerability\", \"vulnerabilities\", \"fragment\", \"impede\", \"open_source\", \"utilizing\", \"stalemate\", \"stick\", \"degraded\", \"syntax\", \"automated\", \"crash\", \"defect\", \"fuzz\", \"fuzzed\", \"grammar\", \"interpreter\", \"invalid\", \"langfuzz\", \"trigger\", \"greatly\", \"reverse\", \"fuzzing\", \"incrementally\", \"inferred\", \"quickly\", \"analysis\", \"tool\", \"patch\", \"coverage\", \"taint\", \"symbolic_execution\", \"fuzzers\", \"previously_unknown\", \"analyst\", \"parser\", \"byte\", \"exploitable\", \"static\", \"emulation\", \"fuzzer\", \"propagation\", \"scripting\", \"format\", \"testing\", \"uncover\", \"reverse_engineering\", \"discovery\", \"semantic\", \"manual\", \"test\", \"program\", \"binary\", \"input\", \"generate\", \"check\", \"source\", \"discover\", \"dynamic\", \"error\", \"trace\", \"real_world\", \"code\", \"identify\", \"application\", \"technique\", \"analyze\", \"approach\", \"case\", \"state\", \"paper\", \"type\", \"software\"], \"Freq\": [4894.0, 3331.0, 2987.0, 4263.0, 1866.0, 1834.0, 1684.0, 1668.0, 1611.0, 1516.0, 1963.0, 1724.0, 1657.0, 1195.0, 1075.0, 972.0, 1147.0, 1237.0, 898.0, 1547.0, 862.0, 830.0, 1055.0, 826.0, 1020.0, 735.0, 721.0, 714.0, 887.0, 682.0, 88.3846118273829, 549.9486958148269, 88.3846118273829, 862.0227573287962, 150.5811905207264, 40.37321774831071, 84.01993963837634, 84.01993963837634, 154.94586270973298, 60.01424259884025, 199.68375264705026, 22.914528992284456, 1.0911680472516407, 94.93162011089275, 3.2735041417549224, 1.0911680472516407, 1.0911680472516407, 1.0911680472516407, 207.32192897781175, 16.367520708774613, 69.83475502410501, 1.0911680472516407, 27.27920118129102, 26.18803313403938, 21.823360945032817, 4.364672189006563, 4.364672189006563, 3.2735041417549224, 7.638176330761485, 82.9287715911247, 162.58403904049447, 103.66096448890588, 101.47862839440259, 100.38746034715095, 79.65526744936979, 259.69799524589047, 58.9230745515886, 54.55840236258204, 51.28489822082712, 48.0113940790722, 48.0113940790722, 44.73788993731727, 42.55555384281399, 41.46438579556235, 41.46438579556235, 349.1737751205251, 377.5441443490677, 100.38746034715095, 449.561235467676, 242.23930648986425, 274.97434790741346, 303.3447171359561, 145.12535028446823, 2277.267714614174, 165.8575431822494, 604.5070981774089, 774.7293135486649, 232.4187940645995, 576.1367289488663, 211.6866011668183, 160.4017029459912, 170.22221537125597, 173.4957195130109, 373.17947216006115, 221.5071135920831, 246.6039786788708, 158.2193668514879, 211.6866011668183, 220.41594554483143, 192.0455763162888, 199.68375264705026, 184.4073999855273, 182.225063891024, 175.67805560751415, 89.98011580252819, 4.090005263751281, 93.04761975034165, 7.157509211564743, 2.0450026318756405, 65.4400842200205, 28.63003684625897, 1.0225013159378202, 524.5431750761019, 41.92255395345064, 22.495028950632047, 5.112506579689102, 12.270015791253844, 10.225013159378204, 21.472527634694227, 85.89011053877691, 2.0450026318756405, 24.540031582507687, 1.0225013159378202, 37.83254868969935, 8.180010527502562, 73.62009474752305, 7.157509211564743, 33.74254342594807, 25.56253289844551, 241.31031056132562, 1.0225013159378202, 12.270015791253844, 59.30507632439358, 37.83254868969935, 160.5327066022378, 155.4202000225487, 151.3301947587974, 145.1951868631705, 144.17268554723267, 124.74516054441408, 112.47514475316024, 104.29513422565768, 389.57300137230953, 80.77760395908781, 76.68759869533652, 73.62009474752305, 67.48508685189614, 65.4400842200205, 63.395081588144855, 61.35007895626923, 61.35007895626923, 188.14024213255897, 128.83516580816536, 56.23757237658012, 55.2150710606423, 53.17006842876666, 169.73521844567816, 188.14024213255897, 89.98011580252819, 76.68759869533652, 569.533232977366, 228.01779345413394, 360.9429645260506, 208.59026845131535, 270.96284872352237, 784.2585093243082, 125.7676618603519, 365.0329697898019, 1533.7519739067307, 103.27263290971986, 238.24280661351216, 122.70015791253846, 216.7702789788179, 221.882785558507, 230.0627960860096, 176.89272765724292, 184.05023686880767, 144.17268554723267, 159.5102052863, 262.78283819601984, 145.1951868631705, 144.17268554723267, 157.46520265442433, 144.17268554723267, 72.07308191419492, 8.605741124082973, 1.0757176405103717, 2.1514352810207433, 1.0757176405103717, 361.4411272114849, 238.80931619330252, 470.0886089030324, 21.514352810207434, 1.0757176405103717, 1516.761873119624, 1.0757176405103717, 4.302870562041487, 1.0757176405103717, 205.46206933748098, 205.46206933748098, 7.530023483572602, 50.558729103987474, 584.1146787971318, 680.9292664430652, 8.605741124082973, 6.4543058430622295, 111.87463461307865, 1.0757176405103717, 24.74150573173855, 3.2271529215311148, 3.2271529215311148, 636.8248431821401, 11.832894045614088, 86.05741124082974, 134.46470506379646, 119.40465809665126, 96.81458764593346, 94.6631523649127, 86.05741124082974, 77.45167011674677, 67.77021135215341, 189.3263047298254, 58.08875258756007, 57.0130349470497, 52.71016438500821, 50.558729103987474, 50.558729103987474, 44.10442326092524, 41.95298797990449, 41.95298797990449, 40.87727033939413, 84.98169360031936, 998.265970393625, 57.0130349470497, 57.0130349470497, 1372.6157092912345, 157.05477551451426, 62.391623149601564, 299.04950406188334, 207.61350461850174, 175.3419754031906, 182.8719988867632, 166.7362342791076, 327.01816271515304, 451.8014090143561, 208.6892222590121, 126.93468158022385, 263.5508219250411, 370.04686833556786, 168.88766956012836, 239.88503383381288, 451.8014090143561, 209.7649398995225, 271.08084540861364, 250.64221023891662, 197.9320458539084, 197.9320458539084, 394.94372593041953, 23.841747234644746, 42.5005059400189, 281.9545759923205, 51.829885292705974, 121.28193158493198, 23.841747234644746, 85.0010118800378, 15.548965587811795, 100.54997746784959, 5.182988529270598, 163.78243752495086, 2.073195411708239, 4.146390823416478, 73.59843711564248, 11.402574764395315, 305.7963232269652, 7.256183940978836, 1.0365977058541196, 121.28193158493198, 82.92781646832957, 22.80514952879063, 10.365977058541196, 4.146390823416478, 16.585563293665913, 1.0365977058541196, 1.0365977058541196, 1.0365977058541196, 11.402574764395315, 1.0365977058541196, 826.1683715657332, 610.5560487480764, 362.8091970489418, 277.80818516890406, 221.8319090527816, 170.0020237600756, 167.92882834836738, 162.74583981909677, 150.30666734884733, 137.8674948785979, 124.39172470249436, 109.87935682053666, 186.58758705374152, 101.58657517370371, 101.58657517370371, 96.40358664443312, 85.0010118800378, 83.96441417418369, 81.89121876247543, 81.89121876247543, 79.8180233507672, 117.1355407615155, 697.6302560398225, 654.0931523939495, 716.2890147451966, 1148.5502580863645, 465.43236992849967, 278.84478287475815, 870.7420729174604, 392.8705305187113, 256.03963334596756, 504.8230827509562, 317.1988979913606, 310.97931175623586, 312.01590946209, 215.61232281765686, 237.38087464059336, 216.648920523511, 199.02675952399096, 201.09995493569917, 172.07521917178386, 168.96542605422147, 18.00653342731654, 1.0592078486656789, 1.0592078486656789, 29.657819762639004, 69.9077180119348, 972.3528050750932, 160.99959299718319, 66.73009446593777, 585.7419403121204, 39.19069040063012, 9.53287063799111, 9.53287063799111, 2.1184156973313577, 335.76888802702024, 735.0902469739812, 70.96692586060048, 2.1184156973313577, 11.651286335322467, 56.138015979280986, 145.11147526719802, 311.40710750770955, 2.1184156973313577, 8.47366278932543, 4.236831394662715, 1.0592078486656789, 4.236831394662715, 68.84851016326913, 25.420988367976292, 13.769702032653827, 3.1776235459970366, 4893.540260835436, 235.1441424037807, 147.22989096452937, 74.14454940659752, 63.55247091994073, 59.31563952527801, 58.25643167661233, 124.9865261425501, 54.01960028194962, 52.96039243328394, 48.72356103862123, 45.54593749262419, 43.42752179529283, 42.368313946627154, 41.309106097961475, 41.309106097961475, 106.97999271523356, 189.59820491115653, 98.50632992590813, 93.21029068257974, 664.1233211133807, 151.4667223591921, 264.8019621664197, 424.7423473149372, 621.7550071667534, 287.045326988399, 180.0653342731654, 108.03920056389924, 136.63781247787256, 191.7166206084879, 245.7362208904375, 175.8285028785027, 165.2364243918459, 177.94691857583405, 217.13760897646418, 330.4728487836918, 386.6108647629728, 316.703146751038, 316.703146751038, 208.66394618713872, 170.5324636351743, 212.90077758180144, 154.6443459051891, 16.341695208962008, 32.683390417924016, 0.961276188762471, 24.031904719061775, 9.61276188762471, 14.419142831437064, 153.80419020199537, 18.26424758648695, 365.28495172973896, 721.9184177606157, 109.58548551892169, 13.457866642674594, 10.57403807638718, 91.32123793243474, 111.50803789644664, 47.10253324936108, 11.535314265149651, 19.22552377524942, 1.922552377524942, 24.031904719061775, 46.141257060598605, 0.961276188762471, 24.031904719061775, 60.56039989203567, 503.7087229115348, 5.767657132574826, 47.10253324936108, 33.644666606686485, 78.82464747852262, 4.806380943812355, 577.726989446245, 574.8431608799576, 203.79055201764385, 163.41695208962005, 240.31904719061777, 146.1139806918956, 132.65611404922097, 124.00462835035876, 117.27569502902145, 107.66293314139675, 103.81782838634686, 100.93399982005944, 98.05017125377204, 91.32123793243474, 77.86337128976014, 149.95908544694547, 72.09571415718531, 136.50121880427088, 60.56039989203567, 58.637847514510725, 57.676571325748256, 297.995618516366, 82.66975223357251, 411.42620879033757, 691.1575797202166, 1203.5177883306137, 146.1139806918956, 213.40331390526853, 228.7837329254681, 157.64929495704524, 386.4330278825133, 496.01851340143503, 171.10716159971983, 178.79737110981958, 310.4922089702781, 145.15270450313312, 227.82245673670562, 286.4603042512163, 239.35777100185527, 224.9386281704182, 190.33268537496923, 248.97053288947995, 220.13224722660584, 235.51266624680537, 176.87481873229467, 181.68119967610698, 168.22333303343243, 83.7598211723321, 5.234988823270756, 5.234988823270756, 13.610970940503964, 682.6425425545066, 5.234988823270756, 27.22194188100793, 714.052475494131, 5.234988823270756, 5.234988823270756, 30.362935174970385, 164.37864905070174, 5.234988823270756, 65.96085917321153, 5.234988823270756, 47.1148994094368, 13.610970940503964, 30.362935174970385, 27.22194188100793, 60.72587034994077, 13.610970940503964, 10.469977646541512, 34.55092623358699, 27.22194188100793, 49.208894938745104, 5.234988823270756, 32.45693070427868, 30.362935174970385, 32.45693070427868, 34.55092623358699, 3331.5468871295093, 390.5301662159984, 392.6241617453067, 308.8643405729746, 279.54840316265836, 187.41259987309306, 259.65544563422947, 161.2376557567393, 145.53268928692702, 120.40474293522738, 120.40474293522738, 109.93476528868588, 102.60578093610683, 91.08880552491115, 79.57183011371549, 78.52483234906134, 75.38383905509889, 73.28984352579059, 71.19584799648229, 68.05485470251983, 68.05485470251983, 67.00785693786568, 67.00785693786568, 63.86686364390322, 63.86686364390322, 118.31074740591909, 98.41778987749021, 99.46478764214437, 306.77034504366634, 514.0759024451883, 150.76767811019778, 193.69458646101796, 278.50140539800424, 206.25855963686777, 113.07575858264833, 105.74677423006926, 452.30303433059333, 230.33950822391327, 272.21941881007933, 145.53268928692702, 229.2925104592591, 116.21675187661079, 135.06271164038552, 138.20370493434797, 170.66063563862664, 185.31860434378476, 128.7807250524606, 124.59273399384399, 150.18360662170977, 31.888300036116455, 39.08888391523953, 154.29822598120865, 3.085964519624173, 20.573096797494486, 302.424522923169, 1.0286548398747244, 102.86548398747243, 13.372512918371417, 5.1432741993736215, 21.601751637369212, 40.11753875511425, 19.544441957619764, 17.487132277870316, 1.0286548398747244, 12.343858078496693, 1.0286548398747244, 4.114619359498898, 9.257893558872519, 1.0286548398747244, 1.0286548398747244, 5.1432741993736215, 1.0286548398747244, 7.20058387912307, 98.75086462797354, 31.888300036116455, 59.66198071273402, 1.0286548398747244, 167.67073889958007, 463.92333278350065, 295.2239390440459, 146.06898726221087, 136.81109370333834, 134.7537840235889, 126.5245453045911, 113.15203238621969, 171.78535825907898, 166.64208405970535, 161.49880986033173, 82.29238718997794, 81.26373235010323, 81.26373235010323, 70.97718395135598, 69.94852911148126, 51.432741993736215, 50.4040871538615, 47.31812263423732, 45.260812954487875, 45.260812954487875, 38.0602290753648, 85.37835170960213, 79.20642267035377, 77.14911299060432, 112.12337754634495, 70.97718395135598, 660.3964071995731, 528.7285876956083, 93.60759042859992, 451.57947470500403, 513.2987650974875, 307.5677971225426, 277.73680676617556, 522.5566586563599, 528.7285876956083, 257.1637099686811, 423.80579402838646, 260.2496744883053, 609.9923200457115, 164.5847743799559, 417.6338649891381, 164.5847743799559, 282.8800809655492, 262.3069841680547, 380.602290753648, 188.24383569707456, 259.22101964843057, 300.36721324341954, 283.90873580542393, 263.33563900792944, 227.3327196123141, 211.90289701419323, 189.27249053694928, 227.3327196123141, 201.616348615446, 193.38710989644818, 239.886966467035, 1668.1370591246125, 18.452843574387305, 0.9226421787193653, 3.690568714877461, 4.613210893596826, 31.36983407645842, 898.6534820726617, 18.452843574387305, 529.5966105849157, 15.68491703822921, 4.613210893596826, 21.220770110545402, 216.82091199905085, 57.203815080600656, 33.215118433897146, 8.303779608474287, 47.054751114687626, 11.071706144632383, 36.90568714877461, 51.667962008284455, 6.458495251035557, 25.833981004142228, 4.613210893596826, 24.911338825422863, 20.298127931826038, 29.52454971901969, 3.690568714877461, 7.381137429754922, 19.37548575310667, 372.7474402026236, 267.5662318286159, 162.3850234546083, 153.15860166741464, 116.25291451864003, 105.18120837400764, 78.42458519114605, 77.50194301242668, 77.50194301242668, 77.50194301242668, 66.43023686779429, 64.58495251035558, 62.73966815291684, 60.894383795478106, 59.04909943803938, 56.281172901881284, 54.435888544442555, 50.74531982956509, 49.822677650845726, 49.822677650845726, 47.977393293407, 47.977393293407, 106.10385055272701, 504.6852717594928, 1001.0667639105113, 559.1211603039353, 143.0095377015016, 71.04344776139114, 291.55492847531946, 165.1529499907664, 100.56799748041081, 269.41151618605466, 164.23030781204702, 178.99258267155687, 155.92652820357273, 112.56234580376257, 250.036030432948, 174.37937177796005, 159.6170969184502, 178.0699404928375, 316.4662673007423, 216.82091199905085, 321.0794781943391, 156.8491703822921, 189.14164663746988, 165.1529499907664, 199.2907106033829, 156.8491703822921, 1.14150603176755, 13.698072381210602, 91.320482541404, 12.55656634944305, 123.2826514308954, 2.2830120635351, 2.2830120635351, 82.1884342872636, 6.849036190605301, 1.14150603176755, 26.254638730653653, 63.9243377789828, 30.82066285772385, 180.35795301927288, 1.14150603176755, 10.27355428590795, 18.2640965082808, 7.99054222237285, 240.85777270295304, 7.99054222237285, 78.76391619196096, 19.40560254004835, 67.34885587428546, 17.12259047651325, 7.99054222237285, 15.9810844447457, 41.0942171436318, 1.14150603176755, 313.9141587360763, 21.68861460358345, 280.8104838148173, 198.62204952755368, 149.53729016154904, 141.54674793917619, 127.8486755579656, 122.14114539912786, 122.14114539912786, 102.7355428590795, 99.31102476377684, 82.1884342872636, 81.04692825549606, 76.48090412842586, 69.63186793782056, 68.490361906053, 68.490361906053, 67.34885587428546, 66.2073498425179, 62.782831747215255, 61.6413257154477, 58.21680762014505, 57.075301588377506, 334.4612673078922, 99.31102476377684, 179.21644698750535, 76.48090412842586, 166.6598806380623, 238.57476063941797, 490.8475936600465, 197.48054349578615, 234.00873651234775, 141.54674793917619, 449.75337651641473, 280.8104838148173, 227.15970032174243, 324.1877130219842, 618.6962692180122, 515.9607263589326, 216.8861460358345, 229.44271238527753, 164.3768685745272, 174.65042286043516, 289.9425320689577, 158.66933841568945, 164.3768685745272, 197.48054349578615, 191.7730133369484, 150.6787961933166, 45.11857787396638, 1834.1226540393775, 5.246346264414695, 22.034654310541722, 230.8392356342466, 36.724423850902866, 45.11857787396638, 43.0200393682005, 47.21711637973225, 54.56200114991283, 110.1732715527086, 5.246346264414695, 13.640500287478208, 341.0125071869552, 41.97077011531756, 20.98538505765878, 20.98538505765878, 5.246346264414695, 54.56200114991283, 10.49269252882939, 5.246346264414695, 22.034654310541722, 55.61127040279577, 5.246346264414695, 138.50354138054794, 20.98538505765878, 5.246346264414695, 10.49269252882939, 13.640500287478208, 5.246346264414695, 2986.2202937048446, 1609.5790339224286, 359.8993537388481, 324.22419914082815, 219.29727385253426, 155.291849426675, 151.09477241514324, 143.74988764496266, 141.65134913919678, 178.37577299009965, 59.80834741432753, 56.66053965567871, 118.56742557577212, 49.315654885498134, 44.069308621083444, 39.87223160955168, 38.82296235666875, 288.54904454280825, 224.54362011694897, 76.59665546045456, 92.33569425369863, 117.51815632288918, 307.43589109470116, 303.2388140831694, 211.95238908235368, 166.83381120838732, 182.57285000163142, 211.95238908235368, 270.71146724379827, 123.81377184018682, 108.07473304694273, 334.71689166965757, 166.83381120838732, 214.05092758811958, 300.0910063245206, 416.55989339452685, 313.7315066119988, 181.52358074874846, 180.47431149586552, 160.53819569108967, 162.63673419685554, 179.42504224298258, 160.53819569108967, 162.63673419685554, 160.53819569108967, 666.5397856390626, 7.5133309170264715, 1.0733329881466387, 12.879995857759665, 1866.5260663870047, 10.733329881466387, 4.293331952586555, 5.366664940733194, 370.2998809105904, 255.4532511789, 7.5133309170264715, 314.48656552696514, 7.5133309170264715, 8.58666390517311, 298.3865707047656, 545.2531579784925, 223.25326153450084, 18.246660798492858, 19.319993786639497, 1.0733329881466387, 2.1466659762932774, 94.45330295690421, 7.5133309170264715, 2.1466659762932774, 602.1398063502643, 16.099994822199584, 76.20664215841134, 8.58666390517311, 237.2065903804072, 57.959981359918494, 266.1865810603664, 221.10659555820757, 150.26661834052942, 136.31328949462312, 103.03996686207732, 91.23330399246429, 90.15997100431765, 89.08663801617101, 89.08663801617101, 74.05997618211806, 69.76664422953152, 69.76664422953152, 68.69331124138488, 64.39997928879833, 63.32664630065168, 62.25331331250505, 59.033314348065126, 180.3199420086353, 162.07328121014245, 124.5066266250101, 610.7264702554374, 748.1130927382072, 132.01995754203656, 223.25326153450084, 371.373213898737, 153.48661730496934, 251.15991922631346, 202.85993475971472, 272.62657898924624, 116.99329570798362, 226.4732604989408, 157.77994925755587, 275.8465779536861, 148.11995236423613, 222.1799285463542, 158.85328224570253, 145.97328638794286, 149.1932853523828, 361.3742924636683, 17.580370984719, 0.9766872769288332, 60.55461116958766, 1195.4652269608919, 11.720247323145998, 30.27730558479383, 13.673621877003665, 146.50309153932497, 8.7901854923595, 0.9766872769288332, 7.813498215430665, 1.9533745538576663, 33.20736741558033, 157.24665158554214, 83.01841853895083, 12.696934600074833, 34.184054692509164, 5.860123661572999, 41.99755290793983, 19.533745538576664, 19.533745538576664, 1.9533745538576663, 157.24665158554214, 39.06749107715333, 29.300618307864998, 197.2908299396243, 9.766872769288332, 13.673621877003665, 78.13498215430666, 1675.0186799329488, 828.2308108356506, 164.083462524044, 136.73621877003666, 85.94848036973733, 83.01841853895083, 76.181607600449, 68.36810938501833, 66.41473483116066, 61.531298446516494, 61.531298446516494, 57.62454933880117, 278.35587392471746, 48.83436384644166, 41.020865631011, 39.06749107715333, 38.0908038002245, 89.85522947745265, 89.85522947745265, 80.08835670816433, 67.39142210808949, 106.45891318524282, 112.31903684681582, 83.01841853895083, 497.13382395677615, 768.6528869429917, 267.61231387850034, 443.41602372569025, 300.8196812940806, 215.84788820127216, 267.61231387850034, 212.91782637048564, 237.3350082937065, 179.7104589549053, 159.20002613939982, 229.52151007827578, 453.1828964949786, 302.77305584793834, 485.41357663363016, 388.72153621767563, 238.31169557063532, 337.9337978173763, 200.22089177041082, 206.08101543198381, 249.05525561685246, 184.59389533954948, 195.33745538576665], \"Total\": [4894.0, 3331.0, 2987.0, 4263.0, 1866.0, 1834.0, 1684.0, 1668.0, 1611.0, 1516.0, 1963.0, 1724.0, 1657.0, 1195.0, 1075.0, 972.0, 1147.0, 1237.0, 898.0, 1547.0, 862.0, 830.0, 1055.0, 826.0, 1020.0, 735.0, 721.0, 714.0, 887.0, 682.0, 88.3846118273829, 549.9486958148269, 88.3846118273829, 862.0227573287962, 150.5811905207264, 40.37321774831071, 84.01993963837634, 84.01993963837634, 154.94586270973298, 60.01424259884025, 199.68375264705026, 22.914528992284456, 1.0911680472516407, 94.93162011089275, 3.2735041417549224, 1.0911680472516407, 1.0911680472516407, 1.0911680472516407, 207.32192897781175, 16.367520708774613, 69.83475502410501, 1.0911680472516407, 27.27920118129102, 26.18803313403938, 21.823360945032817, 4.364672189006563, 4.364672189006563, 3.2735041417549224, 7.638176330761485, 82.9287715911247, 162.58403904049447, 103.66096448890588, 101.47862839440259, 100.38746034715095, 79.65526744936979, 262.9179942103304, 58.9230745515886, 54.55840236258204, 51.28489822082712, 48.0113940790722, 48.0113940790722, 44.73788993731727, 42.55555384281399, 41.46438579556235, 41.46438579556235, 363.80867318629123, 409.26625857822927, 106.0949905059887, 559.3556547352805, 287.44877324711314, 333.2553412069059, 379.9240179696634, 169.6653818669759, 4263.857695241116, 218.52180296287887, 1171.9334639708386, 1684.7893589890127, 398.09553032196203, 1724.6869870352307, 366.1806102453976, 236.88260707441705, 280.94246871806183, 330.344889895303, 1559.2683591899213, 561.5615414027488, 886.8857636572529, 302.02525645030164, 740.4135676849311, 1540.082365879488, 902.0432145295927, 1168.7905770006919, 975.6934497864347, 1732.2747026472944, 1496.7037450323062, 89.98011580252819, 4.090005263751281, 93.04761975034165, 7.157509211564743, 2.0450026318756405, 65.4400842200205, 28.63003684625897, 1.0225013159378202, 524.5431750761019, 41.92255395345064, 22.495028950632047, 5.112506579689102, 12.270015791253844, 10.225013159378204, 21.472527634694227, 85.89011053877691, 2.0450026318756405, 24.540031582507687, 1.0225013159378202, 37.83254868969935, 8.180010527502562, 73.62009474752305, 7.157509211564743, 33.74254342594807, 25.56253289844551, 241.31031056132562, 1.0225013159378202, 12.270015791253844, 59.30507632439358, 37.83254868969935, 160.5327066022378, 155.4202000225487, 151.3301947587974, 145.1951868631705, 144.17268554723267, 124.74516054441408, 112.47514475316024, 104.29513422565768, 394.8079901955803, 80.77760395908781, 76.68759869533652, 73.62009474752305, 67.48508685189614, 65.4400842200205, 63.395081588144855, 61.35007895626923, 61.35007895626923, 190.37291621157817, 129.87176351401948, 56.23757237658012, 55.2150710606423, 53.17006842876666, 172.88302620432697, 192.70626625962916, 91.07128384977983, 77.73459645999067, 663.1367275823051, 258.4248989117018, 430.141127930003, 239.9168432889921, 323.40724522334335, 1237.703049686669, 142.79574406975175, 596.9301575057341, 4263.857695241116, 115.85494493952366, 399.2352798048905, 150.80039334832247, 365.914070596924, 400.2775651696234, 425.3305964791443, 294.8234160159114, 338.6945827739968, 221.69014405523663, 323.0903449923351, 2074.396595434953, 273.35190838762924, 289.75752791133556, 1412.374801359584, 333.4922388848176, 72.07308191419492, 8.605741124082973, 1.0757176405103717, 2.1514352810207433, 1.0757176405103717, 361.4411272114849, 238.80931619330252, 470.0886089030324, 21.514352810207434, 1.0757176405103717, 1516.761873119624, 1.0757176405103717, 4.302870562041487, 1.0757176405103717, 205.46206933748098, 205.46206933748098, 7.530023483572602, 50.558729103987474, 584.1146787971318, 680.9292664430652, 8.605741124082973, 6.4543058430622295, 111.87463461307865, 1.0757176405103717, 24.74150573173855, 3.2271529215311148, 3.2271529215311148, 636.8248431821401, 11.832894045614088, 86.05741124082974, 134.46470506379646, 119.40465809665126, 96.81458764593346, 94.6631523649127, 86.05741124082974, 77.45167011674677, 67.77021135215341, 191.35226125963717, 58.08875258756007, 57.0130349470497, 52.71016438500821, 50.558729103987474, 50.558729103987474, 44.10442326092524, 41.95298797990449, 41.95298797990449, 40.87727033939413, 87.07568912962766, 1147.2622043030024, 58.072242795715376, 58.10420299430134, 1963.7696666887364, 186.03476619447352, 64.4648185613098, 400.96346748882905, 278.8972729175667, 233.4459318314428, 274.53011485590105, 249.54622344353737, 661.7350543848106, 1146.359673760243, 389.2500982835112, 179.24549520978996, 740.4135676849311, 1559.2683591899213, 331.72665083344623, 886.8857636572529, 4263.857695241116, 671.9536804326625, 1732.2747026472944, 1485.080552148662, 902.0432145295927, 2074.396595434953, 394.94372593041953, 23.841747234644746, 42.5005059400189, 281.9545759923205, 51.829885292705974, 121.28193158493198, 23.841747234644746, 85.0010118800378, 15.548965587811795, 100.54997746784959, 5.182988529270598, 163.78243752495086, 2.073195411708239, 4.146390823416478, 73.59843711564248, 11.402574764395315, 305.7963232269652, 7.256183940978836, 1.0365977058541196, 121.28193158493198, 82.92781646832957, 22.80514952879063, 10.365977058541196, 4.146390823416478, 16.585563293665913, 1.0365977058541196, 1.0365977058541196, 1.0365977058541196, 11.402574764395315, 1.0365977058541196, 826.1683715657332, 610.5560487480764, 362.8091970489418, 277.80818516890406, 221.8319090527816, 170.0020237600756, 167.92882834836738, 162.74583981909677, 150.30666734884733, 137.8674948785979, 124.39172470249436, 109.87935682053666, 187.72909308550908, 101.58657517370371, 101.58657517370371, 96.40358664443312, 85.0010118800378, 83.96441417418369, 81.89121876247543, 81.89121876247543, 79.8180233507672, 119.08891531537317, 797.2523582865634, 757.9872912212967, 887.206272885168, 1724.6869870352307, 626.4349852441427, 346.899637577278, 1547.57055346317, 704.7863505463698, 436.7934144291113, 1621.6263537308273, 1496.7037450323062, 1485.080552148662, 1540.082365879488, 829.3781352626615, 1168.7905770006919, 887.5222692401496, 651.6555034818779, 2074.396595434953, 1412.374801359584, 732.3012487257323, 18.00653342731654, 1.0592078486656789, 1.0592078486656789, 29.657819762639004, 69.9077180119348, 972.3528050750932, 160.99959299718319, 66.73009446593777, 585.7419403121204, 39.19069040063012, 9.53287063799111, 9.53287063799111, 2.1184156973313577, 335.76888802702024, 735.0902469739812, 70.96692586060048, 2.1184156973313577, 11.651286335322467, 56.138015979280986, 145.11147526719802, 311.40710750770955, 2.1184156973313577, 8.47366278932543, 4.236831394662715, 1.0592078486656789, 4.236831394662715, 68.84851016326913, 25.420988367976292, 13.769702032653827, 3.1776235459970366, 4894.681766867204, 235.1441424037807, 147.22989096452937, 74.14454940659752, 63.55247091994073, 59.31563952527801, 58.25643167661233, 126.01518098242482, 54.01960028194962, 52.96039243328394, 48.72356103862123, 45.54593749262419, 43.42752179529283, 42.368313946627154, 41.309106097961475, 41.309106097961475, 108.0292619681165, 194.40458585496887, 102.80920048794962, 97.30029594633102, 817.4632235912076, 173.10610702895136, 331.232199034214, 600.2098238259518, 1115.6791539700896, 432.2399757395261, 243.50956273148847, 131.11375522829968, 181.3382292998879, 340.8001514425626, 580.435989534566, 352.0362042490008, 316.3282291793372, 374.1807879360159, 596.9301575057341, 1412.374801359584, 2074.396595434953, 1485.080552148662, 1540.082365879488, 1171.9334639708386, 519.8638632527062, 1621.6263537308273, 338.6945827739968, 16.341695208962008, 32.683390417924016, 0.961276188762471, 24.031904719061775, 9.61276188762471, 14.419142831437064, 153.80419020199537, 18.26424758648695, 365.28495172973896, 721.9184177606157, 109.58548551892169, 13.457866642674594, 10.57403807638718, 91.32123793243474, 111.50803789644664, 47.10253324936108, 11.535314265149651, 19.22552377524942, 1.922552377524942, 24.031904719061775, 46.141257060598605, 0.961276188762471, 24.031904719061775, 60.56039989203567, 503.7087229115348, 5.767657132574826, 47.10253324936108, 33.644666606686485, 78.82464747852262, 4.806380943812355, 578.7036767231739, 576.7944578985517, 203.79055201764385, 163.41695208962005, 241.46055322238533, 146.1139806918956, 132.65611404922097, 124.00462835035876, 117.27569502902145, 107.66293314139675, 103.81782838634686, 100.93399982005944, 98.05017125377204, 91.32123793243474, 77.86337128976014, 151.01829329561116, 72.09571415718531, 137.537816510125, 60.56039989203567, 58.637847514510725, 57.676571325748256, 311.85230165105446, 83.71902148645545, 477.85644565813186, 887.6365411377508, 1657.729339665467, 163.64418208756354, 282.1469008821219, 309.49637875057795, 195.3189940053744, 744.9535309251461, 1146.359673760243, 246.31208192324, 280.6342002574173, 833.048867626638, 193.13009779654013, 547.0238047682257, 1055.113191194208, 812.0536875231691, 771.3840451027874, 457.2169034030355, 1263.9026894494316, 975.6934497864347, 1732.2747026472944, 393.76096476812916, 902.0432145295927, 1115.6791539700896, 83.7598211723321, 5.234988823270756, 5.234988823270756, 13.610970940503964, 682.6425425545066, 5.234988823270756, 27.22194188100793, 714.052475494131, 5.234988823270756, 5.234988823270756, 30.362935174970385, 164.37864905070174, 5.234988823270756, 65.96085917321153, 5.234988823270756, 47.1148994094368, 13.610970940503964, 30.362935174970385, 27.22194188100793, 60.72587034994077, 13.610970940503964, 10.469977646541512, 34.55092623358699, 27.22194188100793, 49.208894938745104, 5.234988823270756, 32.45693070427868, 30.362935174970385, 32.45693070427868, 34.55092623358699, 3331.5468871295093, 390.5301662159984, 393.6528165851814, 309.8868418889124, 280.57090447859616, 187.41259987309306, 260.5780878129488, 161.2376557567393, 145.53268928692702, 120.40474293522738, 120.40474293522738, 109.93476528868588, 102.60578093610683, 91.08880552491115, 79.57183011371549, 78.52483234906134, 75.38383905509889, 73.28984352579059, 71.19584799648229, 68.05485470251983, 68.05485470251983, 67.00785693786568, 67.00785693786568, 63.86686364390322, 63.86686364390322, 119.40191545317073, 99.49350751800058, 101.63167332990639, 332.60432604780857, 576.2724811385318, 166.04403077172074, 220.61031974636714, 400.63725244795273, 301.10495087455564, 135.3191234046276, 123.32714521478826, 1237.703049686669, 522.6586634136277, 1020.3325115482866, 263.6450535609499, 829.3781352626615, 156.44728915208148, 254.52898400781675, 289.75752791133556, 704.7863505463698, 1496.7037450323062, 659.356152163358, 864.3363685632826, 150.18360662170977, 31.888300036116455, 39.08888391523953, 154.29822598120865, 3.085964519624173, 20.573096797494486, 302.424522923169, 1.0286548398747244, 102.86548398747243, 13.372512918371417, 5.1432741993736215, 21.601751637369212, 40.11753875511425, 19.544441957619764, 17.487132277870316, 1.0286548398747244, 12.343858078496693, 1.0286548398747244, 4.114619359498898, 9.257893558872519, 1.0286548398747244, 1.0286548398747244, 5.1432741993736215, 1.0286548398747244, 7.20058387912307, 98.75086462797354, 31.888300036116455, 59.66198071273402, 1.0286548398747244, 167.67073889958007, 463.92333278350065, 295.2239390440459, 146.06898726221087, 136.81109370333834, 134.7537840235889, 126.5245453045911, 113.15203238621969, 172.83235602373313, 167.71780170021572, 162.57214284847836, 82.29238718997794, 81.26373235010323, 81.26373235010323, 70.97718395135598, 69.94852911148126, 51.432741993736215, 50.4040871538615, 47.31812263423732, 45.260812954487875, 45.260812954487875, 38.0602290753648, 86.45168469774876, 80.2797556585004, 79.33761678702602, 121.26591228241334, 74.1249917100048, 864.3363685632826, 734.8096031275921, 102.39777592095942, 651.6555034818779, 773.7291285370327, 427.20045108726754, 378.91837893452583, 833.048867626638, 920.8433292972632, 371.26159565275793, 717.3634775057203, 389.2741124772737, 1263.9026894494316, 226.30042102451108, 1168.7905770006919, 235.628222141347, 615.7564745504438, 590.7151509830894, 1621.6263537308273, 333.4922388848176, 829.4741455487324, 1496.7037450323062, 1412.374801359584, 1115.6791539700896, 887.5222692401496, 703.170231467812, 429.8416339946792, 1540.082365879488, 1485.080552148662, 1732.2747026472944, 239.886966467035, 1668.1370591246125, 18.452843574387305, 0.9226421787193653, 3.690568714877461, 4.613210893596826, 31.36983407645842, 898.6534820726617, 18.452843574387305, 529.5966105849157, 15.68491703822921, 4.613210893596826, 21.220770110545402, 216.82091199905085, 57.203815080600656, 33.215118433897146, 8.303779608474287, 47.054751114687626, 11.071706144632383, 36.90568714877461, 51.667962008284455, 6.458495251035557, 25.833981004142228, 4.613210893596826, 24.911338825422863, 20.298127931826038, 29.52454971901969, 3.690568714877461, 7.381137429754922, 19.37548575310667, 372.7474402026236, 267.5662318286159, 162.3850234546083, 153.15860166741464, 116.25291451864003, 105.18120837400764, 78.42458519114605, 77.50194301242668, 77.50194301242668, 77.50194301242668, 66.43023686779429, 64.58495251035558, 62.73966815291684, 60.894383795478106, 59.04909943803938, 56.281172901881284, 54.435888544442555, 50.74531982956509, 49.822677650845726, 49.822677650845726, 47.977393293407, 47.977393293407, 107.12635186866483, 529.3729879164862, 1075.0850304452215, 661.3143361524207, 155.3533957799983, 72.9968223152488, 349.60440000315015, 204.39310089745675, 114.98714031184787, 452.8884714886608, 243.985410455197, 278.77210213940515, 233.41419476985553, 151.0133933542614, 519.8638632527062, 299.3568553298523, 264.5398905856721, 336.6686152106852, 1171.9334639708386, 588.1941258977879, 1412.374801359584, 330.344889895303, 615.7564745504438, 416.3128692170799, 829.4741455487324, 429.8416339946792, 1.14150603176755, 13.698072381210602, 91.320482541404, 12.55656634944305, 123.2826514308954, 2.2830120635351, 2.2830120635351, 82.1884342872636, 6.849036190605301, 1.14150603176755, 26.254638730653653, 63.9243377789828, 30.82066285772385, 180.35795301927288, 1.14150603176755, 10.27355428590795, 18.2640965082808, 7.99054222237285, 240.85777270295304, 7.99054222237285, 78.76391619196096, 19.40560254004835, 67.34885587428546, 17.12259047651325, 7.99054222237285, 15.9810844447457, 41.0942171436318, 1.14150603176755, 313.9141587360763, 21.68861460358345, 280.8104838148173, 198.62204952755368, 149.53729016154904, 141.54674793917619, 127.8486755579656, 122.14114539912786, 122.14114539912786, 102.7355428590795, 99.31102476377684, 82.1884342872636, 81.04692825549606, 76.48090412842586, 69.63186793782056, 68.490361906053, 68.490361906053, 67.34885587428546, 66.2073498425179, 62.782831747215255, 61.6413257154477, 58.21680762014505, 57.075301588377506, 356.7046321298714, 101.15630912121557, 187.8679326863676, 77.52790189308001, 193.4165038209239, 299.30063098935875, 715.8903804935533, 258.0072985405428, 328.6449817808224, 173.26886216833773, 771.3840451027874, 450.903904229199, 355.69781584765326, 690.9579140572728, 2074.396595434953, 1559.2683591899213, 393.76096476812916, 467.1441376160859, 259.4694909567445, 336.01081546935796, 1263.9026894494316, 349.9795271000097, 455.27049677819394, 1146.359673760243, 1732.2747026472944, 458.742263267749, 45.11857787396638, 1834.1226540393775, 5.246346264414695, 22.034654310541722, 230.8392356342466, 36.724423850902866, 45.11857787396638, 43.0200393682005, 47.21711637973225, 54.56200114991283, 110.1732715527086, 5.246346264414695, 13.640500287478208, 341.0125071869552, 41.97077011531756, 20.98538505765878, 20.98538505765878, 5.246346264414695, 54.56200114991283, 10.49269252882939, 5.246346264414695, 22.034654310541722, 55.61127040279577, 5.246346264414695, 138.50354138054794, 20.98538505765878, 5.246346264414695, 10.49269252882939, 13.640500287478208, 5.246346264414695, 2987.3617997366123, 1611.6522293341368, 360.82199591756745, 325.1468413195475, 219.29727385253426, 155.291849426675, 151.09477241514324, 143.74988764496266, 141.65134913919678, 179.45149063061, 59.80834741432753, 56.66053965567871, 119.49006775449149, 49.315654885498134, 44.069308621083444, 39.87223160955168, 38.82296235666875, 295.0075397938438, 229.83965936027738, 77.66998844860119, 94.50585512534091, 123.7377425580139, 352.5265868677673, 369.6201871924893, 270.050191986669, 210.8404637223995, 248.13840974819152, 306.35331890088224, 420.9093843244701, 156.22020362249935, 135.29667492795065, 661.7350543848106, 260.9039322746668, 406.27100010338347, 795.4977825287166, 1540.082365879488, 1684.7893589890127, 452.8884714886608, 547.0238047682257, 314.5841803643872, 346.9390167444692, 790.1515124984201, 411.84936224937655, 671.9536804326625, 1732.2747026472944, 666.5397856390626, 7.5133309170264715, 1.0733329881466387, 12.879995857759665, 1866.5260663870047, 10.733329881466387, 4.293331952586555, 5.366664940733194, 370.2998809105904, 255.4532511789, 7.5133309170264715, 314.48656552696514, 7.5133309170264715, 8.58666390517311, 298.3865707047656, 545.2531579784925, 223.25326153450084, 18.246660798492858, 19.319993786639497, 1.0733329881466387, 2.1466659762932774, 94.45330295690421, 7.5133309170264715, 2.1466659762932774, 602.1398063502643, 16.099994822199584, 76.20664215841134, 8.58666390517311, 237.2065903804072, 57.959981359918494, 266.1865810603664, 221.10659555820757, 150.26661834052942, 136.31328949462312, 103.03996686207732, 91.23330399246429, 90.15997100431765, 89.08663801617101, 89.08663801617101, 74.05997618211806, 69.76664422953152, 69.76664422953152, 68.69331124138488, 64.39997928879833, 63.32664630065168, 62.25331331250505, 59.033314348065126, 186.6019285965602, 167.31962747455714, 130.8618737170042, 790.1515124984201, 1020.3325115482866, 148.00104198678227, 281.8907268692985, 588.1941258977879, 205.94801413858028, 416.3128692170799, 354.0451280241695, 812.0536875231691, 155.74426721419695, 700.0619455588152, 312.1691209882656, 1684.7893589890127, 331.4759259431927, 1732.2747026472944, 732.3012487257323, 420.9093843244701, 659.356152163358, 361.3742924636683, 17.580370984719, 0.9766872769288332, 60.55461116958766, 1195.4652269608919, 11.720247323145998, 30.27730558479383, 13.673621877003665, 146.50309153932497, 8.7901854923595, 0.9766872769288332, 7.813498215430665, 1.9533745538576663, 33.20736741558033, 157.24665158554214, 83.01841853895083, 12.696934600074833, 34.184054692509164, 5.860123661572999, 41.99755290793983, 19.533745538576664, 19.533745538576664, 1.9533745538576663, 157.24665158554214, 39.06749107715333, 29.300618307864998, 197.2908299396243, 9.766872769288332, 13.673621877003665, 78.13498215430666, 1684.2775773360543, 830.3293493414164, 164.083462524044, 136.73621877003666, 85.94848036973733, 83.01841853895083, 76.181607600449, 68.36810938501833, 66.41473483116066, 61.531298446516494, 61.531298446516494, 57.62454933880117, 283.1622548685298, 48.83436384644166, 41.020865631011, 39.06749107715333, 38.0908038002245, 90.90449873033559, 90.9463975247043, 81.13762596104726, 68.35269829685195, 109.54487770486699, 116.4654276702323, 85.20075463345411, 551.9261134816186, 1055.113191194208, 357.0109994334101, 673.5447395538375, 466.23845660187305, 305.3731640931858, 418.9981626140973, 309.7324140164191, 362.5947078125373, 261.243898784834, 254.68352815174728, 495.17556187522587, 1657.729339665467, 829.3781352626615, 1963.7696666887364, 1621.6263537308273, 659.356152163358, 1547.57055346317, 546.9646545624904, 734.8096031275921, 2074.396595434953, 561.5615414027488, 887.6365411377508], \"Category\": [\"Default\", \"Default\", \"Default\", \"Default\", \"Default\", \"Default\", \"Default\", \"Default\", \"Default\", \"Default\", \"Default\", \"Default\", \"Default\", \"Default\", \"Default\", \"Default\", \"Default\", \"Default\", \"Default\", \"Default\", \"Default\", \"Default\", \"Default\", \"Default\", \"Default\", \"Default\", \"Default\", \"Default\", \"Default\", \"Default\", \"Topic1\", \"Topic1\", \"Topic1\", \"Topic1\", \"Topic1\", \"Topic1\", \"Topic1\", \"Topic1\", \"Topic1\", \"Topic1\", \"Topic1\", \"Topic1\", \"Topic1\", \"Topic1\", \"Topic1\", \"Topic1\", \"Topic1\", \"Topic1\", \"Topic1\", \"Topic1\", \"Topic1\", \"Topic1\", \"Topic1\", \"Topic1\", \"Topic1\", \"Topic1\", \"Topic1\", \"Topic1\", \"Topic1\", \"Topic1\", \"Topic1\", \"Topic1\", \"Topic1\", \"Topic1\", \"Topic1\", \"Topic1\", \"Topic1\", \"Topic1\", \"Topic1\", \"Topic1\", \"Topic1\", \"Topic1\", \"Topic1\", \"Topic1\", \"Topic1\", \"Topic1\", \"Topic1\", \"Topic1\", \"Topic1\", \"Topic1\", \"Topic1\", \"Topic1\", \"Topic1\", \"Topic1\", \"Topic1\", \"Topic1\", \"Topic1\", \"Topic1\", \"Topic1\", \"Topic1\", \"Topic1\", \"Topic1\", \"Topic1\", \"Topic1\", \"Topic1\", \"Topic1\", \"Topic1\", \"Topic1\", \"Topic1\", \"Topic1\", \"Topic1\", \"Topic1\", \"Topic1\", \"Topic1\", \"Topic2\", \"Topic2\", \"Topic2\", \"Topic2\", \"Topic2\", \"Topic2\", \"Topic2\", \"Topic2\", \"Topic2\", \"Topic2\", \"Topic2\", \"Topic2\", \"Topic2\", \"Topic2\", \"Topic2\", \"Topic2\", \"Topic2\", \"Topic2\", \"Topic2\", \"Topic2\", \"Topic2\", \"Topic2\", \"Topic2\", \"Topic2\", \"Topic2\", \"Topic2\", \"Topic2\", \"Topic2\", \"Topic2\", \"Topic2\", \"Topic2\", \"Topic2\", \"Topic2\", \"Topic2\", \"Topic2\", \"Topic2\", \"Topic2\", \"Topic2\", \"Topic2\", \"Topic2\", \"Topic2\", \"Topic2\", \"Topic2\", \"Topic2\", \"Topic2\", \"Topic2\", \"Topic2\", \"Topic2\", \"Topic2\", \"Topic2\", \"Topic2\", \"Topic2\", \"Topic2\", \"Topic2\", \"Topic2\", \"Topic2\", \"Topic2\", \"Topic2\", \"Topic2\", \"Topic2\", \"Topic2\", \"Topic2\", \"Topic2\", \"Topic2\", \"Topic2\", \"Topic2\", \"Topic2\", \"Topic2\", \"Topic2\", \"Topic2\", \"Topic2\", \"Topic2\", \"Topic2\", \"Topic2\", \"Topic2\", \"Topic2\", \"Topic2\", \"Topic2\", \"Topic2\", \"Topic2\", \"Topic3\", \"Topic3\", \"Topic3\", \"Topic3\", \"Topic3\", \"Topic3\", \"Topic3\", \"Topic3\", \"Topic3\", \"Topic3\", \"Topic3\", \"Topic3\", \"Topic3\", \"Topic3\", \"Topic3\", \"Topic3\", \"Topic3\", \"Topic3\", \"Topic3\", \"Topic3\", \"Topic3\", \"Topic3\", \"Topic3\", \"Topic3\", \"Topic3\", \"Topic3\", \"Topic3\", \"Topic3\", \"Topic3\", \"Topic3\", \"Topic3\", \"Topic3\", \"Topic3\", \"Topic3\", \"Topic3\", \"Topic3\", \"Topic3\", \"Topic3\", \"Topic3\", \"Topic3\", \"Topic3\", \"Topic3\", \"Topic3\", \"Topic3\", \"Topic3\", \"Topic3\", \"Topic3\", \"Topic3\", \"Topic3\", \"Topic3\", \"Topic3\", \"Topic3\", \"Topic3\", \"Topic3\", \"Topic3\", \"Topic3\", \"Topic3\", \"Topic3\", \"Topic3\", \"Topic3\", \"Topic3\", \"Topic3\", \"Topic3\", \"Topic3\", \"Topic3\", \"Topic3\", \"Topic3\", \"Topic3\", \"Topic3\", \"Topic3\", \"Topic3\", \"Topic3\", \"Topic3\", \"Topic4\", \"Topic4\", \"Topic4\", \"Topic4\", \"Topic4\", \"Topic4\", \"Topic4\", \"Topic4\", \"Topic4\", \"Topic4\", \"Topic4\", \"Topic4\", \"Topic4\", \"Topic4\", \"Topic4\", \"Topic4\", \"Topic4\", \"Topic4\", \"Topic4\", \"Topic4\", \"Topic4\", \"Topic4\", \"Topic4\", \"Topic4\", \"Topic4\", \"Topic4\", \"Topic4\", \"Topic4\", \"Topic4\", \"Topic4\", \"Topic4\", \"Topic4\", \"Topic4\", \"Topic4\", \"Topic4\", \"Topic4\", \"Topic4\", \"Topic4\", \"Topic4\", \"Topic4\", \"Topic4\", \"Topic4\", \"Topic4\", \"Topic4\", \"Topic4\", \"Topic4\", \"Topic4\", \"Topic4\", \"Topic4\", \"Topic4\", \"Topic4\", \"Topic4\", \"Topic4\", \"Topic4\", \"Topic4\", \"Topic4\", \"Topic4\", \"Topic4\", \"Topic4\", \"Topic4\", \"Topic4\", \"Topic4\", \"Topic4\", \"Topic4\", \"Topic4\", \"Topic4\", \"Topic4\", \"Topic4\", \"Topic4\", \"Topic4\", \"Topic4\", \"Topic4\", \"Topic5\", \"Topic5\", \"Topic5\", \"Topic5\", \"Topic5\", \"Topic5\", \"Topic5\", \"Topic5\", \"Topic5\", \"Topic5\", \"Topic5\", \"Topic5\", \"Topic5\", \"Topic5\", \"Topic5\", \"Topic5\", \"Topic5\", \"Topic5\", \"Topic5\", \"Topic5\", \"Topic5\", \"Topic5\", \"Topic5\", \"Topic5\", \"Topic5\", \"Topic5\", \"Topic5\", \"Topic5\", \"Topic5\", \"Topic5\", \"Topic5\", \"Topic5\", \"Topic5\", \"Topic5\", \"Topic5\", \"Topic5\", \"Topic5\", \"Topic5\", \"Topic5\", \"Topic5\", \"Topic5\", \"Topic5\", \"Topic5\", \"Topic5\", \"Topic5\", \"Topic5\", \"Topic5\", \"Topic5\", \"Topic5\", \"Topic5\", \"Topic5\", \"Topic5\", \"Topic5\", \"Topic5\", \"Topic5\", \"Topic5\", \"Topic5\", \"Topic5\", \"Topic5\", \"Topic5\", \"Topic5\", \"Topic5\", \"Topic5\", \"Topic5\", \"Topic5\", \"Topic5\", \"Topic5\", \"Topic5\", \"Topic5\", \"Topic5\", \"Topic5\", \"Topic5\", \"Topic5\", \"Topic6\", \"Topic6\", \"Topic6\", \"Topic6\", \"Topic6\", \"Topic6\", \"Topic6\", \"Topic6\", \"Topic6\", \"Topic6\", \"Topic6\", \"Topic6\", \"Topic6\", \"Topic6\", \"Topic6\", \"Topic6\", \"Topic6\", \"Topic6\", \"Topic6\", \"Topic6\", \"Topic6\", \"Topic6\", \"Topic6\", \"Topic6\", \"Topic6\", \"Topic6\", \"Topic6\", \"Topic6\", \"Topic6\", \"Topic6\", \"Topic6\", \"Topic6\", \"Topic6\", \"Topic6\", \"Topic6\", \"Topic6\", \"Topic6\", \"Topic6\", \"Topic6\", \"Topic6\", \"Topic6\", \"Topic6\", \"Topic6\", \"Topic6\", \"Topic6\", \"Topic6\", \"Topic6\", \"Topic6\", \"Topic6\", \"Topic6\", \"Topic6\", \"Topic6\", \"Topic6\", \"Topic6\", \"Topic6\", \"Topic6\", \"Topic6\", \"Topic6\", \"Topic6\", \"Topic6\", \"Topic6\", \"Topic6\", \"Topic6\", \"Topic6\", \"Topic6\", \"Topic6\", \"Topic6\", \"Topic6\", \"Topic6\", \"Topic6\", \"Topic6\", \"Topic6\", \"Topic6\", \"Topic6\", \"Topic6\", \"Topic6\", \"Topic6\", \"Topic7\", \"Topic7\", \"Topic7\", \"Topic7\", \"Topic7\", \"Topic7\", \"Topic7\", \"Topic7\", \"Topic7\", \"Topic7\", \"Topic7\", \"Topic7\", \"Topic7\", \"Topic7\", \"Topic7\", \"Topic7\", \"Topic7\", \"Topic7\", \"Topic7\", \"Topic7\", \"Topic7\", \"Topic7\", \"Topic7\", \"Topic7\", \"Topic7\", \"Topic7\", \"Topic7\", \"Topic7\", \"Topic7\", \"Topic7\", \"Topic7\", \"Topic7\", \"Topic7\", \"Topic7\", \"Topic7\", \"Topic7\", \"Topic7\", \"Topic7\", \"Topic7\", \"Topic7\", \"Topic7\", \"Topic7\", \"Topic7\", \"Topic7\", \"Topic7\", \"Topic7\", \"Topic7\", \"Topic7\", \"Topic7\", \"Topic7\", \"Topic7\", \"Topic7\", \"Topic7\", \"Topic7\", \"Topic7\", \"Topic7\", \"Topic7\", \"Topic7\", \"Topic7\", \"Topic7\", \"Topic7\", \"Topic7\", \"Topic7\", \"Topic7\", \"Topic7\", \"Topic7\", \"Topic7\", \"Topic7\", \"Topic7\", \"Topic7\", \"Topic7\", \"Topic7\", \"Topic7\", \"Topic7\", \"Topic7\", \"Topic7\", \"Topic7\", \"Topic7\", \"Topic8\", \"Topic8\", \"Topic8\", \"Topic8\", \"Topic8\", \"Topic8\", \"Topic8\", \"Topic8\", \"Topic8\", \"Topic8\", \"Topic8\", \"Topic8\", \"Topic8\", \"Topic8\", \"Topic8\", \"Topic8\", \"Topic8\", \"Topic8\", \"Topic8\", \"Topic8\", \"Topic8\", \"Topic8\", \"Topic8\", \"Topic8\", \"Topic8\", \"Topic8\", \"Topic8\", \"Topic8\", \"Topic8\", \"Topic8\", \"Topic8\", \"Topic8\", \"Topic8\", \"Topic8\", \"Topic8\", \"Topic8\", \"Topic8\", \"Topic8\", \"Topic8\", \"Topic8\", \"Topic8\", \"Topic8\", \"Topic8\", \"Topic8\", \"Topic8\", \"Topic8\", \"Topic8\", \"Topic8\", \"Topic8\", \"Topic8\", \"Topic8\", \"Topic8\", \"Topic8\", \"Topic8\", \"Topic8\", \"Topic8\", \"Topic8\", \"Topic8\", \"Topic8\", \"Topic8\", \"Topic8\", \"Topic8\", \"Topic8\", \"Topic8\", \"Topic8\", \"Topic8\", \"Topic8\", \"Topic8\", \"Topic8\", \"Topic8\", \"Topic8\", \"Topic8\", \"Topic8\", \"Topic8\", \"Topic8\", \"Topic8\", \"Topic8\", \"Topic8\", \"Topic8\", \"Topic8\", \"Topic8\", \"Topic8\", \"Topic8\", \"Topic8\", \"Topic8\", \"Topic8\", \"Topic9\", \"Topic9\", \"Topic9\", \"Topic9\", \"Topic9\", \"Topic9\", \"Topic9\", \"Topic9\", \"Topic9\", \"Topic9\", \"Topic9\", \"Topic9\", \"Topic9\", \"Topic9\", \"Topic9\", \"Topic9\", \"Topic9\", \"Topic9\", \"Topic9\", \"Topic9\", \"Topic9\", \"Topic9\", \"Topic9\", \"Topic9\", \"Topic9\", \"Topic9\", \"Topic9\", \"Topic9\", \"Topic9\", \"Topic9\", \"Topic9\", \"Topic9\", \"Topic9\", \"Topic9\", \"Topic9\", \"Topic9\", \"Topic9\", \"Topic9\", \"Topic9\", \"Topic9\", \"Topic9\", \"Topic9\", \"Topic9\", \"Topic9\", \"Topic9\", \"Topic9\", \"Topic9\", \"Topic9\", \"Topic9\", \"Topic9\", \"Topic9\", \"Topic9\", \"Topic9\", \"Topic9\", \"Topic9\", \"Topic9\", \"Topic9\", \"Topic9\", \"Topic9\", \"Topic9\", \"Topic9\", \"Topic9\", \"Topic9\", \"Topic9\", \"Topic9\", \"Topic9\", \"Topic9\", \"Topic9\", \"Topic9\", \"Topic9\", \"Topic9\", \"Topic9\", \"Topic9\", \"Topic9\", \"Topic9\", \"Topic9\", \"Topic9\", \"Topic9\", \"Topic10\", \"Topic10\", \"Topic10\", \"Topic10\", \"Topic10\", \"Topic10\", \"Topic10\", \"Topic10\", \"Topic10\", \"Topic10\", \"Topic10\", \"Topic10\", \"Topic10\", \"Topic10\", \"Topic10\", \"Topic10\", \"Topic10\", \"Topic10\", \"Topic10\", \"Topic10\", \"Topic10\", \"Topic10\", \"Topic10\", \"Topic10\", \"Topic10\", \"Topic10\", \"Topic10\", \"Topic10\", \"Topic10\", \"Topic10\", \"Topic10\", \"Topic10\", \"Topic10\", \"Topic10\", \"Topic10\", \"Topic10\", \"Topic10\", \"Topic10\", \"Topic10\", \"Topic10\", \"Topic10\", \"Topic10\", \"Topic10\", \"Topic10\", \"Topic10\", \"Topic10\", \"Topic10\", \"Topic10\", \"Topic10\", \"Topic10\", \"Topic10\", \"Topic10\", \"Topic10\", \"Topic10\", \"Topic10\", \"Topic10\", \"Topic10\", \"Topic10\", \"Topic10\", \"Topic10\", \"Topic10\", \"Topic10\", \"Topic10\", \"Topic10\", \"Topic10\", \"Topic10\", \"Topic10\", \"Topic10\", \"Topic10\", \"Topic10\", \"Topic10\", \"Topic10\", \"Topic10\", \"Topic10\", \"Topic10\", \"Topic10\", \"Topic10\", \"Topic11\", \"Topic11\", \"Topic11\", \"Topic11\", \"Topic11\", \"Topic11\", \"Topic11\", \"Topic11\", \"Topic11\", \"Topic11\", \"Topic11\", \"Topic11\", \"Topic11\", \"Topic11\", \"Topic11\", \"Topic11\", \"Topic11\", \"Topic11\", \"Topic11\", \"Topic11\", \"Topic11\", \"Topic11\", \"Topic11\", \"Topic11\", \"Topic11\", \"Topic11\", \"Topic11\", \"Topic11\", \"Topic11\", \"Topic11\", \"Topic11\", \"Topic11\", \"Topic11\", \"Topic11\", \"Topic11\", \"Topic11\", \"Topic11\", \"Topic11\", \"Topic11\", \"Topic11\", \"Topic11\", \"Topic11\", \"Topic11\", \"Topic11\", \"Topic11\", \"Topic11\", \"Topic11\", \"Topic11\", \"Topic11\", \"Topic11\", \"Topic11\", \"Topic11\", \"Topic11\", \"Topic11\", \"Topic11\", \"Topic11\", \"Topic11\", \"Topic11\", \"Topic11\", \"Topic11\", \"Topic11\", \"Topic11\", \"Topic11\", \"Topic11\", \"Topic11\", \"Topic11\", \"Topic11\", \"Topic11\", \"Topic11\", \"Topic11\", \"Topic11\", \"Topic11\", \"Topic11\", \"Topic11\", \"Topic11\", \"Topic12\", \"Topic12\", \"Topic12\", \"Topic12\", \"Topic12\", \"Topic12\", \"Topic12\", \"Topic12\", \"Topic12\", \"Topic12\", \"Topic12\", \"Topic12\", \"Topic12\", \"Topic12\", \"Topic12\", \"Topic12\", \"Topic12\", \"Topic12\", \"Topic12\", \"Topic12\", \"Topic12\", \"Topic12\", \"Topic12\", \"Topic12\", \"Topic12\", \"Topic12\", \"Topic12\", \"Topic12\", \"Topic12\", \"Topic12\", \"Topic12\", \"Topic12\", \"Topic12\", \"Topic12\", \"Topic12\", \"Topic12\", \"Topic12\", \"Topic12\", \"Topic12\", \"Topic12\", \"Topic12\", \"Topic12\", \"Topic12\", \"Topic12\", \"Topic12\", \"Topic12\", \"Topic12\", \"Topic12\", \"Topic12\", \"Topic12\", \"Topic12\", \"Topic12\", \"Topic12\", \"Topic12\", \"Topic12\", \"Topic12\", \"Topic12\", \"Topic12\", \"Topic12\", \"Topic12\", \"Topic12\", \"Topic12\", \"Topic12\", \"Topic12\", \"Topic12\", \"Topic12\", \"Topic12\", \"Topic12\", \"Topic13\", \"Topic13\", \"Topic13\", \"Topic13\", \"Topic13\", \"Topic13\", \"Topic13\", \"Topic13\", \"Topic13\", \"Topic13\", \"Topic13\", \"Topic13\", \"Topic13\", \"Topic13\", \"Topic13\", \"Topic13\", \"Topic13\", \"Topic13\", \"Topic13\", \"Topic13\", \"Topic13\", \"Topic13\", \"Topic13\", \"Topic13\", \"Topic13\", \"Topic13\", \"Topic13\", \"Topic13\", \"Topic13\", \"Topic13\", \"Topic13\", \"Topic13\", \"Topic13\", \"Topic13\", \"Topic13\", \"Topic13\", \"Topic13\", \"Topic13\", \"Topic13\", \"Topic13\", \"Topic13\", \"Topic13\", \"Topic13\", \"Topic13\", \"Topic13\", \"Topic13\", \"Topic13\", \"Topic13\", \"Topic13\", \"Topic13\", \"Topic13\", \"Topic13\", \"Topic13\", \"Topic13\", \"Topic13\", \"Topic13\", \"Topic13\", \"Topic13\", \"Topic13\", \"Topic13\", \"Topic13\", \"Topic13\", \"Topic13\", \"Topic13\", \"Topic13\", \"Topic13\", \"Topic13\", \"Topic13\", \"Topic13\", \"Topic13\", \"Topic13\", \"Topic13\", \"Topic13\", \"Topic13\", \"Topic13\", \"Topic13\", \"Topic13\"], \"logprob\": [30.0, 29.0, 28.0, 27.0, 26.0, 25.0, 24.0, 23.0, 22.0, 21.0, 20.0, 19.0, 18.0, 17.0, 16.0, 15.0, 14.0, 13.0, 12.0, 11.0, 10.0, 9.0, 8.0, 7.0, 6.0, 5.0, 4.0, 3.0, 2.0, 1.0, -5.7689, -3.9407, -5.7689, -3.4913, -5.2361, -6.5524, -5.8195, -5.8195, -5.2075, -6.156, -4.9538, -7.1188, -10.1633, -5.6974, -9.0647, -10.1633, -10.1633, -10.1633, -4.9163, -7.4553, -6.0044, -10.1633, -6.9444, -6.9853, -7.1676, -8.777, -8.777, -9.0647, -8.2174, -5.8326, -5.1594, -5.6094, -5.6307, -5.6415, -5.8729, -4.691, -6.1743, -6.2513, -6.3132, -6.3791, -6.3791, -6.4497, -6.4997, -6.5257, -6.5257, -4.395, -4.3169, -5.6415, -4.1423, -4.7606, -4.6339, -4.5357, -5.273, -2.5198, -5.1394, -3.8461, -3.598, -4.802, -3.8942, -4.8955, -5.1729, -5.1135, -5.0944, -4.3285, -4.8501, -4.7428, -5.1866, -4.8955, -4.855, -4.9928, -4.9538, -5.0334, -5.0453, -5.0819, -5.7434, -8.8344, -5.7099, -8.2748, -9.5276, -6.0619, -6.8885, -10.2207, -3.9805, -6.5072, -7.1297, -8.6113, -7.7358, -7.9182, -7.1762, -5.7899, -9.5276, -7.0427, -10.2207, -6.6098, -8.1413, -5.9441, -8.2748, -6.7242, -7.0019, -4.7569, -10.2207, -7.7358, -6.1603, -6.6098, -5.1645, -5.1969, -5.2235, -5.2649, -5.272, -5.4167, -5.5203, -5.5958, -4.2779, -5.8513, -5.9033, -5.9441, -6.0311, -6.0619, -6.0936, -6.1264, -6.1264, -5.0058, -5.3845, -6.2134, -6.2318, -6.2695, -5.1088, -5.0058, -5.7434, -5.9033, -3.8982, -4.8136, -4.3543, -4.9026, -4.641, -3.5783, -5.4086, -4.343, -2.9075, -5.6056, -4.7697, -5.4332, -4.8642, -4.8408, -4.8046, -5.0674, -5.0278, -5.272, -5.1709, -4.6717, -5.2649, -5.272, -5.1838, -5.272, -5.961, -8.0862, -10.1657, -9.4725, -10.1657, -4.3485, -4.763, -4.0857, -7.1699, -10.1657, -2.9143, -10.1657, -8.7794, -10.1657, -4.9134, -4.9134, -8.2197, -6.3155, -3.8686, -3.7152, -8.0862, -8.3739, -5.5213, -10.1657, -7.0302, -9.067, -9.067, -3.7822, -7.7678, -5.7836, -5.3373, -5.4561, -5.6658, -5.6883, -5.7836, -5.889, -6.0225, -4.9952, -6.1767, -6.1954, -6.2738, -6.3155, -6.3155, -6.4521, -6.5021, -6.5021, -6.5281, -5.7962, -3.3326, -6.1954, -6.1954, -3.0142, -5.1821, -6.1052, -4.538, -4.903, -5.0719, -5.0299, -5.1222, -4.4486, -4.1254, -4.8978, -5.395, -4.6644, -4.325, -5.1094, -4.7585, -4.1254, -4.8927, -4.6362, -4.7146, -4.9507, -4.9507, -4.2488, -7.0561, -6.478, -4.5858, -6.2795, -5.4294, -7.0561, -5.7848, -7.4835, -5.6168, -8.5821, -5.129, -9.4984, -8.8053, -5.9289, -7.7937, -4.5046, -8.2456, -10.1916, -5.4294, -5.8095, -7.1005, -7.889, -8.8053, -7.419, -10.1916, -10.1916, -10.1916, -7.7937, -10.1916, -3.5107, -3.8131, -4.3336, -4.6006, -4.8256, -5.0917, -5.104, -5.1353, -5.2148, -5.3012, -5.4041, -5.5281, -4.9986, -5.6066, -5.6066, -5.659, -5.7848, -5.7971, -5.8221, -5.8221, -5.8478, -5.4642, -3.6798, -3.7443, -3.6534, -3.1812, -4.0845, -4.5968, -3.4582, -4.254, -4.6822, -4.0033, -4.468, -4.4878, -4.4844, -4.854, -4.7578, -4.8492, -4.9341, -4.9237, -5.0796, -5.0978, -7.3351, -10.1683, -10.1683, -6.8361, -5.9786, -3.3461, -5.1444, -6.0251, -3.8529, -6.5574, -7.971, -7.971, -9.4751, -4.4094, -3.6258, -5.9636, -9.4751, -7.7704, -6.198, -5.2483, -4.4847, -9.4751, -8.0888, -8.782, -10.1683, -8.782, -5.9939, -6.9902, -7.6033, -9.0697, -1.7301, -4.7656, -5.2338, -5.9198, -6.0739, -6.1429, -6.1609, -5.3976, -6.2364, -6.2562, -6.3396, -6.4071, -6.4547, -6.4794, -6.5047, -6.5047, -5.5532, -4.9809, -5.6357, -5.6909, -3.7273, -5.2054, -4.6468, -4.1743, -3.7932, -4.5662, -5.0325, -5.5433, -5.3085, -4.9698, -4.7215, -5.0563, -5.1184, -5.0443, -4.8453, -4.4253, -4.2684, -4.4678, -4.4678, -4.8851, -5.0869, -4.865, -5.1847, -7.4219, -6.7287, -10.2551, -7.0362, -7.9525, -7.547, -5.1799, -7.3107, -4.3149, -3.6337, -5.5189, -7.616, -7.8572, -5.7012, -5.5015, -6.3633, -7.7702, -7.2594, -9.5619, -7.0362, -6.3839, -10.2551, -7.0362, -6.112, -3.9936, -8.4633, -6.3633, -6.6997, -5.8484, -8.6457, -3.8565, -3.8615, -4.8985, -5.1193, -4.7336, -5.2312, -5.3278, -5.3953, -5.4511, -5.5366, -5.573, -5.6011, -5.6301, -5.7012, -5.8606, -5.2052, -5.9376, -5.2993, -6.112, -6.1442, -6.1608, -4.5185, -5.8007, -4.196, -3.6772, -3.1226, -5.2312, -4.8524, -4.7828, -5.1552, -4.2586, -4.009, -5.0733, -5.0293, -4.4774, -5.2378, -4.787, -4.558, -4.7376, -4.7998, -4.9668, -4.6983, -4.8214, -4.7538, -5.0402, -5.0133, -5.0903, -5.7856, -8.5582, -8.5582, -7.6027, -3.6876, -8.5582, -6.9096, -3.6426, -8.5582, -8.5582, -6.8004, -5.1114, -8.5582, -6.0245, -8.5582, -6.361, -7.6027, -6.8004, -6.9096, -6.1072, -7.6027, -7.8651, -6.6712, -6.9096, -6.3175, -8.5582, -6.7337, -6.8004, -6.7337, -6.6712, -2.1024, -4.2461, -4.2407, -4.4807, -4.5804, -4.9803, -4.6542, -5.1307, -5.2332, -5.4227, -5.4227, -5.5137, -5.5827, -5.7017, -5.8369, -5.8502, -5.891, -5.9192, -5.9482, -5.9933, -5.9933, -6.0088, -6.0088, -6.0568, -6.0568, -5.4403, -5.6244, -5.6138, -4.4875, -3.9712, -5.1978, -4.9473, -4.5842, -4.8845, -5.4855, -5.5525, -4.0992, -4.774, -4.607, -5.2332, -4.7786, -5.4581, -5.3078, -5.2849, -5.0739, -4.9915, -5.3555, -5.3885, -5.2011, -6.7508, -6.5472, -5.1741, -9.0861, -7.189, -4.5012, -10.1847, -5.5796, -7.6198, -8.5753, -7.1402, -6.5212, -7.2403, -7.3515, -10.1847, -7.6998, -10.1847, -8.7985, -7.9875, -10.1847, -10.1847, -8.5753, -10.1847, -8.2388, -5.6204, -6.7508, -6.1243, -10.1847, -5.091, -4.0733, -4.5253, -5.2289, -5.2944, -5.3096, -5.3726, -5.4843, -5.0668, -5.0972, -5.1285, -5.8027, -5.8153, -5.8153, -5.9506, -5.9652, -6.2727, -6.2929, -6.3561, -6.4006, -6.4006, -6.5738, -5.7659, -5.8409, -5.8673, -5.4934, -5.9506, -3.7202, -3.9425, -5.6739, -4.1002, -3.9721, -4.4843, -4.5863, -3.9543, -3.9425, -4.6633, -4.1637, -4.6514, -3.7996, -5.1096, -4.1784, -5.1096, -4.568, -4.6435, -4.2712, -4.9753, -4.6553, -4.508, -4.5643, -4.6396, -4.7866, -4.8569, -4.9698, -4.7866, -4.9066, -4.9483, -4.7318, -2.7925, -7.2968, -10.2925, -8.9062, -8.683, -6.7661, -3.4111, -7.2968, -3.9399, -7.4593, -8.683, -7.157, -4.8329, -6.1654, -6.709, -8.0953, -6.3607, -7.8076, -6.6036, -6.2671, -8.3466, -6.9603, -8.683, -6.9966, -7.2014, -6.8267, -8.9062, -8.213, -7.248, -4.2911, -4.6226, -5.122, -5.1805, -5.4562, -5.5563, -5.8498, -5.8617, -5.8617, -5.8617, -6.0158, -6.044, -6.073, -6.1028, -6.1336, -6.1816, -6.2149, -6.2852, -6.3035, -6.3035, -6.3412, -6.3412, -5.5476, -3.988, -3.3031, -3.8856, -5.2491, -5.9487, -4.5367, -5.1051, -5.6011, -4.6157, -5.1107, -5.0246, -5.1626, -5.4885, -4.6904, -5.0507, -5.1392, -5.0298, -4.4548, -4.8329, -4.4403, -5.1567, -4.9695, -5.1051, -4.9172, -5.1567, -10.075, -7.5901, -5.6929, -7.6771, -5.3928, -9.3818, -9.3818, -5.7983, -8.2832, -10.075, -6.9395, -6.0496, -6.7791, -5.0124, -10.075, -7.8777, -7.3024, -8.129, -4.7231, -8.129, -5.8409, -7.2417, -5.9974, -7.3669, -8.129, -7.4359, -6.4914, -10.075, -4.4582, -7.1305, -4.5696, -4.9159, -5.1998, -5.2547, -5.3565, -5.4021, -5.4021, -5.5751, -5.6091, -5.7983, -5.8123, -5.8703, -5.9641, -5.9806, -5.9806, -5.9974, -6.0145, -6.0676, -6.086, -6.1431, -6.1629, -4.3948, -5.6091, -5.0187, -5.8703, -5.0914, -4.7326, -4.0112, -4.9217, -4.7519, -5.2547, -4.0986, -4.5696, -4.7817, -4.426, -3.7797, -3.9613, -4.8279, -4.7717, -5.1051, -5.0445, -4.5376, -5.1405, -5.1051, -4.9217, -4.951, -5.1922, -6.393, -2.688, -8.5448, -7.1097, -4.7606, -6.5989, -6.393, -6.4406, -6.3475, -6.203, -5.5002, -8.5448, -7.5893, -4.3704, -6.4653, -7.1585, -7.1585, -8.5448, -6.203, -7.8516, -8.5448, -7.1097, -6.1839, -8.5448, -5.2714, -7.1585, -8.5448, -7.8516, -7.5893, -8.5448, -2.2005, -2.8186, -4.3165, -4.4209, -4.8119, -5.157, -5.1844, -5.2342, -5.2489, -5.0184, -6.1112, -6.1652, -5.4268, -6.3041, -6.4165, -6.5166, -6.5433, -4.5374, -4.7882, -5.8637, -5.6769, -5.4357, -4.474, -4.4878, -4.8459, -5.0853, -4.9952, -4.8459, -4.6012, -5.3835, -5.5195, -4.389, -5.0853, -4.8361, -4.4982, -4.1703, -4.4538, -5.0009, -5.0067, -5.1238, -5.1108, -5.0125, -5.1238, -5.1108, -5.1238, -3.6983, -8.1837, -10.1296, -7.6447, -2.6685, -7.827, -8.7433, -8.5201, -4.286, -4.6573, -8.1837, -4.4494, -8.1837, -8.0501, -4.502, -3.8991, -4.792, -7.2964, -7.2392, -10.1296, -9.4364, -5.6522, -8.1837, -9.4364, -3.7999, -7.4215, -5.8669, -8.0501, -4.7314, -6.1406, -4.6162, -4.8017, -5.1879, -5.2854, -5.5652, -5.6869, -5.6988, -5.7107, -5.7107, -5.8955, -5.9552, -5.9552, -5.9707, -6.0352, -6.052, -6.0691, -6.1223, -5.0056, -5.1123, -5.376, -3.7857, -3.5828, -5.3174, -4.792, -4.2831, -5.1667, -4.6743, -4.8878, -4.5923, -5.4382, -4.7777, -5.1392, -4.5805, -5.2023, -4.7969, -5.1324, -5.2169, -5.1951, -4.3041, -7.3272, -10.2176, -6.0904, -3.1077, -7.7327, -6.7836, -7.5785, -5.2069, -8.0203, -10.2176, -8.1381, -9.5244, -6.6912, -5.1362, -5.7749, -7.6526, -6.6622, -8.4258, -6.4564, -7.2218, -7.2218, -9.5244, -5.1362, -6.5287, -6.8164, -4.9093, -7.915, -7.5785, -5.8355, -2.7704, -3.4747, -5.0936, -5.2759, -5.7402, -5.7749, -5.8609, -5.9691, -5.9981, -6.0744, -6.0744, -6.14, -4.5651, -6.3055, -6.4799, -6.5287, -6.554, -5.6958, -5.6958, -5.8108, -5.9835, -5.5262, -5.4726, -5.7749, -3.9851, -3.5493, -4.6044, -4.0995, -4.4875, -4.8194, -4.6044, -4.8331, -4.7245, -5.0026, -5.1238, -4.758, -4.0777, -4.481, -4.009, -4.2311, -4.7204, -4.3711, -4.8946, -4.8657, -4.6763, -4.9758, -4.9193], \"loglift\": [30.0, 29.0, 28.0, 27.0, 26.0, 25.0, 24.0, 23.0, 22.0, 21.0, 20.0, 19.0, 18.0, 17.0, 16.0, 15.0, 14.0, 13.0, 12.0, 11.0, 10.0, 9.0, 8.0, 7.0, 6.0, 5.0, 4.0, 3.0, 2.0, 1.0, 2.5333, 2.5333, 2.5333, 2.5333, 2.5333, 2.5333, 2.5333, 2.5333, 2.5333, 2.5333, 2.5333, 2.5333, 2.5333, 2.5333, 2.5333, 2.5333, 2.5333, 2.5333, 2.5333, 2.5333, 2.5333, 2.5333, 2.5333, 2.5333, 2.5333, 2.5333, 2.5333, 2.5333, 2.5333, 2.5333, 2.5333, 2.5333, 2.5333, 2.5333, 2.5333, 2.5209, 2.5333, 2.5333, 2.5333, 2.5333, 2.5333, 2.5333, 2.5333, 2.5333, 2.5333, 2.4922, 2.4526, 2.478, 2.3148, 2.3621, 2.341, 2.3082, 2.377, 1.9061, 2.2575, 1.8713, 1.7564, 1.9951, 1.4368, 1.9852, 2.1434, 2.0322, 1.8893, 1.1034, 1.603, 1.2533, 1.8867, 1.2812, 0.5892, 0.9863, 0.7663, 0.8673, 0.2813, 0.3909, 2.5408, 2.5408, 2.5408, 2.5408, 2.5408, 2.5408, 2.5408, 2.5408, 2.5408, 2.5408, 2.5408, 2.5408, 2.5408, 2.5408, 2.5408, 2.5408, 2.5408, 2.5408, 2.5408, 2.5408, 2.5408, 2.5408, 2.5408, 2.5408, 2.5408, 2.5408, 2.5408, 2.5408, 2.5408, 2.5408, 2.5408, 2.5408, 2.5408, 2.5408, 2.5408, 2.5408, 2.5408, 2.5408, 2.5275, 2.5408, 2.5408, 2.5408, 2.5408, 2.5408, 2.5408, 2.5408, 2.5408, 2.529, 2.5328, 2.5408, 2.5408, 2.5408, 2.5225, 2.5169, 2.5288, 2.5273, 2.3887, 2.4157, 2.3654, 2.4009, 2.3639, 2.0846, 2.4139, 2.049, 1.5184, 2.4259, 2.0246, 2.3346, 2.0173, 1.9508, 1.9263, 2.03, 1.9309, 2.1106, 1.835, 0.4747, 1.9082, 1.8428, 0.347, 1.7022, 2.5452, 2.5452, 2.5452, 2.5452, 2.5452, 2.5452, 2.5452, 2.5452, 2.5452, 2.5452, 2.5452, 2.5452, 2.5452, 2.5452, 2.5452, 2.5452, 2.5452, 2.5452, 2.5452, 2.5452, 2.5452, 2.5452, 2.5452, 2.5452, 2.5452, 2.5452, 2.5452, 2.5452, 2.5452, 2.5452, 2.5452, 2.5452, 2.5452, 2.5452, 2.5452, 2.5452, 2.5452, 2.5345, 2.5452, 2.5452, 2.5452, 2.5452, 2.5452, 2.5452, 2.5452, 2.5452, 2.5452, 2.5208, 2.4061, 2.5268, 2.5262, 2.187, 2.3758, 2.5125, 2.2519, 2.25, 2.259, 2.1389, 2.1419, 1.8403, 1.6141, 1.9218, 2.2001, 1.5122, 1.1068, 1.8701, 1.2376, 0.3005, 1.381, 0.6904, 0.766, 1.0284, 0.1957, 2.5563, 2.5563, 2.5563, 2.5563, 2.5563, 2.5563, 2.5563, 2.5563, 2.5563, 2.5563, 2.5563, 2.5563, 2.5563, 2.5563, 2.5563, 2.5563, 2.5563, 2.5563, 2.5563, 2.5563, 2.5563, 2.5563, 2.5563, 2.5563, 2.5563, 2.5563, 2.5563, 2.5563, 2.5563, 2.5563, 2.5563, 2.5563, 2.5563, 2.5563, 2.5563, 2.5563, 2.5563, 2.5563, 2.5563, 2.5563, 2.5563, 2.5563, 2.5502, 2.5563, 2.5563, 2.5563, 2.5563, 2.5563, 2.5563, 2.5563, 2.5563, 2.5398, 2.4228, 2.4089, 2.3423, 2.1498, 2.2592, 2.3379, 1.9812, 1.9719, 2.0222, 1.3893, 1.0048, 0.9928, 0.9598, 1.2091, 0.9623, 1.1462, 1.3702, 0.2227, 0.4512, 1.0898, 2.558, 2.558, 2.558, 2.558, 2.558, 2.558, 2.558, 2.558, 2.558, 2.558, 2.558, 2.558, 2.558, 2.558, 2.558, 2.558, 2.558, 2.558, 2.558, 2.558, 2.558, 2.558, 2.558, 2.558, 2.558, 2.558, 2.558, 2.558, 2.558, 2.558, 2.5578, 2.558, 2.558, 2.558, 2.558, 2.558, 2.558, 2.5498, 2.558, 2.558, 2.558, 2.558, 2.558, 2.558, 2.558, 2.558, 2.5483, 2.533, 2.5153, 2.5151, 2.3503, 2.4245, 2.3342, 2.2122, 1.9734, 2.1487, 2.2562, 2.3645, 2.275, 1.9828, 1.6985, 1.8638, 1.9086, 1.8148, 1.5468, 1.1055, 0.878, 1.0128, 0.9764, 0.8323, 1.4434, 0.5277, 1.7741, 2.5682, 2.5682, 2.5682, 2.5682, 2.5682, 2.5682, 2.5682, 2.5682, 2.5682, 2.5682, 2.5682, 2.5682, 2.5682, 2.5682, 2.5682, 2.5682, 2.5682, 2.5682, 2.5682, 2.5682, 2.5682, 2.5682, 2.5682, 2.5682, 2.5682, 2.5682, 2.5682, 2.5682, 2.5682, 2.5682, 2.5665, 2.5648, 2.5682, 2.5682, 2.5635, 2.5682, 2.5682, 2.5682, 2.5682, 2.5682, 2.5682, 2.5682, 2.5682, 2.5682, 2.5682, 2.5612, 2.5682, 2.5607, 2.5682, 2.5682, 2.5682, 2.5228, 2.5556, 2.4185, 2.318, 2.248, 2.4549, 2.289, 2.2661, 2.354, 1.9119, 1.7305, 2.2039, 2.1174, 1.5813, 2.2826, 1.6923, 1.2644, 1.3466, 1.3359, 1.6918, 0.9436, 1.0793, 0.5728, 1.7679, 0.9658, 0.6763, 2.5702, 2.5702, 2.5702, 2.5702, 2.5702, 2.5702, 2.5702, 2.5702, 2.5702, 2.5702, 2.5702, 2.5702, 2.5702, 2.5702, 2.5702, 2.5702, 2.5702, 2.5702, 2.5702, 2.5702, 2.5702, 2.5702, 2.5702, 2.5702, 2.5702, 2.5702, 2.5702, 2.5702, 2.5702, 2.5702, 2.5702, 2.5702, 2.5676, 2.5669, 2.5666, 2.5702, 2.5667, 2.5702, 2.5702, 2.5702, 2.5702, 2.5702, 2.5702, 2.5702, 2.5702, 2.5702, 2.5702, 2.5702, 2.5702, 2.5702, 2.5702, 2.5702, 2.5702, 2.5702, 2.5702, 2.5611, 2.5594, 2.5487, 2.4894, 2.456, 2.4737, 2.4401, 2.2066, 2.1919, 2.3907, 2.4164, 1.5636, 1.7509, 1.249, 1.976, 1.2846, 2.273, 1.9366, 1.8299, 1.152, 0.4813, 0.9371, 0.6333, 2.5708, 2.5708, 2.5708, 2.5708, 2.5708, 2.5708, 2.5708, 2.5708, 2.5708, 2.5708, 2.5708, 2.5708, 2.5708, 2.5708, 2.5708, 2.5708, 2.5708, 2.5708, 2.5708, 2.5708, 2.5708, 2.5708, 2.5708, 2.5708, 2.5708, 2.5708, 2.5708, 2.5708, 2.5708, 2.5708, 2.5708, 2.5708, 2.5708, 2.5708, 2.5708, 2.5708, 2.5708, 2.5647, 2.5644, 2.5642, 2.5708, 2.5708, 2.5708, 2.5708, 2.5708, 2.5708, 2.5708, 2.5708, 2.5708, 2.5708, 2.5708, 2.5583, 2.5574, 2.5429, 2.4924, 2.5274, 2.3017, 2.2417, 2.4811, 2.2041, 2.1605, 2.2423, 2.2602, 2.1045, 2.016, 2.2036, 2.0445, 2.1682, 1.8423, 2.2524, 1.5417, 2.212, 1.793, 1.759, 1.1214, 1.9989, 1.4077, 0.9648, 0.9664, 1.127, 1.2088, 1.3714, 1.7506, 0.6576, 0.574, 0.3783, 2.5719, 2.5719, 2.5719, 2.5719, 2.5719, 2.5719, 2.5719, 2.5719, 2.5719, 2.5719, 2.5719, 2.5719, 2.5719, 2.5719, 2.5719, 2.5719, 2.5719, 2.5719, 2.5719, 2.5719, 2.5719, 2.5719, 2.5719, 2.5719, 2.5719, 2.5719, 2.5719, 2.5719, 2.5719, 2.5719, 2.5719, 2.5719, 2.5719, 2.5719, 2.5719, 2.5719, 2.5719, 2.5719, 2.5719, 2.5719, 2.5719, 2.5719, 2.5719, 2.5719, 2.5719, 2.5719, 2.5719, 2.5719, 2.5719, 2.5719, 2.5719, 2.5719, 2.5623, 2.5241, 2.5005, 2.404, 2.4891, 2.5447, 2.3903, 2.3587, 2.4379, 2.0524, 2.176, 2.1288, 2.1684, 2.278, 1.8399, 2.0315, 2.0666, 1.9349, 1.2627, 1.5739, 1.0905, 1.827, 1.3915, 1.6473, 1.1458, 1.5637, 2.5765, 2.5765, 2.5765, 2.5765, 2.5765, 2.5765, 2.5765, 2.5765, 2.5765, 2.5765, 2.5765, 2.5765, 2.5765, 2.5765, 2.5765, 2.5765, 2.5765, 2.5765, 2.5765, 2.5765, 2.5765, 2.5765, 2.5765, 2.5765, 2.5765, 2.5765, 2.5765, 2.5765, 2.5765, 2.5765, 2.5765, 2.5765, 2.5765, 2.5765, 2.5765, 2.5765, 2.5765, 2.5765, 2.5765, 2.5765, 2.5765, 2.5765, 2.5765, 2.5765, 2.5765, 2.5765, 2.5765, 2.5765, 2.5765, 2.5765, 2.5765, 2.5121, 2.5581, 2.5294, 2.5629, 2.4276, 2.3498, 2.1991, 2.3092, 2.2369, 2.3743, 2.037, 2.1029, 2.1281, 1.8198, 1.3667, 1.4706, 1.9801, 1.8655, 2.12, 1.9222, 1.1042, 1.7855, 1.5578, 0.8178, 0.3756, 1.4632, 2.5815, 2.5815, 2.5815, 2.5815, 2.5815, 2.5815, 2.5815, 2.5815, 2.5815, 2.5815, 2.5815, 2.5815, 2.5815, 2.5815, 2.5815, 2.5815, 2.5815, 2.5815, 2.5815, 2.5815, 2.5815, 2.5815, 2.5815, 2.5815, 2.5815, 2.5815, 2.5815, 2.5815, 2.5815, 2.5815, 2.5811, 2.5802, 2.579, 2.5787, 2.5815, 2.5815, 2.5815, 2.5815, 2.5815, 2.5755, 2.5815, 2.5815, 2.5738, 2.5815, 2.5815, 2.5815, 2.5815, 2.5594, 2.5582, 2.5676, 2.5583, 2.53, 2.4447, 2.3836, 2.3393, 2.3474, 2.2747, 2.2131, 2.1402, 2.349, 2.3569, 1.8999, 2.1344, 1.9407, 1.6066, 1.274, 0.9007, 1.6673, 1.4726, 1.9088, 1.8239, 1.0991, 1.6394, 1.1629, 0.2029, 2.5835, 2.5835, 2.5835, 2.5835, 2.5835, 2.5835, 2.5835, 2.5835, 2.5835, 2.5835, 2.5835, 2.5835, 2.5835, 2.5835, 2.5835, 2.5835, 2.5835, 2.5835, 2.5835, 2.5835, 2.5835, 2.5835, 2.5835, 2.5835, 2.5835, 2.5835, 2.5835, 2.5835, 2.5835, 2.5835, 2.5835, 2.5835, 2.5835, 2.5835, 2.5835, 2.5835, 2.5835, 2.5835, 2.5835, 2.5835, 2.5835, 2.5835, 2.5835, 2.5835, 2.5835, 2.5835, 2.5835, 2.5492, 2.5516, 2.5337, 2.3259, 2.2731, 2.4692, 2.3503, 2.1236, 2.2895, 2.0781, 2.0266, 1.492, 2.2974, 1.4549, 1.9011, 0.7739, 1.7779, 0.5298, 1.0553, 1.5245, 1.0974, 2.5898, 2.5898, 2.5898, 2.5898, 2.5898, 2.5898, 2.5898, 2.5898, 2.5898, 2.5898, 2.5898, 2.5898, 2.5898, 2.5898, 2.5898, 2.5898, 2.5898, 2.5898, 2.5898, 2.5898, 2.5898, 2.5898, 2.5898, 2.5898, 2.5898, 2.5898, 2.5898, 2.5898, 2.5898, 2.5898, 2.5843, 2.5873, 2.5898, 2.5898, 2.5898, 2.5898, 2.5898, 2.5898, 2.5898, 2.5898, 2.5898, 2.5898, 2.5727, 2.5898, 2.5898, 2.5898, 2.5898, 2.5782, 2.5778, 2.5768, 2.5757, 2.5613, 2.5536, 2.5639, 2.4853, 2.2731, 2.3016, 2.1718, 2.1517, 2.2429, 2.1415, 2.215, 2.166, 2.2157, 2.12, 1.8209, 1.2929, 1.5822, 1.1922, 1.1615, 1.5722, 1.0683, 1.5849, 1.3185, 0.4701, 1.4773, 1.076]}, \"token.table\": {\"Topic\": [1, 1, 1, 1, 5, 7, 2, 3, 11, 3, 5, 2, 7, 4, 4, 8, 9, 11, 10, 12, 9, 2, 6, 8, 10, 11, 12, 2, 2, 6, 7, 3, 11, 4, 4, 5, 9, 11, 12, 7, 2, 7, 10, 11, 11, 4, 8, 11, 1, 5, 1, 2, 4, 13, 13, 3, 7, 12, 13, 3, 10, 7, 12, 11, 11, 12, 3, 8, 3, 6, 13, 4, 6, 8, 13, 8, 3, 6, 12, 13, 6, 10, 2, 4, 2, 8, 8, 1, 5, 9, 5, 10, 5, 5, 4, 9, 11, 4, 4, 3, 9, 1, 7, 4, 13, 13, 3, 11, 1, 9, 12, 2, 1, 4, 7, 8, 9, 11, 13, 1, 3, 4, 5, 6, 7, 8, 10, 5, 2, 4, 7, 9, 2, 4, 6, 13, 6, 7, 9, 12, 9, 9, 3, 4, 2, 2, 2, 7, 8, 9, 1, 3, 5, 9, 1, 12, 3, 7, 7, 3, 6, 9, 10, 3, 12, 2, 5, 13, 9, 5, 3, 2, 3, 8, 10, 5, 4, 4, 2, 5, 5, 1, 2, 3, 9, 10, 12, 13, 13, 12, 12, 1, 12, 9, 2, 6, 8, 10, 13, 3, 4, 5, 7, 12, 5, 1, 4, 6, 13, 1, 7, 5, 2, 9, 1, 5, 6, 8, 9, 4, 4, 10, 7, 12, 3, 4, 11, 12, 6, 8, 13, 12, 1, 10, 9, 11, 2, 7, 11, 11, 6, 6, 9, 12, 2, 2, 3, 4, 7, 8, 8, 10, 10, 6, 6, 9, 8, 9, 3, 5, 12, 13, 9, 8, 9, 12, 6, 10, 10, 2, 3, 7, 8, 10, 1, 12, 12, 9, 2, 10, 5, 6, 7, 12, 3, 4, 6, 10, 13, 10, 9, 3, 5, 6, 10, 7, 11, 1, 8, 8, 9, 12, 5, 5, 5, 13, 5, 7, 5, 13, 2, 4, 7, 10, 13, 3, 6, 10, 12, 13, 5, 9, 1, 9, 9, 10, 2, 10, 10, 11, 11, 4, 3, 12, 8, 2, 7, 10, 1, 9, 4, 5, 13, 5, 11, 5, 5, 1, 1, 12, 13, 12, 11, 5, 3, 5, 6, 8, 11, 3, 5, 7, 12, 1, 6, 12, 3, 1, 3, 5, 8, 9, 10, 12, 3, 4, 4, 13, 4, 4, 2, 1, 3, 4, 10, 3, 2, 3, 10, 3, 6, 11, 11, 2, 7, 3, 13, 8, 13, 2, 5, 2, 10, 8, 12, 11, 2, 6, 12, 8, 3, 7, 2, 4, 5, 6, 13, 4, 5, 13, 8, 9, 10, 8, 9, 2, 3, 10, 5, 6, 1, 3, 10, 4, 7, 13, 3, 6, 7, 9, 10, 11, 12, 6, 11, 9, 11, 9, 11, 13, 1, 3, 6, 9, 10, 11, 3, 5, 8, 6, 10, 1, 9, 9, 1, 4, 11, 13, 1, 1, 8, 9, 5, 4, 3, 4, 8, 10, 11, 13, 3, 4, 6, 8, 4, 10, 5, 12, 1, 9, 11, 6, 13, 6, 10, 1, 4, 6, 7, 9, 11, 12, 13, 12, 8, 4, 8, 10, 2, 2, 5, 13, 13, 2, 4, 7, 3, 12, 1, 1, 7, 9, 7, 7, 4, 6, 1, 4, 6, 7, 9, 10, 3, 4, 11, 1, 5, 7, 9, 6, 1, 2, 7, 7, 7, 12, 3, 4, 11, 6, 6, 13, 2, 3, 4, 7, 10, 1, 1, 11, 13, 13, 1, 3, 8, 10, 7, 7, 10, 8, 3, 9, 13, 2, 10, 13, 13, 13, 13, 13, 6, 1, 10, 9, 8, 4, 8, 13, 11, 11, 5, 12, 1, 2, 8, 10, 3, 2, 13, 3, 8, 7, 13, 2, 9, 2, 1, 9, 11, 13, 3, 7, 2, 10, 3, 8, 6, 8, 9, 4, 5, 6, 8, 2, 12, 3, 9, 2, 12, 7, 7, 10, 11, 4, 13, 2, 4, 7, 9, 13, 1, 7, 12, 4, 2, 7, 10, 13, 1, 3, 6, 8, 9, 11, 13, 1, 5, 6, 9, 9, 9, 2, 3, 8, 2, 8, 8, 1, 3, 4, 5, 6, 8, 10, 2, 4, 7, 10, 12, 13, 13, 11, 2, 11, 5, 10, 1, 2, 4, 2, 2, 11, 13, 2, 3, 4, 11, 12, 1, 12, 4, 8, 13, 6, 6, 5, 1, 6, 6, 10, 3, 11, 13, 3, 10, 4, 12, 3, 13, 7, 2, 1, 2, 3, 4, 6, 8, 9, 12, 4, 13, 10, 12, 6, 6, 2, 3, 13, 8, 1, 6, 7, 6, 4, 13, 1, 6, 13, 4, 2, 4, 8, 12, 13, 7, 8, 12, 11, 12, 5, 8, 6, 5, 6, 11, 5, 11, 4, 4, 8, 10, 1, 4, 6, 8, 10, 1, 3, 13, 4, 11, 11, 4, 6, 7, 1, 2, 10, 12, 11, 11, 11, 7, 4, 4, 9, 3, 4, 7, 9, 4, 1, 13, 3, 3, 4, 6, 8, 8, 12, 1, 3, 6, 7, 11, 12, 3, 9, 8, 10, 11, 11, 6, 6, 2, 9, 12, 10, 4, 8, 8, 7, 13, 9, 8, 12, 11, 1, 3, 5, 6, 5, 6, 3, 1, 4, 5, 6, 7, 6, 6, 5, 7, 10, 8, 9, 12, 4, 3, 8, 12, 4, 11, 2, 7, 8, 7, 8, 9, 4, 4, 6, 10, 8, 7, 1, 5, 6, 11, 12, 7, 8, 13, 5, 6, 8, 8, 2, 9, 1, 6, 9, 10, 11, 2, 10, 3, 8, 13, 9, 6, 9, 3, 12, 5, 6, 7, 1, 2, 3, 4, 5, 10, 13, 8, 4, 13, 2, 7, 9, 3, 9, 12, 8, 7, 13, 11, 12, 13, 11, 9, 10, 1, 3, 4, 5, 12, 13, 6, 8, 7, 3, 11, 3, 7, 11, 2, 7, 2, 7, 3, 5, 10, 1, 12, 5, 3, 3, 6, 5, 1, 2, 3, 7, 13, 7, 9, 10, 1, 3, 7, 2, 3, 4, 5, 13, 1, 5, 9, 5, 6, 9, 11, 2, 9, 4, 8, 4, 2, 1, 3, 5, 6, 8, 9, 10, 11, 12, 13, 11, 11, 5, 6, 7, 13, 9, 6, 9, 1, 11, 5, 7, 9, 11, 6, 6, 8, 8, 1, 3, 8, 11, 12, 6, 10, 13, 6, 2, 6, 13, 6, 11, 9, 13, 1, 1, 4, 5, 8, 9, 11, 3, 6, 11, 12, 3, 6, 11, 9, 9, 6, 10, 11, 1, 9, 11, 1, 2, 3, 8, 9, 11, 12, 12, 12, 8, 3, 9, 11, 2, 13, 10, 7, 7, 8, 9, 6, 6, 8, 10, 4, 7, 9, 6, 8, 7, 10, 11, 12, 3, 4, 5, 10, 13, 4, 11, 2, 10, 11, 5, 5, 12, 6, 8, 10, 12, 7, 8, 10, 9, 1, 2, 8, 8, 2, 3, 10, 12, 8, 11, 3, 5, 12, 6, 2, 3, 7, 13, 7, 12, 3, 5, 6, 8, 9, 12, 1, 10, 2, 10, 2, 11, 7, 5, 5, 3, 7, 12, 1, 4, 3, 12, 1, 3, 4, 7, 8, 9, 10, 11, 13, 11, 6, 6, 4, 7, 9, 11, 13, 6, 13, 12, 10, 13, 3, 2, 7, 3, 9, 12, 12, 5, 10, 6, 10, 6, 7, 4, 11, 1, 10, 7, 12, 8, 10, 9, 7, 13, 9, 11, 1, 5, 9, 6, 9, 6, 9, 1, 2, 3, 4, 13, 4, 13, 9, 3, 11, 10, 6, 6, 10, 11, 12, 7, 12, 5, 9, 11, 9, 2, 3, 5, 6, 7, 11, 11, 12, 10, 4, 9, 8, 9, 4, 1, 8, 13, 11, 2, 7, 8, 9, 8, 8, 12, 5, 8, 9, 9, 3, 8, 3, 3, 7, 7, 9, 6, 10, 13, 3, 5, 6, 8, 9, 11, 12, 8, 4, 6, 8, 10, 13, 6, 8, 7, 8, 6, 1, 8, 7, 10, 6, 13, 1, 9, 8, 13, 6, 13, 11, 5, 5, 13, 9, 11, 2, 3, 11, 10, 10, 1, 9, 11, 12, 10, 2, 7, 10, 8, 11, 5, 5, 9, 4, 2, 5, 8, 12, 10, 13, 9, 7, 13, 8, 13, 8, 5, 7, 13, 1, 4, 10, 10, 2, 4, 5, 6, 8, 13, 2, 10, 12, 5, 1, 7, 8, 13, 10, 13, 10, 1, 13, 3, 1, 1, 10, 1, 2, 3, 5, 7, 9, 12, 12, 6, 7, 8, 9, 10, 5, 7, 9, 13, 11, 13, 12, 11, 13, 6, 7, 1, 7, 4, 10, 12, 12, 4, 4, 4, 10, 9, 8, 10, 10, 2, 1, 2, 13, 1, 9, 1, 6, 6, 9, 8, 1, 5, 7, 11, 13, 3, 3, 9, 11, 13, 2, 11, 13, 2, 8, 7, 8, 10, 7, 10, 11, 12, 1, 7, 7, 7, 3, 11, 13, 2, 4, 5, 11, 10, 3, 1, 1, 9, 9, 1, 6, 9, 1, 3, 5, 10, 6, 6, 6, 6, 6, 4, 7, 7, 7, 1, 1, 1, 13, 13, 3, 5, 13, 4, 7, 3, 5, 4, 7, 5, 12, 3, 2, 6, 10, 7, 2, 3, 4, 5, 8, 9, 9, 1, 2, 10, 9], \"Freq\": [0.9944447930928833, 1.0013055233284551, 0.995648429976317, 0.9164491230463827, 0.16257864702697042, 0.8350630506385298, 0.9937679457420442, 0.8698970438116335, 0.12987440834462263, 0.9815360533002441, 0.017219930759653404, 0.003226984385346952, 0.9971381750722081, 1.000666053701645, 0.14128962275795415, 0.4595972786264485, 0.30693952530176244, 0.09256906318624582, 0.1081073469836039, 0.8918856126147322, 0.975459415099803, 0.12437601300482774, 0.29431551592231514, 0.059109392319126056, 0.05541505529918068, 0.13053324137140337, 0.33618466881502945, 0.9932750052927674, 0.8890427599250602, 0.10357779727282254, 0.008631483106068545, 0.9296119746865473, 1.02635531724975, 1.000757740164326, 1.00227989420927, 0.42381934345122174, 0.24464368605720932, 0.12404468588816246, 0.20674114314693745, 1.0028674706357568, 1.0187435951720691, 0.9551118767959589, 1.0058187308658486, 1.0080275437274329, 0.953044223160482, 0.3053760751451001, 0.6936180199275641, 0.0015345531414326639, 0.9164491230463826, 0.9925172406967981, 0.9907558086987921, 0.0029686318141860404, 0.0023749054513488325, 0.9944916577523236, 0.9937553792510804, 0.21687823724828337, 0.19564540283236753, 0.22597802342653303, 0.36095818507056954, 1.000103877980314, 0.8760356688186423, 0.9551118767959589, 0.9988655864072933, 0.9984272814062192, 0.9984272814062192, 0.997701695148106, 0.9993328727880383, 0.9932769388021506, 0.6991654995441096, 0.05397781715344182, 0.24697397471150268, 0.5628176357135168, 0.100156984541441, 0.1188960332620977, 0.21840684370972294, 0.9942375547971236, 1.000275047086707, 0.9555805694628016, 0.041686400681263155, 0.003206646206251012, 0.047905993701569456, 0.9527969858423257, 0.9932875053789089, 0.007699903142472162, 1.0040736874015912, 0.9984175325049794, 0.9721433869127432, 0.24051562113272926, 0.17704622111159238, 0.5812460844040958, 0.9998607127286969, 0.00020430337407615384, 0.9996371635138482, 0.9913068538178996, 0.006401220692404582, 0.19843784146454202, 0.7937513658581681, 0.9646943981764224, 0.9999880956706819, 0.9296119746865473, 1.0025555099636865, 0.10758799357815534, 0.8919391725672877, 1.0008704381080382, 0.9984314350540688, 0.9989642526558362, 0.9296119746865473, 1.0080275437274329, 0.9997626796869629, 0.2504105011220916, 0.7512315033662748, 0.9779938513651862, 0.17111705376101916, 0.20277370870680772, 0.06930240677321275, 0.35763464236053005, 0.07956942999887391, 0.019678461182517204, 0.10010347645019621, 0.10841162775114122, 0.16901440102817666, 0.20941624987953364, 0.21345643476466933, 0.09023079576803057, 0.07339669207996517, 0.13601955779956848, 0.0006733641475226162, 0.9441017655408568, 0.14686280646369793, 0.7422957065828211, 0.10855076999490718, 0.001596334852866282, 0.9779938513651862, 0.9976754032422831, 0.2492920390162946, 0.7506771511951342, 0.9969385953136671, 1.002084592048219, 0.9989644612467862, 0.9987044634621038, 0.9982771791957049, 1.000471194974157, 1.0033907028362734, 1.0249877980624487, 0.9779938513651864, 1.0051603472364414, 0.9905499418091305, 0.012864284958560136, 1.0013807820078633, 1.0035590690327192, 0.11553607404882067, 0.005776803702441034, 0.8722973590685961, 0.005776803702441034, 1.003729991907943, 1.003344804283559, 1.062413685356054, 0.9880467690992678, 0.9999265103113119, 0.15259112927893428, 0.2550451732233616, 0.263764666325015, 0.3291608645874154, 1.0087278874258279, 0.9864818663964405, 1.0002209843507586, 0.9984385578022009, 1.0076172868981614, 0.989596508072264, 1.0006883066931478, 0.9941683618175574, 0.9779938513651864, 0.749638250823565, 0.004283647147563229, 0.24416788741110407, 0.9441017655408568, 1.0066376328797453, 1.0117526615021017, 0.04110984412839118, 0.9558038759850949, 1.049001961712063, 0.045706792553162616, 0.2340187778721926, 0.18648371361690347, 0.06398950957442766, 0.05667642276592164, 0.047535064255289125, 0.3656543404253009, 1.023869178622325, 0.9974427760230676, 0.9982256981392553, 0.9889015043679512, 0.011410401973476359, 0.9978244457811036, 0.08939916186033503, 0.04190585712203204, 0.13409874279050255, 0.6858591948972578, 0.04889016664237072, 0.5369298580055191, 0.1541425429680916, 0.03596659335922137, 0.17726392441330532, 0.097623610546458, 0.9998772300756912, 0.23905178510618494, 0.0032746819877559584, 0.04912022981633937, 0.707331309355287, 0.9164491230463826, 0.9880467690992678, 1.0022003357279863, 0.9779938513651864, 1.0008259719936512, 0.16759639857458627, 0.49994857879876586, 0.039768636949901834, 0.29258354327427777, 0.9853125405048515, 1.0013283626641347, 1.0004238203311047, 0.992840424661128, 1.0005933947386234, 1.0006904529494756, 0.004751616558062393, 0.004751616558062393, 0.6438440436174544, 0.3468680087385547, 0.7262946798317327, 0.0006032347839133993, 0.27326535711276984, 0.9316773182633049, 0.9775457312494747, 1.0058187308658486, 1.006426380658527, 1.0045601271151026, 0.21255047389328136, 0.6841468378439993, 0.09963303463747562, 0.9984272814062193, 1.0402837516316525, 1.0044118981271128, 0.3689258196327324, 0.6307441432430586, 0.9987140600805503, 0.9957755577536441, 0.0025688838994100366, 0.21321736365103303, 0.11559977547345164, 0.6679098138466094, 1.0025228677537663, 1.0011836215070198, 0.9962758586564952, 1.0072588706274732, 0.892179594395098, 0.10999474451446414, 0.7002556760837458, 0.30132213940573305, 0.24737844767059464, 0.3046978440820739, 0.4464879299420489, 0.003016810337446276, 1.0007616918368092, 0.07724324234916399, 0.9204819713275376, 0.9937891394808583, 0.18468407767871586, 0.8195355946993017, 1.0030942772732545, 0.540755830650142, 0.20689788303135864, 0.24216456763897662, 0.00235111230717453, 0.00705333692152359, 0.988800369602676, 0.983437169277933, 0.9995178996902446, 1.001621161864932, 0.9994882217248606, 0.9733729653540469, 0.9834393391050591, 0.0049920470145492085, 0.6963905585296146, 0.2995228208729525, 0.5094556001918934, 0.006029060357300513, 0.0030145301786502566, 0.1959444616122667, 0.2863803669717744, 0.9977072894878981, 1.0064263806585267, 0.39429160877350805, 0.0008723265680829823, 0.4326739777691593, 0.17184833391234752, 0.9551118767959589, 0.953044223160482, 1.0027812868116217, 0.9967546118978758, 0.43969682099789226, 0.3652507983950745, 0.19542080933239656, 0.9980504378574772, 0.9996371635138483, 0.9993870040635195, 1.001929124794704, 1.0004660500507587, 0.9859219373377641, 1.0056736198152605, 0.9997781391253293, 0.0029760946789856935, 0.1785656807391416, 0.19939834349204147, 0.5208165688224964, 0.09821112440652789, 0.15715204959484178, 0.04857426987476928, 0.45431228882872443, 0.03143040991896836, 0.3085894792044166, 1.049001961712063, 1.006426380658527, 0.8044970962400766, 0.19665484574757428, 0.9935234783423921, 1.0019028626144244, 1.0171136054197936, 0.998844407438078, 0.0003347435185413991, 0.9995441463646176, 1.000696434318506, 0.9999880956706819, 0.9296119746865473, 0.9948418822133596, 0.9721433869127432, 0.8823792391071018, 0.007003009834183348, 0.11204815734693357, 1.0473704263387231, 1.006426380658527, 1.0010979603717594, 1.0013200543615146, 1.023869178622325, 0.9904723780449387, 0.00925675119668167, 1.0004405689094793, 0.9925172406967981, 1.0025584366212106, 1.0003493948745728, 0.9316773182633049, 1.0238691786223253, 0.997288397014242, 0.9973718614470161, 1.0167249782747687, 0.054675217138309425, 0.5575079518037452, 0.15058092588911448, 0.23573085421926848, 0.0008963150350542529, 0.3389398426965728, 0.0847349606741432, 0.0028244986891381068, 0.5733732338950357, 0.1418989565362553, 0.0638545304413149, 0.7910866826896233, 0.9296119746865473, 0.23921475594732314, 0.23729077667696932, 0.03334897401946596, 0.03912091183052738, 0.06028468380441923, 0.3309244345008545, 0.059643357380967967, 0.9617649034571375, 0.03102467430506895, 0.8755069743539243, 0.12543079861804074, 1.0007271261218915, 0.9999880956706819, 0.9779938513651862, 0.20695905943143575, 0.16209380878546018, 0.16209380878546018, 0.46891423255793835, 0.9987795323269153, 0.6495552637834939, 0.3428208336635107, 0.00451080044294093, 1.0001569968790727, 1.0402837516316525, 1.0035844471159623, 1.0032044454320863, 0.9942937488879392, 0.9551118767959589, 0.313173551137783, 0.687690375178843, 0.027386036324605914, 0.9676399501360756, 0.5432623058006777, 0.4576394423864405, 0.9942937488879392, 0.9994209742860566, 0.9903295680248021, 0.006151115329346597, 1.0024613310280626, 1.0008709005199274, 0.9882695640500699, 0.9316773182633049, 1.0035028510067026, 1.0019151282732788, 0.9918469489804189, 0.9779938513651862, 1.008544143548078, 0.008273700457732578, 0.3364638186144581, 0.6536223361608736, 0.5860894224666638, 0.3182282411049464, 0.09615529587343705, 0.3170329896729862, 0.6683398160673764, 0.012852688770526468, 0.047225681269449274, 0.9539587616428754, 0.6003593689805407, 0.23403839807715993, 0.16620118124320055, 0.9441017655408568, 1.0402837516316525, 0.9997626796869629, 0.9296119746865473, 0.996868174862593, 0.9646943981764223, 0.998526053013957, 1.0033917950498787, 0.11570404664024814, 0.15998584226799742, 0.05285246574924914, 0.07856447611374873, 0.11998938170099806, 0.14998672712624758, 0.3228285745764948, 1.0017547237934434, 0.9986444252255768, 0.008368896417856547, 0.9958986737249291, 0.5939652186680471, 0.4018649434854445, 0.00441609828005983, 0.759649599029709, 0.07321923846069484, 0.1693194889403568, 0.0197713817098981, 0.978683394639956, 0.953044223160482, 0.9296119746865473, 0.9441017655408568, 1.0013076885201255, 0.4495112919693006, 0.5510957647307245, 0.988800369602676, 1.0838437945553367, 0.9483633202359196, 0.17990850779144968, 0.00382784059130744, 0.13014658010445296, 0.6890113064353391, 1.0080940353510208, 1.0104439048972935, 1.0035028510067026, 0.9919926255252234, 0.9441017655408568, 1.0040696797346438, 0.1757702374426718, 0.2445009072119217, 0.25576823012491345, 0.15774252078188497, 0.010140590621692605, 0.1554890561992866, 0.15405056032260986, 0.2573152216377659, 0.14389338052111908, 0.44353018466509647, 1.0013283626641347, 1.000273454578377, 0.9441017655408568, 0.9316773182633049, 0.18591625565221234, 0.8072679521740799, 0.004892533043479272, 0.6942412189641999, 0.30449176270359646, 1.0005782649281545, 0.9977072894878981, 0.18858382214236957, 0.10454103183979183, 0.22548065690935493, 0.0020498241537214084, 0.07071893330338859, 0.12913892168444874, 0.14348769076049858, 0.13631330622247365, 1.0647740780152055, 1.0003214560986198, 0.10645283740014173, 0.2705676283920269, 0.6231926522799964, 1.0051603472364414, 0.9779938513651862, 0.8122689569849681, 0.18716438316069298, 1.0065154637304212, 0.5304517566944562, 0.2268138545865951, 0.24144700649540768, 0.8439282786308786, 0.15588484127576738, 1.0008589106953916, 0.9997626796869629, 0.9230186619877933, 0.07817096160157207, 0.9966384801349137, 0.9972491654781335, 1.0009611048747842, 0.9964823305103199, 0.06810574575229653, 0.5576157933469279, 0.13195488239507452, 0.24262671924255638, 0.1395951196853302, 0.8634216662018572, 0.002705479934945285, 0.1758561957714435, 0.8197604202884213, 0.2645779879455724, 0.47570587731628167, 0.1256077316509283, 0.13362524643715779, 1.0402837516316525, 0.0038695961736321637, 0.8822679275881333, 0.11221828903533275, 0.9977984411220353, 0.996045242944357, 0.9991901674128199, 0.9966110359252173, 0.9646943981764223, 0.9995341852658715, 0.9986724015663865, 0.9987840465656649, 0.0017280000805634341, 0.5930354075917412, 0.22409632913604968, 0.18037021613389365, 0.0027328820626347523, 1.005286833070573, 1.001583741034298, 0.9997626796869628, 0.01100055568169908, 0.9900500113529173, 0.9908411406022503, 0.2863264657114071, 0.3565574856028843, 0.24850976269291936, 0.1093983194463395, 1.0053809229431145, 0.9918469489804189, 1.0025741543146685, 1.00016525837586, 0.6692146957607059, 0.1482691242104558, 0.18433458685624235, 0.9755780320433975, 0.02594622425647334, 0.9946157735188302, 1.0238691786223253, 0.9994913410360793, 0.9976161227602143, 0.9985258821217727, 1.0006538944266374, 0.9164491230463827, 0.9980153189073141, 0.9964370369299062, 0.9721433869127432, 0.23378594892071825, 0.12225503750899945, 0.6455923910562953, 1.0069901225846603, 0.953044223160482, 0.9441017655408568, 0.9990274858486041, 0.5231350578324861, 0.1258172923900916, 0.1092623854966585, 0.24170164064412333, 0.9997713690025132, 0.9961048486126897, 1.0000582674915734, 1.0030023937407482, 0.9992414604155374, 0.9551118767959589, 0.9982724491567672, 0.3278884579645404, 0.6721713388273078, 1.0044261176182994, 0.5827746918242681, 0.25119598785528796, 0.1632773921059372, 0.0025119598785528796, 0.010050907088777403, 0.9849888947001856, 1.0129222031996572, 0.9855401274209725, 0.005962396298202338, 0.9957201817997905, 0.996888912724492, 0.0017337198482165078, 0.0017337198482165078, 0.1460459427366531, 0.05945233067155791, 0.13182908105432406, 0.6630227311849828, 1.002042880497117, 0.9316773182633049, 1.0035583817638862, 0.9991684981057011, 1.0044261176182994, 0.9991901674128196, 1.0005933947386236, 0.20380845773147996, 0.7985282196364543, 0.953044223160482, 0.98245919605665, 0.016794174291566665, 0.0976635343471498, 0.2604360915923995, 0.2761104859937939, 0.0012057226462611086, 0.3653339618171159, 0.2045417352607049, 0.7414637903200553, 0.05752736304207325, 1.0001611039917322, 0.8379527793598094, 0.1576959105068276, 0.0030920766766044626, 1.0238691786223253, 0.2128501128409089, 0.2195016788671873, 0.20176416946377823, 0.04988674519708802, 0.13746569787642032, 0.05210393387251416, 0.12637975449928968, 0.5162409117921172, 0.17833776952818592, 0.03583821205829574, 0.2696398812005108, 0.9290089667617172, 0.9882105185651598, 0.4317941565342847, 0.0029985705314880882, 0.5637312599197606, 0.28089857979922095, 0.720973021484667, 1.001963736204545, 0.27850261005593946, 0.2706098235361355, 0.18604425368109317, 0.09696852010044855, 0.028188523285014117, 0.0191681958338096, 0.12064687965986041, 0.9779938513651864, 0.10543182644094203, 0.15375474689304044, 0.3602254070065519, 0.24381109864467843, 0.13837927220373641, 1.0238691786223253, 1.000696434318506, 0.3602858691337831, 0.640082341971721, 0.9996371635138483, 0.992840424661128, 0.010980409605836666, 0.9882368645252999, 0.9646943981764223, 1.0076300286792828, 0.9968014254299012, 0.9993727617863387, 1.0238691786223253, 1.0027531893744315, 0.9296119746865473, 0.0012409625126298565, 0.9989748226670344, 0.9982256981392553, 0.9997626796869629, 1.009317094785247, 0.1425295074883835, 0.19894743753586863, 0.6577142897641031, 0.9790905897709671, 1.001027761004043, 0.9441017655408568, 0.24455345702637188, 0.7549258890814089, 0.9999626759870149, 0.9790986886796591, 0.987707167690872, 0.0052259638502162534, 0.0052259638502162534, 0.9977510723075508, 1.0011836215070198, 0.9646943981764224, 0.9995357056171282, 1.005498666497694, 1.0238691786223253, 0.9880467690992678, 0.9957755577536441, 0.22185239507986906, 0.00853278442614881, 0.18629912663758236, 0.011377045901531747, 0.09101636721225398, 0.3014917163905913, 0.17207781926066767, 0.005688522950765874, 1.0044756104723576, 1.0238691786223253, 1.0220416136217492, 1.0481369830462182, 0.9978231903405648, 1.0012731109454656, 0.5961397001695654, 0.26049802024216306, 0.14277295340195476, 0.991586254650998, 0.9164491230463827, 0.9992199193304032, 0.9975612935424459, 1.0402837516316528, 1.0004238203311047, 1.0238691786223253, 0.9592954366464256, 0.0027486975262075233, 0.03848176536690533, 0.9646943981764223, 0.07806363406555424, 0.08921558178920484, 0.5910532293534821, 0.1686732093202154, 0.07248766020372893, 0.5537748500418859, 0.09103148219866616, 0.3565399719447758, 0.029882925724062512, 0.9682067934596253, 0.9919439786975633, 0.007935551829580507, 1.0056076265772642, 0.006528409769397933, 0.3003068493923049, 0.6920114355561808, 0.021754296077172736, 0.9789433234727731, 1.0001424862983908, 0.9976754032422831, 0.9967546118978758, 0.8760356688186423, 0.1892735508279212, 0.1275247328273228, 0.5181531249615431, 0.025504946565464558, 0.13960602330570074, 0.1326653344901513, 0.7457943128094993, 0.12190868574770661, 0.9646943981764223, 1.000696434318506, 1.02635531724975, 0.0072707276105868955, 0.9960896826504047, 1.003842074591671, 0.8546233675039585, 0.14734885646619975, 1.0011836215070198, 1.0647740780152055, 0.9984272814062192, 0.9999633233776134, 0.953044223160482, 0.9998827460207693, 1.000525904394404, 1.0015617000175596, 0.9806205760262571, 0.14427310075676975, 0.8070276573581808, 0.03043260719088112, 0.018034137594596218, 0.9997962018741844, 0.023473970490100558, 0.974169775339173, 0.9976323630782459, 0.008246340469291348, 0.04123170234645675, 0.024739021407874047, 0.9235901325606312, 0.9977261076209731, 0.9992990591049964, 0.09679473870465552, 0.1219362292772933, 0.19484655193794292, 0.10810840946234253, 0.37712235858956694, 0.10056596229055119, 1.022573172155202, 1.0838437945553367, 0.010581354971855694, 0.010581354971855694, 0.9734846574107239, 0.9954017441898368, 1.0001130075606566, 1.0072588706274732, 0.9779938513651864, 0.3963365348525013, 0.6029119408968353, 0.9977072894878981, 0.8628112998388817, 0.1372054666410454, 0.9980672105637497, 0.8595025840855145, 0.1459532689956534, 1.0050187913149486, 0.9832081387097993, 0.011567154573056463, 1.000696434318506, 0.01721045894215392, 0.9809961597027734, 0.7391906830307162, 0.25871673906075066, 0.9773431998242325, 0.02571955789011138, 0.9998036707494359, 0.3339736452642661, 0.6662078444594475, 0.5633800313388625, 0.43427210749037315, 0.0029342709965565756, 0.9709315015228759, 1.0031307605019508, 0.9955982254794491, 1.012997445086623, 1.0353148813311226, 0.3969155644826859, 0.60482371730695, 1.0002539121320244, 1.0040696797346438, 1.0458134715223657, 0.2524909027042608, 0.7429059252644596, 0.048489651386576134, 0.953629810602664, 0.9779938513651862, 1.0045142152509223, 0.9721433869127432, 0.14461962326978967, 0.7635916108644895, 0.09139960190650707, 0.9646943981764223, 0.9979597222514716, 0.8089331035344799, 0.19455353122981162, 0.9721433869127432, 1.0285820211648788, 0.34588211244163275, 0.002882350937013606, 0.002882350937013606, 0.4698232027332178, 0.17870575809484357, 0.9983416438097804, 0.002540309526233538, 1.0033917950498787, 0.0066217143511385565, 0.9932571526707834, 1.0037578059993364, 0.9987774523076127, 0.00933477134763241, 0.9894857628490353, 0.22581071752076212, 0.004856144462812089, 0.11411939487608408, 0.26708794545466485, 0.39091962925637314, 0.9988022311814667, 0.8760356688186423, 1.010447798572334, 0.9179886882754013, 0.08789253398381501, 1.0200882772285522, 0.8600909409811283, 0.13811679344222497, 1.0087278874258279, 0.9991290698117793, 0.17286832842050212, 0.29466192344403774, 0.5303914621992679, 0.07616672739808034, 0.12678385636515904, 0.09544944319506271, 0.09689564687983639, 0.18656027533580438, 0.2984000269583021, 0.12003490583621522, 1.0056655726683548, 0.9646943981764223, 1.0076172868981614, 0.49696724374340784, 0.4762602752540992, 0.024158129904193436, 0.1542383015517917, 0.8452863781122703, 1.0006904529494756, 0.9721433869127432, 1.0005236378092637, 0.9994913410360793, 0.003203391792353446, 0.5061359031918445, 0.4901189442300773, 0.99359929648646, 0.9976289472611621, 1.0143570902110595, 0.9164491230463827, 0.19117815276651806, 0.23077934155386826, 0.15294252221321447, 0.21712375921340266, 0.20756485157507676, 0.37212702885389204, 0.6278143099696307, 0.9990250665337042, 1.001120588123974, 0.953044223160482, 1.0007984772526342, 0.19956144535243214, 0.7982457814097286, 1.0012794192548335, 0.9551118767959589, 0.9779938513651864, 0.9976964827677532, 0.9977510723075508, 0.061675677909307586, 0.9363489282594879, 0.9164491230463827, 0.9959309264193948, 0.9441017655408568, 0.9998115059557832, 0.9296119746865473, 1.0025923113551436, 1.0115376059366323, 0.9999736000835213, 0.9779938513651862, 0.29082077967912395, 0.44005775872499014, 0.2697745390444505, 0.9551118767959589, 0.993523478342392, 0.9948201662855767, 0.009839452281316887, 0.009839452281316887, 0.9741057758503717, 0.49521752190953217, 0.13618481852512135, 0.003095109511934576, 0.2816549655860464, 0.08356795682223356, 0.09152357797322788, 0.8237122017590509, 0.08389661314212556, 0.32893226878683196, 0.11926199219171685, 0.48089512980530985, 0.0730960597304071, 0.8392594350074463, 0.16041246818701882, 0.9958135723111458, 0.9721433869127432, 1.0013283626641347, 0.9779938513651864, 0.1050641677800087, 0.15644170037572722, 0.07215945589286311, 0.13623705272572556, 0.11141419989858065, 0.04618205177143239, 0.11083692425143774, 0.0929413791900077, 0.1281551936657249, 0.04040929530000334, 1.0017399133949592, 0.9981206391207751, 0.5216101023549685, 0.47102972879327454, 0.006322546695211739, 0.9946157735188302, 1.016103557395628, 0.2516333098406446, 0.748278000315601, 0.995648429976317, 0.999933126588286, 0.028366654807091184, 0.011346661922836473, 0.08793662990198267, 0.8708563025776994, 0.9855319752299867, 0.9978231903405648, 1.0184359291466833, 0.9964469715855617, 0.17266780888920596, 0.17049588676481345, 0.5744734019018236, 0.02171922124392528, 0.060813819482990784, 0.29168350243751623, 0.5833670048750325, 0.12574799882861812, 0.9974485383291729, 0.9779938513651862, 0.2710609651996643, 0.7288317560788178, 0.9914114919920346, 0.01194471677098837, 1.0006775627949025, 0.9982724491567672, 1.0000932890387113, 0.14284950264615592, 0.20258656738909386, 0.20583314699468833, 0.14739471409398816, 0.030517848292587857, 0.2707647391065774, 0.21936888112363606, 0.4168008741349085, 0.3290533216854541, 0.03290533216854541, 0.3127618400274801, 0.4155576895470015, 0.27120607107277994, 0.9999178370123349, 1.0035590690327192, 0.7399117266717693, 0.20678755679909708, 0.054927944774760165, 0.5236950995513485, 0.47526087069110823, 1.0059911244471753, 0.45999815695954555, 0.07241261309556717, 0.05163850278126511, 0.005341914080820529, 0.06054169291596599, 0.18637344681973844, 0.16381869847849623, 0.9984528257156238, 0.9996121227200042, 1.0018271544520634, 0.9296119746865473, 0.0027714496658026847, 0.9977218796889665, 0.9978180510550211, 0.9982724491567672, 0.9937121019435344, 1.0285820211648788, 0.0057859536432094995, 0.995184026632034, 0.9935234783423921, 1.0022245899865923, 0.9986724015663865, 0.9970701404233262, 0.9986806624532522, 0.8042671994370356, 0.1960221131244388, 1.006426380658527, 0.9994883103911957, 1.0233088283292033, 0.10061134501194599, 0.49021272356884327, 0.14342468331490174, 0.2633020305631778, 0.10501325994981743, 0.1918511479852434, 0.17973423337564906, 0.060584573047971595, 0.46448172670111554, 1.0032821741034794, 0.9973718614470161, 0.003703015327052109, 0.21107187364197022, 0.7850392493350471, 1.0000025279741969, 1.004044734781546, 1.0248450500896353, 0.10028544961807224, 0.7336672366795812, 0.02111272623538363, 0.14514999286826247, 0.012604361468083936, 0.970535833042463, 0.012604361468083936, 0.9634167062714105, 0.9897650528900933, 0.9971702013919546, 1.0207505562583803, 0.991983047870146, 0.8156477398297732, 0.17241334337865127, 0.013262564875280866, 0.9952007717812575, 0.9721433869127432, 0.953044223160482, 0.7085254770356068, 0.11715775604525781, 0.17294716368585678, 1.0402837516316525, 0.5546151453827403, 0.12741158745279169, 0.14240118597664955, 0.17737691586565119, 0.032154008509591596, 0.9646202552877478, 0.15552021807100572, 0.13864205486950124, 0.13502530561203596, 0.3122460192278332, 0.2399110340785282, 0.016878163201504495, 0.6754400501415274, 0.32083402381722553, 0.8595512453037139, 0.14175055624306862, 0.9833238330701154, 0.017352773524766742, 0.9918469489804189, 1.0299291987718437, 1.0099693305785908, 0.7457038464690807, 0.004987985595110908, 0.24939927975554538, 0.9961403511373724, 0.9646943981764223, 1.0458134715223657, 1.0647740780152055, 0.11759174157488399, 0.07683551296086169, 0.21179876181385354, 0.12360495563269056, 0.20044046859355225, 0.0006681348953118409, 0.09353888534365772, 0.09420702023896955, 0.08084432233273274, 1.0075038930553668, 0.9986724015663865, 0.9992199193304032, 0.00953639816383983, 0.2860919449151949, 0.19390676266474322, 0.5117867014594042, 0.9897402060015811, 0.014630000349906537, 0.980210023443738, 1.0044646087526257, 1.0011836215070198, 1.0238691786223253, 0.9296119746865473, 0.9878219531646294, 0.012664384014931146, 0.9993328727880383, 0.9945860702978384, 0.9937891394808583, 0.9990274858486041, 0.9901555102013864, 0.8760356688186423, 0.9939511725501591, 0.0041414632189589965, 0.9964823305103199, 1.0285820211648788, 1.000690457809871, 0.953044223160482, 1.0007203067747856, 0.992840424661128, 0.995754935383021, 0.9982256981392552, 0.2890657252249077, 0.7120145231855621, 1.0003855968226363, 1.0060511768917433, 0.9976161227602143, 0.0030755334910887878, 0.9964728511127673, 1.002366228331981, 0.8000429933221177, 0.1992559907896595, 0.06883176484129318, 0.9310891433261415, 0.12175274523769933, 0.8783590906434023, 0.5340234507688556, 0.3597681042948724, 0.10600729018336527, 0.00023452940306054263, 1.0073551596122878, 0.034344956095690965, 0.961658770679347, 0.9988364381196241, 0.49415547481310207, 0.5062449053895693, 1.0006748899920264, 0.9986724015663867, 1.0105613587278912, 0.9964905732812056, 0.22653883105786995, 0.7732694177450198, 0.2665797638725224, 0.7330943506494367, 0.050494757253691444, 0.528709811244534, 0.4217797370602462, 1.0838437945553367, 0.17476019696688339, 0.002461411224885682, 0.2018357204406259, 0.049228224497713635, 0.04676681327282795, 0.5267420021255359, 0.9913739082239653, 0.012874985821090458, 1.0005905032478333, 0.16590180214973663, 0.8352297625469499, 0.9985962681892803, 1.0035590690327192, 1.0054561333106375, 0.6051060944103915, 0.298993599591017, 0.09254563796864812, 1.000696434318506, 0.0035641614438188716, 0.997965204269284, 0.35871595196420747, 0.6421015540159314, 0.9721433869127432, 0.9840587997808026, 0.012456440503554463, 0.05117685271646237, 0.6922342709542542, 0.25588426358231187, 1.006426380658527, 0.9984721209596248, 0.9721433869127432, 1.001120588123974, 0.9761622428673791, 0.02296852336158539, 0.9977815179403582, 0.0038376212228475315, 0.778471782058784, 0.0011265872388694414, 0.21968451157954108, 0.3125215414621788, 0.004464593449459698, 0.16221356199703568, 0.17709554016190135, 0.09970925370459992, 0.24257624408731024, 0.0014881978164865658, 0.9995277076708485, 0.06921271401065636, 0.2147980779641059, 0.07398600463208092, 0.002386645310712288, 0.6396209432708932, 0.6378410038256516, 0.3634624714537233, 1.0032110360590647, 0.972143386912743, 1.0402837516316528, 0.9984472024768485, 0.9986563883739997, 0.012898582001859359, 0.9802922321413113, 0.9976491716467489, 1.0238691786223253, 0.7975278889164472, 0.20267210378404765, 0.719914380199172, 0.28034473028549983, 0.017657720667330692, 0.9817692691035865, 1.0032044454320863, 0.9441017655408568, 0.9946786458376885, 1.0238691786223253, 0.020338463227729364, 0.9796359788022978, 0.004030008901140256, 0.2619505785741167, 0.7374916289086669, 1.0220416136217492, 0.8760356688186423, 0.5789492782207317, 0.16112267648595835, 0.13654464108979522, 0.12289017698081568, 1.0032021368729613, 0.633431419756519, 0.3651926042473808, 0.0008079482394853558, 0.9578415911028962, 0.04047217990575618, 0.99513429340793, 1.0070418832435806, 0.975459415099803, 0.9646943981764223, 0.9972963615894991, 1.0007478714733082, 0.9721433869127432, 0.9994356686824544, 0.9903011908384651, 0.9997781391253293, 1.000471194974157, 0.9551118767959589, 0.9937553792510804, 0.9942375547971236, 1.000599424562727, 0.9721433869127432, 0.7080857112449412, 0.03998601663500845, 0.2515786879952615, 0.9164491230463827, 0.3626673942109647, 0.638182158805341, 1.0034590388286266, 1.0029108921642993, 0.3114157579137522, 0.13134961670421627, 0.08324975706605257, 0.23494931438641503, 0.23988263332366258, 0.36613167756141785, 0.6320588960007635, 1.0647740780152055, 0.997541488118641, 0.11489152288048056, 0.15466166541603152, 0.7291192798184344, 0.004418904726172329, 0.09965101968640903, 0.9004828506208234, 0.9968681748625929, 0.010995487751214821, 0.9895938976093339, 1.001120588123974, 0.9928198833002478, 0.9425515712200883, 0.0565530942732053, 0.0016752378606208953, 0.6114618191266268, 0.0033504757212417906, 0.3635266157547343, 0.020102854327450743, 1.0017344161799324, 1.0481369830462182, 0.9316773182633049, 0.19700883784689693, 0.02215360425587596, 0.48263209271729773, 0.0688344132236146, 0.2294480440787153, 0.9992317956454322, 0.9551118767959589, 0.9726450788963772, 0.02739845292665851, 0.0024086827733914486, 0.9971946681840598, 1.003344804283559, 0.37301195208587046, 0.6243042145437201, 0.12238774700585882, 0.8793786266346892, 0.008375075024589522, 0.9882588529015637, 0.18991710807087972, 0.7635442916319042, 0.046510312180623604, 0.9997678174590189, 0.9968508781156364, 1.0066376328797453, 0.9961162488268295, 0.005326824860036521, 1.000471194974157, 1.0007358394690002, 1.0029973599517787, 0.9948201662855767, 0.9928119400222345, 1.0058587935874932, 0.9948558143197583, 0.9984314350540688, 0.9164491230463827, 1.0838437945553367, 0.9236041136475636, 0.07818870803365617, 0.7507892433874055, 0.24853712884548598, 0.9721433869127432, 0.39532621739988927, 0.0569839592648489, 0.10684492362159169, 0.1139679185296978, 0.3294385144999077, 1.0087278874258279, 0.9989860026482297, 1.0838437945553367, 0.012324738222931026, 0.9859790578344821, 0.8711351697314924, 0.004168110859959294, 0.1250433257987788, 0.9986556932954366, 0.9721433869127432, 1.012997445086623, 0.9721433869127432, 0.8760356688186423, 0.9859219373377641, 1.0011836215070198, 0.7920680738962825, 0.20868859431997863, 0.09033748416178944, 0.9093973405620136, 1.0001360067517708, 0.9949082049957905, 0.005572536602988934, 0.9919115153320303, 1.023869178622325, 1.0018473599350688, 0.18749493767126477, 0.7554943076753904, 0.055145569903313166, 1.0011836215070198, 0.9965440368639787, 1.008094035351021, 0.8418891382498896, 0.15654963314564063, 0.9950041392639156, 0.8251930756880583, 0.012002808373644485, 0.16203791304420054, 0.3351180618136927, 0.6665935359989756, 0.9986926839564846, 0.9977072894878982, 1.0037825673638754, 1.0061760876437298, 0.9659777693722489, 1.0402837516316525, 1.0096871707013098, 0.9646943981764224, 0.9991939634173107, 0.9991939634173107, 0.9966384801349137, 0.9952834562116629, 1.0043278060782275, 1.0032706189139347, 1.0238691786223253, 0.9996108402399335, 0.28687767666062464, 0.6639830096903168, 0.04858412266026708, 0.9646943981764223, 1.002084592048219, 0.03890702370036273, 0.9629488365839777, 1.0290073580548504, 1.0012030665609113, 0.04584987078035671, 0.9552056412574315, 1.0141221542035062, 0.9932750052927674, 1.0017547237934434, 0.998844407438078, 0.9998827460207693, 0.11116029530466577, 0.10408002171838132, 0.12178070568409244, 0.23364902834738666, 0.2010797698504782, 0.22727678211973065, 1.0838437945553367, 0.005252848041097464, 0.9875354317263232, 0.005252848041097464, 1.004149397896856], \"Term\": [\"absence\", \"abstract\", \"abstraction\", \"abstractly\", \"abuse\", \"abuse\", \"academic\", \"access\", \"access\", \"accessible\", \"accessible\", \"account\", \"account\", \"accuracy\", \"achieve\", \"achieve\", \"achieve\", \"achieve\", \"active\", \"active\", \"adaptation\", \"address\", \"address\", \"address\", \"address\", \"address\", \"address\", \"administrator\", \"adoption\", \"adoption\", \"adoption\", \"adsplit\", \"advent\", \"adversarial\", \"adversarial_example\", \"adversary\", \"adversary\", \"adversary\", \"adversary\", \"advertising\", \"advocate\", \"affiliate\", \"agent\", \"aggregate\", \"akin\", \"algorithm\", \"algorithm\", \"algorithm\", \"algorithmically\", \"amplification\", \"analyse\", \"analysis\", \"analysis\", \"analysis\", \"analyst\", \"analyze\", \"analyze\", \"analyze\", \"analyze\", \"android\", \"annoy\", \"annually\", \"anonymity\", \"anonymization\", \"anonymized\", \"anonymous\", \"apis\", \"applicability\", \"application\", \"application\", \"application\", \"approach\", \"approach\", \"approach\", \"approach\", \"approximate\", \"apps\", \"architecture\", \"architecture\", \"architecture\", \"area\", \"area\", \"assess\", \"assess\", \"assessment\", \"assign\", \"associative\", \"assumption\", \"assumption\", \"assumption\", \"attack\", \"attack\", \"attacker\", \"attacks\", \"attribute\", \"attribute\", \"attribute\", \"attribution\", \"audio\", \"aurasium\", \"authenticated\", \"authentication\", \"authentication\", \"author\", \"automated\", \"automatically\", \"averse\", \"balance\", \"ballot\", \"bandwidth\", \"bandwidth\", \"barrier\", \"base\", \"base\", \"base\", \"base\", \"base\", \"base\", \"base\", \"based\", \"based\", \"based\", \"based\", \"based\", \"based\", \"based\", \"based\", \"batteryless\", \"behavior\", \"behavior\", \"behavior\", \"behavior\", \"beneficial\", \"benign\", \"binary\", \"binary\", \"bind\", \"biometric\", \"bitcoin\", \"block\", \"blockchain\", \"blockchains\", \"bluetooth\", \"boost\", \"botmasters\", \"botnet\", \"botnets\", \"botnets\", \"bound\", \"bounty\", \"break\", \"break\", \"break\", \"break\", \"broad_class\", \"broadcast\", \"broaden\", \"browse\", \"browser\", \"build\", \"build\", \"build\", \"build\", \"built\", \"bulk\", \"business\", \"bypass\", \"byte\", \"byzantine\", \"cache\", \"camera\", \"canadian\", \"capability\", \"capability\", \"capability\", \"capacitor\", \"captcha\", \"captchas\", \"card\", \"card\", \"carefully_craft\", \"case\", \"case\", \"case\", \"case\", \"case\", \"case\", \"case\", \"causal\", \"censor\", \"censorship\", \"certificate\", \"certificate\", \"chain\", \"challenge\", \"challenge\", \"challenge\", \"challenge\", \"challenge\", \"change\", \"change\", \"change\", \"change\", \"change\", \"channel\", \"check\", \"check\", \"check\", \"check\", \"chimera\", \"chinese\", \"chip\", \"cial\", \"circuit\", \"class\", \"class\", \"class\", \"class\", \"classic\", \"classification\", \"classifier\", \"clear\", \"click\", \"client\", \"cloud\", \"cloud\", \"cloud\", \"cloud\", \"code\", \"code\", \"code\", \"codewords\", \"coercion\", \"cognitive\", \"coin\", \"collaborative\", \"collect\", \"collect\", \"collect\", \"collection\", \"commercially_available\", \"commodity\", \"communication\", \"communication\", \"community\", \"company\", \"compare\", \"compare\", \"compare\", \"compare\", \"comparison\", \"compensate\", \"competition\", \"compile\", \"compiler\", \"compiler\", \"complexity\", \"complexity\", \"compromise\", \"compromise\", \"compromise\", \"compromise\", \"computation\", \"computational\", \"computational\", \"concentrate\", \"concept\", \"concept\", \"condition\", \"conduct\", \"conduct\", \"conduct\", \"conduct\", \"conduct\", \"confidentiality_integrity\", \"congestion\", \"connection\", \"construction\", \"consumer\", \"consumer_grade\", \"contactless\", \"content\", \"content\", \"content\", \"context\", \"context\", \"context\", \"context\", \"context\", \"continuously\", \"contract\", \"control\", \"control\", \"control\", \"control\", \"controversy\", \"conventionally\", \"correct\", \"correlation\", \"cost\", \"cost\", \"cost\", \"counter\", \"counterfeit\", \"countermeasure\", \"coverage\", \"covert_channel\", \"crack\", \"craft\", \"crash\", \"create\", \"create\", \"create\", \"create\", \"create\", \"critical\", \"critical\", \"critical\", \"critical\", \"critical\", \"cryptanalysis\", \"crypto\", \"cryptographic\", \"cryptographic\", \"cryptographic_primitive\", \"cyber\", \"cybercrime\", \"cybersecurity\", \"data\", \"data\", \"database\", \"dataset\", \"dation\", \"ddos\", \"decay\", \"decision\", \"decision\", \"decision\", \"declarative\", \"decryption\", \"deep_learning\", \"defeat\", \"defect\", \"defend\", \"defend\", \"defense\", \"defensive\", \"define\", \"definition\", \"degra\", \"degraded\", \"delay\", \"deletion\", \"deliberately\", \"demonstrate\", \"demonstrate\", \"demonstrate\", \"demonstrate\", \"demonstrate\", \"deploy\", \"deploy\", \"deploy\", \"deploy\", \"deployment\", \"deployment\", \"deployment\", \"derandomizing\", \"design\", \"design\", \"design\", \"design\", \"design\", \"design\", \"design\", \"desktop\", \"desktop\", \"detect\", \"detect\", \"detection\", \"detector\", \"deter\", \"develop\", \"develop\", \"develop\", \"develop\", \"developer\", \"development\", \"development\", \"development\", \"device\", \"dialect\", \"differential\", \"differentially_private\", \"direction\", \"discourage\", \"discover\", \"discover\", \"discovery\", \"discovery\", \"discuss\", \"discuss\", \"discussion\", \"distance\", \"distribution\", \"distribution\", \"document\", \"domain\", \"double\", \"drain\", \"dramatically\", \"driver\", \"dropbox\", \"drug\", \"dump\", \"dynamic\", \"dynamic\", \"dynamic\", \"effective\", \"effective\", \"effective\", \"efficiency\", \"efficiency\", \"efficiency\", \"efficient\", \"efficient\", \"effort\", \"effort\", \"effort\", \"elapse\", \"elapsed\", \"election\", \"electroencephalography\", \"electronic\", \"elementary\", \"email\", \"emulation\", \"enable\", \"enable\", \"enable\", \"enable\", \"enable\", \"enable\", \"enable\", \"enclave\", \"encrypt\", \"encrypted\", \"encrypted\", \"encryption\", \"encryption\", \"encryption\", \"enforce\", \"enforce\", \"enforce\", \"engineering\", \"engineering\", \"enormous\", \"entertainment\", \"enticement\", \"entropy\", \"environment\", \"environment\", \"equivalence\", \"equivocate\", \"equivocation\", \"error\", \"error\", \"error\", \"error\", \"established\", \"establishment\", \"estimation\", \"ethereum\", \"eucalyptus\", \"evade\", \"evaluate\", \"evaluate\", \"evaluate\", \"evaluate\", \"evaluate\", \"evaluate\", \"evaluation\", \"evaluation\", \"evaluation\", \"evaluation\", \"evasion\", \"event\", \"evict\", \"excalibur\", \"exchange\", \"exchange\", \"exchange\", \"execute\", \"execute\", \"execution\", \"exercise\", \"exist\", \"exist\", \"exist\", \"exist\", \"exist\", \"exist\", \"exist\", \"exist\", \"existent\", \"expensive\", \"experiment\", \"experiment\", \"experiment\", \"expert\", \"expiration\", \"exploit\", \"exploit\", \"exploitable\", \"explore\", \"explore\", \"explore\", \"expose\", \"expose\", \"express\", \"expressive\", \"extension\", \"extension\", \"facebook\", \"fake\", \"false_positive\", \"fault\", \"feature\", \"feature\", \"feature\", \"feature\", \"field\", \"field\", \"file\", \"file\", \"file\", \"finally\", \"finally\", \"finally\", \"finally\", \"finan\", \"finding\", \"finding\", \"finding\", \"fingerprint\", \"fingerprinting\", \"firewall\", \"firmware\", \"flagged\", \"flash\", \"floating_point\", \"flow\", \"flow\", \"focus\", \"focus\", \"focus\", \"focus\", \"forensic\", \"formal\", \"formally\", \"format\", \"format\", \"fragment\", \"framework\", \"framework\", \"framework\", \"framework\", \"fraud\", \"fraudulent\", \"frequency\", \"function\", \"functionality\", \"functionality\", \"functionality\", \"future\", \"future\", \"fuzz\", \"fuzzed\", \"fuzzer\", \"fuzzers\", \"fuzzing\", \"gadget\", \"gallery\", \"game\", \"gate\", \"gaussian\", \"generate\", \"generate\", \"generate\", \"genomic\", \"genomics\", \"glavmed\", \"global\", \"goal\", \"goal\", \"goal\", \"goal\", \"google_play\", \"government\", \"grammar\", \"grant\", \"graph\", \"gravity\", \"greatly\", \"group\", \"group\", \"growth\", \"guarantee\", \"guarantee\", \"guarantee\", \"guarantee\", \"guess\", \"guess\", \"guideline\", \"hands\", \"hard\", \"hard\", \"hardware\", \"hardware\", \"hardware\", \"high\", \"high\", \"high\", \"high\", \"highlight\", \"hinders\", \"home\", \"honest\", \"hope\", \"host\", \"https\", \"human\", \"human\", \"hurt\", \"identification\", \"identification\", \"identify\", \"identify\", \"identify\", \"identify\", \"identify\", \"identity\", \"identity\", \"identity\", \"image\", \"impact\", \"impact\", \"impact\", \"impede\", \"implement\", \"implement\", \"implement\", \"implement\", \"implement\", \"implement\", \"implement\", \"implementation\", \"implementation\", \"implementation\", \"implementation\", \"implemented\", \"imply\", \"important\", \"important\", \"important\", \"improve\", \"improve\", \"improvement\", \"include\", \"include\", \"include\", \"include\", \"include\", \"include\", \"include\", \"incontext\", \"increase\", \"increase\", \"increase\", \"increase\", \"increase\", \"incrementally\", \"index\", \"individual\", \"individual\", \"induce\", \"industrial\", \"industry\", \"industry\", \"inevitably\", \"infected\", \"infection\", \"inference\", \"inferred\", \"influence\", \"informa\", \"information\", \"information\", \"infrastructure\", \"inherently\", \"inline\", \"input\", \"input\", \"input\", \"inside\", \"instruction\", \"insufficiency\", \"integrity\", \"integrity\", \"intel\", \"intentional\", \"interaction\", \"interaction\", \"interaction\", \"interface\", \"interference\", \"internals\", \"internet\", \"internet_things\", \"interpreter\", \"intervention\", \"interview\", \"introduce\", \"introduce\", \"introduce\", \"introduce\", \"introduce\", \"introduce\", \"introduce\", \"introduce\", \"intrusion_detection\", \"invalid\", \"investment\", \"invisible\", \"isolate\", \"isolation\", \"issue\", \"issue\", \"issue\", \"item\", \"joomla\", \"kernel\", \"keystroke\", \"kguard\", \"label\", \"langfuzz\", \"language\", \"language\", \"language\", \"language\\u2014for\", \"large\", \"large\", \"large\", \"large\", \"large\", \"large_scale\", \"large_scale\", \"large_scale\", \"latency\", \"latency\", \"launch\", \"launch\", \"layout\", \"leak\", \"leak\", \"leak\", \"leakage\", \"leakage\", \"learn\", \"learning\", \"length\", \"lenient\", \"level\", \"level\", \"level\", \"level\", \"level\", \"library\", \"library\", \"library\", \"likes\", \"lineage\", \"linkability\", \"linux\", \"linux\", \"list\", \"literature\", \"literature\", \"living\", \"load_balancing\", \"locally\", \"location\", \"locked\", \"login\", \"machine\", \"machine_learning\", \"main_contribution\", \"malicious\", \"malicious\", \"malicious\", \"malicious\", \"malware\", \"manual\", \"manual\", \"manufacturer\", \"match\", \"match\", \"match\", \"match\", \"matching\", \"measurement\", \"mechanism\", \"mechanism\", \"mechanism\", \"mechanism\", \"mechanism\", \"mechanism\", \"mediate\", \"mediawiki\", \"medical\", \"medical\", \"medical\", \"member\", \"memory\", \"memory_corruption\", \"mersenne\", \"message\", \"message\", \"meter\", \"method\", \"method\", \"metric\", \"million\", \"million\", \"miner\", \"minimize\", \"minimize\", \"mismatch\", \"misuse\", \"misuse\", \"mitigate\", \"mitigate\", \"mitigation\", \"mitigation\", \"mobile\", \"model\", \"model\", \"modern\", \"modern\", \"modern\", \"modified\", \"module\", \"mount\", \"movement\", \"moving\", \"multi\", \"multi\", \"network\", \"neural_network\", \"nexus\", \"node\", \"node\", \"noise\", \"noise\", \"north\", \"notification\", \"nucaptcha\", \"number\", \"number\", \"number\", \"nxdomain\", \"obfuscation\", \"object\", \"object\", \"objectively\", \"odds\", \"offer\", \"offer\", \"offer\", \"offer\", \"offer\", \"online\", \"online\", \"open_source\", \"operating\", \"operating\", \"optimal\", \"optimization\", \"oram\", \"oram\", \"order\", \"order\", \"order\", \"order\", \"order\", \"organization\", \"organizations\\u2014the\", \"oses\", \"outperform\", \"outperform\", \"outsourced\", \"overhead\", \"overhead\", \"package\", \"packet\", \"page\", \"page\", \"page\", \"paper\", \"paper\", \"paper\", \"paper\", \"paper\", \"paper\", \"paper\", \"parallel\", \"parasitic\", \"parser\", \"participant\", \"participant\", \"participant\", \"party\", \"party\", \"passive\", \"passports\", \"password\", \"patch\", \"path\", \"path\", \"path\", \"patient\", \"payment\", \"penetration\", \"pepper\", \"perform\", \"perform\", \"perform\", \"perform\", \"perform\", \"performance\", \"performance\", \"period\", \"peripheral\", \"permanent_storage\", \"permission\", \"personal\", \"personal\", \"perspective\", \"pharmaceutical\", \"pharmacy\", \"phishing\", \"phone\", \"physical\", \"physical\", \"pkis\", \"plane\", \"planted\", \"platform\", \"playback\", \"pointer\", \"poison\", \"policy\", \"poorly\", \"popular\", \"popular\", \"popular\", \"portal\", \"possession\", \"possibility\", \"post\", \"post\", \"post\", \"potential\", \"potential\", \"potential\", \"potential\", \"potential\", \"powerful\", \"powerful\", \"powerful\", \"practical\", \"practical\", \"practical\", \"practical\", \"practice\", \"practice\", \"predict\", \"predictability\", \"prediction\", \"premature\", \"present\", \"present\", \"present\", \"present\", \"present\", \"present\", \"present\", \"present\", \"present\", \"present\", \"preserve\", \"preserving\", \"prevent\", \"prevent\", \"prevent\", \"previously_unknown\", \"prime\", \"primitive\", \"primitive\", \"principle\", \"privacy\", \"private\", \"private\", \"private\", \"private\", \"privilege_separation\", \"privileged\", \"prng\", \"probability\", \"problem\", \"problem\", \"problem\", \"problem\", \"problem\", \"process\", \"process\", \"process\", \"processor\", \"profound\", \"program\", \"program\", \"programming\", \"programming\", \"proof\", \"propagation\", \"property\", \"propose\", \"propose\", \"propose\", \"propose\", \"propose\", \"propose\", \"protect\", \"protect\", \"protect\", \"protect\", \"protection\", \"protection\", \"protection\", \"protocol\", \"protocols\", \"prototype\", \"prototype\", \"prototype\", \"prove\", \"prove\", \"provenance\", \"provide\", \"provide\", \"provide\", \"provide\", \"provide\", \"provide\", \"provide\", \"provider\", \"proxy\", \"quality\", \"quark\", \"query\", \"query\", \"question\", \"quickly\", \"radio\", \"raise_awareness\", \"random\", \"random\", \"random_oracle\", \"randomization\", \"randomized\", \"randomness\", \"rapid\", \"rate\", \"rate\", \"rational\", \"read\", \"readily\", \"real\", \"real\", \"real\", \"real\", \"real_world\", \"real_world\", \"real_world\", \"real_world\", \"real_world\", \"recognition\", \"reconstruction\", \"record\", \"record\", \"record\", \"recover\", \"recovery\", \"redesign\", \"reduce\", \"reduce\", \"reduce\", \"reduce\", \"reduction\", \"reduction\", \"reduction\", \"reference_string\", \"refinement\", \"regard\", \"regression\", \"regular\", \"related\", \"related\", \"related\", \"relay\", \"remanence\", \"remarkably\", \"remote\", \"remote\", \"remote\", \"renew\", \"report\", \"report\", \"report\", \"report\", \"request\", \"request\", \"require\", \"require\", \"require\", \"require\", \"require\", \"require\", \"requirement\", \"requirement\", \"research\", \"research\", \"researcher\", \"researcher\", \"reset\", \"residency\", \"resolution\", \"resource\", \"resource\", \"resource\", \"respect\", \"responses\", \"responsive\", \"responsiveness\", \"result\", \"result\", \"result\", \"result\", \"result\", \"result\", \"result\", \"result\", \"result\", \"retrieval\", \"retrofit\", \"reuse\", \"reveal\", \"reveal\", \"reveal\", \"reveal\", \"reverse\", \"reverse_engineering\", \"reverse_engineering\", \"revocation\", \"rfid\", \"rife\", \"rigid\", \"risk\", \"risk\", \"root\", \"round\", \"rout\", \"router\", \"rowhammer\", \"rubber\", \"runtime\", \"runtime\", \"safe\", \"sale\", \"sample\", \"sanitized\", \"satisfy\", \"scaling\", \"scam\", \"scan\", \"scenario\", \"scenario\", \"scheme\", \"screen\", \"scripting\", \"search\", \"search\", \"secrecy\", \"secret\", \"secret\", \"secure\", \"secure\", \"securely\", \"securely\", \"security\", \"security\", \"security\", \"security\", \"seed\", \"semantic\", \"semantic\", \"semi_honest\", \"sensitive\", \"sensitive\", \"sensor\", \"separate\", \"separation\", \"series\", \"server\", \"server\", \"service\", \"service\", \"setting\", \"setting\", \"setting\", \"shamir\", \"share\", \"share\", \"share\", \"share\", \"share\", \"share\", \"sharing\", \"sharing\", \"signal\", \"signature\", \"signature\", \"significantly\", \"signing\", \"similarity\", \"simple\", \"simple\", \"simple\", \"sink\", \"site\", \"site\", \"size\", \"size\", \"slash\", \"slow\", \"slow\", \"small\", \"small\", \"small\", \"smart_contract\", \"smart_home\", \"smartcards\", \"smartphone\", \"smartphones\", \"smartphones\", \"social\", \"social\", \"software\", \"software\", \"software\", \"solution\", \"solution\", \"solution\", \"solution\", \"solution\", \"solution\", \"solution\", \"solve\", \"source\", \"source\", \"source\", \"source\", \"source\", \"space\", \"space\", \"spam\", \"sparse\", \"spec_benchmark\", \"specification\", \"speed\", \"spoof\", \"spoof\", \"stack\", \"stalemate\", \"standard\", \"standard\", \"state\", \"state\", \"static\", \"static\", \"statistic\", \"stealthmem\", \"stealthy\", \"stick\", \"storage\", \"storage\", \"store\", \"store\", \"store\", \"stringent\", \"stringently\", \"strong\", \"strong\", \"strong\", \"strong\", \"student\", \"study\", \"study\", \"study\", \"subset\", \"subset\", \"succeed\", \"success_rate\", \"suit\", \"surreptitious\", \"survey\", \"susceptible\", \"swiping\", \"sybil\", \"symbol\", \"symbolic_execution\", \"symmetric\", \"synchronized\", \"syntax\", \"synthetic\", \"taint\", \"tardis\", \"target\", \"target\", \"target\", \"targets\\u2014signaling\", \"task\", \"task\", \"team\", \"technical\", \"technique\", \"technique\", \"technique\", \"technique\", \"technique\", \"technology\", \"technology\", \"tenancy\", \"tenant\", \"term\", \"term\", \"term\", \"term\", \"test\", \"test\", \"testbed\", \"testing\", \"testing\", \"theft\", \"theorem\", \"theory\", \"theory\", \"threat\", \"threat\", \"threat\", \"threat\", \"threat\", \"threshold\", \"throttle\", \"throttling\", \"time\", \"time\", \"time\", \"time\", \"time\", \"timing\", \"tion\", \"token\", \"token\", \"tool\", \"tool\", \"topology\", \"trace\", \"trace\", \"track\", \"track\", \"tracking\", \"tracking\", \"traditional\", \"traditional\", \"traditional\", \"traffic\", \"train\", \"trained\", \"training\", \"training\", \"transaction\", \"transform\", \"transmission\", \"transmit\", \"transparency\", \"treatment\", \"trend\", \"trigger\", \"truncate\", \"truncation\", \"trust\", \"trust\", \"trusted\", \"trusted\", \"twister\", \"type\", \"type\", \"type\", \"type\", \"type\", \"ubiquitous\", \"unauthorized\", \"unconditional\", \"uncover\", \"uncover\", \"understand\", \"understand\", \"understand\", \"understanding\", \"unexplored\", \"uniquely\", \"unseal\", \"unthrottled\", \"unwanted\", \"upcoming\", \"update\", \"update\", \"usability\", \"usability\", \"user\", \"users\", \"utility\", \"utility\", \"utilizing\", \"valuable\", \"vector\", \"vector\", \"vector\", \"vehicle\", \"vendor\", \"verifiability\", \"verification\", \"verification\", \"verifier\", \"verify\", \"verify\", \"verify\", \"version\", \"version\", \"victim\", \"video\", \"virtual_machine\", \"virtualization\", \"virtualized\", \"virtualized_environment\", \"virtually\", \"virus\", \"visit\", \"visual\", \"voice\", \"vote\", \"voter\", \"voting\", \"vulnerabilities\", \"vulnerability\", \"vulnerable\", \"vulnerable\", \"vulnerable\", \"wargame\", \"warning\", \"weakness\", \"weakness\", \"wear\", \"website\", \"wide\", \"wide\", \"widget\", \"wild\", \"windows\", \"wireless\", \"word\", \"work\", \"work\", \"work\", \"work\", \"work\", \"work\", \"wrapping\", \"year\", \"year\", \"year\", \"zero_knowledge\"]}, \"R\": 30, \"lambda.step\": 0.01, \"plot.opts\": {\"xlab\": \"PC1\", \"ylab\": \"PC2\"}, \"topic.order\": [2, 1, 5, 6, 3, 9, 4, 12, 13, 7, 11, 8, 10]};\n",
       "\n",
       "function LDAvis_load_lib(url, callback){\n",
       "  var s = document.createElement('script');\n",
       "  s.src = url;\n",
       "  s.async = true;\n",
       "  s.onreadystatechange = s.onload = callback;\n",
       "  s.onerror = function(){console.warn(\"failed to load library \" + url);};\n",
       "  document.getElementsByTagName(\"head\")[0].appendChild(s);\n",
       "}\n",
       "\n",
       "if(typeof(LDAvis) !== \"undefined\"){\n",
       "   // already loaded: just create the visualization\n",
       "   !function(LDAvis){\n",
       "       new LDAvis(\"#\" + \"ldavis_el369961402343408710722452772004\", ldavis_el369961402343408710722452772004_data);\n",
       "   }(LDAvis);\n",
       "}else if(typeof define === \"function\" && define.amd){\n",
       "   // require.js is available: use it to load d3/LDAvis\n",
       "   require.config({paths: {d3: \"https://d3js.org/d3.v5\"}});\n",
       "   require([\"d3\"], function(d3){\n",
       "      window.d3 = d3;\n",
       "      LDAvis_load_lib(\"https://cdn.jsdelivr.net/gh/bmabey/pyLDAvis@3.2.2/pyLDAvis/js/ldavis.v3.0.0.js\", function(){\n",
       "        new LDAvis(\"#\" + \"ldavis_el369961402343408710722452772004\", ldavis_el369961402343408710722452772004_data);\n",
       "      });\n",
       "    });\n",
       "}else{\n",
       "    // require.js not available: dynamically load d3 & LDAvis\n",
       "    LDAvis_load_lib(\"https://d3js.org/d3.v5.js\", function(){\n",
       "         LDAvis_load_lib(\"https://cdn.jsdelivr.net/gh/bmabey/pyLDAvis@3.2.2/pyLDAvis/js/ldavis.v3.0.0.js\", function(){\n",
       "                 new LDAvis(\"#\" + \"ldavis_el369961402343408710722452772004\", ldavis_el369961402343408710722452772004_data);\n",
       "            })\n",
       "         });\n",
       "}\n",
       "</script>"
      ],
      "text/plain": [
       "PreparedData(topic_coordinates=              x         y  topics  cluster      Freq\n",
       "topic                                               \n",
       "1      0.020757  0.075658       1        1  7.939920\n",
       "0      0.298472  0.028286       2        1  7.880070\n",
       "4      0.047822 -0.026915       3        1  7.845906\n",
       "5     -0.025047 -0.209582       4        1  7.758937\n",
       "2     -0.039876 -0.075916       5        1  7.745698\n",
       "8     -0.204833 -0.051947       6        1  7.667154\n",
       "3      0.260653 -0.027851       7        1  7.651709\n",
       "11    -0.162350 -0.063174       8        1  7.647245\n",
       "12    -0.180157  0.231620       9        1  7.639369\n",
       "6      0.029227 -0.052205      10        1  7.603827\n",
       "10    -0.045729  0.227177      11        1  7.565858\n",
       "7      0.054367  0.186327      12        1  7.551150\n",
       "9     -0.053306 -0.241479      13        1  7.503156, topic_info=         Term         Freq        Total Category  logprob  loglift\n",
       "200    attack  4894.000000  4894.000000  Default  30.0000  30.0000\n",
       "196      user  3331.000000  3331.000000  Default  29.0000  29.0000\n",
       "14       data  2987.000000  2987.000000  Default  28.0000  28.0000\n",
       "297  security  4263.000000  4263.000000  Default  27.0000  27.0000\n",
       "379   network  1866.000000  1866.000000  Default  26.0000  26.0000\n",
       "..        ...          ...          ...      ...      ...      ...\n",
       "136      case   200.220892   546.964655  Topic13  -4.8946   1.5849\n",
       "246     state   206.081015   734.809603  Topic13  -4.8657   1.3185\n",
       "42      paper   249.055256  2074.396595  Topic13  -4.6763   0.4701\n",
       "927      type   184.593895   561.561541  Topic13  -4.9758   1.4773\n",
       "491  software   195.337455   887.636541  Topic13  -4.9193   1.0760\n",
       "\n",
       "[1018 rows x 6 columns], token_table=      Topic      Freq            Term\n",
       "term                                 \n",
       "4270      1  0.994445         absence\n",
       "2365      1  1.001306        abstract\n",
       "545       1  0.995648     abstraction\n",
       "821       1  0.916449      abstractly\n",
       "0         5  0.162579           abuse\n",
       "...     ...       ...             ...\n",
       "977       9  1.083844        wrapping\n",
       "69        1  0.005253            year\n",
       "69        2  0.987535            year\n",
       "69       10  0.005253            year\n",
       "2657      9  1.004149  zero_knowledge\n",
       "\n",
       "[1501 rows x 3 columns], R=30, lambda_step=0.01, plot_opts={'xlab': 'PC1', 'ylab': 'PC2'}, topic_order=[2, 1, 5, 6, 3, 9, 4, 12, 13, 7, 11, 8, 10])"
      ]
     },
     "execution_count": 103,
     "metadata": {},
     "output_type": "execute_result"
    }
   ],
   "source": [
    "lda_mallet_model = mallet_to_lda(ldamallet)\n",
    "\n",
    "pyLDAvis.enable_notebook()\n",
    "vis = pyLDAvis.gensim.prepare(lda_mallet_model, M1, dictionary)\n",
    "vis"
   ]
  },
  {
   "cell_type": "markdown",
   "id": "stuffed-transcript",
   "metadata": {},
   "source": [
    "## Topics per document\n",
    "One of the practical application of topic modeling is to determine what topic a given document is about.\n",
    "\n",
    "To find that, we find the topic number that has the highest percentage contribution in that document.\n",
    "\n",
    "The format_topics_sentences() function below nicely aggregates this information in a presentable table.\n",
    "\n"
   ]
  },
  {
   "cell_type": "code",
   "execution_count": 104,
   "id": "false-composer",
   "metadata": {
    "tags": []
   },
   "outputs": [
    {
     "data": {
      "text/plain": [
       "[(0, 0.08479924),\n",
       " (1, 0.07676252),\n",
       " (2, 0.071187355),\n",
       " (3, 0.077819385),\n",
       " (4, 0.083127245),\n",
       " (5, 0.077929474),\n",
       " (6, 0.07643844),\n",
       " (7, 0.07562872),\n",
       " (8, 0.07560397),\n",
       " (9, 0.07187412),\n",
       " (10, 0.0730955),\n",
       " (11, 0.075483985),\n",
       " (12, 0.0802501)]"
      ]
     },
     "execution_count": 104,
     "metadata": {},
     "output_type": "execute_result"
    }
   ],
   "source": [
    "lda_mallet_model.get_document_topics(M1[1],minimum_probability=0)"
   ]
  },
  {
   "cell_type": "code",
   "execution_count": 106,
   "id": "unknown-flood",
   "metadata": {},
   "outputs": [
    {
     "data": {
      "text/html": [
       "<div>\n",
       "<style scoped>\n",
       "    .dataframe tbody tr th:only-of-type {\n",
       "        vertical-align: middle;\n",
       "    }\n",
       "\n",
       "    .dataframe tbody tr th {\n",
       "        vertical-align: top;\n",
       "    }\n",
       "\n",
       "    .dataframe thead th {\n",
       "        text-align: right;\n",
       "    }\n",
       "</style>\n",
       "<table border=\"1\" class=\"dataframe\">\n",
       "  <thead>\n",
       "    <tr style=\"text-align: right;\">\n",
       "      <th></th>\n",
       "      <th>Document_No</th>\n",
       "      <th>Dominant_Topic</th>\n",
       "      <th>Topic_Perc_Contrib</th>\n",
       "      <th>Keywords</th>\n",
       "      <th>Text</th>\n",
       "    </tr>\n",
       "  </thead>\n",
       "  <tbody>\n",
       "    <tr>\n",
       "      <th>0</th>\n",
       "      <td>0</td>\n",
       "      <td>8.0</td>\n",
       "      <td>0.0819</td>\n",
       "      <td>code, memory, software, flow, hardware, execut...</td>\n",
       "      <td>[online, sale, counterfeit, unauthorized, prod...</td>\n",
       "    </tr>\n",
       "    <tr>\n",
       "      <th>1</th>\n",
       "      <td>1</td>\n",
       "      <td>0.0</td>\n",
       "      <td>0.0848</td>\n",
       "      <td>security, study, research, domain, risk, threa...</td>\n",
       "      <td>[traditional, spam, detection, rely, content, ...</td>\n",
       "    </tr>\n",
       "    <tr>\n",
       "      <th>2</th>\n",
       "      <td>2</td>\n",
       "      <td>0.0</td>\n",
       "      <td>0.0819</td>\n",
       "      <td>security, study, research, domain, risk, threa...</td>\n",
       "      <td>[paper, quantify, effect, unsolicited, email, ...</td>\n",
       "    </tr>\n",
       "    <tr>\n",
       "      <th>3</th>\n",
       "      <td>3</td>\n",
       "      <td>1.0</td>\n",
       "      <td>0.0838</td>\n",
       "      <td>security, policy, provide, implementation, mod...</td>\n",
       "      <td>[explore, robustness, usability, moving, image...</td>\n",
       "    </tr>\n",
       "    <tr>\n",
       "      <th>4</th>\n",
       "      <td>4</td>\n",
       "      <td>2.0</td>\n",
       "      <td>0.0843</td>\n",
       "      <td>attack, attacker, channel, exploit, demonstrat...</td>\n",
       "      <td>[help, user, create, strong, text, based, pass...</td>\n",
       "    </tr>\n",
       "    <tr>\n",
       "      <th>5</th>\n",
       "      <td>5</td>\n",
       "      <td>5.0</td>\n",
       "      <td>0.0852</td>\n",
       "      <td>model, approach, malware, malicious, detect, m...</td>\n",
       "      <td>[provide, number, practical, technique, algori...</td>\n",
       "    </tr>\n",
       "    <tr>\n",
       "      <th>6</th>\n",
       "      <td>6</td>\n",
       "      <td>0.0</td>\n",
       "      <td>0.0827</td>\n",
       "      <td>security, study, research, domain, risk, threa...</td>\n",
       "      <td>[vulnerabilities, browser, extension, user, ri...</td>\n",
       "    </tr>\n",
       "    <tr>\n",
       "      <th>7</th>\n",
       "      <td>7</td>\n",
       "      <td>12.0</td>\n",
       "      <td>0.0801</td>\n",
       "      <td>protocol, secure, scheme, party, computation, ...</td>\n",
       "      <td>[browser, mediate, access, valuable, private, ...</td>\n",
       "    </tr>\n",
       "    <tr>\n",
       "      <th>8</th>\n",
       "      <td>8</td>\n",
       "      <td>12.0</td>\n",
       "      <td>0.0806</td>\n",
       "      <td>protocol, secure, scheme, party, computation, ...</td>\n",
       "      <td>[cryptographic, rely, secrecy, cryptographic, ...</td>\n",
       "    </tr>\n",
       "    <tr>\n",
       "      <th>9</th>\n",
       "      <td>9</td>\n",
       "      <td>0.0</td>\n",
       "      <td>0.0802</td>\n",
       "      <td>security, study, research, domain, risk, threa...</td>\n",
       "      <td>[brain, interface, increasingly, popular, gami...</td>\n",
       "    </tr>\n",
       "  </tbody>\n",
       "</table>\n",
       "</div>"
      ],
      "text/plain": [
       "   Document_No  Dominant_Topic  Topic_Perc_Contrib  \\\n",
       "0            0             8.0              0.0819   \n",
       "1            1             0.0              0.0848   \n",
       "2            2             0.0              0.0819   \n",
       "3            3             1.0              0.0838   \n",
       "4            4             2.0              0.0843   \n",
       "5            5             5.0              0.0852   \n",
       "6            6             0.0              0.0827   \n",
       "7            7            12.0              0.0801   \n",
       "8            8            12.0              0.0806   \n",
       "9            9             0.0              0.0802   \n",
       "\n",
       "                                            Keywords  \\\n",
       "0  code, memory, software, flow, hardware, execut...   \n",
       "1  security, study, research, domain, risk, threa...   \n",
       "2  security, study, research, domain, risk, threa...   \n",
       "3  security, policy, provide, implementation, mod...   \n",
       "4  attack, attacker, channel, exploit, demonstrat...   \n",
       "5  model, approach, malware, malicious, detect, m...   \n",
       "6  security, study, research, domain, risk, threa...   \n",
       "7  protocol, secure, scheme, party, computation, ...   \n",
       "8  protocol, secure, scheme, party, computation, ...   \n",
       "9  security, study, research, domain, risk, threa...   \n",
       "\n",
       "                                                Text  \n",
       "0  [online, sale, counterfeit, unauthorized, prod...  \n",
       "1  [traditional, spam, detection, rely, content, ...  \n",
       "2  [paper, quantify, effect, unsolicited, email, ...  \n",
       "3  [explore, robustness, usability, moving, image...  \n",
       "4  [help, user, create, strong, text, based, pass...  \n",
       "5  [provide, number, practical, technique, algori...  \n",
       "6  [vulnerabilities, browser, extension, user, ri...  \n",
       "7  [browser, mediate, access, valuable, private, ...  \n",
       "8  [cryptographic, rely, secrecy, cryptographic, ...  \n",
       "9  [brain, interface, increasingly, popular, gami...  "
      ]
     },
     "execution_count": 106,
     "metadata": {},
     "output_type": "execute_result"
    }
   ],
   "source": [
    "import pandas as pd\n",
    "\n",
    "def format_topics_sentences(ldamodel, corpus, texts):\n",
    "    # Init output\n",
    "    sent_topics_df = pd.DataFrame()\n",
    "\n",
    "    # Get main topic in each document\n",
    "    for i, row in enumerate(ldamodel[corpus]):\n",
    "        row = sorted(row, key=lambda x: (x[1]), reverse=True)\n",
    "        # Get the Dominant topic, Perc Contribution and Keywords for each document\n",
    "        for j, (topic_num, prop_topic) in enumerate(row):\n",
    "            if j == 0:  # => dominant topic\n",
    "                wp = ldamodel.show_topic(topic_num)\n",
    "                topic_keywords = \", \".join([word for word, prop in wp])\n",
    "                sent_topics_df = sent_topics_df.append(pd.Series([int(topic_num), round(prop_topic,4), topic_keywords]), ignore_index=True)\n",
    "            else:\n",
    "                break\n",
    "    sent_topics_df.columns = ['Dominant_Topic', 'Perc_Contribution', 'Topic_Keywords']\n",
    "\n",
    "    # Add original text to the end of the output\n",
    "    contents = pd.Series(texts)\n",
    "    sent_topics_df = pd.concat([sent_topics_df, contents], axis=1)\n",
    "    return(sent_topics_df)\n",
    "\n",
    "\n",
    "df_topic_sents_keywords = format_topics_sentences(ldamodel=lda_mallet_model, corpus=M1, texts=corpus_clean_bigram)\n",
    "\n",
    "# Format\n",
    "df_dominant_topic = df_topic_sents_keywords.reset_index()\n",
    "df_dominant_topic.columns = ['Document_No', 'Dominant_Topic', 'Topic_Perc_Contrib', 'Keywords', 'Text']\n",
    "\n",
    "# Show\n",
    "df_dominant_topic.head(10)"
   ]
  },
  {
   "cell_type": "code",
   "execution_count": 52,
   "id": "understood-representative",
   "metadata": {},
   "outputs": [
    {
     "data": {
      "text/plain": [
       "'Vulnerabilities in browser extensions put users at risk by providing a way for website and network attackers to gain access to users’ private data and credentials. Extensions can also introduce vulnerabilities into the websites that they modify. In 2009, Google Chrome introduced a new extension platform with several features intended to prevent and mitigate extension vulnerabilities: strong isolation between websites and extensions, privilege separation within an extension, and an extension permission system. We performed a security review of 100 Chrome extensions and found 70 vulnerabilities across 40 extensions. Given these vulnerabilities, we evaluate how well each of the security mechanisms defends against extension vulnerabilities. We find that the mechanisms mostly succeed at preventing web attacks, but new security mechanisms are needed to protect users from network attacks on extensions, website metadata attacks on extensions, and vulnerabilities that extensions add to websites. We propose and evaluate additional defenses, and we conclude that banning HTTP scripts and inline scripts would prevent 47 of the 50 most severe vulnerabilities with only modest impact on developers.'"
      ]
     },
     "execution_count": 52,
     "metadata": {},
     "output_type": "execute_result"
    }
   ],
   "source": [
    "corpus[6]"
   ]
  },
  {
   "cell_type": "markdown",
   "id": "romantic-somalia",
   "metadata": {},
   "source": [
    "## Most representative document per topic\n",
    "Sometimes just the topic keywords may not be enough to make sense of what a topic is about. So, to help with understanding the topic, you can find the documents a given topic has contributed to the most and infer the topic by reading that document."
   ]
  },
  {
   "cell_type": "code",
   "execution_count": 107,
   "id": "chinese-energy",
   "metadata": {},
   "outputs": [
    {
     "data": {
      "text/html": [
       "<div>\n",
       "<style scoped>\n",
       "    .dataframe tbody tr th:only-of-type {\n",
       "        vertical-align: middle;\n",
       "    }\n",
       "\n",
       "    .dataframe tbody tr th {\n",
       "        vertical-align: top;\n",
       "    }\n",
       "\n",
       "    .dataframe thead th {\n",
       "        text-align: right;\n",
       "    }\n",
       "</style>\n",
       "<table border=\"1\" class=\"dataframe\">\n",
       "  <thead>\n",
       "    <tr style=\"text-align: right;\">\n",
       "      <th></th>\n",
       "      <th>Topic_Num</th>\n",
       "      <th>Topic_Perc_Contrib</th>\n",
       "      <th>Keywords</th>\n",
       "      <th>Text</th>\n",
       "    </tr>\n",
       "  </thead>\n",
       "  <tbody>\n",
       "    <tr>\n",
       "      <th>0</th>\n",
       "      <td>0.0</td>\n",
       "      <td>0.1047</td>\n",
       "      <td>security, study, research, domain, risk, threa...</td>\n",
       "      <td>[blockchain, technology, recently, receive, co...</td>\n",
       "    </tr>\n",
       "    <tr>\n",
       "      <th>1</th>\n",
       "      <td>1.0</td>\n",
       "      <td>0.1088</td>\n",
       "      <td>security, policy, provide, implementation, mod...</td>\n",
       "      <td>[core, technique, popular, proxy, based, circu...</td>\n",
       "    </tr>\n",
       "    <tr>\n",
       "      <th>2</th>\n",
       "      <td>2.0</td>\n",
       "      <td>0.1076</td>\n",
       "      <td>attack, attacker, channel, exploit, demonstrat...</td>\n",
       "      <td>[according, recent, research, motion_sensor, a...</td>\n",
       "    </tr>\n",
       "    <tr>\n",
       "      <th>3</th>\n",
       "      <td>3.0</td>\n",
       "      <td>0.0946</td>\n",
       "      <td>user, browser, password, authentication, study...</td>\n",
       "      <td>[develop, economic, model, offline, password, ...</td>\n",
       "    </tr>\n",
       "    <tr>\n",
       "      <th>4</th>\n",
       "      <td>4.0</td>\n",
       "      <td>0.1071</td>\n",
       "      <td>device, application, access, android, apps, mo...</td>\n",
       "      <td>[user, single, authoritative, source, request,...</td>\n",
       "    </tr>\n",
       "  </tbody>\n",
       "</table>\n",
       "</div>"
      ],
      "text/plain": [
       "   Topic_Num  Topic_Perc_Contrib  \\\n",
       "0        0.0              0.1047   \n",
       "1        1.0              0.1088   \n",
       "2        2.0              0.1076   \n",
       "3        3.0              0.0946   \n",
       "4        4.0              0.1071   \n",
       "\n",
       "                                            Keywords  \\\n",
       "0  security, study, research, domain, risk, threa...   \n",
       "1  security, policy, provide, implementation, mod...   \n",
       "2  attack, attacker, channel, exploit, demonstrat...   \n",
       "3  user, browser, password, authentication, study...   \n",
       "4  device, application, access, android, apps, mo...   \n",
       "\n",
       "                                                Text  \n",
       "0  [blockchain, technology, recently, receive, co...  \n",
       "1  [core, technique, popular, proxy, based, circu...  \n",
       "2  [according, recent, research, motion_sensor, a...  \n",
       "3  [develop, economic, model, offline, password, ...  \n",
       "4  [user, single, authoritative, source, request,...  "
      ]
     },
     "execution_count": 107,
     "metadata": {},
     "output_type": "execute_result"
    }
   ],
   "source": [
    "# Group top 5 sentences under each topic\n",
    "sent_topics_sorteddf_mallet = pd.DataFrame()\n",
    "\n",
    "sent_topics_outdf_grpd = df_topic_sents_keywords.groupby('Dominant_Topic')\n",
    "\n",
    "for i, grp in sent_topics_outdf_grpd:\n",
    "    sent_topics_sorteddf_mallet = pd.concat([sent_topics_sorteddf_mallet, \n",
    "                                             grp.sort_values(['Perc_Contribution'], ascending=[0]).head(1)], \n",
    "                                            axis=0)\n",
    "\n",
    "# Reset Index    \n",
    "sent_topics_sorteddf_mallet.reset_index(drop=True, inplace=True)\n",
    "\n",
    "# Format\n",
    "sent_topics_sorteddf_mallet.columns = ['Topic_Num', \"Topic_Perc_Contrib\", \"Keywords\", \"Text\"]\n",
    "\n",
    "# Show\n",
    "sent_topics_sorteddf_mallet.head()"
   ]
  },
  {
   "cell_type": "markdown",
   "id": "northern-boxing",
   "metadata": {},
   "source": [
    "## Topic distribution across documents\n",
    "Finally, we want to understand the volume and distribution of topics in order to judge how widely it was discussed. The below table exposes that information."
   ]
  },
  {
   "cell_type": "code",
   "execution_count": 111,
   "id": "pending-insulin",
   "metadata": {},
   "outputs": [
    {
     "data": {
      "text/html": [
       "<div>\n",
       "<style scoped>\n",
       "    .dataframe tbody tr th:only-of-type {\n",
       "        vertical-align: middle;\n",
       "    }\n",
       "\n",
       "    .dataframe tbody tr th {\n",
       "        vertical-align: top;\n",
       "    }\n",
       "\n",
       "    .dataframe thead th {\n",
       "        text-align: right;\n",
       "    }\n",
       "</style>\n",
       "<table border=\"1\" class=\"dataframe\">\n",
       "  <thead>\n",
       "    <tr style=\"text-align: right;\">\n",
       "      <th></th>\n",
       "      <th>Dominant_Topic</th>\n",
       "      <th>Topic_Keywords</th>\n",
       "      <th>Num_Documents</th>\n",
       "      <th>Perc_Documents</th>\n",
       "    </tr>\n",
       "  </thead>\n",
       "  <tbody>\n",
       "    <tr>\n",
       "      <th>0.0</th>\n",
       "      <td>8.0</td>\n",
       "      <td>code, memory, software, flow, hardware, execut...</td>\n",
       "      <td>610.0</td>\n",
       "      <td>0.1651</td>\n",
       "    </tr>\n",
       "    <tr>\n",
       "      <th>1.0</th>\n",
       "      <td>0.0</td>\n",
       "      <td>security, study, research, domain, risk, threa...</td>\n",
       "      <td>592.0</td>\n",
       "      <td>0.1603</td>\n",
       "    </tr>\n",
       "    <tr>\n",
       "      <th>2.0</th>\n",
       "      <td>0.0</td>\n",
       "      <td>security, study, research, domain, risk, threa...</td>\n",
       "      <td>314.0</td>\n",
       "      <td>0.0850</td>\n",
       "    </tr>\n",
       "    <tr>\n",
       "      <th>3.0</th>\n",
       "      <td>1.0</td>\n",
       "      <td>security, policy, provide, implementation, mod...</td>\n",
       "      <td>204.0</td>\n",
       "      <td>0.0552</td>\n",
       "    </tr>\n",
       "    <tr>\n",
       "      <th>4.0</th>\n",
       "      <td>2.0</td>\n",
       "      <td>attack, attacker, channel, exploit, demonstrat...</td>\n",
       "      <td>440.0</td>\n",
       "      <td>0.1191</td>\n",
       "    </tr>\n",
       "    <tr>\n",
       "      <th>...</th>\n",
       "      <td>...</td>\n",
       "      <td>...</td>\n",
       "      <td>...</td>\n",
       "      <td>...</td>\n",
       "    </tr>\n",
       "    <tr>\n",
       "      <th>3689.0</th>\n",
       "      <td>0.0</td>\n",
       "      <td>security, study, research, domain, risk, threa...</td>\n",
       "      <td>NaN</td>\n",
       "      <td>NaN</td>\n",
       "    </tr>\n",
       "    <tr>\n",
       "      <th>3690.0</th>\n",
       "      <td>12.0</td>\n",
       "      <td>protocol, secure, scheme, party, computation, ...</td>\n",
       "      <td>NaN</td>\n",
       "      <td>NaN</td>\n",
       "    </tr>\n",
       "    <tr>\n",
       "      <th>3691.0</th>\n",
       "      <td>1.0</td>\n",
       "      <td>security, policy, provide, implementation, mod...</td>\n",
       "      <td>NaN</td>\n",
       "      <td>NaN</td>\n",
       "    </tr>\n",
       "    <tr>\n",
       "      <th>3692.0</th>\n",
       "      <td>1.0</td>\n",
       "      <td>security, policy, provide, implementation, mod...</td>\n",
       "      <td>NaN</td>\n",
       "      <td>NaN</td>\n",
       "    </tr>\n",
       "    <tr>\n",
       "      <th>3693.0</th>\n",
       "      <td>2.0</td>\n",
       "      <td>attack, attacker, channel, exploit, demonstrat...</td>\n",
       "      <td>NaN</td>\n",
       "      <td>NaN</td>\n",
       "    </tr>\n",
       "  </tbody>\n",
       "</table>\n",
       "<p>3694 rows × 4 columns</p>\n",
       "</div>"
      ],
      "text/plain": [
       "        Dominant_Topic                                     Topic_Keywords  \\\n",
       "0.0                8.0  code, memory, software, flow, hardware, execut...   \n",
       "1.0                0.0  security, study, research, domain, risk, threa...   \n",
       "2.0                0.0  security, study, research, domain, risk, threa...   \n",
       "3.0                1.0  security, policy, provide, implementation, mod...   \n",
       "4.0                2.0  attack, attacker, channel, exploit, demonstrat...   \n",
       "...                ...                                                ...   \n",
       "3689.0             0.0  security, study, research, domain, risk, threa...   \n",
       "3690.0            12.0  protocol, secure, scheme, party, computation, ...   \n",
       "3691.0             1.0  security, policy, provide, implementation, mod...   \n",
       "3692.0             1.0  security, policy, provide, implementation, mod...   \n",
       "3693.0             2.0  attack, attacker, channel, exploit, demonstrat...   \n",
       "\n",
       "        Num_Documents  Perc_Documents  \n",
       "0.0             610.0          0.1651  \n",
       "1.0             592.0          0.1603  \n",
       "2.0             314.0          0.0850  \n",
       "3.0             204.0          0.0552  \n",
       "4.0             440.0          0.1191  \n",
       "...               ...             ...  \n",
       "3689.0            NaN             NaN  \n",
       "3690.0            NaN             NaN  \n",
       "3691.0            NaN             NaN  \n",
       "3692.0            NaN             NaN  \n",
       "3693.0            NaN             NaN  \n",
       "\n",
       "[3694 rows x 4 columns]"
      ]
     },
     "execution_count": 111,
     "metadata": {},
     "output_type": "execute_result"
    }
   ],
   "source": [
    "# Number of Documents for Each Topic\n",
    "topic_counts = df_topic_sents_keywords['Dominant_Topic'].value_counts()\n",
    "\n",
    "# Percentage of Documents for Each Topic\n",
    "topic_contribution = round(topic_counts/topic_counts.sum(), 4)\n",
    "\n",
    "# Topic Number and Keywords\n",
    "topic_num_keywords = df_topic_sents_keywords[['Dominant_Topic', 'Topic_Keywords']]\n",
    "\n",
    "# Concatenate Column wise\n",
    "df_dominant_topics = pd.concat([topic_num_keywords, topic_counts, topic_contribution], axis=1)\n",
    "\n",
    "# Change Column names\n",
    "df_dominant_topics.columns = ['Dominant_Topic', 'Topic_Keywords', 'Num_Documents', 'Perc_Documents']\n",
    "\n",
    "# Show\n",
    "df_dominant_topics"
   ]
  },
  {
   "cell_type": "code",
   "execution_count": null,
   "id": "analyzed-subscription",
   "metadata": {},
   "outputs": [],
   "source": []
  }
 ],
 "metadata": {
  "kernelspec": {
   "display_name": "Python 3",
   "language": "python",
   "name": "python3"
  },
  "language_info": {
   "codemirror_mode": {
    "name": "ipython",
    "version": 3
   },
   "file_extension": ".py",
   "mimetype": "text/x-python",
   "name": "python",
   "nbconvert_exporter": "python",
   "pygments_lexer": "ipython3",
   "version": "3.8.8"
  }
 },
 "nbformat": 4,
 "nbformat_minor": 5
}
