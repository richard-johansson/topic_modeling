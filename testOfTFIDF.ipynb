{
 "cells": [
  {
   "cell_type": "markdown",
   "id": "genetic-factory",
   "metadata": {},
   "source": [
    "## Ali's code"
   ]
  },
  {
   "cell_type": "markdown",
   "id": "automated-degree",
   "metadata": {},
   "source": [
    "It seems that the way this link computes the weights of each topic in each document is not the optimal way (as it will not give you a weight if it is very small, but in big models, these small weights can also become important). Therefore instead, you can follow the following simple approach to get the weights:\n",
    "To get the weights of a topic in the ith document, you call the method get_document_topics of the topic model object and pass the ith element of M1 (or tfidf_M1 in case you use tfidf) to it in the following way (minimum_probability=0 should be set so that none of near to zero entries are not removed) : \n",
    "lda_model.get_document_topics(M1[i],minimum_probability=0)\n",
    "So let us see it in a complete example we had before: \n",
    "\n",
    "which gives the output (topics and weights of words in topics):"
   ]
  },
  {
   "cell_type": "code",
   "execution_count": 1,
   "id": "chemical-superior",
   "metadata": {},
   "outputs": [
    {
     "name": "stdout",
     "output_type": "stream",
     "text": [
      "(0, '0.084*\"learning\" + 0.071*\"cryptography\" + 0.071*\"security\" + 0.071*\"leakage\" + 0.070*\"methods\" + 0.043*\"computer\" + 0.043*\"data\" + 0.043*\"used\" + 0.042*\"preventing\" + 0.042*\"authentication\"')\n",
      "(1, '0.136*\"learning\" + 0.093*\"unsupervised\" + 0.082*\"target\" + 0.080*\"variable\" + 0.058*\"machine\" + 0.057*\"supervised\" + 0.050*\"topic\" + 0.050*\"variables\" + 0.050*\"modeling\" + 0.050*\"model\"')\n"
     ]
    }
   ],
   "source": [
    "corpus = [\"cryptography can be used for preventing data leakage in computer security\",\n",
    "\"supervised learning and unsupervised learning are the two main groups of methods in machine learning\",\n",
    "\"while in supervised learning we have access to the target variable in unsupervised learning we do not have such a variable\",\n",
    "\"there are some methods in security for reducing the risk of information leakage like authentication and cryptography\",\n",
    "\"topic modeling in an unsupervised machine learning model and therefore we do not have target variables\"\n",
    "]\n",
    "stop_words = [\"can\",\"be\",\"for\",\"two\",\"the\",\"for\",\"we\",\"in\",\"not\",\"do\",\"are\",\"to\",\"an\",\"there\",\"some\",\"have\",\"a\",\"and\",\"of\",\"like\",\"while\",\"therefore\",\"such\"]\n",
    "\n",
    "def clean_doc(doc):\n",
    "    return \" \".join([word for word in doc.lower().split() if word not in stop_words])\n",
    "\n",
    "corpus_clean = [clean_doc(doc) for doc in corpus]\n",
    "corpus_clean = [doc.split() for doc in corpus_clean]\n",
    "from gensim import corpora\n",
    "dictionary = corpora.Dictionary(corpus_clean)\n",
    "dictionary.doc2bow(corpus_clean[2])\n",
    "M1 = [dictionary.doc2bow(doc) for doc in corpus_clean]\n",
    "import gensim\n",
    "Lda = gensim.models.ldamodel.LdaModel\n",
    "lda_model = Lda(M1, num_topics=2, id2word = dictionary, passes=5,random_state =0)\n",
    "topics = lda_model.print_topics(num_topics=5, num_words=10)\n",
    "for topic in topics:\n",
    "    print(topic)"
   ]
  },
  {
   "cell_type": "markdown",
   "id": "elder-miami",
   "metadata": {},
   "source": [
    "Now, the following call gives us the weight of the two topics in the first document:"
   ]
  },
  {
   "cell_type": "code",
   "execution_count": 2,
   "id": "center-producer",
   "metadata": {},
   "outputs": [
    {
     "data": {
      "text/plain": [
       "[(0, 0.9348568), (1, 0.06514323)]"
      ]
     },
     "execution_count": 2,
     "metadata": {},
     "output_type": "execute_result"
    }
   ],
   "source": [
    "lda_model.get_document_topics(M1[0],minimum_probability=0)"
   ]
  },
  {
   "cell_type": "markdown",
   "id": "foreign-dividend",
   "metadata": {},
   "source": [
    "And here is a complete working code with tfidf :\n",
    "Note that as we expect, the weight should be different here as the model has been changed. \n"
   ]
  },
  {
   "cell_type": "code",
   "execution_count": 6,
   "id": "negative-sleeping",
   "metadata": {},
   "outputs": [
    {
     "name": "stdout",
     "output_type": "stream",
     "text": [
      "(0, '0.058*\"variable\" + 0.055*\"learning\" + 0.046*\"methods\" + 0.045*\"main\" + 0.045*\"cryptography\" + 0.045*\"groups\" + 0.045*\"security\" + 0.045*\"leakage\" + 0.045*\"supervised\" + 0.043*\"computer\"')\n",
      "(1, '0.060*\"topic\" + 0.059*\"variables\" + 0.059*\"modeling\" + 0.059*\"model\" + 0.050*\"target\" + 0.049*\"machine\" + 0.043*\"learning\" + 0.042*\"unsupervised\" + 0.035*\"variable\" + 0.035*\"supervised\"')\n"
     ]
    },
    {
     "data": {
      "text/plain": [
       "[(0, 0.83430034), (1, 0.16569969)]"
      ]
     },
     "execution_count": 6,
     "metadata": {},
     "output_type": "execute_result"
    }
   ],
   "source": [
    "corpus = [\"cryptography can be used for preventing data leakage in computer security\",\n",
    "\"supervised learning and unsupervised learning are the two main groups of methods in machine learning\",\n",
    "\"while in supervised learning we have access to the target variable in unsupervised learning we do not have such a variable\",\n",
    "\"there are some methods in security for reducing the risk of information leakage like authentication and cryptography\",\n",
    "\"topic modeling in an unsupervised machine learning model and therefore we do not have target variables\"\n",
    "]\n",
    "stop_words = [\"can\",\"be\",\"for\",\"two\",\"the\",\"for\",\"we\",\"in\",\"not\",\"do\",\"are\",\"to\",\"an\",\"there\",\"some\",\"have\",\"a\",\"and\",\"of\",\"like\",\"while\",\"therefore\",\"such\"]\n",
    "\n",
    "def clean_doc(doc):\n",
    "    return \" \".join([word for word in doc.lower().split() if word not in stop_words])\n",
    "\n",
    "corpus_clean = [clean_doc(doc) for doc in corpus]\n",
    "corpus_clean = [doc.split() for doc in corpus_clean]\n",
    "from gensim import corpora\n",
    "dictionary = corpora.Dictionary(corpus_clean)\n",
    "dictionary.doc2bow(corpus_clean[2])\n",
    "M1 = [dictionary.doc2bow(doc) for doc in corpus_clean]\n",
    "import gensim\n",
    "tfidf_model = gensim.models.TfidfModel(M1)\n",
    "tfidf_M1 = tfidf_model[M1]\n",
    "Lda = gensim.models.ldamodel.LdaModel\n",
    "lda_model = Lda(tfidf_M1, num_topics=2, id2word = dictionary, passes=5,random_state =0)\n",
    "topics = lda_model.print_topics(num_topics=5, num_words=10)\n",
    "for topic in topics:\n",
    "    print(topic)\n",
    "lda_model.get_document_topics(tfidf_M1[0],minimum_probability=0)"
   ]
  },
  {
   "cell_type": "markdown",
   "id": "continental-disorder",
   "metadata": {},
   "source": [
    "# Our code"
   ]
  },
  {
   "cell_type": "code",
   "execution_count": 60,
   "id": "decent-laugh",
   "metadata": {},
   "outputs": [
    {
     "name": "stderr",
     "output_type": "stream",
     "text": [
      "/Library/Frameworks/Python.framework/Versions/3.8/lib/python3.8/site-packages/ipykernel/ipkernel.py:283: DeprecationWarning: `should_run_async` will not call `transform_cell` automatically in the future. Please pass the result to `transformed_cell` argument and any exception that happen during thetransform in `preprocessing_exc_tuple` in IPython 7.17 and above.\n",
      "  and should_run_async(code)\n"
     ]
    }
   ],
   "source": [
    "def readFile(filename):\n",
    "    fileData = \"\"\n",
    "    file = open(\"abstracts/\" + filename, 'r')\n",
    "    fileData = file.read().splitlines()\n",
    "    file.close\n",
    "    return fileData"
   ]
  },
  {
   "cell_type": "code",
   "execution_count": 61,
   "id": "aging-actor",
   "metadata": {},
   "outputs": [
    {
     "name": "stderr",
     "output_type": "stream",
     "text": [
      "/Library/Frameworks/Python.framework/Versions/3.8/lib/python3.8/site-packages/ipykernel/ipkernel.py:283: DeprecationWarning: `should_run_async` will not call `transform_cell` automatically in the future. Please pass the result to `transformed_cell` argument and any exception that happen during thetransform in `preprocessing_exc_tuple` in IPython 7.17 and above.\n",
      "  and should_run_async(code)\n"
     ]
    }
   ],
   "source": [
    "import nltk\n",
    "import gensim\n",
    "from gensim import corpora\n",
    "#nltk.download('stopwords')      # If this code block complains, comment out this line\n",
    "from nltk.corpus import stopwords\n",
    "\n"
   ]
  },
  {
   "cell_type": "code",
   "execution_count": 62,
   "id": "downtown-salvation",
   "metadata": {},
   "outputs": [
    {
     "name": "stderr",
     "output_type": "stream",
     "text": [
      "/Library/Frameworks/Python.framework/Versions/3.8/lib/python3.8/site-packages/ipykernel/ipkernel.py:283: DeprecationWarning: `should_run_async` will not call `transform_cell` automatically in the future. Please pass the result to `transformed_cell` argument and any exception that happen during thetransform in `preprocessing_exc_tuple` in IPython 7.17 and above.\n",
      "  and should_run_async(code)\n"
     ]
    }
   ],
   "source": [
    "def clean_doc(doc):\n",
    "    return \" \".join([word for word in doc.lower().split() if word not in stop_words])"
   ]
  },
  {
   "cell_type": "code",
   "execution_count": 63,
   "id": "common-cooper",
   "metadata": {},
   "outputs": [
    {
     "name": "stderr",
     "output_type": "stream",
     "text": [
      "/Library/Frameworks/Python.framework/Versions/3.8/lib/python3.8/site-packages/ipykernel/ipkernel.py:283: DeprecationWarning: `should_run_async` will not call `transform_cell` automatically in the future. Please pass the result to `transformed_cell` argument and any exception that happen during thetransform in `preprocessing_exc_tuple` in IPython 7.17 and above.\n",
      "  and should_run_async(code)\n"
     ]
    }
   ],
   "source": [
    "corpus = []\n",
    "abstracts\n",
    "for i in range (2012,2020):\n",
    "    conference = readFile('usenix' + str(i) + 'Abstracts.txt')\n",
    "    for abstract in conference:\n",
    "        corpus.append(abstract)"
   ]
  },
  {
   "cell_type": "code",
   "execution_count": 64,
   "id": "injured-wedding",
   "metadata": {},
   "outputs": [
    {
     "name": "stderr",
     "output_type": "stream",
     "text": [
      "/Library/Frameworks/Python.framework/Versions/3.8/lib/python3.8/site-packages/ipykernel/ipkernel.py:283: DeprecationWarning: `should_run_async` will not call `transform_cell` automatically in the future. Please pass the result to `transformed_cell` argument and any exception that happen during thetransform in `preprocessing_exc_tuple` in IPython 7.17 and above.\n",
      "  and should_run_async(code)\n"
     ]
    }
   ],
   "source": [
    "stop_words = stopwords.words('english')\n",
    "\n",
    "corpus_clean = [clean_doc(doc) for doc in corpus]\n",
    "corpus_clean = [doc.split() for doc in corpus_clean]\n",
    "\n",
    "\n",
    "dictionary = corpora.Dictionary(corpus_clean)\n",
    "dictionary.doc2bow(corpus_clean[2])\n",
    "M1 = [dictionary.doc2bow(doc) for doc in corpus_clean]\n",
    "\n",
    "tfidf_model = gensim.models.TfidfModel(M1)\n",
    "tfidf_M1 = tfidf_model[M1]\n",
    "\n"
   ]
  },
  {
   "cell_type": "code",
   "execution_count": 65,
   "id": "heated-copper",
   "metadata": {},
   "outputs": [
    {
     "name": "stderr",
     "output_type": "stream",
     "text": [
      "/Library/Frameworks/Python.framework/Versions/3.8/lib/python3.8/site-packages/ipykernel/ipkernel.py:283: DeprecationWarning: `should_run_async` will not call `transform_cell` automatically in the future. Please pass the result to `transformed_cell` argument and any exception that happen during thetransform in `preprocessing_exc_tuple` in IPython 7.17 and above.\n",
      "  and should_run_async(code)\n"
     ]
    }
   ],
   "source": [
    "Lda = gensim.models.ldamodel.LdaModel\n",
    "lda_model = Lda(tfidf_M1, num_topics=4, id2word = dictionary, passes=5, random_state =0)"
   ]
  },
  {
   "cell_type": "markdown",
   "id": "extra-affair",
   "metadata": {},
   "source": [
    "### All topics"
   ]
  },
  {
   "cell_type": "code",
   "execution_count": 66,
   "id": "opened-replication",
   "metadata": {},
   "outputs": [
    {
     "name": "stdout",
     "output_type": "stream",
     "text": [
      "(0, '0.001*\"attacks\" + 0.000*\"attack\" + 0.000*\"security\" + 0.000*\"data\" + 0.000*\"cache\" + 0.000*\"memory\" + 0.000*\"privacy\" + 0.000*\"system\" + 0.000*\"user\" + 0.000*\"network\"')\n",
      "(1, '0.001*\"security\" + 0.001*\"attacks\" + 0.001*\"memory\" + 0.000*\"apps\" + 0.000*\"web\" + 0.000*\"network\" + 0.000*\"attack\" + 0.000*\"data\" + 0.000*\"analysis\" + 0.000*\"code\"')\n",
      "(2, '0.001*\"malware\" + 0.001*\"security\" + 0.001*\"privacy\" + 0.000*\"password\" + 0.000*\"network\" + 0.000*\"data\" + 0.000*\"use\" + 0.000*\"devices\" + 0.000*\"students\" + 0.000*\"users\"')\n",
      "(3, '0.001*\"data\" + 0.001*\"attacks\" + 0.001*\"security\" + 0.000*\"users\" + 0.000*\"web\" + 0.000*\"code\" + 0.000*\"user\" + 0.000*\"vulnerabilities\" + 0.000*\"system\" + 0.000*\"attack\"')\n"
     ]
    },
    {
     "name": "stderr",
     "output_type": "stream",
     "text": [
      "/Library/Frameworks/Python.framework/Versions/3.8/lib/python3.8/site-packages/ipykernel/ipkernel.py:283: DeprecationWarning: `should_run_async` will not call `transform_cell` automatically in the future. Please pass the result to `transformed_cell` argument and any exception that happen during thetransform in `preprocessing_exc_tuple` in IPython 7.17 and above.\n",
      "  and should_run_async(code)\n"
     ]
    }
   ],
   "source": [
    "topics = lda_model.print_topics(num_topics=5, num_words=10)\n",
    "\n",
    "for topic in topics:\n",
    "    print(topic)\n"
   ]
  },
  {
   "cell_type": "markdown",
   "id": "antique-anime",
   "metadata": {},
   "source": [
    "### Visualisation of topics"
   ]
  },
  {
   "cell_type": "code",
   "execution_count": 67,
   "id": "removable-switzerland",
   "metadata": {},
   "outputs": [
    {
     "name": "stderr",
     "output_type": "stream",
     "text": [
      "/Library/Frameworks/Python.framework/Versions/3.8/lib/python3.8/site-packages/ipykernel/ipkernel.py:283: DeprecationWarning: `should_run_async` will not call `transform_cell` automatically in the future. Please pass the result to `transformed_cell` argument and any exception that happen during thetransform in `preprocessing_exc_tuple` in IPython 7.17 and above.\n",
      "  and should_run_async(code)\n"
     ]
    },
    {
     "data": {
      "text/html": [
       "\n",
       "<link rel=\"stylesheet\" type=\"text/css\" href=\"https://cdn.jsdelivr.net/gh/bmabey/pyLDAvis@3.2.2/pyLDAvis/js/ldavis.v1.0.0.css\">\n",
       "\n",
       "\n",
       "<div id=\"ldavis_el228271403056931069121043796456\"></div>\n",
       "<script type=\"text/javascript\">\n",
       "\n",
       "var ldavis_el228271403056931069121043796456_data = {\"mdsDat\": {\"x\": [0.006737648022584101, -0.011109949917004255, 0.005537481074933082, -0.0011651791805129257], \"y\": [0.009926342297671486, 0.0022680234407667717, -0.008338658482423393, -0.003855707256014868], \"topics\": [1, 2, 3, 4], \"cluster\": [1, 1, 1, 1], \"Freq\": [27.126679102620145, 26.87097192466041, 25.09724291074721, 20.905106061972244]}, \"tinfo\": {\"Term\": [\"students\", \"usb\", \"malware\", \"cfi\", \"cache\", \"hijacking\", \"apps\", \"heap\", \"password\", \"rsa\", \"spam\", \"game\", \"red\", \"enclave\", \"competitions\", \"home\", \"decoy\", \"ui\", \"advertising\", \"werewolves\", \"exercise\", \"clickjacking\", \"wi-fi\", \"e2e\", \"asr\", \"sgx\", \"state\", \"image\", \"dnssec\", \"lines\", \"red\", \"lte\", \"cfi\", \"skimmers\", \"imessage\", \"author\", \"gas\", \"sybil\", \"lines\", \"ldp\", \"managers.\", \"lineage\", \"native\", \"vr\", \"template\", \"webview\", \"mix\", \"teacher\", \"jit\", \"xom\", \"scrubbing\", \"triton\", \"pump-and-dump\", \"pools\", \"provenance-aware\", \"ivi\", \"taint\", \"x-force\", \"rms\", \"frameworks\", \"apps\", \"inputs\", \"notification\", \"dns\", \"computation\", \"ios\", \"require\", \"ctf\", \"sensitive\", \"defenses\", \"memory\", \"role\", \"mobile\", \"encryption\", \"development\", \"security\", \"solution\", \"one\", \"models\", \"attacks\", \"web\", \"network\", \"model\", \"attacks.\", \"analysis\", \"code\", \"show\", \"cache\", \"attack\", \"devices\", \"existing\", \"find\", \"tor\", \"system\", \"data\", \"information\", \"two\", \"using\", \"software\", \"user\", \"used\", \"new\", \"privacy\", \"control\", \"malware\", \"usb\", \"fitness\", \"competitions\", \"exercise\", \"heap\", \"zip\", \"peer\", \"tigress\", \"voters\", \"homomorphic\", \"containers\", \"onion\", \"ime\", \"vendors.\", \"missing-check\", \"cross-device\", \"double-fetch\", \"international\", \"docker\", \"image\", \"images\", \"malware\\u2019s\", \"13,\", \"students\", \"amplification\", \"flextls\", \"story\", \"sslv2\", \"tranco\", \"compression\", \"malware\", \"id\", \"automotive\", \"administrators\", \"stack\", \"teaching\", \"password\", \"update\", \"private\", \"participants\", \"language\", \"privacy\", \"root\", \"android\", \"devices\", \"security\", \"use\", \"passwords\", \"could\", \"services\", \"protocol\", \"network\", \"computer\", \"approach\", \"also\", \"different\", \"kernel\", \"malicious\", \"users\", \"software\", \"data\", \"vulnerabilities\", \"analysis\", \"based\", \"present\", \"control\", \"attack\", \"used\", \"show\", \"systems\", \"web\", \"using\", \"attacks\", \"user\", \"attribution\", \"fictional\", \"pup\", \"packages\", \"ar\", \"spraying\", \"redos\", \"spa\", \"pythia\", \"enclave\", \"ehp\", \"patient-centred\", \"patient\", \"resiliency\", \"tardis\", \"emails\", \"pikit\", \"delegation\", \"hammer\", \"guarder\", \"home\", \"eklavya\", \"gridcoin\", \"bayes\", \"rowhammer\", \"sancus\", \"clicks\", \"click\", \"certificates\", \"refraction\", \"deletion\", \"developer\", \"sgx\", \"people\", \"spam\", \"sensor\", \"bgp\", \"cloud\", \"resource\", \"email\", \"extensions\", \"blocking\", \"users\", \"chrome\", \"vulnerabilities\", \"smart\", \"iot\", \"data\", \"attacks\", \"code\", \"server\", \"access\", \"web\", \"user\", \"cybersecurity\", \"software\", \"system\", \"systems\", \"security\", \"information\", \"program\", \"different\", \"attack\", \"applications\", \"address\", \"using\", \"new\", \"based\", \"present\", \"malicious\", \"memory\", \"privacy\", \"secure\", \"network\", \"show\", \"use\", \"techniques\", \"decoy\", \"werewolves\", \"hijacking\", \"e2e\", \"asr\", \"wi-fi\", \"ceremony\", \"crowdturfing\", \"tutorials\", \"typosquatting\", \"802.11\", \"safeplug\", \"portfolio\", \"2fa\", \"eos.io\", \"bittorrent\", \"robot\", \"mechanics\", \"dropbox\", \"esni\", \"emfi\", \"poll\", \"ppv\", \"keyword\", \"rsa\", \"multitasking\", \"seconds.\", \"voters,\", \"erays\", \"die\", \"cognitive\", \"ui\", \"topics\", \"sets\", \"bleichenbacher\", \"game\", \"cache\", \"state\", \"page\", \"attack\", \"attacks\", \"censorship\", \"authentication\", \"advertising\", \"memory\", \"students\", \"data\", \"design\", \"discuss\", \"work\", \"system\", \"security\", \"analysis\", \"user\", \"privacy\", \"key\", \"network\", \"new\", \"use\", \"techniques\", \"exploit\", \"kernel\", \"vulnerability\", \"used\", \"web\", \"demonstrate\", \"approach\", \"control\", \"using\", \"users\", \"information\"], \"Freq\": [1.0, 1.0, 3.0, 1.0, 1.0, 0.0, 2.0, 0.0, 2.0, 0.0, 1.0, 1.0, 0.0, 0.0, 0.0, 0.0, 0.0, 0.0, 0.0, 0.0, 0.0, 0.0, 0.0, 0.0, 0.0, 0.0, 1.0, 0.0, 0.0, 0.0, 0.4893410863493027, 0.38177821037423065, 0.8262519259158517, 0.30773943735510834, 0.3004605075379111, 0.29668220670762513, 0.2888759361684577, 0.31891633465138797, 0.43344397107986693, 0.2860766409499583, 0.31752623130522045, 0.3176082699794291, 0.3292191970804393, 0.3113506570587481, 0.27571254020346625, 0.2758145717671769, 0.29811652696126967, 0.27005626430499646, 0.2702173378751848, 0.26714778336281114, 0.2673908148604816, 0.26295155362507533, 0.26103971337976245, 0.2597467967937106, 0.2594188681877105, 0.26194557860660994, 0.38422997168151546, 0.25871519276422766, 0.2564660734419763, 0.38913443095811345, 1.0731770953395074, 0.4453160330946475, 0.39059316902187674, 0.6457968158417591, 0.5403466295197032, 0.36574930687494156, 0.6305132046288339, 0.5027130349597135, 0.8626254193594731, 0.6789788110665206, 1.1303933214330988, 0.45051366758612416, 0.796862959724305, 0.6607132555395646, 0.5510103652192007, 1.3391322657000286, 0.5679051643156784, 0.8027878961314627, 0.6340942250567315, 1.1707571243123231, 1.0505634900794938, 1.0330627675467348, 0.6993242730754999, 0.764909606691235, 0.9532783481521603, 0.9279603735254186, 0.9002063024563492, 0.7245456100198667, 1.0325812586667733, 0.8380330025191183, 0.7894801896167216, 0.7636579032344312, 0.7103052465143979, 0.9119645115866474, 0.9943089897982003, 0.8534040785862785, 0.765193318389758, 0.845388964713476, 0.8423170362473408, 0.8674823026647682, 0.7926658094738861, 0.8102355220098378, 0.839678620806886, 0.7695925938461602, 0.7616750220190703, 0.7601305612463982, 0.36885293472858116, 0.5247578098572281, 0.4940050520041051, 0.5334195757395791, 0.31824087842695986, 0.4052144730587547, 0.3098226526230506, 0.43035272346766457, 0.34560413556408215, 0.3231102082612167, 0.3149361624203484, 0.28862775504494764, 0.2787280044285944, 0.2771914815348523, 0.2804573885405245, 0.2697303631201423, 0.32677111602995274, 0.3064865502768502, 0.5183520851061489, 0.5198022875674638, 0.2611488867578714, 0.25839309575465264, 0.9192888016425738, 0.3649956143821318, 0.254821435890385, 0.3024799448534159, 0.2542471234655205, 0.2594321403667748, 0.31744127863184474, 1.6920655301991663, 0.3069027952086062, 0.3550046802103977, 0.425118147504205, 0.37424988140907856, 0.38924644083469134, 1.023002449267323, 0.38683241219588593, 0.6696886961044456, 0.6171721512703331, 0.5361081468656558, 1.1936814279406835, 0.4479614837924438, 0.8090229916762266, 0.9213293296408472, 1.37912484790131, 0.9258375725957959, 0.5765352559850765, 0.564102746142543, 0.6726303095952616, 0.709666894183323, 0.9731694524651837, 0.6580549542070483, 0.8206196202668724, 0.8082378532730526, 0.8140201704533965, 0.7025064575417601, 0.7388061510254245, 0.8692881550754534, 0.8372778640138238, 0.9557118008884969, 0.8003575464574305, 0.8303573201084874, 0.7586728401410431, 0.7685754382438627, 0.7586613222182582, 0.8588427428671633, 0.7627867222175272, 0.7725393313703027, 0.7498471038301564, 0.7898976728571991, 0.7527735520559722, 0.7660667706728409, 0.7413813665947593, 0.31946031040251716, 0.3656302267833545, 0.2827309956059132, 0.2776922389377902, 0.2761883514580332, 0.2751529888614425, 0.26455468646570146, 0.2727166833748331, 0.25902412658773405, 0.40495254994859625, 0.25795278567879354, 0.25354424712317625, 0.28681055970915614, 0.25257803221327774, 0.25232965037585964, 0.35166164701355196, 0.2461090629234529, 0.2451831592621921, 0.2446664043157928, 0.2416473786630897, 0.5205265134382727, 0.24014485082885753, 0.23903996701658428, 0.2388750464967683, 0.32530842968691415, 0.23750748215732664, 0.23357038201100033, 0.32326313434739523, 0.332333075643932, 0.225518680742137, 0.29944103910627523, 0.37604382656395097, 0.42131542066417443, 0.47983689487446235, 0.47569158966891917, 0.447245713526787, 0.33497141549083775, 0.6035633228134369, 0.4392473521977445, 0.512248991483008, 0.5438171516319336, 0.47316614522405454, 1.0108491738942658, 0.3383218510049323, 0.8852696835753621, 0.5929925121513852, 0.6096621248738324, 1.1345756018332402, 1.115725715335324, 0.9033276886137526, 0.5400336914299149, 0.8208653967080541, 0.9485821900273779, 0.8872997688143942, 0.5868953237362279, 0.8157412961362177, 0.8504603077891181, 0.77231941759617, 1.0392257828204288, 0.7919383554617225, 0.6048700766332508, 0.709488793424015, 0.8354869350352945, 0.6758739334665669, 0.6312039899816678, 0.742785346917053, 0.7391016338966153, 0.6699149208955171, 0.6795506540243053, 0.6395410972814719, 0.7009539847002024, 0.688783155137439, 0.6118036113989443, 0.6623908517372518, 0.6337607809794019, 0.630328677086859, 0.6079572787972712, 0.28910162208327506, 0.28355597855268594, 0.40419519374731594, 0.26547233886440574, 0.26227313592118773, 0.2828848451200911, 0.24554420854987555, 0.23537430806564968, 0.2346387569746505, 0.23006809013637092, 0.23801836918684627, 0.2287103909109761, 0.2265919510001829, 0.22357562152539479, 0.2234502958259876, 0.24458404194518218, 0.21910516546483383, 0.21560595246104888, 0.24717508544180333, 0.21307173489724732, 0.2128706661783176, 0.2124598915969241, 0.20658710692089147, 0.23961093897820054, 0.36503418583639674, 0.19354175947600746, 0.19150788641004757, 0.18975887728984048, 0.1896324812815804, 0.18825776912360467, 0.27286777478370233, 0.3591026088461636, 0.20861027689832204, 0.3248532482613449, 0.2381544726474934, 0.5608085349069076, 0.6883634138547821, 0.5019910808937779, 0.3598970020331704, 0.8459263180941521, 0.8932912184718842, 0.5377526385423668, 0.5377104733517419, 0.33922219439375123, 0.653910271442546, 0.4705408766502165, 0.7338510422862802, 0.5636818910316671, 0.43990898575197984, 0.5163346631954601, 0.6340760047253275, 0.7601683439620269, 0.6128589985337364, 0.6226711918429512, 0.6349475846042631, 0.48377840676146056, 0.6158484458326834, 0.5644147787959857, 0.5532849108342949, 0.5175907577525372, 0.4329626315146503, 0.47527821297871065, 0.43485040742218506, 0.5223556732021719, 0.5683666079900427, 0.48307548764502395, 0.49839778027454923, 0.4896004388851414, 0.4976196906293719, 0.49565634593863944, 0.47806106577813845], \"Total\": [1.0, 1.0, 3.0, 1.0, 1.0, 0.0, 2.0, 0.0, 2.0, 0.0, 1.0, 1.0, 0.0, 0.0, 0.0, 0.0, 0.0, 0.0, 0.0, 0.0, 0.0, 0.0, 0.0, 0.0, 0.0, 0.0, 1.0, 0.0, 0.0, 0.0, 0.7443306672836397, 0.5939228670442545, 1.2890365178431136, 0.5198802510390436, 0.5126189898902241, 0.5101113894135099, 0.5010231157834886, 0.5549923597248241, 0.7547392389585965, 0.49818292755771626, 0.5549515674951533, 0.5592959616492985, 0.5812755439277905, 0.5514281978029681, 0.4883880619332884, 0.48871004982331245, 0.530858317878985, 0.48242897488188824, 0.48306843472003813, 0.47921615032180903, 0.48297679510197217, 0.47509238081516153, 0.47317093503279983, 0.47192473152026093, 0.471533013492734, 0.4762593464749037, 0.6986486426056386, 0.47083650261812154, 0.46858297146218597, 0.7113122999606635, 2.048967142725836, 0.8559723438236455, 0.7502817553759427, 1.3637792042408172, 1.1119781311171122, 0.70679040025224, 1.360829041619827, 1.037371517358534, 2.0211334022667975, 1.5398090439652568, 2.9464713913592733, 0.9383882873587226, 2.0442378495983418, 1.6204161736688116, 1.2634347546923883, 4.5176512403837945, 1.3269521556101909, 2.20405851475575, 1.569661751867018, 3.9458408287923725, 3.3574099609541133, 3.2844715175818537, 1.8388240561162623, 2.119789007991847, 2.975227455739734, 2.914490008661491, 2.7776636400101378, 1.974554378459782, 3.5728372546633835, 2.534292622106742, 2.2947216953680654, 2.1792389809818964, 1.9496793513720425, 3.130388374178125, 3.818447434806218, 2.848440678035217, 2.2866564952525237, 2.838567554315873, 2.886038105999411, 3.118834629916873, 2.649798526622382, 2.8461558483478497, 3.3570907884892716, 2.49294330788662, 3.2893347583227777, 1.094666183259223, 0.5857530270588378, 0.8471477013519378, 0.8077317964870407, 0.8894636028834031, 0.5307532595405399, 0.6816848451959248, 0.5237298346511987, 0.7422034747167929, 0.5971008545997282, 0.5617751562037239, 0.5534377150478121, 0.5084435583817263, 0.49181666477457864, 0.4896754579522754, 0.49928878409173383, 0.48222476788181634, 0.5861061237162746, 0.550240088965711, 0.9310866260356605, 0.9456701233844444, 0.4754810123652709, 0.4712724464690342, 1.6809393101149719, 0.6684272595402362, 0.4672920407989011, 0.5551523702813573, 0.46670528140622974, 0.47662386383972555, 0.5850531285352696, 3.2893347583227777, 0.5674900500367401, 0.661566110944563, 0.8004355182643317, 0.7020918755591303, 0.7360316034518812, 2.2607122060584057, 0.7438102111087634, 1.4785760299871256, 1.3408712374023717, 1.1447107661511895, 3.3570907884892716, 0.9197961381264403, 2.081548830376459, 2.534292622106742, 4.5176512403837945, 2.7232956568837388, 1.363673910296718, 1.3201657350552045, 1.7519742246565078, 1.9258555457263011, 3.2844715175818537, 1.7307070052231286, 2.55668065522072, 2.4953892728303644, 2.5430778979110498, 2.0372291668489484, 2.2435369848377524, 3.1012608957667562, 2.886038105999411, 3.818447434806218, 2.6614547358987357, 2.975227455739734, 2.4661749621017037, 2.5683393103502845, 2.49294330788662, 3.5728372546633835, 2.649798526622382, 2.7776636400101378, 2.6665313416970537, 3.3574099609541133, 2.838567554315873, 3.9458408287923725, 3.118834629916873, 0.5370762544969859, 0.6393139691384102, 0.4986500645920886, 0.4946752428960692, 0.492778844258554, 0.4910990026042122, 0.48048695729726354, 0.49640003234030144, 0.4772007746568031, 0.7470021479138585, 0.47759373622818146, 0.46951175606147544, 0.5315893071137635, 0.46855170971333876, 0.46823819999488264, 0.6583455059574667, 0.462028226824806, 0.4611157448361046, 0.4606142552740474, 0.45754974425128686, 0.9876882733359815, 0.4561144975685034, 0.4549731070640966, 0.4548122837724545, 0.6199722246786193, 0.4534595191395468, 0.45073592751407887, 0.6247515424402951, 0.6455313887947428, 0.44147281909775016, 0.5894432413304843, 0.7586208427522313, 0.8674446587255047, 1.015758925080459, 1.022166061861387, 0.9608508645079736, 0.6847980381256625, 1.4497336427262189, 0.9692586581097727, 1.1954566409295782, 1.29775800540305, 1.0958538646238412, 3.1012608957667562, 0.6977913724452441, 2.6614547358987357, 1.5241603339991083, 1.5853299933966816, 3.818447434806218, 3.9458408287923725, 2.914490008661491, 1.3585774185167527, 2.5636946343044005, 3.3574099609541133, 3.118834629916873, 1.6330162213696837, 2.886038105999411, 3.130388374178125, 2.6665313416970537, 4.5176512403837945, 2.848440678035217, 1.8020224176606496, 2.5430778979110498, 3.5728372546633835, 2.314782092877356, 2.007165669460321, 2.838567554315873, 2.8461558483478497, 2.4661749621017037, 2.5683393103502845, 2.2435369848377524, 2.9464713913592733, 3.3570907884892716, 2.0955513684522757, 3.2844715175818537, 2.7776636400101378, 2.7232956568837388, 2.396429439110128, 0.5155502665438345, 0.5093276733217154, 0.7429531624193346, 0.4902179333486227, 0.48708863279850045, 0.5412984758158159, 0.4707590196551993, 0.46015069957752236, 0.45937070230933513, 0.4548230413661451, 0.47107073633665864, 0.4534645583578718, 0.4513501566645185, 0.44829131759069796, 0.4481629289264898, 0.4938204442177737, 0.44387270480670904, 0.4403743604432778, 0.5078331099003234, 0.43782019813237416, 0.437585235023218, 0.43719917770800765, 0.4313138794854606, 0.5022347565438621, 0.7837396820296553, 0.4183737283955403, 0.4162238964981706, 0.4145395522459553, 0.4143756232087095, 0.4130080560354108, 0.6038753790127753, 0.8076171401170891, 0.459422430894846, 0.7507193432224527, 0.5325136358980174, 1.4915805815617056, 1.974554378459782, 1.4542508310451112, 0.9700478100748842, 3.5728372546633835, 3.9458408287923725, 1.8661343619644255, 1.8910072789487384, 0.9073142341991121, 2.9464713913592733, 1.6809393101149719, 3.818447434806218, 2.402002983784684, 1.528119746103832, 2.076104218992403, 3.130388374178125, 4.5176512403837945, 2.975227455739734, 3.118834629916873, 3.3570907884892716, 1.9470239029826353, 3.2844715175818537, 2.8461558483478497, 2.7232956568837388, 2.396429439110128, 1.5458057561790026, 2.0372291668489484, 1.6119943658098932, 2.649798526622382, 3.3574099609541133, 2.196878986679566, 2.55668065522072, 2.49294330788662, 2.838567554315873, 3.1012608957667562, 2.848440678035217], \"Category\": [\"Default\", \"Default\", \"Default\", \"Default\", \"Default\", \"Default\", \"Default\", \"Default\", \"Default\", \"Default\", \"Default\", \"Default\", \"Default\", \"Default\", \"Default\", \"Default\", \"Default\", \"Default\", \"Default\", \"Default\", \"Default\", \"Default\", \"Default\", \"Default\", \"Default\", \"Default\", \"Default\", \"Default\", \"Default\", \"Default\", \"Topic1\", \"Topic1\", \"Topic1\", \"Topic1\", \"Topic1\", \"Topic1\", \"Topic1\", \"Topic1\", \"Topic1\", \"Topic1\", \"Topic1\", \"Topic1\", \"Topic1\", \"Topic1\", \"Topic1\", \"Topic1\", \"Topic1\", \"Topic1\", \"Topic1\", \"Topic1\", \"Topic1\", \"Topic1\", \"Topic1\", \"Topic1\", \"Topic1\", \"Topic1\", \"Topic1\", \"Topic1\", \"Topic1\", \"Topic1\", \"Topic1\", \"Topic1\", \"Topic1\", \"Topic1\", \"Topic1\", \"Topic1\", \"Topic1\", \"Topic1\", \"Topic1\", \"Topic1\", \"Topic1\", \"Topic1\", \"Topic1\", \"Topic1\", \"Topic1\", \"Topic1\", \"Topic1\", \"Topic1\", \"Topic1\", \"Topic1\", \"Topic1\", \"Topic1\", \"Topic1\", \"Topic1\", \"Topic1\", \"Topic1\", \"Topic1\", \"Topic1\", \"Topic1\", \"Topic1\", \"Topic1\", \"Topic1\", \"Topic1\", \"Topic1\", \"Topic1\", \"Topic1\", \"Topic1\", \"Topic1\", \"Topic1\", \"Topic1\", \"Topic1\", \"Topic1\", \"Topic1\", \"Topic1\", \"Topic1\", \"Topic2\", \"Topic2\", \"Topic2\", \"Topic2\", \"Topic2\", \"Topic2\", \"Topic2\", \"Topic2\", \"Topic2\", \"Topic2\", \"Topic2\", \"Topic2\", \"Topic2\", \"Topic2\", \"Topic2\", \"Topic2\", \"Topic2\", \"Topic2\", \"Topic2\", \"Topic2\", \"Topic2\", \"Topic2\", \"Topic2\", \"Topic2\", \"Topic2\", \"Topic2\", \"Topic2\", \"Topic2\", \"Topic2\", \"Topic2\", \"Topic2\", \"Topic2\", \"Topic2\", \"Topic2\", \"Topic2\", \"Topic2\", \"Topic2\", \"Topic2\", \"Topic2\", \"Topic2\", \"Topic2\", \"Topic2\", \"Topic2\", \"Topic2\", \"Topic2\", \"Topic2\", \"Topic2\", \"Topic2\", \"Topic2\", \"Topic2\", \"Topic2\", \"Topic2\", \"Topic2\", \"Topic2\", \"Topic2\", \"Topic2\", \"Topic2\", \"Topic2\", \"Topic2\", \"Topic2\", \"Topic2\", \"Topic2\", \"Topic2\", \"Topic2\", \"Topic2\", \"Topic2\", \"Topic2\", \"Topic2\", \"Topic2\", \"Topic2\", \"Topic2\", \"Topic2\", \"Topic2\", \"Topic2\", \"Topic3\", \"Topic3\", \"Topic3\", \"Topic3\", \"Topic3\", \"Topic3\", \"Topic3\", \"Topic3\", \"Topic3\", \"Topic3\", \"Topic3\", \"Topic3\", \"Topic3\", \"Topic3\", \"Topic3\", \"Topic3\", \"Topic3\", \"Topic3\", \"Topic3\", \"Topic3\", \"Topic3\", \"Topic3\", \"Topic3\", \"Topic3\", \"Topic3\", \"Topic3\", \"Topic3\", \"Topic3\", \"Topic3\", \"Topic3\", \"Topic3\", \"Topic3\", \"Topic3\", \"Topic3\", \"Topic3\", \"Topic3\", \"Topic3\", \"Topic3\", \"Topic3\", \"Topic3\", \"Topic3\", \"Topic3\", \"Topic3\", \"Topic3\", \"Topic3\", \"Topic3\", \"Topic3\", \"Topic3\", \"Topic3\", \"Topic3\", \"Topic3\", \"Topic3\", \"Topic3\", \"Topic3\", \"Topic3\", \"Topic3\", \"Topic3\", \"Topic3\", \"Topic3\", \"Topic3\", \"Topic3\", \"Topic3\", \"Topic3\", \"Topic3\", \"Topic3\", \"Topic3\", \"Topic3\", \"Topic3\", \"Topic3\", \"Topic3\", \"Topic3\", \"Topic3\", \"Topic3\", \"Topic3\", \"Topic3\", \"Topic3\", \"Topic3\", \"Topic4\", \"Topic4\", \"Topic4\", \"Topic4\", \"Topic4\", \"Topic4\", \"Topic4\", \"Topic4\", \"Topic4\", \"Topic4\", \"Topic4\", \"Topic4\", \"Topic4\", \"Topic4\", \"Topic4\", \"Topic4\", \"Topic4\", \"Topic4\", \"Topic4\", \"Topic4\", \"Topic4\", \"Topic4\", \"Topic4\", \"Topic4\", \"Topic4\", \"Topic4\", \"Topic4\", \"Topic4\", \"Topic4\", \"Topic4\", \"Topic4\", \"Topic4\", \"Topic4\", \"Topic4\", \"Topic4\", \"Topic4\", \"Topic4\", \"Topic4\", \"Topic4\", \"Topic4\", \"Topic4\", \"Topic4\", \"Topic4\", \"Topic4\", \"Topic4\", \"Topic4\", \"Topic4\", \"Topic4\", \"Topic4\", \"Topic4\", \"Topic4\", \"Topic4\", \"Topic4\", \"Topic4\", \"Topic4\", \"Topic4\", \"Topic4\", \"Topic4\", \"Topic4\", \"Topic4\", \"Topic4\", \"Topic4\", \"Topic4\", \"Topic4\", \"Topic4\", \"Topic4\", \"Topic4\", \"Topic4\", \"Topic4\", \"Topic4\", \"Topic4\"], \"logprob\": [30.0, 29.0, 28.0, 27.0, 26.0, 25.0, 24.0, 23.0, 22.0, 21.0, 20.0, 19.0, 18.0, 17.0, 16.0, 15.0, 14.0, 13.0, 12.0, 11.0, 10.0, 9.0, 8.0, 7.0, 6.0, 5.0, 4.0, 3.0, 2.0, 1.0, -8.4198, -8.668, -7.8959, -8.8836, -8.9075, -8.9202, -8.9468, -8.8479, -8.5411, -8.9566, -8.8523, -8.852, -8.8161, -8.8719, -8.9935, -8.9931, -8.9153, -9.0142, -9.0136, -9.025, -9.0241, -9.0408, -9.0481, -9.0531, -9.0544, -9.0447, -8.6616, -9.0571, -9.0658, -8.6489, -7.6344, -8.514, -8.6451, -8.1423, -8.3206, -8.7109, -8.1663, -8.3928, -7.8528, -8.0922, -7.5825, -8.5024, -7.9321, -8.1195, -8.3011, -7.413, -8.2709, -7.9247, -8.1606, -7.5474, -7.6557, -7.6725, -8.0627, -7.9731, -7.7529, -7.7798, -7.8102, -8.0273, -7.673, -7.8818, -7.9414, -7.9747, -8.0471, -7.7972, -7.7108, -7.8636, -7.9727, -7.873, -7.8767, -7.8472, -7.9374, -7.9155, -7.8798, -7.967, -7.9773, -7.9699, -8.6929, -8.3404, -8.4008, -8.324, -8.8405, -8.5989, -8.8673, -8.5387, -8.758, -8.8254, -8.851, -8.9382, -8.9731, -8.9786, -8.9669, -9.0059, -8.8141, -8.8782, -8.3527, -8.3499, -9.0383, -9.0489, -7.7797, -8.7035, -9.0628, -8.8913, -9.065, -9.0448, -8.8431, -7.1696, -8.8768, -8.7312, -8.551, -8.6784, -8.6391, -7.6728, -8.6454, -8.0965, -8.1782, -8.319, -7.5185, -8.4986, -7.9075, -7.7775, -7.3741, -7.7726, -8.2463, -8.2681, -8.0921, -8.0385, -7.7228, -8.1141, -7.8933, -7.9085, -7.9014, -8.0487, -7.9983, -7.8357, -7.8732, -7.7409, -7.9183, -7.8815, -7.9718, -7.9588, -7.9718, -7.8478, -7.9664, -7.9537, -7.9835, -7.9314, -7.9796, -7.9621, -7.9948, -8.7684, -8.6334, -8.8906, -8.9085, -8.914, -8.9177, -8.957, -8.9266, -8.9781, -8.5313, -8.9823, -8.9995, -8.8762, -9.0033, -9.0043, -8.6724, -9.0293, -9.033, -9.0352, -9.0476, -8.2802, -9.0538, -9.0584, -9.0591, -8.7503, -9.0649, -9.0816, -8.7566, -8.7289, -9.1167, -8.8331, -8.6053, -8.4917, -8.3616, -8.3703, -8.4319, -8.721, -8.1322, -8.45, -8.2962, -8.2364, -8.3756, -7.6165, -8.7111, -7.7492, -8.1499, -8.1222, -7.501, -7.5178, -7.729, -8.2434, -7.8247, -7.6801, -7.7469, -8.1602, -7.831, -7.7893, -7.8857, -7.5888, -7.8606, -8.13, -7.9705, -7.807, -8.019, -8.0874, -7.9246, -7.9296, -8.0279, -8.0136, -8.0743, -7.9826, -8.0001, -8.1186, -8.0392, -8.0834, -8.0888, -8.125, -8.6855, -8.7049, -8.3504, -8.7708, -8.7829, -8.7073, -8.8488, -8.8911, -8.8942, -8.9139, -8.8799, -8.9198, -8.9291, -8.9425, -8.9431, -8.8527, -8.9627, -8.9788, -8.8422, -8.9907, -8.9916, -8.9935, -9.0216, -8.8733, -8.4523, -9.0868, -9.0974, -9.1065, -9.1072, -9.1145, -8.7433, -8.4687, -9.0118, -8.5689, -8.8794, -8.0229, -7.818, -8.1337, -8.4665, -7.6119, -7.5574, -8.0649, -8.065, -8.5256, -7.8693, -8.1984, -7.754, -8.0178, -8.2657, -8.1055, -7.9001, -7.7188, -7.9342, -7.9183, -7.8987, -8.1707, -7.9293, -8.0165, -8.0364, -8.1031, -8.2816, -8.1884, -8.2773, -8.0939, -8.0095, -8.1721, -8.1409, -8.1587, -8.1425, -8.1464, -8.1826], \"loglift\": [30.0, 29.0, 28.0, 27.0, 26.0, 25.0, 24.0, 23.0, 22.0, 21.0, 20.0, 19.0, 18.0, 17.0, 16.0, 15.0, 14.0, 13.0, 12.0, 11.0, 10.0, 9.0, 8.0, 7.0, 6.0, 5.0, 4.0, 3.0, 2.0, 1.0, 0.8852, 0.8627, 0.8599, 0.7803, 0.7704, 0.7627, 0.754, 0.7506, 0.75, 0.7499, 0.7463, 0.7388, 0.7362, 0.7331, 0.7329, 0.7326, 0.7276, 0.7244, 0.7237, 0.7203, 0.7134, 0.7131, 0.7099, 0.7075, 0.7071, 0.7068, 0.7067, 0.7059, 0.7019, 0.7015, 0.6579, 0.6512, 0.6519, 0.5571, 0.583, 0.6459, 0.5353, 0.5802, 0.4532, 0.4858, 0.3466, 0.5709, 0.3626, 0.4075, 0.4748, 0.0887, 0.456, 0.2947, 0.3982, 0.0896, 0.1428, 0.148, 0.3379, 0.2853, 0.1665, 0.1602, 0.1779, 0.3021, 0.0634, 0.198, 0.2377, 0.256, 0.2949, 0.0713, -0.0409, 0.0994, 0.2099, 0.0934, 0.0732, 0.025, 0.0978, 0.0483, -0.0812, 0.1293, -0.1583, 0.9494, 0.8516, 0.8352, 0.8224, 0.8028, 0.8026, 0.794, 0.7891, 0.7691, 0.7673, 0.761, 0.7503, 0.7479, 0.7463, 0.7451, 0.7374, 0.7331, 0.7299, 0.7289, 0.7284, 0.7157, 0.7149, 0.7132, 0.7106, 0.7091, 0.7077, 0.7069, 0.7067, 0.7059, 0.7027, 0.6494, 0.6994, 0.6916, 0.6813, 0.685, 0.6771, 0.5212, 0.6603, 0.5221, 0.5382, 0.5556, 0.2801, 0.5947, 0.3691, 0.3023, 0.1276, 0.2352, 0.4532, 0.4638, 0.3568, 0.3158, 0.0977, 0.3471, 0.1777, 0.1868, 0.175, 0.2494, 0.2034, 0.0422, 0.0766, -0.071, 0.1126, 0.0379, 0.1353, 0.1076, 0.1245, -0.1114, 0.0689, 0.0344, 0.0455, -0.1329, -0.0132, -0.325, -0.1226, 0.8629, 0.8236, 0.815, 0.805, 0.8034, 0.8031, 0.7857, 0.7835, 0.7714, 0.7701, 0.7664, 0.7663, 0.7654, 0.7645, 0.7642, 0.7554, 0.7526, 0.7508, 0.7497, 0.744, 0.7419, 0.7409, 0.7388, 0.7385, 0.7375, 0.7357, 0.725, 0.7235, 0.7185, 0.7107, 0.7052, 0.6806, 0.6602, 0.6325, 0.6175, 0.6177, 0.6673, 0.5061, 0.5909, 0.5349, 0.5126, 0.5426, 0.2614, 0.6585, 0.2817, 0.4384, 0.4268, 0.1688, 0.1193, 0.211, 0.4599, 0.2436, 0.1185, 0.1254, 0.3591, 0.1189, 0.0793, 0.1433, -0.0871, 0.1024, 0.2908, 0.1058, -0.0707, 0.1513, 0.2256, 0.0418, 0.0341, 0.0791, 0.0528, 0.1274, -0.0535, -0.2015, 0.1513, -0.2187, -0.0953, -0.0809, 0.0108, 0.9867, 0.9795, 0.9564, 0.9518, 0.9461, 0.9162, 0.9143, 0.8948, 0.8934, 0.8836, 0.8825, 0.8807, 0.8761, 0.8695, 0.8692, 0.8626, 0.8592, 0.851, 0.8451, 0.845, 0.8446, 0.8435, 0.8291, 0.8251, 0.8011, 0.7943, 0.7889, 0.7838, 0.7835, 0.7795, 0.7708, 0.7547, 0.7757, 0.7275, 0.7605, 0.587, 0.5114, 0.5015, 0.5736, 0.1245, 0.0797, 0.321, 0.3076, 0.5813, 0.0598, 0.292, -0.0841, 0.1156, 0.32, 0.1737, -0.0316, -0.217, -0.0148, -0.046, -0.1001, 0.1727, -0.1088, -0.0528, -0.0285, 0.0326, 0.2925, 0.1097, 0.255, -0.0587, -0.211, 0.0506, -0.0699, -0.0625, -0.176, -0.2685, -0.2196]}, \"token.table\": {\"Topic\": [1, 2, 3, 2, 3, 1, 2, 3, 1, 2, 3, 4, 1, 2, 1, 2, 3, 1, 2, 3, 1, 1, 2, 3, 4, 1, 2, 3, 4, 1, 3, 4, 1, 2, 3, 1, 4, 1, 2, 4, 1, 3, 1, 2, 3, 2, 1, 2, 1, 2, 2, 1, 3, 1, 2, 3, 4, 1, 1, 3, 1, 2, 3, 4, 1, 1, 2, 1, 2, 3, 1, 3, 1, 1, 2, 3, 3, 1, 3, 4, 2, 3, 2, 2, 1, 2, 3, 1, 3, 1, 2, 1, 2, 2, 1, 2, 3, 1, 2, 3, 1, 3, 4, 1, 2, 1, 1, 1, 2, 3, 4, 1, 2, 3, 4, 1, 2, 3, 2, 1, 2, 2, 1, 2, 3, 1, 2, 3, 4, 2, 1, 3, 1, 2, 1, 1, 2, 3, 1, 2, 3, 4, 1, 3, 2, 1, 2, 3, 3, 1, 2, 3, 1, 4, 2, 1, 2, 3, 4, 1, 2, 3, 1, 2, 3, 4, 1, 1, 2, 3, 2, 1, 2, 3, 4, 1, 2, 3, 4, 1, 2, 3, 4, 1, 2, 3, 1, 2, 3, 1, 2, 3, 1, 2, 3, 4, 2, 4], \"Freq\": [0.3900620559949516, 0.3900620559949516, 0.3900620559949516, 0.4982149780734722, 0.4982149780734722, 0.40073907942457504, 0.40073907942457504, 0.40073907942457504, 0.3361087563476282, 0.3361087563476282, 0.3361087563476282, 0.3361087563476282, 0.48041150195796506, 0.48041150195796506, 0.43200610678518103, 0.43200610678518103, 0.43200610678518103, 0.3911321493976999, 0.3911321493976999, 0.3911321493976999, 0.4880507740449433, 0.27988960277851094, 0.27988960277851094, 0.27988960277851094, 0.27988960277851094, 0.25343140876416215, 0.25343140876416215, 0.25343140876416215, 0.25343140876416215, 0.4717450634142764, 0.4717450634142764, 0.5288186942124976, 0.40548623490516184, 0.40548623490516184, 0.40548623490516184, 0.5064433833319056, 0.5064433833319056, 0.5358670953078261, 0.5358670953078261, 0.5358670953078261, 0.7757732121299827, 0.6897818816700036, 0.3431132023194892, 0.3431132023194892, 0.3431132023194892, 1.1804316985150638, 0.8992982613744237, 0.577798551101997, 0.4011322667613107, 0.4011322667613107, 0.7574806506837444, 0.9639747990636051, 0.6123637885000648, 0.2618865434377124, 0.2618865434377124, 0.2618865434377124, 0.2618865434377124, 0.6494311771444325, 0.4551912081017409, 0.4551912081017409, 0.41631921640012426, 0.41631921640012426, 0.41631921640012426, 0.41631921640012426, 0.7914931865583139, 0.3945874250183099, 0.3945874250183099, 0.39322428967725526, 0.39322428967725526, 0.39322428967725526, 0.7332565248761626, 0.8365004348651303, 0.6171254127486787, 0.435782692959463, 0.435782692959463, 0.435782692959463, 0.7705596851158902, 0.4588757858715576, 0.4588757858715576, 0.6704297524126964, 1.1242730975818094, 1.012465194734402, 1.0740139231273849, 1.0574511928336228, 0.3510692736946079, 0.3510692736946079, 0.3510692736946079, 0.6307834988079859, 0.6307834988079859, 0.4908627935789541, 0.4908627935789541, 0.5136043776699944, 0.5136043776699944, 0.8735831177357193, 0.4457247670790316, 0.4457247670790316, 0.4457247670790316, 0.30401283951709956, 0.6080256790341991, 0.30401283951709956, 0.3393890071129038, 0.3393890071129038, 0.3393890071129038, 0.4891798673018813, 0.4891798673018813, 0.5438258199167118, 0.637079930635094, 0.3044629842721961, 0.3044629842721961, 0.3044629842721961, 0.3044629842721961, 0.35135110418513615, 0.35135110418513615, 0.35135110418513615, 0.35135110418513615, 0.4537084625045984, 0.4537084625045984, 0.4537084625045984, 0.7457837651415874, 0.4423384795818477, 0.4423384795818477, 0.733313142129714, 0.3893566539164229, 0.3893566539164229, 0.3893566539164229, 0.2978769604411, 0.2978769604411, 0.2978769604411, 0.2978769604411, 0.6763263976413221, 0.5549320531196168, 0.5549320531196168, 0.5192497444676559, 0.5192497444676559, 0.7348461631959855, 0.477201377668244, 0.477201377668244, 0.477201377668244, 0.22135396178015848, 0.22135396178015848, 0.22135396178015848, 0.22135396178015848, 0.49477189327456184, 0.7360640522729761, 0.5707846530653498, 0.3600147928625189, 0.3600147928625189, 0.3600147928625189, 0.6560989534324051, 0.34649577145957616, 0.34649577145957616, 0.34649577145957616, 0.753606673588134, 0.6876392838512875, 0.5949054757554588, 0.3194491802514911, 0.3194491802514911, 0.3194491802514911, 0.3194491802514911, 0.37501903103961737, 0.37501903103961737, 0.37501903103961737, 0.4172874793139465, 0.4172874793139465, 0.4172874793139465, 0.4172874793139465, 0.5129048524293355, 0.4373197295160708, 0.4373197295160708, 0.4373197295160708, 0.913520500855003, 0.36720214254823064, 0.36720214254823064, 0.36720214254823064, 0.36720214254823064, 0.3773871824416288, 0.3773871824416288, 0.3773871824416288, 0.3773871824416288, 0.32063258192905636, 0.32063258192905636, 0.32063258192905636, 0.32063258192905636, 0.32244949187119576, 0.32244949187119576, 0.32244949187119576, 0.35229036507500394, 0.35229036507500394, 0.35229036507500394, 0.37573436305777114, 0.37573436305777114, 0.37573436305777114, 0.29784864274240097, 0.29784864274240097, 0.29784864274240097, 0.29784864274240097, 0.4816713876172029, 0.4816713876172029], \"Term\": [\"access\", \"access\", \"access\", \"address\", \"address\", \"also\", \"also\", \"also\", \"analysis\", \"analysis\", \"analysis\", \"analysis\", \"android\", \"android\", \"applications\", \"applications\", \"applications\", \"approach\", \"approach\", \"approach\", \"apps\", \"attack\", \"attack\", \"attack\", \"attack\", \"attacks\", \"attacks\", \"attacks\", \"attacks\", \"attacks.\", \"attacks.\", \"authentication\", \"based\", \"based\", \"based\", \"cache\", \"cache\", \"censorship\", \"censorship\", \"censorship\", \"cfi\", \"cloud\", \"code\", \"code\", \"code\", \"competitions\", \"computation\", \"computer\", \"control\", \"control\", \"could\", \"ctf\", \"cybersecurity\", \"data\", \"data\", \"data\", \"data\", \"defenses\", \"demonstrate\", \"demonstrate\", \"design\", \"design\", \"design\", \"design\", \"development\", \"devices\", \"devices\", \"different\", \"different\", \"different\", \"dns\", \"email\", \"encryption\", \"existing\", \"existing\", \"existing\", \"extensions\", \"find\", \"find\", \"game\", \"heap\", \"home\", \"image\", \"images\", \"information\", \"information\", \"information\", \"iot\", \"iot\", \"kernel\", \"kernel\", \"key\", \"key\", \"language\", \"malicious\", \"malicious\", \"malicious\", \"malware\", \"malware\", \"malware\", \"memory\", \"memory\", \"memory\", \"mobile\", \"mobile\", \"model\", \"models\", \"network\", \"network\", \"network\", \"network\", \"new\", \"new\", \"new\", \"new\", \"one\", \"one\", \"one\", \"participants\", \"password\", \"password\", \"passwords\", \"present\", \"present\", \"present\", \"privacy\", \"privacy\", \"privacy\", \"privacy\", \"private\", \"program\", \"program\", \"protocol\", \"protocol\", \"require\", \"secure\", \"secure\", \"secure\", \"security\", \"security\", \"security\", \"security\", \"sensitive\", \"server\", \"services\", \"show\", \"show\", \"show\", \"smart\", \"software\", \"software\", \"software\", \"solution\", \"state\", \"students\", \"system\", \"system\", \"system\", \"system\", \"systems\", \"systems\", \"systems\", \"techniques\", \"techniques\", \"techniques\", \"techniques\", \"tor\", \"two\", \"two\", \"two\", \"usb\", \"use\", \"use\", \"use\", \"use\", \"used\", \"used\", \"used\", \"used\", \"user\", \"user\", \"user\", \"user\", \"users\", \"users\", \"users\", \"using\", \"using\", \"using\", \"vulnerabilities\", \"vulnerabilities\", \"vulnerabilities\", \"web\", \"web\", \"web\", \"web\", \"work\", \"work\"]}, \"R\": 30, \"lambda.step\": 0.01, \"plot.opts\": {\"xlab\": \"PC1\", \"ylab\": \"PC2\"}, \"topic.order\": [2, 3, 4, 1]};\n",
       "\n",
       "function LDAvis_load_lib(url, callback){\n",
       "  var s = document.createElement('script');\n",
       "  s.src = url;\n",
       "  s.async = true;\n",
       "  s.onreadystatechange = s.onload = callback;\n",
       "  s.onerror = function(){console.warn(\"failed to load library \" + url);};\n",
       "  document.getElementsByTagName(\"head\")[0].appendChild(s);\n",
       "}\n",
       "\n",
       "if(typeof(LDAvis) !== \"undefined\"){\n",
       "   // already loaded: just create the visualization\n",
       "   !function(LDAvis){\n",
       "       new LDAvis(\"#\" + \"ldavis_el228271403056931069121043796456\", ldavis_el228271403056931069121043796456_data);\n",
       "   }(LDAvis);\n",
       "}else if(typeof define === \"function\" && define.amd){\n",
       "   // require.js is available: use it to load d3/LDAvis\n",
       "   require.config({paths: {d3: \"https://d3js.org/d3.v5\"}});\n",
       "   require([\"d3\"], function(d3){\n",
       "      window.d3 = d3;\n",
       "      LDAvis_load_lib(\"https://cdn.jsdelivr.net/gh/bmabey/pyLDAvis@3.2.2/pyLDAvis/js/ldavis.v3.0.0.js\", function(){\n",
       "        new LDAvis(\"#\" + \"ldavis_el228271403056931069121043796456\", ldavis_el228271403056931069121043796456_data);\n",
       "      });\n",
       "    });\n",
       "}else{\n",
       "    // require.js not available: dynamically load d3 & LDAvis\n",
       "    LDAvis_load_lib(\"https://d3js.org/d3.v5.js\", function(){\n",
       "         LDAvis_load_lib(\"https://cdn.jsdelivr.net/gh/bmabey/pyLDAvis@3.2.2/pyLDAvis/js/ldavis.v3.0.0.js\", function(){\n",
       "                 new LDAvis(\"#\" + \"ldavis_el228271403056931069121043796456\", ldavis_el228271403056931069121043796456_data);\n",
       "            })\n",
       "         });\n",
       "}\n",
       "</script>"
      ],
      "text/plain": [
       "PreparedData(topic_coordinates=              x         y  topics  cluster       Freq\n",
       "topic                                                \n",
       "1      0.006738  0.009926       1        1  27.126679\n",
       "2     -0.011110  0.002268       2        1  26.870972\n",
       "3      0.005537 -0.008339       3        1  25.097243\n",
       "0     -0.001165 -0.003856       4        1  20.905106, topic_info=             Term      Freq     Total Category  logprob  loglift\n",
       "3342     students  1.000000  1.000000  Default  30.0000  30.0000\n",
       "6021          usb  1.000000  1.000000  Default  29.0000  29.0000\n",
       "1842      malware  3.000000  3.000000  Default  28.0000  28.0000\n",
       "5147          cfi  1.000000  1.000000  Default  27.0000  27.0000\n",
       "749         cache  1.000000  1.000000  Default  26.0000  26.0000\n",
       "...           ...       ...       ...      ...      ...      ...\n",
       "279      approach  0.498398  2.556681   Topic4  -8.1409  -0.0699\n",
       "1061      control  0.489600  2.492943   Topic4  -8.1587  -0.0625\n",
       "81          using  0.497620  2.838568   Topic4  -8.1425  -0.1760\n",
       "269         users  0.495656  3.101261   Topic4  -8.1464  -0.2685\n",
       "129   information  0.478061  2.848441   Topic4  -8.1826  -0.2196\n",
       "\n",
       "[327 rows x 6 columns], token_table=      Topic      Freq     Term\n",
       "term                          \n",
       "512       1  0.390062   access\n",
       "512       2  0.390062   access\n",
       "512       3  0.390062   access\n",
       "95        2  0.498215  address\n",
       "95        3  0.498215  address\n",
       "...     ...       ...      ...\n",
       "431       2  0.297849      web\n",
       "431       3  0.297849      web\n",
       "431       4  0.297849      web\n",
       "1161      2  0.481671     work\n",
       "1161      4  0.481671     work\n",
       "\n",
       "[198 rows x 3 columns], R=30, lambda_step=0.01, plot_opts={'xlab': 'PC1', 'ylab': 'PC2'}, topic_order=[2, 3, 4, 1])"
      ]
     },
     "execution_count": 67,
     "metadata": {},
     "output_type": "execute_result"
    }
   ],
   "source": [
    "import pyLDAvis.gensim\n",
    "pyLDAvis.enable_notebook()\n",
    "vis = pyLDAvis.gensim.prepare(lda_model, tfidf_M1, dictionary)\n",
    "vis"
   ]
  },
  {
   "cell_type": "markdown",
   "id": "compliant-space",
   "metadata": {},
   "source": [
    "### Topics per document"
   ]
  },
  {
   "cell_type": "code",
   "execution_count": 68,
   "id": "applied-navigation",
   "metadata": {},
   "outputs": [
    {
     "name": "stderr",
     "output_type": "stream",
     "text": [
      "/Library/Frameworks/Python.framework/Versions/3.8/lib/python3.8/site-packages/ipykernel/ipkernel.py:283: DeprecationWarning: `should_run_async` will not call `transform_cell` automatically in the future. Please pass the result to `transformed_cell` argument and any exception that happen during thetransform in `preprocessing_exc_tuple` in IPython 7.17 and above.\n",
      "  and should_run_async(code)\n"
     ]
    },
    {
     "data": {
      "text/plain": [
       "[(0, 0.9191931), (1, 0.02662838), (2, 0.026896829), (3, 0.027281724)]"
      ]
     },
     "execution_count": 68,
     "metadata": {},
     "output_type": "execute_result"
    }
   ],
   "source": [
    "lda_model.get_document_topics(tfidf_M1[0],minimum_probability=0)"
   ]
  },
  {
   "cell_type": "code",
   "execution_count": null,
   "id": "romantic-forum",
   "metadata": {},
   "outputs": [],
   "source": []
  }
 ],
 "metadata": {
  "kernelspec": {
   "display_name": "Python 3",
   "language": "python",
   "name": "python3"
  },
  "language_info": {
   "codemirror_mode": {
    "name": "ipython",
    "version": 3
   },
   "file_extension": ".py",
   "mimetype": "text/x-python",
   "name": "python",
   "nbconvert_exporter": "python",
   "pygments_lexer": "ipython3",
   "version": "3.8.8"
  }
 },
 "nbformat": 4,
 "nbformat_minor": 5
}
